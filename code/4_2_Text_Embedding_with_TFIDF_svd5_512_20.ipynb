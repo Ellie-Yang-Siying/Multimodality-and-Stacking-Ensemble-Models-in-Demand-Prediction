{
  "nbformat": 4,
  "nbformat_minor": 0,
  "metadata": {
    "colab": {
      "provenance": []
    },
    "kernelspec": {
      "name": "python3",
      "display_name": "Python 3"
    },
    "language_info": {
      "name": "python"
    }
  },
  "cells": [
    {
      "cell_type": "code",
      "execution_count": null,
      "metadata": {
        "id": "U8RgZiJ3tyY_"
      },
      "outputs": [],
      "source": [
        "import warnings\n",
        "import numpy as np\n",
        "import pandas as pd\n",
        "from sklearn.decomposition import TruncatedSVD\n",
        "import lightgbm as lgb\n",
        "from sklearn.feature_extraction.text import TfidfVectorizer\n",
        "from sklearn.model_selection import train_test_split\n",
        "from sklearn.metrics import mean_squared_error\n",
        "warnings.filterwarnings('ignore')\n",
        "import matplotlib.pyplot as plt\n"
      ]
    },
    {
      "cell_type": "code",
      "source": [
        "from google.colab import drive\n",
        "drive.mount('/content/drive')"
      ],
      "metadata": {
        "colab": {
          "base_uri": "https://localhost:8080/"
        },
        "id": "3V8FxvKsu9EJ",
        "outputId": "aec9f812-46bd-44e3-e29f-039c4b4089bd"
      },
      "execution_count": null,
      "outputs": [
        {
          "output_type": "stream",
          "name": "stdout",
          "text": [
            "Mounted at /content/drive\n"
          ]
        }
      ]
    },
    {
      "cell_type": "code",
      "source": [
        "from nltk.corpus import stopwords\n",
        "\n",
        "import nltk\n",
        "nltk.download('stopwords')\n",
        "\n",
        "russian_stop_words = stopwords.words('russian')"
      ],
      "metadata": {
        "colab": {
          "base_uri": "https://localhost:8080/"
        },
        "id": "FhS03LQRyR55",
        "outputId": "a80dd03a-ff50-494a-f1b8-8e3f2abbddcd"
      },
      "execution_count": null,
      "outputs": [
        {
          "output_type": "stream",
          "name": "stderr",
          "text": [
            "[nltk_data] Downloading package stopwords to /root/nltk_data...\n",
            "[nltk_data]   Unzipping corpora/stopwords.zip.\n"
          ]
        }
      ]
    },
    {
      "cell_type": "code",
      "source": [
        "data_dir_path = '/content/drive/MyDrive/ML Project/data/'\n",
        "train_featured = pd.read_csv(data_dir_path + 'train_X_y_features_v1.csv')\n",
        "test_featured = pd.read_csv( data_dir_path + 'test_X_y_features_v1.csv')\n",
        "print(train_featured.shape)\n",
        "print(test_featured.shape)"
      ],
      "metadata": {
        "colab": {
          "base_uri": "https://localhost:8080/"
        },
        "id": "B-lj7VIqu-K9",
        "outputId": "84b7d751-d46b-419a-da1e-e45f195709fd"
      },
      "execution_count": null,
      "outputs": [
        {
          "output_type": "stream",
          "name": "stdout",
          "text": [
            "(1202739, 43)\n",
            "(300685, 43)\n"
          ]
        }
      ]
    },
    {
      "cell_type": "code",
      "source": [
        "train_featured.columns"
      ],
      "metadata": {
        "colab": {
          "base_uri": "https://localhost:8080/"
        },
        "id": "xIKKOQhzvczG",
        "outputId": "fc0887ed-9497-497b-fbb2-98fb59afa93c"
      },
      "execution_count": null,
      "outputs": [
        {
          "output_type": "execute_result",
          "data": {
            "text/plain": [
              "Index(['region', 'city', 'parent_category_name', 'category_name', 'param_1',\n",
              "       'param_2', 'param_3', 'price', 'user_type', 'title', 'description',\n",
              "       'region_city', 'all_category', 'category_param_1',\n",
              "       'region_category_user', 'city_category_user', 'category_price_mean',\n",
              "       'category_price_std', 'category_price_skew', 'city_price_mean',\n",
              "       'city_price_max', 'city_price_skew', 'title_length',\n",
              "       'description_length', 'title_word_count', 'description_word_count',\n",
              "       'title_has_keyword', 'description_has_keyword', 'title_digit_count',\n",
              "       'description_digit_count', 'description_newline_count', 'price_log',\n",
              "       'price_bin', 'price_to_category_mean', 'price_to_category_max',\n",
              "       'description_missing', 'item_id', 'user_id', 'item_seq_number',\n",
              "       'activation_date', 'image', 'image_top_1', 'deal_probability'],\n",
              "      dtype='object')"
            ]
          },
          "metadata": {},
          "execution_count": 5
        }
      ]
    },
    {
      "cell_type": "code",
      "source": [
        "# Tabluar features\n",
        "train_X = train_featured.drop(['title','description', 'item_id', 'user_id', 'item_seq_number', 'activation_date', 'image',\n",
        "       'image_top_1', 'deal_probability'], axis=1)\n",
        "test_X = test_featured.drop(['title','description', 'item_id', 'user_id', 'item_seq_number', 'activation_date', 'image',\n",
        "       'image_top_1', 'deal_probability'], axis=1)\n",
        "train_y = train_featured['deal_probability']\n",
        "test_y = test_featured['deal_probability']"
      ],
      "metadata": {
        "id": "583GwrMUvxcQ"
      },
      "execution_count": null,
      "outputs": []
    },
    {
      "cell_type": "code",
      "source": [
        "train_X.columns"
      ],
      "metadata": {
        "colab": {
          "base_uri": "https://localhost:8080/"
        },
        "id": "o1AcRB5rv9mI",
        "outputId": "59eb5d90-453a-4d7a-b052-f8b913f7fcf9"
      },
      "execution_count": null,
      "outputs": [
        {
          "output_type": "execute_result",
          "data": {
            "text/plain": [
              "Index(['region', 'city', 'parent_category_name', 'category_name', 'param_1',\n",
              "       'param_2', 'param_3', 'price', 'user_type', 'region_city',\n",
              "       'all_category', 'category_param_1', 'region_category_user',\n",
              "       'city_category_user', 'category_price_mean', 'category_price_std',\n",
              "       'category_price_skew', 'city_price_mean', 'city_price_max',\n",
              "       'city_price_skew', 'title_length', 'description_length',\n",
              "       'title_word_count', 'description_word_count', 'title_has_keyword',\n",
              "       'description_has_keyword', 'title_digit_count',\n",
              "       'description_digit_count', 'description_newline_count', 'price_log',\n",
              "       'price_bin', 'price_to_category_mean', 'price_to_category_max',\n",
              "       'description_missing'],\n",
              "      dtype='object')"
            ]
          },
          "metadata": {},
          "execution_count": 7
        }
      ]
    },
    {
      "cell_type": "markdown",
      "source": [
        "# Extract Embeddings"
      ],
      "metadata": {
        "id": "j-lNcvENxdSe"
      }
    },
    {
      "cell_type": "code",
      "source": [
        "# train\n",
        "train_featured['title'] = train_featured['title'].fillna(\"\")\n",
        "train_featured['description'] = train_featured['description'].fillna(\"\")\n",
        "train_featured['text'] = train_featured['title'] + \" \" + train_featured['description']\n",
        "\n"
      ],
      "metadata": {
        "id": "RjhMn0tWxcuD"
      },
      "execution_count": null,
      "outputs": []
    },
    {
      "cell_type": "code",
      "source": [
        "tfidf = TfidfVectorizer(\n",
        "    max_features=500,\n",
        "    stop_words= russian_stop_words)\n",
        "tfidf_matrix = tfidf.fit_transform(train_featured['text'])\n"
      ],
      "metadata": {
        "id": "9pQ2j4BDyCse"
      },
      "execution_count": null,
      "outputs": []
    },
    {
      "cell_type": "code",
      "source": [
        "print(\"TF-IDF matrix shape:\", tfidf_matrix.shape)"
      ],
      "metadata": {
        "colab": {
          "base_uri": "https://localhost:8080/"
        },
        "id": "U4NAp5oa0yRH",
        "outputId": "23b5d8a9-23a9-4973-f1e7-20aa04960be3"
      },
      "execution_count": null,
      "outputs": [
        {
          "output_type": "stream",
          "name": "stdout",
          "text": [
            "TF-IDF matrix shape: (1202739, 500)\n"
          ]
        }
      ]
    },
    {
      "cell_type": "code",
      "source": [
        "# use SVD to reduce dimension\n",
        "svd = TruncatedSVD(n_components=5, random_state=42)  # reduce dimension to 5d\n",
        "svd_matrix = svd.fit_transform(tfidf_matrix)\n",
        "print(\"SVD matrix shape:\", svd_matrix.shape)"
      ],
      "metadata": {
        "colab": {
          "base_uri": "https://localhost:8080/"
        },
        "id": "HBj4Whdg00MS",
        "outputId": "918850be-7ab4-46ae-9de7-3c08f72b2f7a"
      },
      "execution_count": null,
      "outputs": [
        {
          "output_type": "stream",
          "name": "stdout",
          "text": [
            "SVD matrix shape: (1202739, 5)\n"
          ]
        }
      ]
    },
    {
      "cell_type": "code",
      "source": [
        "tfidf_features = pd.DataFrame(svd_matrix, columns=[f'svd_{i}' for i in range(5)])\n",
        "train_featured_with_tfidf = pd.concat([train_featured.reset_index(drop=True), tfidf_features], axis=1)\n",
        "train_featured_with_tfidf.head()"
      ],
      "metadata": {
        "colab": {
          "base_uri": "https://localhost:8080/",
          "height": 461
        },
        "id": "J7KiDSiH00vY",
        "outputId": "710ccc37-8969-4915-8748-3fcf382fd383"
      },
      "execution_count": null,
      "outputs": [
        {
          "output_type": "execute_result",
          "data": {
            "text/plain": [
              "                  region       city parent_category_name  \\\n",
              "0         Омская область       Омск  Бытовая электроника   \n",
              "1           Башкортостан        Уфа        Хобби и отдых   \n",
              "2  Нижегородская область  Дзержинск      Для дома и дачи   \n",
              "3    Челябинская область      Миасс          Личные вещи   \n",
              "4           Башкортостан        Уфа      Для дома и дачи   \n",
              "\n",
              "            category_name             param_1         param_2  \\\n",
              "0   Настольные компьютеры                 NaN             NaN   \n",
              "1           Спорт и отдых  Зимние виды спорта             NaN   \n",
              "2                Растения                 NaN             NaN   \n",
              "3  Детская одежда и обувь         Для девочек  Верхняя одежда   \n",
              "4         Бытовая техника           Для кухни           Плиты   \n",
              "\n",
              "                param_3    price user_type  \\\n",
              "0                   NaN     50.0   Private   \n",
              "1                   NaN    500.0   Private   \n",
              "2                   NaN     80.0   Private   \n",
              "3  98-104 см (2-4 года)   1500.0   Private   \n",
              "4                   NaN  18990.0      Shop   \n",
              "\n",
              "                                               title  ... activation_date  \\\n",
              "0                                   Продам системник  ...      2017-03-28   \n",
              "1     Продам раздвижные коньки на девочку 32-36 разм  ...      2017-03-16   \n",
              "2                                       Ромашки и др  ...      2017-03-16   \n",
              "3                        Зимний комплект Bilemi p,98  ...      2017-03-26   \n",
              "4  Новая духовка Weissgauff самоочистка сенсор га...  ...      2017-03-16   \n",
              "\n",
              "                                               image image_top_1  \\\n",
              "0  5f1a4dc40d333d5cd20c9831553a61053e83ffb156f692...      2789.0   \n",
              "1  659f553a15733bbc034bc2ea321a8aaa39feaa3fb1e410...      2645.0   \n",
              "2  7f5b347e054800f384d22a9959792ab6da7b1442931d03...       406.0   \n",
              "3  f17dae532061e4a29e25a44fbd90d40ae894c697d636d5...        94.0   \n",
              "4  ef7789caae6b81233991c9485cf081bcd6530aa4bd9735...      1852.0   \n",
              "\n",
              "  deal_probability                                               text  \\\n",
              "0          0.76786     Продам системник продам системник на запчасти.   \n",
              "1          0.00000  Продам раздвижные коньки на девочку 32-36 разм...   \n",
              "2          0.12311  Ромашки и др 1фото-ромашка крупноцветковая/\\n2...   \n",
              "3          0.80323  Зимний комплект Bilemi p,98 Продам зимний кост...   \n",
              "4          0.00000  Новая духовка Weissgauff самоочистка сенсор га...   \n",
              "\n",
              "      svd_0     svd_1     svd_2     svd_3     svd_4  \n",
              "0  0.426458  0.469653 -0.034854 -0.188869  0.071247  \n",
              "1  0.205034  0.184058 -0.002020 -0.046927  0.010675  \n",
              "2  0.059681 -0.012399  0.014739  0.088000 -0.040258  \n",
              "3  0.226856 -0.037198 -0.069922 -0.064799 -0.013395  \n",
              "4  0.108313 -0.029808  0.028333  0.140245 -0.118581  \n",
              "\n",
              "[5 rows x 49 columns]"
            ],
            "text/html": [
              "\n",
              "  <div id=\"df-a108789f-736c-491d-a6b3-12d0ef70d4a9\" class=\"colab-df-container\">\n",
              "    <div>\n",
              "<style scoped>\n",
              "    .dataframe tbody tr th:only-of-type {\n",
              "        vertical-align: middle;\n",
              "    }\n",
              "\n",
              "    .dataframe tbody tr th {\n",
              "        vertical-align: top;\n",
              "    }\n",
              "\n",
              "    .dataframe thead th {\n",
              "        text-align: right;\n",
              "    }\n",
              "</style>\n",
              "<table border=\"1\" class=\"dataframe\">\n",
              "  <thead>\n",
              "    <tr style=\"text-align: right;\">\n",
              "      <th></th>\n",
              "      <th>region</th>\n",
              "      <th>city</th>\n",
              "      <th>parent_category_name</th>\n",
              "      <th>category_name</th>\n",
              "      <th>param_1</th>\n",
              "      <th>param_2</th>\n",
              "      <th>param_3</th>\n",
              "      <th>price</th>\n",
              "      <th>user_type</th>\n",
              "      <th>title</th>\n",
              "      <th>...</th>\n",
              "      <th>activation_date</th>\n",
              "      <th>image</th>\n",
              "      <th>image_top_1</th>\n",
              "      <th>deal_probability</th>\n",
              "      <th>text</th>\n",
              "      <th>svd_0</th>\n",
              "      <th>svd_1</th>\n",
              "      <th>svd_2</th>\n",
              "      <th>svd_3</th>\n",
              "      <th>svd_4</th>\n",
              "    </tr>\n",
              "  </thead>\n",
              "  <tbody>\n",
              "    <tr>\n",
              "      <th>0</th>\n",
              "      <td>Омская область</td>\n",
              "      <td>Омск</td>\n",
              "      <td>Бытовая электроника</td>\n",
              "      <td>Настольные компьютеры</td>\n",
              "      <td>NaN</td>\n",
              "      <td>NaN</td>\n",
              "      <td>NaN</td>\n",
              "      <td>50.0</td>\n",
              "      <td>Private</td>\n",
              "      <td>Продам системник</td>\n",
              "      <td>...</td>\n",
              "      <td>2017-03-28</td>\n",
              "      <td>5f1a4dc40d333d5cd20c9831553a61053e83ffb156f692...</td>\n",
              "      <td>2789.0</td>\n",
              "      <td>0.76786</td>\n",
              "      <td>Продам системник продам системник на запчасти.</td>\n",
              "      <td>0.426458</td>\n",
              "      <td>0.469653</td>\n",
              "      <td>-0.034854</td>\n",
              "      <td>-0.188869</td>\n",
              "      <td>0.071247</td>\n",
              "    </tr>\n",
              "    <tr>\n",
              "      <th>1</th>\n",
              "      <td>Башкортостан</td>\n",
              "      <td>Уфа</td>\n",
              "      <td>Хобби и отдых</td>\n",
              "      <td>Спорт и отдых</td>\n",
              "      <td>Зимние виды спорта</td>\n",
              "      <td>NaN</td>\n",
              "      <td>NaN</td>\n",
              "      <td>500.0</td>\n",
              "      <td>Private</td>\n",
              "      <td>Продам раздвижные коньки на девочку 32-36 разм</td>\n",
              "      <td>...</td>\n",
              "      <td>2017-03-16</td>\n",
              "      <td>659f553a15733bbc034bc2ea321a8aaa39feaa3fb1e410...</td>\n",
              "      <td>2645.0</td>\n",
              "      <td>0.00000</td>\n",
              "      <td>Продам раздвижные коньки на девочку 32-36 разм...</td>\n",
              "      <td>0.205034</td>\n",
              "      <td>0.184058</td>\n",
              "      <td>-0.002020</td>\n",
              "      <td>-0.046927</td>\n",
              "      <td>0.010675</td>\n",
              "    </tr>\n",
              "    <tr>\n",
              "      <th>2</th>\n",
              "      <td>Нижегородская область</td>\n",
              "      <td>Дзержинск</td>\n",
              "      <td>Для дома и дачи</td>\n",
              "      <td>Растения</td>\n",
              "      <td>NaN</td>\n",
              "      <td>NaN</td>\n",
              "      <td>NaN</td>\n",
              "      <td>80.0</td>\n",
              "      <td>Private</td>\n",
              "      <td>Ромашки и др</td>\n",
              "      <td>...</td>\n",
              "      <td>2017-03-16</td>\n",
              "      <td>7f5b347e054800f384d22a9959792ab6da7b1442931d03...</td>\n",
              "      <td>406.0</td>\n",
              "      <td>0.12311</td>\n",
              "      <td>Ромашки и др 1фото-ромашка крупноцветковая/\\n2...</td>\n",
              "      <td>0.059681</td>\n",
              "      <td>-0.012399</td>\n",
              "      <td>0.014739</td>\n",
              "      <td>0.088000</td>\n",
              "      <td>-0.040258</td>\n",
              "    </tr>\n",
              "    <tr>\n",
              "      <th>3</th>\n",
              "      <td>Челябинская область</td>\n",
              "      <td>Миасс</td>\n",
              "      <td>Личные вещи</td>\n",
              "      <td>Детская одежда и обувь</td>\n",
              "      <td>Для девочек</td>\n",
              "      <td>Верхняя одежда</td>\n",
              "      <td>98-104 см (2-4 года)</td>\n",
              "      <td>1500.0</td>\n",
              "      <td>Private</td>\n",
              "      <td>Зимний комплект Bilemi p,98</td>\n",
              "      <td>...</td>\n",
              "      <td>2017-03-26</td>\n",
              "      <td>f17dae532061e4a29e25a44fbd90d40ae894c697d636d5...</td>\n",
              "      <td>94.0</td>\n",
              "      <td>0.80323</td>\n",
              "      <td>Зимний комплект Bilemi p,98 Продам зимний кост...</td>\n",
              "      <td>0.226856</td>\n",
              "      <td>-0.037198</td>\n",
              "      <td>-0.069922</td>\n",
              "      <td>-0.064799</td>\n",
              "      <td>-0.013395</td>\n",
              "    </tr>\n",
              "    <tr>\n",
              "      <th>4</th>\n",
              "      <td>Башкортостан</td>\n",
              "      <td>Уфа</td>\n",
              "      <td>Для дома и дачи</td>\n",
              "      <td>Бытовая техника</td>\n",
              "      <td>Для кухни</td>\n",
              "      <td>Плиты</td>\n",
              "      <td>NaN</td>\n",
              "      <td>18990.0</td>\n",
              "      <td>Shop</td>\n",
              "      <td>Новая духовка Weissgauff самоочистка сенсор га...</td>\n",
              "      <td>...</td>\n",
              "      <td>2017-03-16</td>\n",
              "      <td>ef7789caae6b81233991c9485cf081bcd6530aa4bd9735...</td>\n",
              "      <td>1852.0</td>\n",
              "      <td>0.00000</td>\n",
              "      <td>Новая духовка Weissgauff самоочистка сенсор га...</td>\n",
              "      <td>0.108313</td>\n",
              "      <td>-0.029808</td>\n",
              "      <td>0.028333</td>\n",
              "      <td>0.140245</td>\n",
              "      <td>-0.118581</td>\n",
              "    </tr>\n",
              "  </tbody>\n",
              "</table>\n",
              "<p>5 rows × 49 columns</p>\n",
              "</div>\n",
              "    <div class=\"colab-df-buttons\">\n",
              "\n",
              "  <div class=\"colab-df-container\">\n",
              "    <button class=\"colab-df-convert\" onclick=\"convertToInteractive('df-a108789f-736c-491d-a6b3-12d0ef70d4a9')\"\n",
              "            title=\"Convert this dataframe to an interactive table.\"\n",
              "            style=\"display:none;\">\n",
              "\n",
              "  <svg xmlns=\"http://www.w3.org/2000/svg\" height=\"24px\" viewBox=\"0 -960 960 960\">\n",
              "    <path d=\"M120-120v-720h720v720H120Zm60-500h600v-160H180v160Zm220 220h160v-160H400v160Zm0 220h160v-160H400v160ZM180-400h160v-160H180v160Zm440 0h160v-160H620v160ZM180-180h160v-160H180v160Zm440 0h160v-160H620v160Z\"/>\n",
              "  </svg>\n",
              "    </button>\n",
              "\n",
              "  <style>\n",
              "    .colab-df-container {\n",
              "      display:flex;\n",
              "      gap: 12px;\n",
              "    }\n",
              "\n",
              "    .colab-df-convert {\n",
              "      background-color: #E8F0FE;\n",
              "      border: none;\n",
              "      border-radius: 50%;\n",
              "      cursor: pointer;\n",
              "      display: none;\n",
              "      fill: #1967D2;\n",
              "      height: 32px;\n",
              "      padding: 0 0 0 0;\n",
              "      width: 32px;\n",
              "    }\n",
              "\n",
              "    .colab-df-convert:hover {\n",
              "      background-color: #E2EBFA;\n",
              "      box-shadow: 0px 1px 2px rgba(60, 64, 67, 0.3), 0px 1px 3px 1px rgba(60, 64, 67, 0.15);\n",
              "      fill: #174EA6;\n",
              "    }\n",
              "\n",
              "    .colab-df-buttons div {\n",
              "      margin-bottom: 4px;\n",
              "    }\n",
              "\n",
              "    [theme=dark] .colab-df-convert {\n",
              "      background-color: #3B4455;\n",
              "      fill: #D2E3FC;\n",
              "    }\n",
              "\n",
              "    [theme=dark] .colab-df-convert:hover {\n",
              "      background-color: #434B5C;\n",
              "      box-shadow: 0px 1px 3px 1px rgba(0, 0, 0, 0.15);\n",
              "      filter: drop-shadow(0px 1px 2px rgba(0, 0, 0, 0.3));\n",
              "      fill: #FFFFFF;\n",
              "    }\n",
              "  </style>\n",
              "\n",
              "    <script>\n",
              "      const buttonEl =\n",
              "        document.querySelector('#df-a108789f-736c-491d-a6b3-12d0ef70d4a9 button.colab-df-convert');\n",
              "      buttonEl.style.display =\n",
              "        google.colab.kernel.accessAllowed ? 'block' : 'none';\n",
              "\n",
              "      async function convertToInteractive(key) {\n",
              "        const element = document.querySelector('#df-a108789f-736c-491d-a6b3-12d0ef70d4a9');\n",
              "        const dataTable =\n",
              "          await google.colab.kernel.invokeFunction('convertToInteractive',\n",
              "                                                    [key], {});\n",
              "        if (!dataTable) return;\n",
              "\n",
              "        const docLinkHtml = 'Like what you see? Visit the ' +\n",
              "          '<a target=\"_blank\" href=https://colab.research.google.com/notebooks/data_table.ipynb>data table notebook</a>'\n",
              "          + ' to learn more about interactive tables.';\n",
              "        element.innerHTML = '';\n",
              "        dataTable['output_type'] = 'display_data';\n",
              "        await google.colab.output.renderOutput(dataTable, element);\n",
              "        const docLink = document.createElement('div');\n",
              "        docLink.innerHTML = docLinkHtml;\n",
              "        element.appendChild(docLink);\n",
              "      }\n",
              "    </script>\n",
              "  </div>\n",
              "\n",
              "\n",
              "<div id=\"df-38eff5d0-db93-42b9-a9b1-a1f4e26f9a1b\">\n",
              "  <button class=\"colab-df-quickchart\" onclick=\"quickchart('df-38eff5d0-db93-42b9-a9b1-a1f4e26f9a1b')\"\n",
              "            title=\"Suggest charts\"\n",
              "            style=\"display:none;\">\n",
              "\n",
              "<svg xmlns=\"http://www.w3.org/2000/svg\" height=\"24px\"viewBox=\"0 0 24 24\"\n",
              "     width=\"24px\">\n",
              "    <g>\n",
              "        <path d=\"M19 3H5c-1.1 0-2 .9-2 2v14c0 1.1.9 2 2 2h14c1.1 0 2-.9 2-2V5c0-1.1-.9-2-2-2zM9 17H7v-7h2v7zm4 0h-2V7h2v10zm4 0h-2v-4h2v4z\"/>\n",
              "    </g>\n",
              "</svg>\n",
              "  </button>\n",
              "\n",
              "<style>\n",
              "  .colab-df-quickchart {\n",
              "      --bg-color: #E8F0FE;\n",
              "      --fill-color: #1967D2;\n",
              "      --hover-bg-color: #E2EBFA;\n",
              "      --hover-fill-color: #174EA6;\n",
              "      --disabled-fill-color: #AAA;\n",
              "      --disabled-bg-color: #DDD;\n",
              "  }\n",
              "\n",
              "  [theme=dark] .colab-df-quickchart {\n",
              "      --bg-color: #3B4455;\n",
              "      --fill-color: #D2E3FC;\n",
              "      --hover-bg-color: #434B5C;\n",
              "      --hover-fill-color: #FFFFFF;\n",
              "      --disabled-bg-color: #3B4455;\n",
              "      --disabled-fill-color: #666;\n",
              "  }\n",
              "\n",
              "  .colab-df-quickchart {\n",
              "    background-color: var(--bg-color);\n",
              "    border: none;\n",
              "    border-radius: 50%;\n",
              "    cursor: pointer;\n",
              "    display: none;\n",
              "    fill: var(--fill-color);\n",
              "    height: 32px;\n",
              "    padding: 0;\n",
              "    width: 32px;\n",
              "  }\n",
              "\n",
              "  .colab-df-quickchart:hover {\n",
              "    background-color: var(--hover-bg-color);\n",
              "    box-shadow: 0 1px 2px rgba(60, 64, 67, 0.3), 0 1px 3px 1px rgba(60, 64, 67, 0.15);\n",
              "    fill: var(--button-hover-fill-color);\n",
              "  }\n",
              "\n",
              "  .colab-df-quickchart-complete:disabled,\n",
              "  .colab-df-quickchart-complete:disabled:hover {\n",
              "    background-color: var(--disabled-bg-color);\n",
              "    fill: var(--disabled-fill-color);\n",
              "    box-shadow: none;\n",
              "  }\n",
              "\n",
              "  .colab-df-spinner {\n",
              "    border: 2px solid var(--fill-color);\n",
              "    border-color: transparent;\n",
              "    border-bottom-color: var(--fill-color);\n",
              "    animation:\n",
              "      spin 1s steps(1) infinite;\n",
              "  }\n",
              "\n",
              "  @keyframes spin {\n",
              "    0% {\n",
              "      border-color: transparent;\n",
              "      border-bottom-color: var(--fill-color);\n",
              "      border-left-color: var(--fill-color);\n",
              "    }\n",
              "    20% {\n",
              "      border-color: transparent;\n",
              "      border-left-color: var(--fill-color);\n",
              "      border-top-color: var(--fill-color);\n",
              "    }\n",
              "    30% {\n",
              "      border-color: transparent;\n",
              "      border-left-color: var(--fill-color);\n",
              "      border-top-color: var(--fill-color);\n",
              "      border-right-color: var(--fill-color);\n",
              "    }\n",
              "    40% {\n",
              "      border-color: transparent;\n",
              "      border-right-color: var(--fill-color);\n",
              "      border-top-color: var(--fill-color);\n",
              "    }\n",
              "    60% {\n",
              "      border-color: transparent;\n",
              "      border-right-color: var(--fill-color);\n",
              "    }\n",
              "    80% {\n",
              "      border-color: transparent;\n",
              "      border-right-color: var(--fill-color);\n",
              "      border-bottom-color: var(--fill-color);\n",
              "    }\n",
              "    90% {\n",
              "      border-color: transparent;\n",
              "      border-bottom-color: var(--fill-color);\n",
              "    }\n",
              "  }\n",
              "</style>\n",
              "\n",
              "  <script>\n",
              "    async function quickchart(key) {\n",
              "      const quickchartButtonEl =\n",
              "        document.querySelector('#' + key + ' button');\n",
              "      quickchartButtonEl.disabled = true;  // To prevent multiple clicks.\n",
              "      quickchartButtonEl.classList.add('colab-df-spinner');\n",
              "      try {\n",
              "        const charts = await google.colab.kernel.invokeFunction(\n",
              "            'suggestCharts', [key], {});\n",
              "      } catch (error) {\n",
              "        console.error('Error during call to suggestCharts:', error);\n",
              "      }\n",
              "      quickchartButtonEl.classList.remove('colab-df-spinner');\n",
              "      quickchartButtonEl.classList.add('colab-df-quickchart-complete');\n",
              "    }\n",
              "    (() => {\n",
              "      let quickchartButtonEl =\n",
              "        document.querySelector('#df-38eff5d0-db93-42b9-a9b1-a1f4e26f9a1b button');\n",
              "      quickchartButtonEl.style.display =\n",
              "        google.colab.kernel.accessAllowed ? 'block' : 'none';\n",
              "    })();\n",
              "  </script>\n",
              "</div>\n",
              "\n",
              "    </div>\n",
              "  </div>\n"
            ],
            "application/vnd.google.colaboratory.intrinsic+json": {
              "type": "dataframe",
              "variable_name": "train_featured_with_tfidf"
            }
          },
          "metadata": {},
          "execution_count": 18
        }
      ]
    },
    {
      "cell_type": "code",
      "source": [
        "train_featured_with_tfidf = train_featured_with_tfidf.drop(['title', 'description', 'text'], axis=1)\n",
        "# train_featured_with_tfidf.to_csv(data_dir_path + 'train_embeddings_tfidf_svd.csv', index=False)\n"
      ],
      "metadata": {
        "id": "puQ-JSpz1nSg"
      },
      "execution_count": null,
      "outputs": []
    },
    {
      "cell_type": "code",
      "source": [
        "# test\n",
        "test_featured['title'] = test_featured['title'].fillna(\"\")\n",
        "test_featured['description'] = test_featured['description'].fillna(\"\")\n",
        "test_featured['text'] = test_featured['title'] + \" \" + test_featured['description']\n",
        "\n",
        "tfidf = TfidfVectorizer(\n",
        "    max_features=500,\n",
        "    stop_words= russian_stop_words)\n",
        "tfidf_matrix_test = tfidf.fit_transform(test_featured['text'])"
      ],
      "metadata": {
        "id": "aK5ypAbKSdgD"
      },
      "execution_count": null,
      "outputs": []
    },
    {
      "cell_type": "code",
      "source": [
        "\n",
        "# use SVD to reduce dimension\n",
        "svd = TruncatedSVD(n_components=5, random_state=42)  # reduce dimension to 5d\n",
        "svd_matrix = svd.fit_transform(tfidf_matrix_test)\n",
        "print(\"SVD matrix shape:\", svd_matrix.shape)\n",
        "tfidf_features = pd.DataFrame(svd_matrix, columns=[f'svd_{i}' for i in range(5)])\n",
        "\n",
        "\n"
      ],
      "metadata": {
        "id": "BZeOoGVI2wTD",
        "colab": {
          "base_uri": "https://localhost:8080/"
        },
        "outputId": "216c5760-fb70-4802-9a83-df31fdd1d293"
      },
      "execution_count": null,
      "outputs": [
        {
          "output_type": "stream",
          "name": "stdout",
          "text": [
            "SVD matrix shape: (300685, 5)\n"
          ]
        }
      ]
    },
    {
      "cell_type": "code",
      "source": [
        "explained_variances = []\n",
        "n_components_range = range(10, 60, 5)\n",
        "for n_components in n_components_range:\n",
        "    svd = TruncatedSVD(n_components=n_components, random_state=42)\n",
        "    svd.fit(tfidf_matrix)\n",
        "    explained_variances.append(svd.explained_variance_ratio_.sum())\n",
        "\n",
        "plt.figure(figsize=(8, 6))\n",
        "plt.plot(n_components_range, explained_variances, marker='o', linestyle='-', markersize=4)\n",
        "plt.title(\"Total Explained Variance vs. Number of Components (Optimized)\")\n",
        "plt.xlabel(\"Number of Components (n_components)\")\n",
        "plt.ylabel(\"Total Explained Variance\")\n",
        "plt.grid(True)\n",
        "plt.show()"
      ],
      "metadata": {
        "colab": {
          "base_uri": "https://localhost:8080/",
          "height": 564
        },
        "id": "fYE7wQ4fSb73",
        "outputId": "8f7bb5d0-97a1-4dd8-c0d4-17b04a92589b"
      },
      "execution_count": null,
      "outputs": [
        {
          "output_type": "display_data",
          "data": {
            "text/plain": [
              "<Figure size 800x600 with 1 Axes>"
            ],
            "image/png": "[encoded data removed]"
          },
          "metadata": {}
        }
      ]
    },
    {
      "cell_type": "code",
      "source": [
        "test_featured_with_tfidf = pd.concat([test_featured.reset_index(drop=True), tfidf_features], axis=1)\n",
        "test_featured_with_tfidf.head()"
      ],
      "metadata": {
        "colab": {
          "base_uri": "https://localhost:8080/",
          "height": 513
        },
        "id": "q84Qho6N4HR0",
        "outputId": "dc30a70c-a1e6-47e1-c000-d64d5ae88259"
      },
      "execution_count": null,
      "outputs": [
        {
          "output_type": "execute_result",
          "data": {
            "text/plain": [
              "                  region          city parent_category_name  \\\n",
              "0      Красноярский край    Красноярск          Личные вещи   \n",
              "1    Ярославская область     Ярославль          Личные вещи   \n",
              "2      Тюменская область        Тюмень          Личные вещи   \n",
              "3  Новосибирская область   Новосибирск          Личные вещи   \n",
              "4     Краснодарский край  Новороссийск          Личные вещи   \n",
              "\n",
              "                category_name               param_1            param_2  \\\n",
              "0   Одежда, обувь, аксессуары            Аксессуары                NaN   \n",
              "1  Товары для детей и игрушки  Автомобильные кресла                NaN   \n",
              "2   Одежда, обувь, аксессуары        Мужская одежда  Пиджаки и костюмы   \n",
              "3      Детская одежда и обувь           Для девочек              Обувь   \n",
              "4   Одежда, обувь, аксессуары        Женская одежда      Платья и юбки   \n",
              "\n",
              "       param_3    price user_type  \\\n",
              "0          NaN  50000.0   Private   \n",
              "1          NaN  21950.0   Company   \n",
              "2  52–54 (XXL)   2500.0   Private   \n",
              "3           32    750.0   Company   \n",
              "4    42–44 (S)    200.0   Private   \n",
              "\n",
              "                                            title  ... activation_date  \\\n",
              "0                       Сумка бренд Louis Vuitton  ...      2017-03-19   \n",
              "1  Автокресло Carmate (Ailebebe) Swing Moon Beige  ...      2017-03-18   \n",
              "2                                 Пиджак кожанный  ...      2017-03-19   \n",
              "3                   Сапоги на слякоть котофей нов  ...      2017-03-20   \n",
              "4                                            Юбка  ...      2017-03-19   \n",
              "\n",
              "                                               image image_top_1  \\\n",
              "0  3e6502f1657e3f256be696fd82feb455ddc82345e3577e...       256.0   \n",
              "1  9270dff29b16082e5a01d35a418cd6d525b6618c33fc58...       796.0   \n",
              "2  bbe390ab0a1ed2cb97c4ed064524e9809825dfeba713c0...       655.0   \n",
              "3  e528c5df69dbc8d6073e9b617b174bec2405cf7e6e3689...        91.0   \n",
              "4  ce15238bc8d1d093b79ade25f1346be1acfc7d9570ec1b...        81.0   \n",
              "\n",
              "  deal_probability                                               text  \\\n",
              "0              0.0  Сумка бренд Louis Vuitton Сумка коллекционная,...   \n",
              "1              0.0  Автокресло Carmate (Ailebebe) Swing Moon Beige...   \n",
              "2              0.0               Пиджак кожанный Состояние на 4, торг   \n",
              "3              0.0  Сапоги на слякоть котофей нов Сапожки из невес...   \n",
              "4              0.0  Юбка Юбка женская, размер 42-44, цвет черный, ...   \n",
              "\n",
              "      svd_0     svd_1     svd_2     svd_3     svd_4  \n",
              "0  0.183250 -0.150625 -0.140535 -0.037772 -0.014746  \n",
              "1  0.102642 -0.026940  0.000830  0.131964 -0.048938  \n",
              "2  0.186076 -0.018780  0.054649  0.231072 -0.195388  \n",
              "3  0.063535 -0.010225  0.000436  0.074031 -0.051945  \n",
              "4  0.194431 -0.157453 -0.049707  0.006616 -0.085714  \n",
              "\n",
              "[5 rows x 49 columns]"
            ],
            "text/html": [
              "\n",
              "  <div id=\"df-d09bbfaa-a265-464a-ac8c-2e455709c7d2\" class=\"colab-df-container\">\n",
              "    <div>\n",
              "<style scoped>\n",
              "    .dataframe tbody tr th:only-of-type {\n",
              "        vertical-align: middle;\n",
              "    }\n",
              "\n",
              "    .dataframe tbody tr th {\n",
              "        vertical-align: top;\n",
              "    }\n",
              "\n",
              "    .dataframe thead th {\n",
              "        text-align: right;\n",
              "    }\n",
              "</style>\n",
              "<table border=\"1\" class=\"dataframe\">\n",
              "  <thead>\n",
              "    <tr style=\"text-align: right;\">\n",
              "      <th></th>\n",
              "      <th>region</th>\n",
              "      <th>city</th>\n",
              "      <th>parent_category_name</th>\n",
              "      <th>category_name</th>\n",
              "      <th>param_1</th>\n",
              "      <th>param_2</th>\n",
              "      <th>param_3</th>\n",
              "      <th>price</th>\n",
              "      <th>user_type</th>\n",
              "      <th>title</th>\n",
              "      <th>...</th>\n",
              "      <th>activation_date</th>\n",
              "      <th>image</th>\n",
              "      <th>image_top_1</th>\n",
              "      <th>deal_probability</th>\n",
              "      <th>text</th>\n",
              "      <th>svd_0</th>\n",
              "      <th>svd_1</th>\n",
              "      <th>svd_2</th>\n",
              "      <th>svd_3</th>\n",
              "      <th>svd_4</th>\n",
              "    </tr>\n",
              "  </thead>\n",
              "  <tbody>\n",
              "    <tr>\n",
              "      <th>0</th>\n",
              "      <td>Красноярский край</td>\n",
              "      <td>Красноярск</td>\n",
              "      <td>Личные вещи</td>\n",
              "      <td>Одежда, обувь, аксессуары</td>\n",
              "      <td>Аксессуары</td>\n",
              "      <td>NaN</td>\n",
              "      <td>NaN</td>\n",
              "      <td>50000.0</td>\n",
              "      <td>Private</td>\n",
              "      <td>Сумка бренд Louis Vuitton</td>\n",
              "      <td>...</td>\n",
              "      <td>2017-03-19</td>\n",
              "      <td>3e6502f1657e3f256be696fd82feb455ddc82345e3577e...</td>\n",
              "      <td>256.0</td>\n",
              "      <td>0.0</td>\n",
              "      <td>Сумка бренд Louis Vuitton Сумка коллекционная,...</td>\n",
              "      <td>0.183250</td>\n",
              "      <td>-0.150625</td>\n",
              "      <td>-0.140535</td>\n",
              "      <td>-0.037772</td>\n",
              "      <td>-0.014746</td>\n",
              "    </tr>\n",
              "    <tr>\n",
              "      <th>1</th>\n",
              "      <td>Ярославская область</td>\n",
              "      <td>Ярославль</td>\n",
              "      <td>Личные вещи</td>\n",
              "      <td>Товары для детей и игрушки</td>\n",
              "      <td>Автомобильные кресла</td>\n",
              "      <td>NaN</td>\n",
              "      <td>NaN</td>\n",
              "      <td>21950.0</td>\n",
              "      <td>Company</td>\n",
              "      <td>Автокресло Carmate (Ailebebe) Swing Moon Beige</td>\n",
              "      <td>...</td>\n",
              "      <td>2017-03-18</td>\n",
              "      <td>9270dff29b16082e5a01d35a418cd6d525b6618c33fc58...</td>\n",
              "      <td>796.0</td>\n",
              "      <td>0.0</td>\n",
              "      <td>Автокресло Carmate (Ailebebe) Swing Moon Beige...</td>\n",
              "      <td>0.102642</td>\n",
              "      <td>-0.026940</td>\n",
              "      <td>0.000830</td>\n",
              "      <td>0.131964</td>\n",
              "      <td>-0.048938</td>\n",
              "    </tr>\n",
              "    <tr>\n",
              "      <th>2</th>\n",
              "      <td>Тюменская область</td>\n",
              "      <td>Тюмень</td>\n",
              "      <td>Личные вещи</td>\n",
              "      <td>Одежда, обувь, аксессуары</td>\n",
              "      <td>Мужская одежда</td>\n",
              "      <td>Пиджаки и костюмы</td>\n",
              "      <td>52–54 (XXL)</td>\n",
              "      <td>2500.0</td>\n",
              "      <td>Private</td>\n",
              "      <td>Пиджак кожанный</td>\n",
              "      <td>...</td>\n",
              "      <td>2017-03-19</td>\n",
              "      <td>bbe390ab0a1ed2cb97c4ed064524e9809825dfeba713c0...</td>\n",
              "      <td>655.0</td>\n",
              "      <td>0.0</td>\n",
              "      <td>Пиджак кожанный Состояние на 4, торг</td>\n",
              "      <td>0.186076</td>\n",
              "      <td>-0.018780</td>\n",
              "      <td>0.054649</td>\n",
              "      <td>0.231072</td>\n",
              "      <td>-0.195388</td>\n",
              "    </tr>\n",
              "    <tr>\n",
              "      <th>3</th>\n",
              "      <td>Новосибирская область</td>\n",
              "      <td>Новосибирск</td>\n",
              "      <td>Личные вещи</td>\n",
              "      <td>Детская одежда и обувь</td>\n",
              "      <td>Для девочек</td>\n",
              "      <td>Обувь</td>\n",
              "      <td>32</td>\n",
              "      <td>750.0</td>\n",
              "      <td>Company</td>\n",
              "      <td>Сапоги на слякоть котофей нов</td>\n",
              "      <td>...</td>\n",
              "      <td>2017-03-20</td>\n",
              "      <td>e528c5df69dbc8d6073e9b617b174bec2405cf7e6e3689...</td>\n",
              "      <td>91.0</td>\n",
              "      <td>0.0</td>\n",
              "      <td>Сапоги на слякоть котофей нов Сапожки из невес...</td>\n",
              "      <td>0.063535</td>\n",
              "      <td>-0.010225</td>\n",
              "      <td>0.000436</td>\n",
              "      <td>0.074031</td>\n",
              "      <td>-0.051945</td>\n",
              "    </tr>\n",
              "    <tr>\n",
              "      <th>4</th>\n",
              "      <td>Краснодарский край</td>\n",
              "      <td>Новороссийск</td>\n",
              "      <td>Личные вещи</td>\n",
              "      <td>Одежда, обувь, аксессуары</td>\n",
              "      <td>Женская одежда</td>\n",
              "      <td>Платья и юбки</td>\n",
              "      <td>42–44 (S)</td>\n",
              "      <td>200.0</td>\n",
              "      <td>Private</td>\n",
              "      <td>Юбка</td>\n",
              "      <td>...</td>\n",
              "      <td>2017-03-19</td>\n",
              "      <td>ce15238bc8d1d093b79ade25f1346be1acfc7d9570ec1b...</td>\n",
              "      <td>81.0</td>\n",
              "      <td>0.0</td>\n",
              "      <td>Юбка Юбка женская, размер 42-44, цвет черный, ...</td>\n",
              "      <td>0.194431</td>\n",
              "      <td>-0.157453</td>\n",
              "      <td>-0.049707</td>\n",
              "      <td>0.006616</td>\n",
              "      <td>-0.085714</td>\n",
              "    </tr>\n",
              "  </tbody>\n",
              "</table>\n",
              "<p>5 rows × 49 columns</p>\n",
              "</div>\n",
              "    <div class=\"colab-df-buttons\">\n",
              "\n",
              "  <div class=\"colab-df-container\">\n",
              "    <button class=\"colab-df-convert\" onclick=\"convertToInteractive('df-d09bbfaa-a265-464a-ac8c-2e455709c7d2')\"\n",
              "            title=\"Convert this dataframe to an interactive table.\"\n",
              "            style=\"display:none;\">\n",
              "\n",
              "  <svg xmlns=\"http://www.w3.org/2000/svg\" height=\"24px\" viewBox=\"0 -960 960 960\">\n",
              "    <path d=\"M120-120v-720h720v720H120Zm60-500h600v-160H180v160Zm220 220h160v-160H400v160Zm0 220h160v-160H400v160ZM180-400h160v-160H180v160Zm440 0h160v-160H620v160ZM180-180h160v-160H180v160Zm440 0h160v-160H620v160Z\"/>\n",
              "  </svg>\n",
              "    </button>\n",
              "\n",
              "  <style>\n",
              "    .colab-df-container {\n",
              "      display:flex;\n",
              "      gap: 12px;\n",
              "    }\n",
              "\n",
              "    .colab-df-convert {\n",
              "      background-color: #E8F0FE;\n",
              "      border: none;\n",
              "      border-radius: 50%;\n",
              "      cursor: pointer;\n",
              "      display: none;\n",
              "      fill: #1967D2;\n",
              "      height: 32px;\n",
              "      padding: 0 0 0 0;\n",
              "      width: 32px;\n",
              "    }\n",
              "\n",
              "    .colab-df-convert:hover {\n",
              "      background-color: #E2EBFA;\n",
              "      box-shadow: 0px 1px 2px rgba(60, 64, 67, 0.3), 0px 1px 3px 1px rgba(60, 64, 67, 0.15);\n",
              "      fill: #174EA6;\n",
              "    }\n",
              "\n",
              "    .colab-df-buttons div {\n",
              "      margin-bottom: 4px;\n",
              "    }\n",
              "\n",
              "    [theme=dark] .colab-df-convert {\n",
              "      background-color: #3B4455;\n",
              "      fill: #D2E3FC;\n",
              "    }\n",
              "\n",
              "    [theme=dark] .colab-df-convert:hover {\n",
              "      background-color: #434B5C;\n",
              "      box-shadow: 0px 1px 3px 1px rgba(0, 0, 0, 0.15);\n",
              "      filter: drop-shadow(0px 1px 2px rgba(0, 0, 0, 0.3));\n",
              "      fill: #FFFFFF;\n",
              "    }\n",
              "  </style>\n",
              "\n",
              "    <script>\n",
              "      const buttonEl =\n",
              "        document.querySelector('#df-d09bbfaa-a265-464a-ac8c-2e455709c7d2 button.colab-df-convert');\n",
              "      buttonEl.style.display =\n",
              "        google.colab.kernel.accessAllowed ? 'block' : 'none';\n",
              "\n",
              "      async function convertToInteractive(key) {\n",
              "        const element = document.querySelector('#df-d09bbfaa-a265-464a-ac8c-2e455709c7d2');\n",
              "        const dataTable =\n",
              "          await google.colab.kernel.invokeFunction('convertToInteractive',\n",
              "                                                    [key], {});\n",
              "        if (!dataTable) return;\n",
              "\n",
              "        const docLinkHtml = 'Like what you see? Visit the ' +\n",
              "          '<a target=\"_blank\" href=https://colab.research.google.com/notebooks/data_table.ipynb>data table notebook</a>'\n",
              "          + ' to learn more about interactive tables.';\n",
              "        element.innerHTML = '';\n",
              "        dataTable['output_type'] = 'display_data';\n",
              "        await google.colab.output.renderOutput(dataTable, element);\n",
              "        const docLink = document.createElement('div');\n",
              "        docLink.innerHTML = docLinkHtml;\n",
              "        element.appendChild(docLink);\n",
              "      }\n",
              "    </script>\n",
              "  </div>\n",
              "\n",
              "\n",
              "<div id=\"df-d0a35d46-563d-4685-bbb9-c24a6b51777f\">\n",
              "  <button class=\"colab-df-quickchart\" onclick=\"quickchart('df-d0a35d46-563d-4685-bbb9-c24a6b51777f')\"\n",
              "            title=\"Suggest charts\"\n",
              "            style=\"display:none;\">\n",
              "\n",
              "<svg xmlns=\"http://www.w3.org/2000/svg\" height=\"24px\"viewBox=\"0 0 24 24\"\n",
              "     width=\"24px\">\n",
              "    <g>\n",
              "        <path d=\"M19 3H5c-1.1 0-2 .9-2 2v14c0 1.1.9 2 2 2h14c1.1 0 2-.9 2-2V5c0-1.1-.9-2-2-2zM9 17H7v-7h2v7zm4 0h-2V7h2v10zm4 0h-2v-4h2v4z\"/>\n",
              "    </g>\n",
              "</svg>\n",
              "  </button>\n",
              "\n",
              "<style>\n",
              "  .colab-df-quickchart {\n",
              "      --bg-color: #E8F0FE;\n",
              "      --fill-color: #1967D2;\n",
              "      --hover-bg-color: #E2EBFA;\n",
              "      --hover-fill-color: #174EA6;\n",
              "      --disabled-fill-color: #AAA;\n",
              "      --disabled-bg-color: #DDD;\n",
              "  }\n",
              "\n",
              "  [theme=dark] .colab-df-quickchart {\n",
              "      --bg-color: #3B4455;\n",
              "      --fill-color: #D2E3FC;\n",
              "      --hover-bg-color: #434B5C;\n",
              "      --hover-fill-color: #FFFFFF;\n",
              "      --disabled-bg-color: #3B4455;\n",
              "      --disabled-fill-color: #666;\n",
              "  }\n",
              "\n",
              "  .colab-df-quickchart {\n",
              "    background-color: var(--bg-color);\n",
              "    border: none;\n",
              "    border-radius: 50%;\n",
              "    cursor: pointer;\n",
              "    display: none;\n",
              "    fill: var(--fill-color);\n",
              "    height: 32px;\n",
              "    padding: 0;\n",
              "    width: 32px;\n",
              "  }\n",
              "\n",
              "  .colab-df-quickchart:hover {\n",
              "    background-color: var(--hover-bg-color);\n",
              "    box-shadow: 0 1px 2px rgba(60, 64, 67, 0.3), 0 1px 3px 1px rgba(60, 64, 67, 0.15);\n",
              "    fill: var(--button-hover-fill-color);\n",
              "  }\n",
              "\n",
              "  .colab-df-quickchart-complete:disabled,\n",
              "  .colab-df-quickchart-complete:disabled:hover {\n",
              "    background-color: var(--disabled-bg-color);\n",
              "    fill: var(--disabled-fill-color);\n",
              "    box-shadow: none;\n",
              "  }\n",
              "\n",
              "  .colab-df-spinner {\n",
              "    border: 2px solid var(--fill-color);\n",
              "    border-color: transparent;\n",
              "    border-bottom-color: var(--fill-color);\n",
              "    animation:\n",
              "      spin 1s steps(1) infinite;\n",
              "  }\n",
              "\n",
              "  @keyframes spin {\n",
              "    0% {\n",
              "      border-color: transparent;\n",
              "      border-bottom-color: var(--fill-color);\n",
              "      border-left-color: var(--fill-color);\n",
              "    }\n",
              "    20% {\n",
              "      border-color: transparent;\n",
              "      border-left-color: var(--fill-color);\n",
              "      border-top-color: var(--fill-color);\n",
              "    }\n",
              "    30% {\n",
              "      border-color: transparent;\n",
              "      border-left-color: var(--fill-color);\n",
              "      border-top-color: var(--fill-color);\n",
              "      border-right-color: var(--fill-color);\n",
              "    }\n",
              "    40% {\n",
              "      border-color: transparent;\n",
              "      border-right-color: var(--fill-color);\n",
              "      border-top-color: var(--fill-color);\n",
              "    }\n",
              "    60% {\n",
              "      border-color: transparent;\n",
              "      border-right-color: var(--fill-color);\n",
              "    }\n",
              "    80% {\n",
              "      border-color: transparent;\n",
              "      border-right-color: var(--fill-color);\n",
              "      border-bottom-color: var(--fill-color);\n",
              "    }\n",
              "    90% {\n",
              "      border-color: transparent;\n",
              "      border-bottom-color: var(--fill-color);\n",
              "    }\n",
              "  }\n",
              "</style>\n",
              "\n",
              "  <script>\n",
              "    async function quickchart(key) {\n",
              "      const quickchartButtonEl =\n",
              "        document.querySelector('#' + key + ' button');\n",
              "      quickchartButtonEl.disabled = true;  // To prevent multiple clicks.\n",
              "      quickchartButtonEl.classList.add('colab-df-spinner');\n",
              "      try {\n",
              "        const charts = await google.colab.kernel.invokeFunction(\n",
              "            'suggestCharts', [key], {});\n",
              "      } catch (error) {\n",
              "        console.error('Error during call to suggestCharts:', error);\n",
              "      }\n",
              "      quickchartButtonEl.classList.remove('colab-df-spinner');\n",
              "      quickchartButtonEl.classList.add('colab-df-quickchart-complete');\n",
              "    }\n",
              "    (() => {\n",
              "      let quickchartButtonEl =\n",
              "        document.querySelector('#df-d0a35d46-563d-4685-bbb9-c24a6b51777f button');\n",
              "      quickchartButtonEl.style.display =\n",
              "        google.colab.kernel.accessAllowed ? 'block' : 'none';\n",
              "    })();\n",
              "  </script>\n",
              "</div>\n",
              "\n",
              "    </div>\n",
              "  </div>\n"
            ],
            "application/vnd.google.colaboratory.intrinsic+json": {
              "type": "dataframe",
              "variable_name": "test_featured_with_tfidf"
            }
          },
          "metadata": {},
          "execution_count": 21
        }
      ]
    },
    {
      "cell_type": "code",
      "source": [
        "# test_featured_with_tfidf.to_csv(data_dir_path + 'test_embeddings_tfidf_svd.csv', index=False)\n"
      ],
      "metadata": {
        "id": "kA5MNChC4AMU"
      },
      "execution_count": null,
      "outputs": []
    },
    {
      "cell_type": "code",
      "source": [],
      "metadata": {
        "id": "5PNcATEE4AXv"
      },
      "execution_count": null,
      "outputs": []
    },
    {
      "cell_type": "code",
      "source": [
        "def fit_lgb(\n",
        "        train_X, train_y, test_X, test_y, categorical_features,\n",
        "        params=None,\n",
        "        num_boost_round=1000,\n",
        "        early_stopping_rounds=50,\n",
        "        eval_period=20,\n",
        "    ):\n",
        "\n",
        "    if params is None:\n",
        "        params = {\n",
        "            'objective': 'regression',\n",
        "            'metric': 'rmse',\n",
        "            'boosting_type': 'gbdt',\n",
        "            'learning_rate': 0.02,\n",
        "            'num_leaves': 512,\n",
        "            'max_depth': 20,\n",
        "\n",
        "            'bagging_seed': 42,\n",
        "            'bagging_fraction': 0.8,\n",
        "            'bagging_freq': 5,\n",
        "            'feature_fraction': 0.8,\n",
        "            'lambda_l1': 2.25,\n",
        "            'lambda_l2': 0.015,\n",
        "\n",
        "            'verbose': -1\n",
        "        }\n",
        "\n",
        "    # label encoding for cat var\n",
        "    for col in categorical_features:\n",
        "        train_X[col] = train_X[col].astype('category')\n",
        "        test_X[col] = test_X[col].astype('category')\n",
        "\n",
        "    # validation set for early stopping\n",
        "    train_X_split, val_X_split, train_y_split, val_y_split = train_test_split(\n",
        "        train_X, train_y, test_size=0.2, random_state=42, shuffle=True\n",
        "    )\n",
        "    lgb_train = lgb.Dataset(\n",
        "        train_X_split, label=train_y_split, categorical_feature=categorical_features\n",
        "    )\n",
        "    lgb_val = lgb.Dataset(\n",
        "        val_X_split, label=val_y_split, categorical_feature=categorical_features,\n",
        "        reference=lgb_train\n",
        "    )\n",
        "\n",
        "    callbacks = [\n",
        "        lgb.early_stopping(stopping_rounds=early_stopping_rounds),\n",
        "        lgb.log_evaluation(period=eval_period)\n",
        "    ]\n",
        "\n",
        "    model = lgb.train(\n",
        "        params,\n",
        "        lgb_train,\n",
        "        num_boost_round=num_boost_round,\n",
        "        valid_sets=[lgb_train, lgb_val],\n",
        "        callbacks=callbacks\n",
        "    )\n",
        "\n",
        "    preds = model.predict(test_X, num_iteration=model.best_iteration)\n",
        "    rmse = mean_squared_error(test_y, preds, squared=False)\n",
        "    print(f\"RMSE: {rmse}\")\n",
        "\n",
        "    return model"
      ],
      "metadata": {
        "id": "50-6ebs94Aag"
      },
      "execution_count": null,
      "outputs": []
    },
    {
      "cell_type": "markdown",
      "source": [
        "# Fit LightGBM - Embeddings(500)\n"
      ],
      "metadata": {
        "id": "cczDERdtSEat"
      }
    },
    {
      "cell_type": "code",
      "source": [
        "model_onlyembeddings = fit_lgb(tfidf_matrix, train_y, tfidf_matrix_test, test_y, [])\n"
      ],
      "metadata": {
        "colab": {
          "base_uri": "https://localhost:8080/"
        },
        "id": "t4p_S6UPSlvf",
        "outputId": "f0f38753-c29c-4c2c-924e-125923fea627"
      },
      "execution_count": null,
      "outputs": [
        {
          "output_type": "stream",
          "name": "stdout",
          "text": [
            "Training until validation scores don't improve for 50 rounds\n",
            "[20]\ttraining's rmse: 0.253341\tvalid_1's rmse: 0.254982\n",
            "[40]\ttraining's rmse: 0.249627\tvalid_1's rmse: 0.251575\n",
            "[60]\ttraining's rmse: 0.247221\tvalid_1's rmse: 0.249447\n",
            "[80]\ttraining's rmse: 0.245499\tvalid_1's rmse: 0.247981\n",
            "[100]\ttraining's rmse: 0.244151\tvalid_1's rmse: 0.246881\n",
            "[120]\ttraining's rmse: 0.243081\tvalid_1's rmse: 0.246027\n",
            "[140]\ttraining's rmse: 0.242194\tvalid_1's rmse: 0.245351\n",
            "[160]\ttraining's rmse: 0.241442\tvalid_1's rmse: 0.244808\n",
            "[180]\ttraining's rmse: 0.240767\tvalid_1's rmse: 0.244343\n",
            "[200]\ttraining's rmse: 0.240188\tvalid_1's rmse: 0.243963\n",
            "[220]\ttraining's rmse: 0.239675\tvalid_1's rmse: 0.243632\n",
            "[240]\ttraining's rmse: 0.239222\tvalid_1's rmse: 0.243358\n",
            "[260]\ttraining's rmse: 0.238773\tvalid_1's rmse: 0.243105\n",
            "[280]\ttraining's rmse: 0.238403\tvalid_1's rmse: 0.24289\n",
            "[300]\ttraining's rmse: 0.238068\tvalid_1's rmse: 0.242705\n",
            "[320]\ttraining's rmse: 0.237749\tvalid_1's rmse: 0.242538\n",
            "[340]\ttraining's rmse: 0.237477\tvalid_1's rmse: 0.242407\n",
            "[360]\ttraining's rmse: 0.237209\tvalid_1's rmse: 0.242282\n",
            "[380]\ttraining's rmse: 0.236942\tvalid_1's rmse: 0.242161\n",
            "[400]\ttraining's rmse: 0.236723\tvalid_1's rmse: 0.242063\n",
            "[420]\ttraining's rmse: 0.236518\tvalid_1's rmse: 0.24198\n",
            "[440]\ttraining's rmse: 0.236307\tvalid_1's rmse: 0.241904\n",
            "[460]\ttraining's rmse: 0.236119\tvalid_1's rmse: 0.241835\n",
            "[480]\ttraining's rmse: 0.235952\tvalid_1's rmse: 0.241778\n",
            "[500]\ttraining's rmse: 0.235781\tvalid_1's rmse: 0.241711\n",
            "[520]\ttraining's rmse: 0.235581\tvalid_1's rmse: 0.241641\n",
            "[540]\ttraining's rmse: 0.235423\tvalid_1's rmse: 0.241585\n",
            "[560]\ttraining's rmse: 0.235265\tvalid_1's rmse: 0.241537\n",
            "[580]\ttraining's rmse: 0.235116\tvalid_1's rmse: 0.241488\n",
            "[600]\ttraining's rmse: 0.234974\tvalid_1's rmse: 0.24145\n",
            "[620]\ttraining's rmse: 0.23482\tvalid_1's rmse: 0.241408\n",
            "[640]\ttraining's rmse: 0.23471\tvalid_1's rmse: 0.241372\n",
            "[660]\ttraining's rmse: 0.23458\tvalid_1's rmse: 0.241327\n",
            "[680]\ttraining's rmse: 0.23445\tvalid_1's rmse: 0.241294\n",
            "[700]\ttraining's rmse: 0.234317\tvalid_1's rmse: 0.241263\n",
            "[720]\ttraining's rmse: 0.234187\tvalid_1's rmse: 0.241232\n",
            "[740]\ttraining's rmse: 0.23406\tvalid_1's rmse: 0.241203\n",
            "[760]\ttraining's rmse: 0.233935\tvalid_1's rmse: 0.24117\n",
            "[780]\ttraining's rmse: 0.233838\tvalid_1's rmse: 0.241145\n",
            "[800]\ttraining's rmse: 0.233696\tvalid_1's rmse: 0.24111\n",
            "[820]\ttraining's rmse: 0.233589\tvalid_1's rmse: 0.241088\n",
            "[840]\ttraining's rmse: 0.233465\tvalid_1's rmse: 0.241067\n",
            "[860]\ttraining's rmse: 0.233344\tvalid_1's rmse: 0.241048\n",
            "[880]\ttraining's rmse: 0.233219\tvalid_1's rmse: 0.241025\n",
            "[900]\ttraining's rmse: 0.233114\tvalid_1's rmse: 0.241008\n",
            "[920]\ttraining's rmse: 0.233031\tvalid_1's rmse: 0.240995\n",
            "[940]\ttraining's rmse: 0.23295\tvalid_1's rmse: 0.240975\n",
            "[960]\ttraining's rmse: 0.232848\tvalid_1's rmse: 0.240959\n",
            "[980]\ttraining's rmse: 0.232734\tvalid_1's rmse: 0.240934\n",
            "[1000]\ttraining's rmse: 0.23264\tvalid_1's rmse: 0.240919\n",
            "Did not meet early stopping. Best iteration is:\n",
            "[1000]\ttraining's rmse: 0.23264\tvalid_1's rmse: 0.240919\n",
            "RMSE: 0.25206609856725337\n"
          ]
        }
      ]
    },
    {
      "cell_type": "markdown",
      "source": [
        "# Fit LightGBM - Embeddings+ 5D SVD only\n",
        "\n",
        "\n",
        "\n"
      ],
      "metadata": {
        "id": "j_H3-lbD4TkE"
      }
    },
    {
      "cell_type": "code",
      "source": [
        "train_X_svds = train_featured_with_tfidf[[f'svd_{i}' for i in range(5)]]\n",
        "test_X_svds = test_featured_with_tfidf[[f'svd_{i}' for i in range(5)]]\n",
        "train_y = train_featured_with_tfidf['deal_probability']\n",
        "test_y = test_featured_with_tfidf['deal_probability']"
      ],
      "metadata": {
        "id": "ObQJ4tBF4yZs"
      },
      "execution_count": null,
      "outputs": []
    },
    {
      "cell_type": "code",
      "source": [
        "model = fit_lgb(train_X_svds, train_y, test_X_svds, test_y, [])"
      ],
      "metadata": {
        "colab": {
          "base_uri": "https://localhost:8080/"
        },
        "id": "17VtCKBJ4xH4",
        "outputId": "262f2ae8-2fd5-40b0-fddc-125936484bd7"
      },
      "execution_count": null,
      "outputs": [
        {
          "output_type": "stream",
          "name": "stdout",
          "text": [
            "Training until validation scores don't improve for 50 rounds\n",
            "[20]\ttraining's rmse: 0.254225\tvalid_1's rmse: 0.255809\n",
            "[40]\ttraining's rmse: 0.251207\tvalid_1's rmse: 0.253055\n",
            "[60]\ttraining's rmse: 0.249496\tvalid_1's rmse: 0.25161\n",
            "[80]\ttraining's rmse: 0.248416\tvalid_1's rmse: 0.250769\n",
            "[100]\ttraining's rmse: 0.247693\tvalid_1's rmse: 0.2503\n",
            "[120]\ttraining's rmse: 0.247169\tvalid_1's rmse: 0.250029\n",
            "[140]\ttraining's rmse: 0.246735\tvalid_1's rmse: 0.249843\n",
            "[160]\ttraining's rmse: 0.246374\tvalid_1's rmse: 0.249732\n",
            "[180]\ttraining's rmse: 0.246047\tvalid_1's rmse: 0.24965\n",
            "[200]\ttraining's rmse: 0.245749\tvalid_1's rmse: 0.249584\n",
            "[220]\ttraining's rmse: 0.245475\tvalid_1's rmse: 0.249536\n",
            "[240]\ttraining's rmse: 0.24522\tvalid_1's rmse: 0.249494\n",
            "[260]\ttraining's rmse: 0.24498\tvalid_1's rmse: 0.24947\n",
            "[280]\ttraining's rmse: 0.244761\tvalid_1's rmse: 0.249453\n",
            "[300]\ttraining's rmse: 0.244544\tvalid_1's rmse: 0.24944\n",
            "[320]\ttraining's rmse: 0.244326\tvalid_1's rmse: 0.24942\n",
            "[340]\ttraining's rmse: 0.244109\tvalid_1's rmse: 0.249398\n",
            "[360]\ttraining's rmse: 0.243915\tvalid_1's rmse: 0.249388\n",
            "[380]\ttraining's rmse: 0.243718\tvalid_1's rmse: 0.249377\n",
            "[400]\ttraining's rmse: 0.243529\tvalid_1's rmse: 0.249371\n",
            "[420]\ttraining's rmse: 0.243346\tvalid_1's rmse: 0.249365\n",
            "[440]\ttraining's rmse: 0.243165\tvalid_1's rmse: 0.249356\n",
            "[460]\ttraining's rmse: 0.242987\tvalid_1's rmse: 0.249354\n",
            "[480]\ttraining's rmse: 0.242809\tvalid_1's rmse: 0.249348\n",
            "[500]\ttraining's rmse: 0.242635\tvalid_1's rmse: 0.249344\n",
            "[520]\ttraining's rmse: 0.242459\tvalid_1's rmse: 0.249352\n",
            "[540]\ttraining's rmse: 0.242284\tvalid_1's rmse: 0.249348\n",
            "Early stopping, best iteration is:\n",
            "[500]\ttraining's rmse: 0.242635\tvalid_1's rmse: 0.249344\n",
            "RMSE: 0.2528921710194914\n"
          ]
        }
      ]
    },
    {
      "cell_type": "markdown",
      "source": [
        "# Fit LightGBM - Embeddings+Tabular"
      ],
      "metadata": {
        "id": "rGNrrCBy5qzS"
      }
    },
    {
      "cell_type": "code",
      "source": [
        "train_featured_with_tfidf.columns"
      ],
      "metadata": {
        "colab": {
          "base_uri": "https://localhost:8080/"
        },
        "id": "8nOYy_wY744T",
        "outputId": "b8cbf63b-00e1-42ef-84e3-252955f94f5f"
      },
      "execution_count": null,
      "outputs": [
        {
          "output_type": "execute_result",
          "data": {
            "text/plain": [
              "Index(['region', 'city', 'parent_category_name', 'category_name', 'param_1',\n",
              "       'param_2', 'param_3', 'price', 'user_type', 'region_city',\n",
              "       'all_category', 'category_param_1', 'region_category_user',\n",
              "       'city_category_user', 'category_price_mean', 'category_price_std',\n",
              "       'category_price_skew', 'city_price_mean', 'city_price_max',\n",
              "       'city_price_skew', 'title_length', 'description_length',\n",
              "       'title_word_count', 'description_word_count', 'title_has_keyword',\n",
              "       'description_has_keyword', 'title_digit_count',\n",
              "       'description_digit_count', 'description_newline_count', 'price_log',\n",
              "       'price_bin', 'price_to_category_mean', 'price_to_category_max',\n",
              "       'description_missing', 'item_id', 'user_id', 'item_seq_number',\n",
              "       'activation_date', 'image', 'image_top_1', 'deal_probability', 'svd_0',\n",
              "       'svd_1', 'svd_2', 'svd_3', 'svd_4'],\n",
              "      dtype='object')"
            ]
          },
          "metadata": {},
          "execution_count": 23
        }
      ]
    },
    {
      "cell_type": "code",
      "source": [
        "test_featured_with_tfidf.columns"
      ],
      "metadata": {
        "colab": {
          "base_uri": "https://localhost:8080/"
        },
        "id": "XjltMC1ea8t3",
        "outputId": "c142badd-8bf1-4211-df29-5a6d8c366d7e"
      },
      "execution_count": null,
      "outputs": [
        {
          "output_type": "execute_result",
          "data": {
            "text/plain": [
              "Index(['region', 'city', 'parent_category_name', 'category_name', 'param_1',\n",
              "       'param_2', 'param_3', 'price', 'user_type', 'title', 'description',\n",
              "       'region_city', 'all_category', 'category_param_1',\n",
              "       'region_category_user', 'city_category_user', 'category_price_mean',\n",
              "       'category_price_std', 'category_price_skew', 'city_price_mean',\n",
              "       'city_price_max', 'city_price_skew', 'title_length',\n",
              "       'description_length', 'title_word_count', 'description_word_count',\n",
              "       'title_has_keyword', 'description_has_keyword', 'title_digit_count',\n",
              "       'description_digit_count', 'description_newline_count', 'price_log',\n",
              "       'price_bin', 'price_to_category_mean', 'price_to_category_max',\n",
              "       'description_missing', 'item_id', 'user_id', 'item_seq_number',\n",
              "       'activation_date', 'image', 'image_top_1', 'deal_probability', 'text',\n",
              "       'svd_0', 'svd_1', 'svd_2', 'svd_3', 'svd_4'],\n",
              "      dtype='object')"
            ]
          },
          "metadata": {},
          "execution_count": 26
        }
      ]
    },
    {
      "cell_type": "code",
      "source": [
        "train_X_svd_tabular = train_featured_with_tfidf.drop(['deal_probability','item_id','user_id','item_seq_number','activation_date','image','image_top_1'], axis=1)\n",
        "test_X_svd_tabular = test_featured_with_tfidf.drop(['deal_probability','text','title','description','item_id','user_id','item_seq_number','activation_date','image','image_top_1'], axis=1)\n",
        "train_y = train_featured_with_tfidf['deal_probability']\n",
        "test_y = test_featured_with_tfidf['deal_probability']\n"
      ],
      "metadata": {
        "id": "LGm9JBPb5wyL"
      },
      "execution_count": null,
      "outputs": []
    },
    {
      "cell_type": "code",
      "source": [
        "categorical_features = [\n",
        "    'region', 'city', 'parent_category_name',\n",
        "    'category_name', 'param_1', 'param_2','param_3', 'user_type',\n",
        "    'region_city', 'all_category','category_param_1', 'region_category_user', 'city_category_user',\n",
        "    'title_has_keyword', 'description_has_keyword',\n",
        "    'price_bin', 'description_missing'\n",
        "]\n"
      ],
      "metadata": {
        "id": "pgkSratH8WcR"
      },
      "execution_count": null,
      "outputs": []
    },
    {
      "cell_type": "code",
      "source": [
        "model_2 = fit_lgb(train_X_svd_tabular, train_y, test_X_svd_tabular, test_y, categorical_features)\n"
      ],
      "metadata": {
        "colab": {
          "base_uri": "https://localhost:8080/"
        },
        "id": "e_tCuthH8XS4",
        "outputId": "294283cd-c152-451a-ac2e-22ba3021467b"
      },
      "execution_count": null,
      "outputs": [
        {
          "output_type": "stream",
          "name": "stdout",
          "text": [
            "Training until validation scores don't improve for 50 rounds\n",
            "[20]\ttraining's rmse: 0.242297\tvalid_1's rmse: 0.245197\n",
            "[40]\ttraining's rmse: 0.232743\tvalid_1's rmse: 0.237269\n",
            "[60]\ttraining's rmse: 0.227247\tvalid_1's rmse: 0.233332\n",
            "[80]\ttraining's rmse: 0.223758\tvalid_1's rmse: 0.23131\n",
            "[100]\ttraining's rmse: 0.22129\tvalid_1's rmse: 0.230239\n",
            "[120]\ttraining's rmse: 0.2195\tvalid_1's rmse: 0.229654\n",
            "[140]\ttraining's rmse: 0.218067\tvalid_1's rmse: 0.229335\n",
            "[160]\ttraining's rmse: 0.216917\tvalid_1's rmse: 0.229158\n",
            "[180]\ttraining's rmse: 0.216006\tvalid_1's rmse: 0.229054\n",
            "[200]\ttraining's rmse: 0.215343\tvalid_1's rmse: 0.229006\n",
            "[220]\ttraining's rmse: 0.214841\tvalid_1's rmse: 0.228972\n",
            "[240]\ttraining's rmse: 0.21441\tvalid_1's rmse: 0.228936\n",
            "[260]\ttraining's rmse: 0.214083\tvalid_1's rmse: 0.228931\n",
            "[280]\ttraining's rmse: 0.213752\tvalid_1's rmse: 0.228922\n",
            "[300]\ttraining's rmse: 0.213417\tvalid_1's rmse: 0.22891\n",
            "[320]\ttraining's rmse: 0.213164\tvalid_1's rmse: 0.228911\n",
            "[340]\ttraining's rmse: 0.212933\tvalid_1's rmse: 0.228913\n",
            "[360]\ttraining's rmse: 0.2127\tvalid_1's rmse: 0.228913\n",
            "[380]\ttraining's rmse: 0.212416\tvalid_1's rmse: 0.228894\n",
            "[400]\ttraining's rmse: 0.2122\tvalid_1's rmse: 0.228895\n",
            "[420]\ttraining's rmse: 0.21198\tvalid_1's rmse: 0.228894\n",
            "[440]\ttraining's rmse: 0.211799\tvalid_1's rmse: 0.228899\n",
            "[460]\ttraining's rmse: 0.211612\tvalid_1's rmse: 0.228902\n",
            "Early stopping, best iteration is:\n",
            "[410]\ttraining's rmse: 0.212056\tvalid_1's rmse: 0.228887\n",
            "RMSE: 0.2272839831890918\n"
          ]
        }
      ]
    },
    {
      "cell_type": "code",
      "source": [
        "feature_importances = pd.DataFrame({\n",
        "    'feature': model_2.feature_name(),\n",
        "    'importance': model_2.feature_importance()\n",
        "}).sort_values(by='importance', ascending=False)\n",
        "\n",
        "print(feature_importances)"
      ],
      "metadata": {
        "colab": {
          "base_uri": "https://localhost:8080/"
        },
        "id": "FmHwXRCk8obT",
        "outputId": "6b4803e6-832e-4569-9315-be82d502f78d"
      },
      "execution_count": null,
      "outputs": [
        {
          "output_type": "stream",
          "name": "stdout",
          "text": [
            "                      feature  importance\n",
            "12       region_category_user       18417\n",
            "13         city_category_user       17873\n",
            "31     price_to_category_mean       10648\n",
            "7                       price       10412\n",
            "1                        city        9989\n",
            "21         description_length        9887\n",
            "34                      svd_0        8175\n",
            "20               title_length        7903\n",
            "35                      svd_1        7725\n",
            "36                      svd_2        6798\n",
            "38                      svd_4        6649\n",
            "32      price_to_category_max        6646\n",
            "37                      svd_3        6090\n",
            "11           category_param_1        5657\n",
            "23     description_word_count        5632\n",
            "4                     param_1        5051\n",
            "9                 region_city        3719\n",
            "27    description_digit_count        3528\n",
            "5                     param_2        3458\n",
            "6                     param_3        2626\n",
            "29                  price_log        2574\n",
            "19            city_price_skew        2164\n",
            "28  description_newline_count        1980\n",
            "0                      region        1872\n",
            "22           title_word_count        1727\n",
            "18             city_price_max        1522\n",
            "17            city_price_mean        1407\n",
            "26          title_digit_count        1141\n",
            "3               category_name        1078\n",
            "30                  price_bin         799\n",
            "8                   user_type         559\n",
            "10               all_category         235\n",
            "14        category_price_mean         155\n",
            "15         category_price_std         137\n",
            "24          title_has_keyword         135\n",
            "16        category_price_skew          93\n",
            "25    description_has_keyword          73\n",
            "2        parent_category_name          60\n",
            "33        description_missing          29\n"
          ]
        }
      ]
    }
  ]
}