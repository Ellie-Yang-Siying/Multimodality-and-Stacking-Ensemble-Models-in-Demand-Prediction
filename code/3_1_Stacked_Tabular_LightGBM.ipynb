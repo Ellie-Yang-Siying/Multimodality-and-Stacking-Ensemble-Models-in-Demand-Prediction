{
  "nbformat": 4,
  "nbformat_minor": 0,
  "metadata": {
    "colab": {
      "provenance": [],
      "machine_shape": "hm"
    },
    "kernelspec": {
      "name": "python3",
      "display_name": "Python 3"
    },
    "language_info": {
      "name": "python"
    }
  },
  "cells": [
    {
      "cell_type": "markdown",
      "source": [
        "# Load data"
      ],
      "metadata": {
        "id": "ArtQDUGZzyAl"
      }
    },
    {
      "cell_type": "code",
      "execution_count": null,
      "metadata": {
        "id": "Xx1cYP6Coymb"
      },
      "outputs": [],
      "source": [
        "import numpy as np\n",
        "import pandas as pd\n",
        "import matplotlib.pyplot as plt\n",
        "import seaborn as sns\n",
        "\n",
        "import warnings\n",
        "warnings.filterwarnings('ignore')\n",
        "\n",
        "\n",
        "from sklearn import preprocessing\n",
        "from sklearn.model_selection import train_test_split\n",
        "from sklearn.metrics import mean_squared_error\n",
        "from sklearn.preprocessing import StandardScaler\n",
        "import xgboost as xgb\n",
        "import lightgbm as lgb"
      ]
    },
    {
      "cell_type": "code",
      "source": [
        "from google.colab import drive\n",
        "drive.mount('/content/drive')"
      ],
      "metadata": {
        "colab": {
          "base_uri": "https://localhost:8080/"
        },
        "id": "RV5zXLF0o6oK",
        "outputId": "7617516e-f1a4-4125-cae9-04b445174fe5"
      },
      "execution_count": null,
      "outputs": [
        {
          "output_type": "stream",
          "name": "stdout",
          "text": [
            "Mounted at /content/drive\n"
          ]
        }
      ]
    },
    {
      "cell_type": "code",
      "source": [
        "data_dir_path = '/content/drive/MyDrive/ML Project/data/'\n",
        "train_featured = pd.read_csv(data_dir_path + 'train_X_y_features_v1.csv')\n",
        "test_featured = pd.read_csv( data_dir_path + 'test_X_y_features_v1.csv')\n",
        "print(train_featured.shape)\n",
        "print(test_featured.shape)"
      ],
      "metadata": {
        "colab": {
          "base_uri": "https://localhost:8080/"
        },
        "id": "j_R8RxR5o7_f",
        "outputId": "83cf860a-63c2-4b2b-a1c7-b58426078df1"
      },
      "execution_count": null,
      "outputs": [
        {
          "output_type": "stream",
          "name": "stdout",
          "text": [
            "(1202739, 43)\n",
            "(300685, 43)\n"
          ]
        }
      ]
    },
    {
      "cell_type": "code",
      "source": [
        "train_X = train_featured.drop(['title','description', 'item_id', 'user_id', 'item_seq_number', 'activation_date', 'image',\n",
        "       'image_top_1', 'deal_probability'], axis=1)\n",
        "test_X = test_featured.drop(['title','description', 'item_id', 'user_id', 'item_seq_number', 'activation_date', 'image',\n",
        "       'image_top_1', 'deal_probability'], axis=1)\n",
        "train_y = train_featured['deal_probability']\n",
        "test_y = test_featured['deal_probability']"
      ],
      "metadata": {
        "id": "usJFbK0LpLj0"
      },
      "execution_count": null,
      "outputs": []
    },
    {
      "cell_type": "code",
      "source": [
        "for col in train_X.select_dtypes(include=['object']).columns:\n",
        "    # le = preprocessing.LabelEncoder()\n",
        "    # le.fit(list(train_X[col].astype(str).values) + list(test_X[col].astype(str).values))\n",
        "    # train_X[col] = le.transform(list(train_X[col].astype(str).values))\n",
        "    train_X[col] = train_X[col].astype('category')\n",
        "    test_X[col] = test_X[col].astype('category')"
      ],
      "metadata": {
        "id": "xJD2wWAw2EQ7"
      },
      "execution_count": null,
      "outputs": []
    },
    {
      "cell_type": "code",
      "source": [
        "train_X.columns"
      ],
      "metadata": {
        "colab": {
          "base_uri": "https://localhost:8080/"
        },
        "id": "MtyetHeypjov",
        "outputId": "721c33ae-3712-4937-b81f-20c31e7e8706"
      },
      "execution_count": null,
      "outputs": [
        {
          "output_type": "execute_result",
          "data": {
            "text/plain": [
              "Index(['region', 'city', 'parent_category_name', 'category_name', 'param_1',\n",
              "       'param_2', 'param_3', 'price', 'user_type', 'region_city',\n",
              "       'all_category', 'category_param_1', 'region_category_user',\n",
              "       'city_category_user', 'category_price_mean', 'category_price_std',\n",
              "       'category_price_skew', 'city_price_mean', 'city_price_max',\n",
              "       'city_price_skew', 'title_length', 'description_length',\n",
              "       'title_word_count', 'description_word_count', 'title_has_keyword',\n",
              "       'description_has_keyword', 'title_digit_count',\n",
              "       'description_digit_count', 'description_newline_count', 'price_log',\n",
              "       'price_bin', 'price_to_category_mean', 'price_to_category_max',\n",
              "       'description_missing'],\n",
              "      dtype='object')"
            ]
          },
          "metadata": {},
          "execution_count": 6
        }
      ]
    },
    {
      "cell_type": "markdown",
      "source": [
        "# First stage model: log_price ~ category and param"
      ],
      "metadata": {
        "id": "bxVBut48zfCT"
      }
    },
    {
      "cell_type": "code",
      "source": [
        "category_and_param_features = [\n",
        "    'parent_category_name', 'category_name', 'param_1',\n",
        "    'param_2', 'param_3', 'region_city', 'all_category', 'category_param_1',\n",
        "    'region_category_user', 'city_category_user',\n",
        "    'category_price_mean', 'category_price_std', 'category_price_skew',\n",
        "    'price_log', 'price_bin', 'price_to_category_mean', 'price_to_category_max',\n",
        "]"
      ],
      "metadata": {
        "id": "TgNX7MsrzdyV"
      },
      "execution_count": null,
      "outputs": []
    },
    {
      "cell_type": "code",
      "source": [
        "X_train_price_1 = train_X[category_and_param_features]\n",
        "y_train_price_1 = train_X['price_log']\n",
        "X_test_price_1 = test_X[category_and_param_features]\n",
        "\n",
        "train_X_price_1, val_X_price_1, train_y_price_1, val_y_price_1 = train_test_split(\n",
        "    X_train_price_1, y_train_price_1, test_size=0.2, random_state=42\n",
        ")\n",
        "train_X_price_1 = lgb.Dataset(train_X_price_1, label=train_y_price_1)\n",
        "val_X_price_1 = lgb.Dataset(val_X_price_1, label=val_y_price_1)\n",
        "\n",
        "model_price_catparam = lgb.train(\n",
        "    {\n",
        "        \"objective\": \"regression\",\n",
        "        \"metric\": \"rmse\",\n",
        "        \"boosting\": \"gbdt\",\n",
        "        \"learning_rate\": 0.05,\n",
        "        \"num_leaves\": 128,\n",
        "        \"max_depth\": -1,\n",
        "    },\n",
        "    train_set=train_X_price_1,\n",
        "    valid_sets=[train_X_price_1, val_X_price_1],\n",
        "    num_boost_round=1000,\n",
        "    callbacks=[lgb.early_stopping(stopping_rounds=50), lgb.log_evaluation(period=40)],\n",
        ")"
      ],
      "metadata": {
        "colab": {
          "base_uri": "https://localhost:8080/"
        },
        "id": "RT6d--CAysNe",
        "outputId": "a9a48b75-6c0f-4355-ccf8-facb8101c897"
      },
      "execution_count": null,
      "outputs": [
        {
          "output_type": "stream",
          "name": "stdout",
          "text": [
            "[LightGBM] [Warning] Categorical features with more bins than the configured maximum bin number found.\n",
            "[LightGBM] [Warning] For categorical features, max_bin and max_bin_by_feature may be ignored with a large number of categories.\n",
            "[LightGBM] [Info] Auto-choosing col-wise multi-threading, the overhead of testing was 0.061472 seconds.\n",
            "You can set `force_col_wise=true` to remove the overhead.\n",
            "[LightGBM] [Info] Total Bins 13466\n",
            "[LightGBM] [Info] Number of data points in the train set: 962191, number of used features: 17\n",
            "[LightGBM] [Info] Start training from score 7.409326\n",
            "Training until validation scores don't improve for 50 rounds\n",
            "[40]\ttraining's rmse: 0.411689\tvalid_1's rmse: 0.412308\n",
            "[80]\ttraining's rmse: 0.0551249\tvalid_1's rmse: 0.0552906\n",
            "[120]\ttraining's rmse: 0.0155003\tvalid_1's rmse: 0.0169068\n",
            "[160]\ttraining's rmse: 0.0124383\tvalid_1's rmse: 0.0155552\n",
            "[200]\ttraining's rmse: 0.0115397\tvalid_1's rmse: 0.0155041\n",
            "[240]\ttraining's rmse: 0.0111189\tvalid_1's rmse: 0.015443\n",
            "[280]\ttraining's rmse: 0.0108202\tvalid_1's rmse: 0.0154017\n",
            "[320]\ttraining's rmse: 0.0105574\tvalid_1's rmse: 0.0153738\n",
            "[360]\ttraining's rmse: 0.0103102\tvalid_1's rmse: 0.01537\n",
            "[400]\ttraining's rmse: 0.0101621\tvalid_1's rmse: 0.0153518\n",
            "[440]\ttraining's rmse: 0.0100079\tvalid_1's rmse: 0.0153391\n",
            "[480]\ttraining's rmse: 0.00985356\tvalid_1's rmse: 0.0152997\n",
            "[520]\ttraining's rmse: 0.00970773\tvalid_1's rmse: 0.0152802\n",
            "[560]\ttraining's rmse: 0.0095998\tvalid_1's rmse: 0.0152608\n",
            "[600]\ttraining's rmse: 0.00948858\tvalid_1's rmse: 0.0152532\n",
            "[640]\ttraining's rmse: 0.00939787\tvalid_1's rmse: 0.0152374\n",
            "[680]\ttraining's rmse: 0.00930425\tvalid_1's rmse: 0.0152314\n",
            "[720]\ttraining's rmse: 0.00921117\tvalid_1's rmse: 0.0152207\n",
            "[760]\ttraining's rmse: 0.00913053\tvalid_1's rmse: 0.0152152\n",
            "[800]\ttraining's rmse: 0.00904924\tvalid_1's rmse: 0.0152023\n",
            "[840]\ttraining's rmse: 0.00895035\tvalid_1's rmse: 0.0151918\n",
            "[880]\ttraining's rmse: 0.00889292\tvalid_1's rmse: 0.0151862\n",
            "[920]\ttraining's rmse: 0.0088247\tvalid_1's rmse: 0.0151839\n",
            "[960]\ttraining's rmse: 0.00874424\tvalid_1's rmse: 0.0151899\n",
            "Early stopping, best iteration is:\n",
            "[930]\ttraining's rmse: 0.00880117\tvalid_1's rmse: 0.0151781\n"
          ]
        }
      ]
    },
    {
      "cell_type": "markdown",
      "source": [
        "# First stage model: log_price ~ city region and user type"
      ],
      "metadata": {
        "id": "Pb71QCc_3-Sy"
      }
    },
    {
      "cell_type": "code",
      "source": [
        "user_region_city_features = [\n",
        "    'region', 'city', 'user_type', 'region_city',\n",
        "    'region_category_user', 'city_category_user',\n",
        "    'city_price_mean', 'city_price_max', 'city_price_skew',\n",
        "]\n",
        "\n",
        "X_train_price_2 = train_X[user_region_city_features]\n",
        "y_train_price_2 = train_X['price_log']\n",
        "X_test_price_2 = test_X[user_region_city_features]\n",
        "\n",
        "train_X_price_2, val_X_price_2, train_y_price_2, val_y_price_2 = train_test_split(\n",
        "    X_train_price_2, y_train_price_2, test_size=0.2, random_state=42\n",
        ")\n",
        "\n",
        "train_X_price_2 = lgb.Dataset(train_X_price_2, label=train_y_price_2)\n",
        "val_X_price_2 = lgb.Dataset(val_X_price_2, label=val_y_price_2)\n",
        "\n",
        "model_price_cityuser = lgb.train(\n",
        "    {\n",
        "        \"objective\": \"regression\",\n",
        "        \"metric\": \"rmse\",\n",
        "        \"boosting\": \"gbdt\",\n",
        "        \"learning_rate\": 0.05,\n",
        "        \"num_leaves\": 128,\n",
        "        \"max_depth\": -1,\n",
        "    },\n",
        "    train_set=train_X_price_2,\n",
        "    valid_sets=[train_X_price_2, val_X_price_2],\n",
        "    num_boost_round=1000,\n",
        "    callbacks=[lgb.early_stopping(stopping_rounds=50), lgb.log_evaluation(period=40)],\n",
        ")"
      ],
      "metadata": {
        "colab": {
          "base_uri": "https://localhost:8080/"
        },
        "id": "ClCQqxpP1npo",
        "outputId": "9b04bf4f-c106-47af-8ca9-60ab282c2cba"
      },
      "execution_count": null,
      "outputs": [
        {
          "output_type": "stream",
          "name": "stdout",
          "text": [
            "[LightGBM] [Warning] Categorical features with more bins than the configured maximum bin number found.\n",
            "[LightGBM] [Warning] For categorical features, max_bin and max_bin_by_feature may be ignored with a large number of categories.\n",
            "[LightGBM] [Info] Auto-choosing row-wise multi-threading, the overhead of testing was 0.010647 seconds.\n",
            "You can set `force_row_wise=true` to remove the overhead.\n",
            "And if memory is not enough, you can set `force_col_wise=true`.\n",
            "[LightGBM] [Info] Total Bins 12731\n",
            "[LightGBM] [Info] Number of data points in the train set: 962191, number of used features: 9\n",
            "[LightGBM] [Info] Start training from score 7.409326\n",
            "Training until validation scores don't improve for 50 rounds\n",
            "[40]\ttraining's rmse: 2.29542\tvalid_1's rmse: 2.32152\n",
            "[80]\ttraining's rmse: 2.26252\tvalid_1's rmse: 2.30557\n",
            "[120]\ttraining's rmse: 2.25325\tvalid_1's rmse: 2.3064\n",
            "Early stopping, best iteration is:\n",
            "[85]\ttraining's rmse: 2.2608\tvalid_1's rmse: 2.30549\n"
          ]
        }
      ]
    },
    {
      "cell_type": "markdown",
      "source": [
        "# Second Stage: Stacking Both First Stage Trees"
      ],
      "metadata": {
        "id": "2YCkoQV350Gt"
      }
    },
    {
      "cell_type": "code",
      "source": [
        "params_second_stage = {\n",
        "    'objective': 'regression',\n",
        "    'metric': 'rmse',\n",
        "    'boosting_type': 'gbdt',\n",
        "    'learning_rate': 0.02,\n",
        "    'num_leaves': 512,\n",
        "    'max_depth': 20,\n",
        "    'bagging_seed': 42,\n",
        "    'bagging_fraction': 0.8,\n",
        "    'bagging_freq': 5,\n",
        "    'feature_fraction': 0.8,\n",
        "    'lambda_l1': 2.25,\n",
        "    'lambda_l2': 0.015,\n",
        "    'verbose': -1\n",
        "}"
      ],
      "metadata": {
        "id": "Q-S7cjw45NwH"
      },
      "execution_count": null,
      "outputs": []
    },
    {
      "cell_type": "code",
      "source": [
        "stack_train_X = train_X.copy()\n",
        "stack_test_X = test_X.copy()\n",
        "\n",
        "stack_train_X['price_log_1'] = model_price_catparam.predict(X_train_price_1)\n",
        "stack_test_X['price_log_1'] = model_price_catparam.predict(X_test_price_1)\n",
        "\n",
        "stack_train_X['price_log_2'] = model_price_cityuser.predict(X_train_price_2)\n",
        "stack_test_X['price_log_2'] = model_price_cityuser.predict(X_test_price_2)"
      ],
      "metadata": {
        "id": "RLJNq1Qh5nD_"
      },
      "execution_count": null,
      "outputs": []
    },
    {
      "cell_type": "code",
      "source": [
        "# for some reason (package update?) I need to use categorical indices here\n",
        "# if using the fit_lgb() function in previous notebooks, will get wrong type error\n",
        "categorical_features = stack_train_X.select_dtypes(include=['category']).columns.tolist()\n",
        "categorical_indices = [stack_train_X.columns.get_loc(col) for col in categorical_features]\n",
        "\n",
        "train_X_stack, val_X_stack, train_y_stack, val_y_stack = train_test_split(\n",
        "    stack_train_X, train_y, test_size=0.2, random_state=42\n",
        ")\n",
        "\n",
        "train_X_stack = lgb.Dataset(train_X_stack, label=train_y_stack,\n",
        "                            categorical_feature = categorical_indices)\n",
        "val_X_stack = lgb.Dataset(val_X_stack, label=val_y_stack,\n",
        "                          categorical_feature = categorical_indices,\n",
        "                          reference=train_X_stack)\n",
        "\n",
        "stack_model = lgb.train(\n",
        "    params_second_stage,\n",
        "    train_set=train_X_stack,\n",
        "    valid_sets=[train_X_stack, val_X_stack],\n",
        "    num_boost_round=2000,\n",
        "    callbacks=[lgb.early_stopping(stopping_rounds=50), lgb.log_evaluation(period=40)],\n",
        ")"
      ],
      "metadata": {
        "colab": {
          "base_uri": "https://localhost:8080/"
        },
        "id": "TfL5KeJ96gAd",
        "outputId": "52e41295-4d4d-43bd-825a-7fb775ba8ff0"
      },
      "execution_count": null,
      "outputs": [
        {
          "output_type": "stream",
          "name": "stdout",
          "text": [
            "Training until validation scores don't improve for 50 rounds\n",
            "[40]\ttraining's rmse: 0.233204\tvalid_1's rmse: 0.237504\n",
            "[80]\ttraining's rmse: 0.224558\tvalid_1's rmse: 0.231588\n",
            "[120]\ttraining's rmse: 0.220617\tvalid_1's rmse: 0.23011\n",
            "[160]\ttraining's rmse: 0.218323\tvalid_1's rmse: 0.22967\n",
            "[200]\ttraining's rmse: 0.216844\tvalid_1's rmse: 0.229524\n",
            "[240]\ttraining's rmse: 0.216044\tvalid_1's rmse: 0.229492\n",
            "[280]\ttraining's rmse: 0.21553\tvalid_1's rmse: 0.229481\n",
            "[320]\ttraining's rmse: 0.215015\tvalid_1's rmse: 0.22948\n",
            "[360]\ttraining's rmse: 0.214633\tvalid_1's rmse: 0.22949\n",
            "Early stopping, best iteration is:\n",
            "[337]\ttraining's rmse: 0.214792\tvalid_1's rmse: 0.229467\n"
          ]
        }
      ]
    },
    {
      "cell_type": "code",
      "source": [
        "# stack_train_X.to_csv(data_dir_path + 'stack_train_X.csv', index=False)\n",
        "# stack_test_X.to_csv(data_dir_path + 'stack_test_X.csv', index=False)"
      ],
      "metadata": {
        "id": "rVHwl8L67xP3"
      },
      "execution_count": null,
      "outputs": []
    },
    {
      "cell_type": "code",
      "source": [
        "preds = stack_model.predict(stack_test_X)\n",
        "rmse = mean_squared_error(test_y, preds, squared=False)\n",
        "print(f\"RMSE: {rmse}\")"
      ],
      "metadata": {
        "colab": {
          "base_uri": "https://localhost:8080/"
        },
        "id": "UEdAT8NMBGJe",
        "outputId": "b934d7fe-5b2d-4aa7-cccf-2ac463003eb5"
      },
      "execution_count": null,
      "outputs": [
        {
          "output_type": "stream",
          "name": "stdout",
          "text": [
            "RMSE: 0.22790632846796596\n"
          ]
        }
      ]
    },
    {
      "cell_type": "code",
      "source": [
        "feature_importances = pd.DataFrame({\n",
        "    'feature': stack_model.feature_name(),\n",
        "    'importance': stack_model.feature_importance()\n",
        "}).sort_values(by='importance', ascending=False)\n",
        "\n",
        "print(feature_importances)"
      ],
      "metadata": {
        "colab": {
          "base_uri": "https://localhost:8080/"
        },
        "id": "-r9AwidVJZul",
        "outputId": "181d7dba-3660-4b96-ec4a-df564f95b1f3"
      },
      "execution_count": null,
      "outputs": [
        {
          "output_type": "stream",
          "name": "stdout",
          "text": [
            "                      feature  importance\n",
            "13         city_category_user       18860\n",
            "12       region_category_user       16339\n",
            "21         description_length       11699\n",
            "7                       price       10308\n",
            "31     price_to_category_mean       10271\n",
            "1                        city        9031\n",
            "20               title_length        8839\n",
            "23     description_word_count        7076\n",
            "32      price_to_category_max        6867\n",
            "34                price_log_1        5279\n",
            "11           category_param_1        4804\n",
            "4                     param_1        4663\n",
            "27    description_digit_count        4458\n",
            "5                     param_2        3748\n",
            "9                 region_city        3126\n",
            "6                     param_3        2997\n",
            "19            city_price_skew        2237\n",
            "28  description_newline_count        2213\n",
            "29                  price_log        2110\n",
            "22           title_word_count        1983\n",
            "0                      region        1846\n",
            "18             city_price_max        1699\n",
            "35                price_log_2        1611\n",
            "17            city_price_mean        1387\n",
            "26          title_digit_count        1278\n",
            "3               category_name         935\n",
            "8                   user_type         564\n",
            "25    description_has_keyword         361\n",
            "24          title_has_keyword         258\n",
            "10               all_category         252\n",
            "14        category_price_mean         160\n",
            "15         category_price_std         153\n",
            "16        category_price_skew         112\n",
            "2        parent_category_name          67\n",
            "33        description_missing          59\n",
            "30                  price_bin          11\n"
          ]
        }
      ]
    },
    {
      "cell_type": "markdown",
      "source": [
        "# Second Stage: Stacking Only Param-Category Tree"
      ],
      "metadata": {
        "id": "UFQ1X5UyKxgG"
      }
    },
    {
      "cell_type": "code",
      "source": [
        "categorical_features = stack_train_X.select_dtypes(include=['category']).columns.tolist()\n",
        "\n",
        "train_X_stack, val_X_stack, train_y_stack, val_y_stack = train_test_split(\n",
        "    stack_train_X.drop(columns=[\"price_log_2\"]), train_y, test_size=0.2, random_state=42\n",
        ")\n",
        "\n",
        "train_X_stack = lgb.Dataset(train_X_stack, label=train_y_stack,\n",
        "                            categorical_feature = categorical_features)\n",
        "val_X_stack = lgb.Dataset(val_X_stack, label=val_y_stack,\n",
        "                          categorical_feature = categorical_features,\n",
        "                          reference=train_X_stack)\n",
        "\n",
        "stack_model_1 = lgb.train(\n",
        "    params_second_stage,\n",
        "    train_set=train_X_stack,\n",
        "    valid_sets=[train_X_stack, val_X_stack],\n",
        "    num_boost_round=2000,\n",
        "    callbacks=[lgb.early_stopping(stopping_rounds=50), lgb.log_evaluation(period=40)],\n",
        ")"
      ],
      "metadata": {
        "colab": {
          "base_uri": "https://localhost:8080/"
        },
        "id": "k4klQISAK4nt",
        "outputId": "40e0d4c5-c784-4d09-b671-3af1119bdd94"
      },
      "execution_count": null,
      "outputs": [
        {
          "output_type": "stream",
          "name": "stdout",
          "text": [
            "Training until validation scores don't improve for 50 rounds\n",
            "[40]\ttraining's rmse: 0.233153\tvalid_1's rmse: 0.237448\n",
            "[80]\ttraining's rmse: 0.224472\tvalid_1's rmse: 0.231602\n",
            "[120]\ttraining's rmse: 0.220567\tvalid_1's rmse: 0.230075\n",
            "[160]\ttraining's rmse: 0.218257\tvalid_1's rmse: 0.229614\n",
            "[200]\ttraining's rmse: 0.216817\tvalid_1's rmse: 0.229468\n",
            "[240]\ttraining's rmse: 0.216016\tvalid_1's rmse: 0.229435\n",
            "[280]\ttraining's rmse: 0.215354\tvalid_1's rmse: 0.229397\n",
            "[320]\ttraining's rmse: 0.21482\tvalid_1's rmse: 0.229384\n",
            "[360]\ttraining's rmse: 0.214443\tvalid_1's rmse: 0.229396\n",
            "Early stopping, best iteration is:\n",
            "[331]\ttraining's rmse: 0.214672\tvalid_1's rmse: 0.229376\n"
          ]
        }
      ]
    },
    {
      "cell_type": "code",
      "source": [
        "preds = stack_model_1.predict(stack_test_X.drop(columns=[\"price_log_2\"]))\n",
        "rmse = mean_squared_error(test_y, preds, squared=False)\n",
        "print(f\"RMSE: {rmse}\")"
      ],
      "metadata": {
        "colab": {
          "base_uri": "https://localhost:8080/"
        },
        "id": "lVVDA694LUR8",
        "outputId": "a4372e73-d6b2-4e8e-80d0-c73dad2ded22"
      },
      "execution_count": null,
      "outputs": [
        {
          "output_type": "stream",
          "name": "stdout",
          "text": [
            "RMSE: 0.22783146399739404\n"
          ]
        }
      ]
    },
    {
      "cell_type": "code",
      "source": [
        "feature_importances = pd.DataFrame({\n",
        "    'feature': stack_model_1.feature_name(),\n",
        "    'importance': stack_model_1.feature_importance()\n",
        "}).sort_values(by='importance', ascending=False)\n",
        "\n",
        "print(feature_importances)"
      ],
      "metadata": {
        "colab": {
          "base_uri": "https://localhost:8080/"
        },
        "id": "Md8XeR1wLZqF",
        "outputId": "edeb9745-ab74-40e5-d562-569ca5dfd34f"
      },
      "execution_count": null,
      "outputs": [
        {
          "output_type": "stream",
          "name": "stdout",
          "text": [
            "                      feature  importance\n",
            "13         city_category_user       18340\n",
            "12       region_category_user       17089\n",
            "21         description_length       12216\n",
            "31     price_to_category_mean       10313\n",
            "1                        city        9488\n",
            "7                       price        9388\n",
            "20               title_length        9066\n",
            "32      price_to_category_max        7416\n",
            "23     description_word_count        6332\n",
            "34                price_log_1        5457\n",
            "11           category_param_1        5121\n",
            "4                     param_1        4995\n",
            "27    description_digit_count        4111\n",
            "5                     param_2        3510\n",
            "9                 region_city        3380\n",
            "6                     param_3        2988\n",
            "19            city_price_skew        2615\n",
            "28  description_newline_count        2349\n",
            "29                  price_log        2253\n",
            "0                      region        1948\n",
            "22           title_word_count        1902\n",
            "18             city_price_max        1703\n",
            "17            city_price_mean        1402\n",
            "26          title_digit_count        1381\n",
            "3               category_name        1050\n",
            "8                   user_type         595\n",
            "25    description_has_keyword         333\n",
            "10               all_category         218\n",
            "24          title_has_keyword         215\n",
            "14        category_price_mean         181\n",
            "15         category_price_std         134\n",
            "16        category_price_skew          90\n",
            "2        parent_category_name          70\n",
            "33        description_missing          51\n",
            "30                  price_bin          18\n"
          ]
        }
      ]
    },
    {
      "cell_type": "markdown",
      "source": [
        "# Compare with baseline"
      ],
      "metadata": {
        "id": "Ry7pUjnjO7xp"
      }
    },
    {
      "cell_type": "code",
      "source": [
        "baseline_train_X = train_X.copy()\n",
        "baseline_test_X = test_X.copy()\n",
        "\n",
        "train_X_baseline, val_X_baseline, train_y_baseline, val_y_baseline = train_test_split(\n",
        "    baseline_train_X, train_y, test_size=0.2, random_state=42\n",
        ")\n",
        "\n",
        "train_X_baseline = lgb.Dataset(train_X_baseline, label=train_y_baseline,\n",
        "                            categorical_feature = categorical_features)\n",
        "val_X_baseline = lgb.Dataset(val_X_baseline, label=val_y_baseline,\n",
        "                          categorical_feature = categorical_features,\n",
        "                          reference=train_X_baseline)\n",
        "\n",
        "baseline_model = lgb.train(\n",
        "    params_second_stage,\n",
        "    train_set=train_X_baseline,\n",
        "    valid_sets=[train_X_baseline, val_X_baseline],\n",
        "    num_boost_round=2000,\n",
        "    callbacks=[lgb.early_stopping(stopping_rounds=50), lgb.log_evaluation(period=40)],\n",
        ")"
      ],
      "metadata": {
        "colab": {
          "base_uri": "https://localhost:8080/"
        },
        "id": "7Gws9h_OO-ZN",
        "outputId": "6b57d162-7f93-49a7-8242-22f6ea67ae5f"
      },
      "execution_count": null,
      "outputs": [
        {
          "output_type": "stream",
          "name": "stdout",
          "text": [
            "Training until validation scores don't improve for 50 rounds\n",
            "[40]\ttraining's rmse: 0.233185\tvalid_1's rmse: 0.237478\n",
            "[80]\ttraining's rmse: 0.224541\tvalid_1's rmse: 0.231585\n",
            "[120]\ttraining's rmse: 0.220664\tvalid_1's rmse: 0.230057\n",
            "[160]\ttraining's rmse: 0.218385\tvalid_1's rmse: 0.22963\n",
            "[200]\ttraining's rmse: 0.216965\tvalid_1's rmse: 0.229485\n",
            "[240]\ttraining's rmse: 0.216159\tvalid_1's rmse: 0.229456\n",
            "[280]\ttraining's rmse: 0.215554\tvalid_1's rmse: 0.229425\n",
            "[320]\ttraining's rmse: 0.215048\tvalid_1's rmse: 0.229418\n",
            "[360]\ttraining's rmse: 0.214657\tvalid_1's rmse: 0.229428\n",
            "Early stopping, best iteration is:\n",
            "[326]\ttraining's rmse: 0.214918\tvalid_1's rmse: 0.229406\n"
          ]
        }
      ]
    },
    {
      "cell_type": "code",
      "source": [],
      "metadata": {
        "id": "Fw87brY5ZKK4"
      },
      "execution_count": null,
      "outputs": []
    },
    {
      "cell_type": "code",
      "source": [
        "preds = baseline_model.predict(baseline_test_X)\n",
        "rmse = mean_squared_error(test_y, preds, squared=False)\n",
        "print(f\"RMSE: {rmse}\")"
      ],
      "metadata": {
        "colab": {
          "base_uri": "https://localhost:8080/"
        },
        "id": "jgH528a6PlkW",
        "outputId": "d35035fc-612e-4c04-b287-7fe9a10c686d"
      },
      "execution_count": null,
      "outputs": [
        {
          "output_type": "stream",
          "name": "stdout",
          "text": [
            "RMSE: 0.22785243334704727\n"
          ]
        }
      ]
    },
    {
      "cell_type": "code",
      "source": [
        "feature_importances = pd.DataFrame({\n",
        "    'feature': baseline_model.feature_name(),\n",
        "    'importance': baseline_model.feature_importance()\n",
        "}).sort_values(by='importance', ascending=False)\n",
        "\n",
        "print(feature_importances)"
      ],
      "metadata": {
        "colab": {
          "base_uri": "https://localhost:8080/"
        },
        "id": "wqKE5XIeQFeX",
        "outputId": "62633dd6-449f-48c8-d538-4b2aa745d398"
      },
      "execution_count": null,
      "outputs": [
        {
          "output_type": "stream",
          "name": "stdout",
          "text": [
            "                      feature  importance\n",
            "13         city_category_user       17405\n",
            "12       region_category_user       17105\n",
            "7                       price       12285\n",
            "21         description_length       12200\n",
            "31     price_to_category_mean       10804\n",
            "1                        city        9359\n",
            "20               title_length        8684\n",
            "32      price_to_category_max        7301\n",
            "23     description_word_count        6888\n",
            "4                     param_1        5426\n",
            "11           category_param_1        4423\n",
            "27    description_digit_count        4398\n",
            "5                     param_2        3683\n",
            "9                 region_city        3628\n",
            "6                     param_3        2818\n",
            "29                  price_log        2678\n",
            "19            city_price_skew        2448\n",
            "28  description_newline_count        2267\n",
            "22           title_word_count        2213\n",
            "0                      region        2035\n",
            "18             city_price_max        1734\n",
            "17            city_price_mean        1598\n",
            "26          title_digit_count        1393\n",
            "3               category_name        1092\n",
            "8                   user_type         554\n",
            "25    description_has_keyword         337\n",
            "10               all_category         244\n",
            "24          title_has_keyword         213\n",
            "14        category_price_mean         185\n",
            "15         category_price_std         182\n",
            "16        category_price_skew         131\n",
            "2        parent_category_name          72\n",
            "33        description_missing          42\n",
            "30                  price_bin          33\n"
          ]
        }
      ]
    },
    {
      "cell_type": "markdown",
      "source": [],
      "metadata": {
        "id": "is41wmvzl9Sp"
      }
    },
    {
      "cell_type": "markdown",
      "source": [],
      "metadata": {
        "id": "5wWS3_kbl9VP"
      }
    },
    {
      "cell_type": "markdown",
      "source": [],
      "metadata": {
        "id": "csrSCu-Zl9Xm"
      }
    }
  ]
}