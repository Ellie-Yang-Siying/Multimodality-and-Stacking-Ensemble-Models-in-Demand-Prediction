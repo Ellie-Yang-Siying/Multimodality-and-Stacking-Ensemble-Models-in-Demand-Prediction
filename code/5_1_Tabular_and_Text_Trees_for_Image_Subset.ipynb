{
  "nbformat": 4,
  "nbformat_minor": 0,
  "metadata": {
    "colab": {
      "provenance": [],
      "collapsed_sections": [
        "tv_7QG-3soQ5"
      ],
      "machine_shape": "hm"
    },
    "kernelspec": {
      "name": "python3",
      "display_name": "Python 3"
    },
    "language_info": {
      "name": "python"
    }
  },
  "cells": [
    {
      "cell_type": "markdown",
      "source": [
        "# Load packages and data"
      ],
      "metadata": {
        "id": "lvJ6JQcCtHqS"
      }
    },
    {
      "cell_type": "code",
      "execution_count": null,
      "metadata": {
        "id": "4rkgGY0Vpc7d"
      },
      "outputs": [],
      "source": [
        "from tqdm import tqdm\n",
        "import numpy as np\n",
        "import pandas as pd\n",
        "import matplotlib.pyplot as plt\n",
        "import seaborn as sns\n",
        "\n",
        "import warnings\n",
        "warnings.filterwarnings('ignore')"
      ]
    },
    {
      "cell_type": "code",
      "source": [
        "from google.colab import drive\n",
        "drive.mount('/content/drive')"
      ],
      "metadata": {
        "colab": {
          "base_uri": "https://localhost:8080/"
        },
        "id": "ur-HwGm7poWh",
        "outputId": "9371b606-ddc5-4fe2-9fb6-027ee2c3f7a2"
      },
      "execution_count": null,
      "outputs": [
        {
          "output_type": "stream",
          "name": "stdout",
          "text": [
            "Mounted at /content/drive\n"
          ]
        }
      ]
    },
    {
      "cell_type": "code",
      "source": [
        "data_dir_path = '/content/drive/MyDrive/ML Project/data/image/'\n",
        "train_tabular = pd.read_csv(data_dir_path + 'train_image_sample')\n",
        "test_tabular = pd.read_csv( data_dir_path + 'test_image_sample')\n",
        "print(train_tabular.shape)\n",
        "print(test_tabular.shape)"
      ],
      "metadata": {
        "colab": {
          "base_uri": "https://localhost:8080/"
        },
        "id": "SxGhxrNUppvW",
        "outputId": "3ed0103e-9405-466b-eb3d-e09d5cde2466"
      },
      "execution_count": null,
      "outputs": [
        {
          "output_type": "stream",
          "name": "stdout",
          "text": [
            "(222532, 43)\n",
            "(55635, 43)\n"
          ]
        }
      ]
    },
    {
      "cell_type": "code",
      "source": [
        "train_tabular_X = train_tabular.drop(['title','description', 'item_id', 'user_id', 'item_seq_number', 'activation_date', 'image',\n",
        "        'image_top_1', 'deal_probability'], axis=1)\n",
        "test_tabular_X = test_tabular.drop(['title','description', 'item_id', 'user_id', 'item_seq_number', 'activation_date', 'image',\n",
        "        'image_top_1', 'deal_probability'], axis=1)\n",
        "train_y = train_tabular['deal_probability']\n",
        "test_y = test_tabular['deal_probability']\n",
        "\n",
        "categorical_features = train_tabular_X.select_dtypes(include=['object', 'category']).columns.tolist()\n",
        "for col in categorical_features:\n",
        "    train_tabular_X[col] = train_tabular_X[col].astype('category')\n",
        "    test_tabular_X[col] = test_tabular_X[col].astype('category')\n",
        "\n",
        "print(train_tabular_X.shape)\n",
        "print(test_tabular_X.shape)"
      ],
      "metadata": {
        "colab": {
          "base_uri": "https://localhost:8080/"
        },
        "id": "5q-_ulUzpwSQ",
        "outputId": "4eb3a8bc-f06a-4c7f-f262-206fe9ffcc07"
      },
      "execution_count": null,
      "outputs": [
        {
          "output_type": "stream",
          "name": "stdout",
          "text": [
            "(222532, 34)\n",
            "(55635, 34)\n"
          ]
        }
      ]
    },
    {
      "cell_type": "code",
      "source": [
        "# keep only the svd embedding columns, and rows that are in the image subsample\n",
        "\n",
        "# be very careful using merge: the one calling merge keeps the order!\n",
        "train_text_X = pd.read_csv(data_dir_path + '../train_embeddings_fasttext_svd.csv')\n",
        "train_text_X = train_tabular[[\"item_id\", \"user_id\"]].merge(train_text_X, on=[\"item_id\", \"user_id\"], how=\"inner\")\n",
        "train_text_X = train_text_X.drop(columns = train_tabular.columns.tolist(), errors='ignore')\n",
        "\n",
        "test_text_X = pd.read_csv(data_dir_path + '../test_embeddings_fasttext_svd.csv')\n",
        "test_text_X = test_tabular[[\"item_id\", \"user_id\"]].merge(test_text_X, on=[\"item_id\", \"user_id\"], how=\"inner\")\n",
        "test_text_X = test_text_X.drop(columns = test_tabular.columns.tolist(), errors='ignore')\n",
        "\n",
        "print(train_text_X.shape)\n",
        "print(test_text_X.shape)"
      ],
      "metadata": {
        "colab": {
          "base_uri": "https://localhost:8080/"
        },
        "id": "y-w9fN88qy3U",
        "outputId": "5fa3d928-1756-4197-86b9-d5e5abbd6b30"
      },
      "execution_count": null,
      "outputs": [
        {
          "output_type": "stream",
          "name": "stdout",
          "text": [
            "(222532, 42)\n",
            "(55635, 42)\n"
          ]
        }
      ]
    },
    {
      "cell_type": "markdown",
      "source": [
        "# Helper functions"
      ],
      "metadata": {
        "id": "tv_7QG-3soQ5"
      }
    },
    {
      "cell_type": "code",
      "source": [
        "# !pip install optuna"
      ],
      "metadata": {
        "id": "pzC0mhE4sv5F"
      },
      "execution_count": null,
      "outputs": []
    },
    {
      "cell_type": "code",
      "source": [
        "from sklearn import preprocessing\n",
        "from sklearn.model_selection import train_test_split\n",
        "from sklearn.metrics import mean_squared_error, root_mean_squared_error\n",
        "from sklearn.preprocessing import StandardScaler\n",
        "import xgboost as xgb\n",
        "import lightgbm as lgb\n",
        "from sklearn.decomposition import TruncatedSVD\n",
        "import optuna"
      ],
      "metadata": {
        "id": "eTWowK9QssoD"
      },
      "execution_count": null,
      "outputs": []
    },
    {
      "cell_type": "code",
      "source": [
        "def tune_params(train_X, train_y, categorical_features):\n",
        "    train_data, val_data, train_label, val_label = train_test_split(\n",
        "        train_X, train_y, test_size=0.2, random_state=42)\n",
        "\n",
        "    def objective(trial):\n",
        "        params = {\n",
        "            'objective': 'regression',\n",
        "            'metric': 'rmse',\n",
        "            'boosting_type': 'gbdt',\n",
        "            'learning_rate': trial.suggest_loguniform('learning_rate', 0.01, 0.1),\n",
        "            'num_leaves': trial.suggest_int('num_leaves', 32, 512),\n",
        "            'max_depth': trial.suggest_int('max_depth', 3, 25),\n",
        "            'lambda_l1': trial.suggest_loguniform('lambda_l1', 1e-3, 10.0),\n",
        "            'lambda_l2': trial.suggest_loguniform('lambda_l2', 1e-3, 10.0),\n",
        "            'verbose': -1,\n",
        "            'bagging_seed': 42,\n",
        "            'bagging_fraction': 0.8,\n",
        "            'bagging_freq': 5,\n",
        "            'feature_fraction': 0.8,\n",
        "        }\n",
        "\n",
        "        dtrain = lgb.Dataset(train_data, label=train_label, categorical_feature=categorical_features)\n",
        "        dval = lgb.Dataset(val_data, label=val_label, reference=dtrain, categorical_feature=categorical_features)\n",
        "\n",
        "        callbacks = [\n",
        "            lgb.early_stopping(stopping_rounds=50),\n",
        "            lgb.log_evaluation(period=100)\n",
        "        ]\n",
        "        model = lgb.train(\n",
        "            params, dtrain, valid_sets=[dtrain, dval], callbacks=callbacks,\n",
        "            num_boost_round=1000\n",
        "        )\n",
        "        preds = model.predict(val_data)\n",
        "        return root_mean_squared_error(val_label, preds)\n",
        "\n",
        "    study = optuna.create_study(direction='minimize')\n",
        "    study.optimize(objective, n_trials=50, timeout=5400)\n",
        "\n",
        "    print(\"Best parameters:\", study.best_params)"
      ],
      "metadata": {
        "id": "_MhqiJLmspWQ"
      },
      "execution_count": null,
      "outputs": []
    },
    {
      "cell_type": "code",
      "source": [
        "def fit_lgb(\n",
        "        train_X, train_y, test_X, test_y, categorical_features,\n",
        "        params,\n",
        "        num_boost_round=3000,\n",
        "        early_stopping_rounds=50,\n",
        "        eval_period=40,\n",
        "    ):\n",
        "\n",
        "    # validation set for early stopping\n",
        "    train_X_split, val_X_split, train_y_split, val_y_split = train_test_split(\n",
        "        train_X, train_y, test_size=0.2, random_state=42, shuffle=True\n",
        "    )\n",
        "    lgb_train = lgb.Dataset(\n",
        "        train_X_split, label=train_y_split, categorical_feature=categorical_features\n",
        "    )\n",
        "    lgb_val = lgb.Dataset(\n",
        "        val_X_split, label=val_y_split, categorical_feature=categorical_features,\n",
        "        reference=lgb_train\n",
        "    )\n",
        "\n",
        "    callbacks = [\n",
        "        lgb.early_stopping(stopping_rounds=early_stopping_rounds),\n",
        "        lgb.log_evaluation(period=eval_period)\n",
        "    ]\n",
        "\n",
        "    model = lgb.train(\n",
        "        params,\n",
        "        lgb_train,\n",
        "        num_boost_round=num_boost_round,\n",
        "        valid_sets=[lgb_train, lgb_val],\n",
        "        callbacks=callbacks\n",
        "    )\n",
        "\n",
        "    preds = model.predict(test_X, num_iteration=model.best_iteration)\n",
        "    rmse = root_mean_squared_error(test_y, preds)\n",
        "    print(f\"RMSE: {rmse}\")\n",
        "\n",
        "    return model"
      ],
      "metadata": {
        "id": "MI3Wa40rs0wh"
      },
      "execution_count": null,
      "outputs": []
    },
    {
      "cell_type": "code",
      "source": [
        "def get_feature_importance(model):\n",
        "    feature_importances = pd.DataFrame({\n",
        "        'feature': model.feature_name(),\n",
        "        'importance': model.feature_importance()\n",
        "    }).sort_values(by='importance', ascending=False)\n",
        "\n",
        "    with pd.option_context('display.max_rows', None, 'display.max_columns', None):\n",
        "        print(feature_importances)\n",
        "    return feature_importances"
      ],
      "metadata": {
        "id": "FBk39lpOs2o_"
      },
      "execution_count": null,
      "outputs": []
    },
    {
      "cell_type": "markdown",
      "source": [
        "# Tabular tree"
      ],
      "metadata": {
        "id": "4U9rHzUOs4it"
      }
    },
    {
      "cell_type": "code",
      "source": [
        "# This param is tuned in another notebook for subset tabular tree\n",
        "tabular_params = {\n",
        "    'objective': 'regression',\n",
        "    'metric': 'rmse',\n",
        "    'boosting_type': 'gbdt',\n",
        "    'learning_rate': 0.015,\n",
        "    'num_leaves': 512,\n",
        "    'max_depth': 19,\n",
        "    'bagging_seed': 42,\n",
        "    'bagging_fraction': 0.8,\n",
        "    'bagging_freq': 5,\n",
        "    'feature_fraction': 0.8,\n",
        "    'lambda_l1': 0.004,\n",
        "    'lambda_l2': 1.41,\n",
        "    'verbose': -1\n",
        "}"
      ],
      "metadata": {
        "id": "P5UxPUDss3rY"
      },
      "execution_count": null,
      "outputs": []
    },
    {
      "cell_type": "code",
      "source": [
        "model_tabular = fit_lgb(\n",
        "    train_tabular_X, train_y,\n",
        "    test_tabular_X, test_y,\n",
        "    categorical_features=categorical_features,\n",
        "    params=tabular_params,\n",
        ")"
      ],
      "metadata": {
        "colab": {
          "base_uri": "https://localhost:8080/"
        },
        "id": "D-ei4xcPtgPr",
        "outputId": "42485721-1a40-4f12-ce09-0e9d22af2394"
      },
      "execution_count": null,
      "outputs": [
        {
          "output_type": "stream",
          "name": "stdout",
          "text": [
            "Training until validation scores don't improve for 50 rounds\n",
            "[40]\ttraining's rmse: 0.234383\tvalid_1's rmse: 0.241233\n",
            "[80]\ttraining's rmse: 0.221675\tvalid_1's rmse: 0.234866\n",
            "[120]\ttraining's rmse: 0.214027\tvalid_1's rmse: 0.232811\n",
            "[160]\ttraining's rmse: 0.208875\tvalid_1's rmse: 0.232367\n",
            "[200]\ttraining's rmse: 0.205061\tvalid_1's rmse: 0.232388\n",
            "Early stopping, best iteration is:\n",
            "[170]\ttraining's rmse: 0.207704\tvalid_1's rmse: 0.232313\n",
            "RMSE: 0.23201362973381603\n"
          ]
        }
      ]
    },
    {
      "cell_type": "markdown",
      "source": [
        "# Embedding Tree"
      ],
      "metadata": {
        "id": "fgreTnT6tmAb"
      }
    },
    {
      "cell_type": "code",
      "source": [
        "tune_params(train_text_X, train_y, categorical_features=[])"
      ],
      "metadata": {
        "colab": {
          "base_uri": "https://localhost:8080/"
        },
        "collapsed": true,
        "id": "qDcTvHjvtRxw",
        "outputId": "536900f6-11fe-4aa5-d99e-75281c4f303b"
      },
      "execution_count": null,
      "outputs": [
        {
          "output_type": "stream",
          "name": "stderr",
          "text": [
            "[I 2024-12-03 04:16:40,866] A new study created in memory with name: no-name-bb83d0f3-b9db-48d5-9527-653f662e7715\n"
          ]
        },
        {
          "output_type": "stream",
          "name": "stdout",
          "text": [
            "Training until validation scores don't improve for 50 rounds\n",
            "[100]\ttraining's rmse: 0.240926\tvalid_1's rmse: 0.244877\n",
            "[200]\ttraining's rmse: 0.234531\tvalid_1's rmse: 0.242074\n",
            "[300]\ttraining's rmse: 0.230211\tvalid_1's rmse: 0.241069\n",
            "[400]\ttraining's rmse: 0.226788\tvalid_1's rmse: 0.240616\n",
            "[500]\ttraining's rmse: 0.223784\tvalid_1's rmse: 0.240428\n",
            "[600]\ttraining's rmse: 0.22109\tvalid_1's rmse: 0.240287\n",
            "[700]\ttraining's rmse: 0.218498\tvalid_1's rmse: 0.240175\n",
            "[800]\ttraining's rmse: 0.216038\tvalid_1's rmse: 0.24007\n",
            "[900]\ttraining's rmse: 0.213775\tvalid_1's rmse: 0.239996\n",
            "[1000]\ttraining's rmse: 0.211495\tvalid_1's rmse: 0.239891\n",
            "Did not meet early stopping. Best iteration is:\n",
            "[1000]\ttraining's rmse: 0.211495\tvalid_1's rmse: 0.239891\n"
          ]
        },
        {
          "output_type": "stream",
          "name": "stderr",
          "text": [
            "[I 2024-12-03 04:16:56,832] Trial 0 finished with value: 0.2398908645834304 and parameters: {'learning_rate': 0.017440585143575008, 'num_leaves': 100, 'max_depth': 21, 'lambda_l1': 0.007710398526450154, 'lambda_l2': 1.8217059836820577}. Best is trial 0 with value: 0.2398908645834304.\n"
          ]
        },
        {
          "output_type": "stream",
          "name": "stdout",
          "text": [
            "Training until validation scores don't improve for 50 rounds\n",
            "[100]\ttraining's rmse: 0.243774\tvalid_1's rmse: 0.245542\n",
            "[200]\ttraining's rmse: 0.240695\tvalid_1's rmse: 0.243691\n",
            "[300]\ttraining's rmse: 0.23883\tvalid_1's rmse: 0.242847\n",
            "[400]\ttraining's rmse: 0.237479\tvalid_1's rmse: 0.242362\n",
            "[500]\ttraining's rmse: 0.236264\tvalid_1's rmse: 0.242061\n",
            "[600]\ttraining's rmse: 0.23515\tvalid_1's rmse: 0.241803\n",
            "[700]\ttraining's rmse: 0.234042\tvalid_1's rmse: 0.241535\n",
            "[800]\ttraining's rmse: 0.233059\tvalid_1's rmse: 0.241334\n",
            "[900]\ttraining's rmse: 0.232147\tvalid_1's rmse: 0.24119\n",
            "[1000]\ttraining's rmse: 0.231154\tvalid_1's rmse: 0.241025\n",
            "Did not meet early stopping. Best iteration is:\n",
            "[1000]\ttraining's rmse: 0.231154\tvalid_1's rmse: 0.241025\n"
          ]
        },
        {
          "output_type": "stream",
          "name": "stderr",
          "text": [
            "[I 2024-12-03 04:17:07,045] Trial 1 finished with value: 0.24102523941516207 and parameters: {'learning_rate': 0.027730747136183554, 'num_leaves': 100, 'max_depth': 5, 'lambda_l1': 0.003513079130919596, 'lambda_l2': 0.24932944307509602}. Best is trial 0 with value: 0.2398908645834304.\n"
          ]
        },
        {
          "output_type": "stream",
          "name": "stdout",
          "text": [
            "Training until validation scores don't improve for 50 rounds\n",
            "[100]\ttraining's rmse: 0.245176\tvalid_1's rmse: 0.247593\n",
            "[200]\ttraining's rmse: 0.239502\tvalid_1's rmse: 0.243953\n",
            "[300]\ttraining's rmse: 0.236447\tvalid_1's rmse: 0.242611\n",
            "[400]\ttraining's rmse: 0.234451\tvalid_1's rmse: 0.241932\n",
            "[500]\ttraining's rmse: 0.232705\tvalid_1's rmse: 0.241523\n",
            "[600]\ttraining's rmse: 0.231177\tvalid_1's rmse: 0.241213\n",
            "[700]\ttraining's rmse: 0.22974\tvalid_1's rmse: 0.240966\n",
            "[800]\ttraining's rmse: 0.22846\tvalid_1's rmse: 0.240797\n",
            "[900]\ttraining's rmse: 0.227352\tvalid_1's rmse: 0.240681\n",
            "[1000]\ttraining's rmse: 0.226038\tvalid_1's rmse: 0.24055\n",
            "Did not meet early stopping. Best iteration is:\n",
            "[997]\ttraining's rmse: 0.22607\tvalid_1's rmse: 0.240548\n"
          ]
        },
        {
          "output_type": "stream",
          "name": "stderr",
          "text": [
            "[I 2024-12-03 04:17:23,903] Trial 2 finished with value: 0.24054814619980946 and parameters: {'learning_rate': 0.011401421188183663, 'num_leaves': 210, 'max_depth': 7, 'lambda_l1': 0.029911678839663024, 'lambda_l2': 0.0038764203020752925}. Best is trial 0 with value: 0.2398908645834304.\n"
          ]
        },
        {
          "output_type": "stream",
          "name": "stdout",
          "text": [
            "Training until validation scores don't improve for 50 rounds\n",
            "[100]\ttraining's rmse: 0.21729\tvalid_1's rmse: 0.241198\n",
            "[200]\ttraining's rmse: 0.198438\tvalid_1's rmse: 0.2401\n",
            "Early stopping, best iteration is:\n",
            "[221]\ttraining's rmse: 0.195178\tvalid_1's rmse: 0.240012\n"
          ]
        },
        {
          "output_type": "stream",
          "name": "stderr",
          "text": [
            "[I 2024-12-03 04:17:35,770] Trial 3 finished with value: 0.24001172228720968 and parameters: {'learning_rate': 0.03022449490304826, 'num_leaves': 395, 'max_depth': 19, 'lambda_l1': 0.002700274253018903, 'lambda_l2': 0.008499550262078388}. Best is trial 0 with value: 0.2398908645834304.\n"
          ]
        },
        {
          "output_type": "stream",
          "name": "stdout",
          "text": [
            "Training until validation scores don't improve for 50 rounds\n",
            "[100]\ttraining's rmse: 0.232603\tvalid_1's rmse: 0.243049\n",
            "[200]\ttraining's rmse: 0.222304\tvalid_1's rmse: 0.240746\n",
            "[300]\ttraining's rmse: 0.215641\tvalid_1's rmse: 0.240107\n",
            "[400]\ttraining's rmse: 0.210246\tvalid_1's rmse: 0.23988\n",
            "[500]\ttraining's rmse: 0.204843\tvalid_1's rmse: 0.239727\n",
            "[600]\ttraining's rmse: 0.199668\tvalid_1's rmse: 0.239649\n",
            "[700]\ttraining's rmse: 0.194456\tvalid_1's rmse: 0.239628\n",
            "Early stopping, best iteration is:\n",
            "[685]\ttraining's rmse: 0.195248\tvalid_1's rmse: 0.239611\n"
          ]
        },
        {
          "output_type": "stream",
          "name": "stderr",
          "text": [
            "[I 2024-12-03 04:17:59,789] Trial 4 finished with value: 0.2396111319918859 and parameters: {'learning_rate': 0.019012584077047902, 'num_leaves': 297, 'max_depth': 10, 'lambda_l1': 0.0022266006151392408, 'lambda_l2': 2.2127155950346817}. Best is trial 4 with value: 0.2396111319918859.\n"
          ]
        },
        {
          "output_type": "stream",
          "name": "stdout",
          "text": [
            "Training until validation scores don't improve for 50 rounds\n",
            "[100]\ttraining's rmse: 0.218275\tvalid_1's rmse: 0.241365\n",
            "[200]\ttraining's rmse: 0.199773\tvalid_1's rmse: 0.239986\n",
            "[300]\ttraining's rmse: 0.186201\tvalid_1's rmse: 0.239772\n",
            "Early stopping, best iteration is:\n",
            "[313]\ttraining's rmse: 0.184545\tvalid_1's rmse: 0.239756\n"
          ]
        },
        {
          "output_type": "stream",
          "name": "stderr",
          "text": [
            "[I 2024-12-03 04:18:15,065] Trial 5 finished with value: 0.23975621381924941 and parameters: {'learning_rate': 0.027291371003840784, 'num_leaves': 423, 'max_depth': 17, 'lambda_l1': 0.014808634233368484, 'lambda_l2': 0.021771054149664487}. Best is trial 4 with value: 0.2396111319918859.\n"
          ]
        },
        {
          "output_type": "stream",
          "name": "stdout",
          "text": [
            "Training until validation scores don't improve for 50 rounds\n",
            "[100]\ttraining's rmse: 0.222695\tvalid_1's rmse: 0.240919\n",
            "[200]\ttraining's rmse: 0.211982\tvalid_1's rmse: 0.240217\n",
            "[300]\ttraining's rmse: 0.202112\tvalid_1's rmse: 0.239904\n",
            "Early stopping, best iteration is:\n",
            "[309]\ttraining's rmse: 0.201193\tvalid_1's rmse: 0.239884\n"
          ]
        },
        {
          "output_type": "stream",
          "name": "stderr",
          "text": [
            "[I 2024-12-03 04:18:26,206] Trial 6 finished with value: 0.23988421045992353 and parameters: {'learning_rate': 0.0449185552553326, 'num_leaves': 332, 'max_depth': 9, 'lambda_l1': 0.5566228684962463, 'lambda_l2': 0.036847452674157725}. Best is trial 4 with value: 0.2396111319918859.\n"
          ]
        },
        {
          "output_type": "stream",
          "name": "stdout",
          "text": [
            "Training until validation scores don't improve for 50 rounds\n",
            "[100]\ttraining's rmse: 0.239306\tvalid_1's rmse: 0.242986\n",
            "[200]\ttraining's rmse: 0.235741\tvalid_1's rmse: 0.241885\n",
            "[300]\ttraining's rmse: 0.232927\tvalid_1's rmse: 0.241307\n",
            "[400]\ttraining's rmse: 0.230417\tvalid_1's rmse: 0.240968\n",
            "[500]\ttraining's rmse: 0.227939\tvalid_1's rmse: 0.24082\n",
            "[600]\ttraining's rmse: 0.225688\tvalid_1's rmse: 0.240698\n",
            "[700]\ttraining's rmse: 0.223477\tvalid_1's rmse: 0.240626\n",
            "Early stopping, best iteration is:\n",
            "[680]\ttraining's rmse: 0.223903\tvalid_1's rmse: 0.240625\n"
          ]
        },
        {
          "output_type": "stream",
          "name": "stderr",
          "text": [
            "[I 2024-12-03 04:18:32,680] Trial 7 finished with value: 0.2406246985892971 and parameters: {'learning_rate': 0.08152267115117776, 'num_leaves': 236, 'max_depth': 5, 'lambda_l1': 1.3115768077109313, 'lambda_l2': 0.0014370520814242275}. Best is trial 4 with value: 0.2396111319918859.\n"
          ]
        },
        {
          "output_type": "stream",
          "name": "stdout",
          "text": [
            "Training until validation scores don't improve for 50 rounds\n",
            "[100]\ttraining's rmse: 0.240638\tvalid_1's rmse: 0.245585\n",
            "[200]\ttraining's rmse: 0.233344\tvalid_1's rmse: 0.242383\n",
            "[300]\ttraining's rmse: 0.229387\tvalid_1's rmse: 0.241353\n",
            "[400]\ttraining's rmse: 0.226702\tvalid_1's rmse: 0.24084\n",
            "[500]\ttraining's rmse: 0.224112\tvalid_1's rmse: 0.24055\n",
            "[600]\ttraining's rmse: 0.221806\tvalid_1's rmse: 0.240308\n",
            "[700]\ttraining's rmse: 0.21943\tvalid_1's rmse: 0.240128\n",
            "[800]\ttraining's rmse: 0.217223\tvalid_1's rmse: 0.239981\n",
            "[900]\ttraining's rmse: 0.215222\tvalid_1's rmse: 0.239926\n",
            "[1000]\ttraining's rmse: 0.212875\tvalid_1's rmse: 0.239844\n",
            "Did not meet early stopping. Best iteration is:\n",
            "[997]\ttraining's rmse: 0.212925\tvalid_1's rmse: 0.239843\n"
          ]
        },
        {
          "output_type": "stream",
          "name": "stderr",
          "text": [
            "[I 2024-12-03 04:18:55,887] Trial 8 finished with value: 0.23984344228083146 and parameters: {'learning_rate': 0.013799768023287494, 'num_leaves': 333, 'max_depth': 8, 'lambda_l1': 0.0028835325480712688, 'lambda_l2': 0.008765574558810491}. Best is trial 4 with value: 0.2396111319918859.\n"
          ]
        },
        {
          "output_type": "stream",
          "name": "stdout",
          "text": [
            "Training until validation scores don't improve for 50 rounds\n",
            "[100]\ttraining's rmse: 0.232053\tvalid_1's rmse: 0.241617\n",
            "[200]\ttraining's rmse: 0.22532\tvalid_1's rmse: 0.240883\n",
            "[300]\ttraining's rmse: 0.218954\tvalid_1's rmse: 0.240574\n",
            "[400]\ttraining's rmse: 0.213135\tvalid_1's rmse: 0.240485\n",
            "Early stopping, best iteration is:\n",
            "[393]\ttraining's rmse: 0.213583\tvalid_1's rmse: 0.240475\n"
          ]
        },
        {
          "output_type": "stream",
          "name": "stderr",
          "text": [
            "[I 2024-12-03 04:19:02,319] Trial 9 finished with value: 0.24047519255745864 and parameters: {'learning_rate': 0.06425447622733213, 'num_leaves': 466, 'max_depth': 7, 'lambda_l1': 0.005148824876179702, 'lambda_l2': 0.015253180198335412}. Best is trial 4 with value: 0.2396111319918859.\n"
          ]
        },
        {
          "output_type": "stream",
          "name": "stdout",
          "text": [
            "Training until validation scores don't improve for 50 rounds\n",
            "[100]\ttraining's rmse: 0.236852\tvalid_1's rmse: 0.243537\n",
            "[200]\ttraining's rmse: 0.228483\tvalid_1's rmse: 0.241096\n",
            "[300]\ttraining's rmse: 0.222491\tvalid_1's rmse: 0.24031\n",
            "[400]\ttraining's rmse: 0.217674\tvalid_1's rmse: 0.239985\n",
            "[500]\ttraining's rmse: 0.213397\tvalid_1's rmse: 0.239823\n",
            "[600]\ttraining's rmse: 0.209322\tvalid_1's rmse: 0.239694\n",
            "[700]\ttraining's rmse: 0.205488\tvalid_1's rmse: 0.239595\n",
            "Early stopping, best iteration is:\n",
            "[739]\ttraining's rmse: 0.204012\tvalid_1's rmse: 0.23958\n"
          ]
        },
        {
          "output_type": "stream",
          "name": "stderr",
          "text": [
            "[I 2024-12-03 04:19:28,085] Trial 10 finished with value: 0.23957990348852196 and parameters: {'learning_rate': 0.01991327901160563, 'num_leaves': 165, 'max_depth': 25, 'lambda_l1': 0.12238240902495821, 'lambda_l2': 8.339118292101274}. Best is trial 10 with value: 0.23957990348852196.\n"
          ]
        },
        {
          "output_type": "stream",
          "name": "stdout",
          "text": [
            "Training until validation scores don't improve for 50 rounds\n",
            "[100]\ttraining's rmse: 0.237824\tvalid_1's rmse: 0.243995\n",
            "[200]\ttraining's rmse: 0.229601\tvalid_1's rmse: 0.241328\n",
            "[300]\ttraining's rmse: 0.223762\tvalid_1's rmse: 0.240446\n",
            "[400]\ttraining's rmse: 0.219041\tvalid_1's rmse: 0.240056\n",
            "[500]\ttraining's rmse: 0.214932\tvalid_1's rmse: 0.239827\n",
            "[600]\ttraining's rmse: 0.211164\tvalid_1's rmse: 0.239719\n",
            "[700]\ttraining's rmse: 0.207599\tvalid_1's rmse: 0.23963\n",
            "[800]\ttraining's rmse: 0.20409\tvalid_1's rmse: 0.239542\n",
            "[900]\ttraining's rmse: 0.200773\tvalid_1's rmse: 0.23945\n",
            "[1000]\ttraining's rmse: 0.197446\tvalid_1's rmse: 0.239385\n",
            "Did not meet early stopping. Best iteration is:\n",
            "[1000]\ttraining's rmse: 0.197446\tvalid_1's rmse: 0.239385\n"
          ]
        },
        {
          "output_type": "stream",
          "name": "stderr",
          "text": [
            "[I 2024-12-03 04:19:51,966] Trial 11 finished with value: 0.23938481306362125 and parameters: {'learning_rate': 0.017935418509012126, 'num_leaves': 170, 'max_depth': 25, 'lambda_l1': 0.13789149796813047, 'lambda_l2': 9.55052052308525}. Best is trial 11 with value: 0.23938481306362125.\n"
          ]
        },
        {
          "output_type": "stream",
          "name": "stdout",
          "text": [
            "Training until validation scores don't improve for 50 rounds\n",
            "[100]\ttraining's rmse: 0.236278\tvalid_1's rmse: 0.243203\n",
            "[200]\ttraining's rmse: 0.227739\tvalid_1's rmse: 0.240867\n",
            "[300]\ttraining's rmse: 0.221681\tvalid_1's rmse: 0.240192\n",
            "[400]\ttraining's rmse: 0.21676\tvalid_1's rmse: 0.239903\n",
            "[500]\ttraining's rmse: 0.212244\tvalid_1's rmse: 0.239706\n",
            "[600]\ttraining's rmse: 0.2081\tvalid_1's rmse: 0.239584\n",
            "[700]\ttraining's rmse: 0.204227\tvalid_1's rmse: 0.23953\n",
            "[800]\ttraining's rmse: 0.200325\tvalid_1's rmse: 0.239471\n",
            "[900]\ttraining's rmse: 0.196644\tvalid_1's rmse: 0.239393\n",
            "[1000]\ttraining's rmse: 0.193024\tvalid_1's rmse: 0.239359\n",
            "Did not meet early stopping. Best iteration is:\n",
            "[976]\ttraining's rmse: 0.193854\tvalid_1's rmse: 0.239358\n"
          ]
        },
        {
          "output_type": "stream",
          "name": "stderr",
          "text": [
            "[I 2024-12-03 04:20:14,773] Trial 12 finished with value: 0.23935753984425706 and parameters: {'learning_rate': 0.021065609675875282, 'num_leaves': 164, 'max_depth': 25, 'lambda_l1': 0.17062761533675164, 'lambda_l2': 8.186500257885125}. Best is trial 12 with value: 0.23935753984425706.\n"
          ]
        },
        {
          "output_type": "stream",
          "name": "stdout",
          "text": [
            "Training until validation scores don't improve for 50 rounds\n",
            "[100]\ttraining's rmse: 0.248733\tvalid_1's rmse: 0.249712\n",
            "[200]\ttraining's rmse: 0.244299\tvalid_1's rmse: 0.245979\n",
            "[300]\ttraining's rmse: 0.241974\tvalid_1's rmse: 0.244257\n",
            "[400]\ttraining's rmse: 0.240397\tvalid_1's rmse: 0.243204\n",
            "[500]\ttraining's rmse: 0.239218\tvalid_1's rmse: 0.242554\n",
            "[600]\ttraining's rmse: 0.238266\tvalid_1's rmse: 0.242075\n",
            "[700]\ttraining's rmse: 0.237449\tvalid_1's rmse: 0.241699\n",
            "[800]\ttraining's rmse: 0.236729\tvalid_1's rmse: 0.241423\n",
            "[900]\ttraining's rmse: 0.236081\tvalid_1's rmse: 0.241196\n",
            "[1000]\ttraining's rmse: 0.235501\tvalid_1's rmse: 0.241022\n",
            "Did not meet early stopping. Best iteration is:\n",
            "[1000]\ttraining's rmse: 0.235501\tvalid_1's rmse: 0.241022\n"
          ]
        },
        {
          "output_type": "stream",
          "name": "stderr",
          "text": [
            "[I 2024-12-03 04:20:28,573] Trial 13 finished with value: 0.24102231998685122 and parameters: {'learning_rate': 0.010144806951336176, 'num_leaves': 39, 'max_depth': 25, 'lambda_l1': 9.732346752341932, 'lambda_l2': 8.377976271965064}. Best is trial 12 with value: 0.23935753984425706.\n"
          ]
        },
        {
          "output_type": "stream",
          "name": "stdout",
          "text": [
            "Training until validation scores don't improve for 50 rounds\n",
            "[100]\ttraining's rmse: 0.224971\tvalid_1's rmse: 0.240924\n",
            "[200]\ttraining's rmse: 0.212344\tvalid_1's rmse: 0.240341\n",
            "Early stopping, best iteration is:\n",
            "[234]\ttraining's rmse: 0.208712\tvalid_1's rmse: 0.240272\n"
          ]
        },
        {
          "output_type": "stream",
          "name": "stderr",
          "text": [
            "[I 2024-12-03 04:20:36,244] Trial 14 finished with value: 0.24027248994036474 and parameters: {'learning_rate': 0.04861586490252787, 'num_leaves': 161, 'max_depth': 22, 'lambda_l1': 0.12315523827565636, 'lambda_l2': 0.33145027412246014}. Best is trial 12 with value: 0.23935753984425706.\n"
          ]
        },
        {
          "output_type": "stream",
          "name": "stdout",
          "text": [
            "Training until validation scores don't improve for 50 rounds\n",
            "[100]\ttraining's rmse: 0.235387\tvalid_1's rmse: 0.243015\n",
            "[200]\ttraining's rmse: 0.226733\tvalid_1's rmse: 0.240855\n",
            "[300]\ttraining's rmse: 0.220579\tvalid_1's rmse: 0.240233\n",
            "[400]\ttraining's rmse: 0.215439\tvalid_1's rmse: 0.239929\n",
            "[500]\ttraining's rmse: 0.210727\tvalid_1's rmse: 0.239775\n",
            "[600]\ttraining's rmse: 0.20627\tvalid_1's rmse: 0.239654\n",
            "[700]\ttraining's rmse: 0.201966\tvalid_1's rmse: 0.239575\n",
            "[800]\ttraining's rmse: 0.197849\tvalid_1's rmse: 0.239534\n",
            "Early stopping, best iteration is:\n",
            "[834]\ttraining's rmse: 0.196554\tvalid_1's rmse: 0.239507\n"
          ]
        },
        {
          "output_type": "stream",
          "name": "stderr",
          "text": [
            "[I 2024-12-03 04:20:58,903] Trial 15 finished with value: 0.23950688047260166 and parameters: {'learning_rate': 0.02244196288486888, 'num_leaves': 162, 'max_depth': 14, 'lambda_l1': 0.5561455746774497, 'lambda_l2': 1.4797148087925591}. Best is trial 12 with value: 0.23935753984425706.\n"
          ]
        },
        {
          "output_type": "stream",
          "name": "stdout",
          "text": [
            "Training until validation scores don't improve for 50 rounds\n",
            "[100]\ttraining's rmse: 0.235825\tvalid_1's rmse: 0.244203\n",
            "[200]\ttraining's rmse: 0.225523\tvalid_1's rmse: 0.24124\n",
            "[300]\ttraining's rmse: 0.218293\tvalid_1's rmse: 0.240311\n",
            "[400]\ttraining's rmse: 0.212482\tvalid_1's rmse: 0.239872\n",
            "[500]\ttraining's rmse: 0.207355\tvalid_1's rmse: 0.239661\n",
            "[600]\ttraining's rmse: 0.202633\tvalid_1's rmse: 0.239567\n",
            "Early stopping, best iteration is:\n",
            "[584]\ttraining's rmse: 0.203355\tvalid_1's rmse: 0.239555\n"
          ]
        },
        {
          "output_type": "stream",
          "name": "stderr",
          "text": [
            "[I 2024-12-03 04:21:17,894] Trial 16 finished with value: 0.23955472022638258 and parameters: {'learning_rate': 0.015508965575966377, 'num_leaves': 247, 'max_depth': 14, 'lambda_l1': 0.034809515750639244, 'lambda_l2': 0.5680541377149392}. Best is trial 12 with value: 0.23935753984425706.\n"
          ]
        },
        {
          "output_type": "stream",
          "name": "stdout",
          "text": [
            "Training until validation scores don't improve for 50 rounds\n",
            "[100]\ttraining's rmse: 0.241273\tvalid_1's rmse: 0.243867\n",
            "[200]\ttraining's rmse: 0.23732\tvalid_1's rmse: 0.242017\n",
            "[300]\ttraining's rmse: 0.234751\tvalid_1's rmse: 0.241488\n",
            "[400]\ttraining's rmse: 0.232647\tvalid_1's rmse: 0.24124\n",
            "[500]\ttraining's rmse: 0.230649\tvalid_1's rmse: 0.240999\n",
            "[600]\ttraining's rmse: 0.228806\tvalid_1's rmse: 0.240824\n",
            "[700]\ttraining's rmse: 0.22696\tvalid_1's rmse: 0.240673\n",
            "[800]\ttraining's rmse: 0.22522\tvalid_1's rmse: 0.240541\n",
            "[900]\ttraining's rmse: 0.223497\tvalid_1's rmse: 0.240441\n",
            "[1000]\ttraining's rmse: 0.22185\tvalid_1's rmse: 0.240338\n",
            "Did not meet early stopping. Best iteration is:\n",
            "[997]\ttraining's rmse: 0.22189\tvalid_1's rmse: 0.240338\n"
          ]
        },
        {
          "output_type": "stream",
          "name": "stderr",
          "text": [
            "[I 2024-12-03 04:21:26,488] Trial 17 finished with value: 0.24033828979107952 and parameters: {'learning_rate': 0.03479433941210321, 'num_leaves': 33, 'max_depth': 22, 'lambda_l1': 0.36285486297358754, 'lambda_l2': 0.09653397080072544}. Best is trial 12 with value: 0.23935753984425706.\n"
          ]
        },
        {
          "output_type": "stream",
          "name": "stdout",
          "text": [
            "Training until validation scores don't improve for 50 rounds\n",
            "[100]\ttraining's rmse: 0.24316\tvalid_1's rmse: 0.246218\n",
            "[200]\ttraining's rmse: 0.237018\tvalid_1's rmse: 0.242806\n",
            "[300]\ttraining's rmse: 0.233108\tvalid_1's rmse: 0.24148\n",
            "[400]\ttraining's rmse: 0.230028\tvalid_1's rmse: 0.240795\n",
            "[500]\ttraining's rmse: 0.227421\tvalid_1's rmse: 0.240437\n",
            "[600]\ttraining's rmse: 0.225204\tvalid_1's rmse: 0.240266\n",
            "[700]\ttraining's rmse: 0.223047\tvalid_1's rmse: 0.240094\n",
            "[800]\ttraining's rmse: 0.221031\tvalid_1's rmse: 0.239971\n",
            "[900]\ttraining's rmse: 0.219159\tvalid_1's rmse: 0.239884\n",
            "[1000]\ttraining's rmse: 0.217322\tvalid_1's rmse: 0.239822\n",
            "Did not meet early stopping. Best iteration is:\n",
            "[980]\ttraining's rmse: 0.217657\tvalid_1's rmse: 0.23982\n"
          ]
        },
        {
          "output_type": "stream",
          "name": "stderr",
          "text": [
            "[I 2024-12-03 04:21:43,580] Trial 18 finished with value: 0.2398196596870477 and parameters: {'learning_rate': 0.013496900547908856, 'num_leaves': 102, 'max_depth': 17, 'lambda_l1': 0.0585839493177081, 'lambda_l2': 5.605528056684673}. Best is trial 12 with value: 0.23935753984425706.\n"
          ]
        },
        {
          "output_type": "stream",
          "name": "stdout",
          "text": [
            "Training until validation scores don't improve for 50 rounds\n",
            "[100]\ttraining's rmse: 0.234525\tvalid_1's rmse: 0.242611\n",
            "[200]\ttraining's rmse: 0.225564\tvalid_1's rmse: 0.240467\n",
            "[300]\ttraining's rmse: 0.218857\tvalid_1's rmse: 0.239736\n",
            "[400]\ttraining's rmse: 0.213271\tvalid_1's rmse: 0.239428\n",
            "[500]\ttraining's rmse: 0.207985\tvalid_1's rmse: 0.239226\n",
            "[600]\ttraining's rmse: 0.203055\tvalid_1's rmse: 0.239113\n",
            "[700]\ttraining's rmse: 0.198438\tvalid_1's rmse: 0.239048\n",
            "[800]\ttraining's rmse: 0.194026\tvalid_1's rmse: 0.239013\n",
            "Early stopping, best iteration is:\n",
            "[786]\ttraining's rmse: 0.194617\tvalid_1's rmse: 0.239002\n"
          ]
        },
        {
          "output_type": "stream",
          "name": "stderr",
          "text": [
            "[I 2024-12-03 04:22:07,729] Trial 19 finished with value: 0.23900215852191192 and parameters: {'learning_rate': 0.02317883810513614, 'num_leaves': 198, 'max_depth': 25, 'lambda_l1': 2.449777218209263, 'lambda_l2': 2.6601062812827956}. Best is trial 19 with value: 0.23900215852191192.\n"
          ]
        },
        {
          "output_type": "stream",
          "name": "stdout",
          "text": [
            "Training until validation scores don't improve for 50 rounds\n",
            "[100]\ttraining's rmse: 0.225648\tvalid_1's rmse: 0.240678\n",
            "[200]\ttraining's rmse: 0.214046\tvalid_1's rmse: 0.239639\n",
            "[300]\ttraining's rmse: 0.204036\tvalid_1's rmse: 0.23923\n",
            "[400]\ttraining's rmse: 0.194997\tvalid_1's rmse: 0.239119\n",
            "Early stopping, best iteration is:\n",
            "[433]\ttraining's rmse: 0.192181\tvalid_1's rmse: 0.23908\n"
          ]
        },
        {
          "output_type": "stream",
          "name": "stderr",
          "text": [
            "[I 2024-12-03 04:22:25,300] Trial 20 finished with value: 0.23907993711772477 and parameters: {'learning_rate': 0.03906775255864921, 'num_leaves': 286, 'max_depth': 12, 'lambda_l1': 3.686077322613717, 'lambda_l2': 0.870417330899998}. Best is trial 19 with value: 0.23900215852191192.\n"
          ]
        },
        {
          "output_type": "stream",
          "name": "stdout",
          "text": [
            "Training until validation scores don't improve for 50 rounds\n",
            "[100]\ttraining's rmse: 0.229397\tvalid_1's rmse: 0.24118\n",
            "[200]\ttraining's rmse: 0.219897\tvalid_1's rmse: 0.239812\n",
            "[300]\ttraining's rmse: 0.212029\tvalid_1's rmse: 0.239289\n",
            "[400]\ttraining's rmse: 0.20479\tvalid_1's rmse: 0.239156\n",
            "Early stopping, best iteration is:\n",
            "[378]\ttraining's rmse: 0.206369\tvalid_1's rmse: 0.239124\n"
          ]
        },
        {
          "output_type": "stream",
          "name": "stderr",
          "text": [
            "[I 2024-12-03 04:22:41,699] Trial 21 finished with value: 0.23912366722349376 and parameters: {'learning_rate': 0.03778032259792782, 'num_leaves': 289, 'max_depth': 12, 'lambda_l1': 7.227383270292837, 'lambda_l2': 3.0837503858578246}. Best is trial 19 with value: 0.23900215852191192.\n"
          ]
        },
        {
          "output_type": "stream",
          "name": "stdout",
          "text": [
            "Training until validation scores don't improve for 50 rounds\n",
            "[100]\ttraining's rmse: 0.228752\tvalid_1's rmse: 0.241061\n",
            "[200]\ttraining's rmse: 0.218957\tvalid_1's rmse: 0.239734\n",
            "[300]\ttraining's rmse: 0.210814\tvalid_1's rmse: 0.239295\n",
            "[400]\ttraining's rmse: 0.203271\tvalid_1's rmse: 0.239173\n",
            "Early stopping, best iteration is:\n",
            "[375]\ttraining's rmse: 0.20518\tvalid_1's rmse: 0.239158\n"
          ]
        },
        {
          "output_type": "stream",
          "name": "stderr",
          "text": [
            "[I 2024-12-03 04:22:58,030] Trial 22 finished with value: 0.23915807269468978 and parameters: {'learning_rate': 0.040651324423937964, 'num_leaves': 290, 'max_depth': 12, 'lambda_l1': 7.617709726495611, 'lambda_l2': 0.9439768654201894}. Best is trial 19 with value: 0.23900215852191192.\n"
          ]
        },
        {
          "output_type": "stream",
          "name": "stdout",
          "text": [
            "Training until validation scores don't improve for 50 rounds\n",
            "[100]\ttraining's rmse: 0.217113\tvalid_1's rmse: 0.240327\n",
            "[200]\ttraining's rmse: 0.200668\tvalid_1's rmse: 0.239968\n",
            "Early stopping, best iteration is:\n",
            "[204]\ttraining's rmse: 0.20004\tvalid_1's rmse: 0.23994\n"
          ]
        },
        {
          "output_type": "stream",
          "name": "stderr",
          "text": [
            "[I 2024-12-03 04:23:08,945] Trial 23 finished with value: 0.23994045661819205 and parameters: {'learning_rate': 0.05551258549380485, 'num_leaves': 344, 'max_depth': 12, 'lambda_l1': 2.911935279156768, 'lambda_l2': 3.685163715688177}. Best is trial 19 with value: 0.23900215852191192.\n"
          ]
        },
        {
          "output_type": "stream",
          "name": "stdout",
          "text": [
            "Training until validation scores don't improve for 50 rounds\n",
            "[100]\ttraining's rmse: 0.229357\tvalid_1's rmse: 0.241247\n",
            "[200]\ttraining's rmse: 0.219454\tvalid_1's rmse: 0.239832\n",
            "[300]\ttraining's rmse: 0.211212\tvalid_1's rmse: 0.239423\n",
            "[400]\ttraining's rmse: 0.203935\tvalid_1's rmse: 0.2393\n",
            "[500]\ttraining's rmse: 0.197097\tvalid_1's rmse: 0.239249\n",
            "[600]\ttraining's rmse: 0.190737\tvalid_1's rmse: 0.239225\n",
            "Early stopping, best iteration is:\n",
            "[593]\ttraining's rmse: 0.191133\tvalid_1's rmse: 0.239217\n"
          ]
        },
        {
          "output_type": "stream",
          "name": "stderr",
          "text": [
            "[I 2024-12-03 04:23:27,737] Trial 24 finished with value: 0.23921672861677604 and parameters: {'learning_rate': 0.034447677555837684, 'num_leaves': 215, 'max_depth': 12, 'lambda_l1': 2.7013341262006954, 'lambda_l2': 0.7264446285411051}. Best is trial 19 with value: 0.23900215852191192.\n"
          ]
        },
        {
          "output_type": "stream",
          "name": "stdout",
          "text": [
            "Training until validation scores don't improve for 50 rounds\n",
            "[100]\ttraining's rmse: 0.231584\tvalid_1's rmse: 0.242056\n",
            "[200]\ttraining's rmse: 0.221176\tvalid_1's rmse: 0.239944\n",
            "[300]\ttraining's rmse: 0.213266\tvalid_1's rmse: 0.239314\n",
            "[400]\ttraining's rmse: 0.206225\tvalid_1's rmse: 0.238994\n",
            "[500]\ttraining's rmse: 0.199736\tvalid_1's rmse: 0.238883\n",
            "Early stopping, best iteration is:\n",
            "[529]\ttraining's rmse: 0.197948\tvalid_1's rmse: 0.238816\n"
          ]
        },
        {
          "output_type": "stream",
          "name": "stderr",
          "text": [
            "[I 2024-12-03 04:23:50,550] Trial 25 finished with value: 0.23881560589660053 and parameters: {'learning_rate': 0.025018849674948745, 'num_leaves': 271, 'max_depth': 17, 'lambda_l1': 3.654796924409596, 'lambda_l2': 0.1824783525725657}. Best is trial 25 with value: 0.23881560589660053.\n"
          ]
        },
        {
          "output_type": "stream",
          "name": "stdout",
          "text": [
            "Training until validation scores don't improve for 50 rounds\n",
            "[100]\ttraining's rmse: 0.226681\tvalid_1's rmse: 0.241653\n",
            "[200]\ttraining's rmse: 0.213222\tvalid_1's rmse: 0.239797\n",
            "[300]\ttraining's rmse: 0.202834\tvalid_1's rmse: 0.239321\n",
            "[400]\ttraining's rmse: 0.193535\tvalid_1's rmse: 0.239112\n",
            "Early stopping, best iteration is:\n",
            "[394]\ttraining's rmse: 0.194077\tvalid_1's rmse: 0.239109\n"
          ]
        },
        {
          "output_type": "stream",
          "name": "stderr",
          "text": [
            "[I 2024-12-03 04:24:09,709] Trial 26 finished with value: 0.23910875605120124 and parameters: {'learning_rate': 0.025225938532639162, 'num_leaves': 381, 'max_depth': 16, 'lambda_l1': 2.651353170626796, 'lambda_l2': 0.0862119720049227}. Best is trial 25 with value: 0.23881560589660053.\n"
          ]
        },
        {
          "output_type": "stream",
          "name": "stdout",
          "text": [
            "Training until validation scores don't improve for 50 rounds\n",
            "[100]\ttraining's rmse: 0.220722\tvalid_1's rmse: 0.241607\n",
            "[200]\ttraining's rmse: 0.202497\tvalid_1's rmse: 0.239754\n",
            "[300]\ttraining's rmse: 0.188486\tvalid_1's rmse: 0.239327\n",
            "[400]\ttraining's rmse: 0.176318\tvalid_1's rmse: 0.239201\n",
            "Early stopping, best iteration is:\n",
            "[411]\ttraining's rmse: 0.175088\tvalid_1's rmse: 0.239167\n"
          ]
        },
        {
          "output_type": "stream",
          "name": "stderr",
          "text": [
            "[I 2024-12-03 04:24:34,805] Trial 27 finished with value: 0.23916689575919392 and parameters: {'learning_rate': 0.023827403730968318, 'num_leaves': 510, 'max_depth': 20, 'lambda_l1': 1.3465795579272093, 'lambda_l2': 0.2504268576825691}. Best is trial 25 with value: 0.23881560589660053.\n"
          ]
        },
        {
          "output_type": "stream",
          "name": "stdout",
          "text": [
            "Training until validation scores don't improve for 50 rounds\n",
            "[100]\ttraining's rmse: 0.247572\tvalid_1's rmse: 0.248357\n",
            "[200]\ttraining's rmse: 0.245145\tvalid_1's rmse: 0.246256\n",
            "[300]\ttraining's rmse: 0.2439\tvalid_1's rmse: 0.245297\n",
            "[400]\ttraining's rmse: 0.243121\tvalid_1's rmse: 0.244736\n",
            "[500]\ttraining's rmse: 0.242503\tvalid_1's rmse: 0.244345\n",
            "[600]\ttraining's rmse: 0.241949\tvalid_1's rmse: 0.244014\n",
            "[700]\ttraining's rmse: 0.241489\tvalid_1's rmse: 0.24374\n",
            "[800]\ttraining's rmse: 0.241109\tvalid_1's rmse: 0.243531\n",
            "[900]\ttraining's rmse: 0.240757\tvalid_1's rmse: 0.243362\n",
            "[1000]\ttraining's rmse: 0.240393\tvalid_1's rmse: 0.243155\n",
            "Did not meet early stopping. Best iteration is:\n",
            "[1000]\ttraining's rmse: 0.240393\tvalid_1's rmse: 0.243155\n"
          ]
        },
        {
          "output_type": "stream",
          "name": "stderr",
          "text": [
            "[I 2024-12-03 04:24:39,976] Trial 28 finished with value: 0.24315529081078033 and parameters: {'learning_rate': 0.03132637430193315, 'num_leaves': 245, 'max_depth': 3, 'lambda_l1': 4.095357468756271, 'lambda_l2': 0.436811312219522}. Best is trial 25 with value: 0.23881560589660053.\n"
          ]
        },
        {
          "output_type": "stream",
          "name": "stdout",
          "text": [
            "Training until validation scores don't improve for 50 rounds\n",
            "[100]\ttraining's rmse: 0.21443\tvalid_1's rmse: 0.241005\n"
          ]
        },
        {
          "output_type": "stream",
          "name": "stderr",
          "text": [
            "[I 2024-12-03 04:24:45,690] Trial 29 finished with value: 0.24092486746991199 and parameters: {'learning_rate': 0.06896866249035204, 'num_leaves': 201, 'max_depth': 23, 'lambda_l1': 0.0011282101107876023, 'lambda_l2': 0.14396524414600598}. Best is trial 25 with value: 0.23881560589660053.\n"
          ]
        },
        {
          "output_type": "stream",
          "name": "stdout",
          "text": [
            "Early stopping, best iteration is:\n",
            "[134]\ttraining's rmse: 0.208179\tvalid_1's rmse: 0.240925\n",
            "Training until validation scores don't improve for 50 rounds\n",
            "[100]\ttraining's rmse: 0.233812\tvalid_1's rmse: 0.24364\n",
            "[200]\ttraining's rmse: 0.222323\tvalid_1's rmse: 0.240733\n",
            "[300]\ttraining's rmse: 0.21385\tvalid_1's rmse: 0.239847\n",
            "[400]\ttraining's rmse: 0.206775\tvalid_1's rmse: 0.23943\n",
            "[500]\ttraining's rmse: 0.200369\tvalid_1's rmse: 0.239229\n",
            "[600]\ttraining's rmse: 0.194501\tvalid_1's rmse: 0.239102\n",
            "[700]\ttraining's rmse: 0.188996\tvalid_1's rmse: 0.239029\n",
            "[800]\ttraining's rmse: 0.183798\tvalid_1's rmse: 0.238987\n",
            "Early stopping, best iteration is:\n",
            "[750]\ttraining's rmse: 0.186399\tvalid_1's rmse: 0.238981\n"
          ]
        },
        {
          "output_type": "stream",
          "name": "stderr",
          "text": [
            "[I 2024-12-03 04:25:15,857] Trial 30 finished with value: 0.23898132494110386 and parameters: {'learning_rate': 0.016396232220806252, 'num_leaves': 315, 'max_depth': 19, 'lambda_l1': 1.206745024927449, 'lambda_l2': 1.2209177028382876}. Best is trial 25 with value: 0.23881560589660053.\n"
          ]
        },
        {
          "output_type": "stream",
          "name": "stdout",
          "text": [
            "Training until validation scores don't improve for 50 rounds\n",
            "[100]\ttraining's rmse: 0.235607\tvalid_1's rmse: 0.243826\n",
            "[200]\ttraining's rmse: 0.225346\tvalid_1's rmse: 0.240833\n",
            "[300]\ttraining's rmse: 0.217936\tvalid_1's rmse: 0.239891\n",
            "[400]\ttraining's rmse: 0.211776\tvalid_1's rmse: 0.239512\n",
            "[500]\ttraining's rmse: 0.206223\tvalid_1's rmse: 0.239274\n",
            "[600]\ttraining's rmse: 0.201017\tvalid_1's rmse: 0.2391\n",
            "[700]\ttraining's rmse: 0.196154\tvalid_1's rmse: 0.239012\n",
            "Early stopping, best iteration is:\n",
            "[735]\ttraining's rmse: 0.194506\tvalid_1's rmse: 0.238984\n"
          ]
        },
        {
          "output_type": "stream",
          "name": "stderr",
          "text": [
            "[I 2024-12-03 04:25:46,400] Trial 31 finished with value: 0.2389839756995461 and parameters: {'learning_rate': 0.016342219623180443, 'num_leaves': 267, 'max_depth': 19, 'lambda_l1': 1.4530815524230152, 'lambda_l2': 1.3718548605583845}. Best is trial 25 with value: 0.23881560589660053.\n"
          ]
        },
        {
          "output_type": "stream",
          "name": "stdout",
          "text": [
            "Training until validation scores don't improve for 50 rounds\n",
            "[100]\ttraining's rmse: 0.235908\tvalid_1's rmse: 0.243935\n",
            "[200]\ttraining's rmse: 0.225745\tvalid_1's rmse: 0.240884\n",
            "[300]\ttraining's rmse: 0.218436\tvalid_1's rmse: 0.239959\n",
            "[400]\ttraining's rmse: 0.212346\tvalid_1's rmse: 0.239488\n",
            "[500]\ttraining's rmse: 0.206836\tvalid_1's rmse: 0.239225\n",
            "[600]\ttraining's rmse: 0.201771\tvalid_1's rmse: 0.239053\n",
            "[700]\ttraining's rmse: 0.196963\tvalid_1's rmse: 0.238952\n",
            "[800]\ttraining's rmse: 0.192453\tvalid_1's rmse: 0.238883\n",
            "[900]\ttraining's rmse: 0.188085\tvalid_1's rmse: 0.23882\n",
            "[1000]\ttraining's rmse: 0.183878\tvalid_1's rmse: 0.238823\n",
            "Did not meet early stopping. Best iteration is:\n",
            "[961]\ttraining's rmse: 0.185465\tvalid_1's rmse: 0.238805\n"
          ]
        },
        {
          "output_type": "stream",
          "name": "stderr",
          "text": [
            "[I 2024-12-03 04:26:36,361] Trial 32 finished with value: 0.23880495876876684 and parameters: {'learning_rate': 0.01600088209336053, 'num_leaves': 266, 'max_depth': 19, 'lambda_l1': 1.440513744342021, 'lambda_l2': 1.4875846326552307}. Best is trial 32 with value: 0.23880495876876684.\n"
          ]
        },
        {
          "output_type": "stream",
          "name": "stdout",
          "text": [
            "Training until validation scores don't improve for 50 rounds\n",
            "[100]\ttraining's rmse: 0.233044\tvalid_1's rmse: 0.243632\n",
            "[200]\ttraining's rmse: 0.220844\tvalid_1's rmse: 0.240635\n",
            "[300]\ttraining's rmse: 0.211859\tvalid_1's rmse: 0.239743\n",
            "[400]\ttraining's rmse: 0.204359\tvalid_1's rmse: 0.239355\n",
            "[500]\ttraining's rmse: 0.197534\tvalid_1's rmse: 0.239133\n",
            "[600]\ttraining's rmse: 0.191195\tvalid_1's rmse: 0.239013\n",
            "[700]\ttraining's rmse: 0.185318\tvalid_1's rmse: 0.23898\n",
            "Early stopping, best iteration is:\n",
            "[718]\ttraining's rmse: 0.18427\tvalid_1's rmse: 0.238953\n"
          ]
        },
        {
          "output_type": "stream",
          "name": "stderr",
          "text": [
            "[I 2024-12-03 04:27:08,416] Trial 33 finished with value: 0.23895316213566123 and parameters: {'learning_rate': 0.01590268935346848, 'num_leaves': 358, 'max_depth': 19, 'lambda_l1': 1.2667043494256203, 'lambda_l2': 1.3101746605975406}. Best is trial 32 with value: 0.23880495876876684.\n"
          ]
        },
        {
          "output_type": "stream",
          "name": "stdout",
          "text": [
            "Training until validation scores don't improve for 50 rounds\n",
            "[100]\ttraining's rmse: 0.235483\tvalid_1's rmse: 0.244755\n",
            "[200]\ttraining's rmse: 0.223733\tvalid_1's rmse: 0.241286\n",
            "[300]\ttraining's rmse: 0.215159\tvalid_1's rmse: 0.240085\n",
            "[400]\ttraining's rmse: 0.208047\tvalid_1's rmse: 0.239463\n",
            "[500]\ttraining's rmse: 0.201755\tvalid_1's rmse: 0.239189\n",
            "[600]\ttraining's rmse: 0.196044\tvalid_1's rmse: 0.239036\n",
            "[700]\ttraining's rmse: 0.190675\tvalid_1's rmse: 0.238919\n",
            "[800]\ttraining's rmse: 0.185596\tvalid_1's rmse: 0.238835\n",
            "[900]\ttraining's rmse: 0.180754\tvalid_1's rmse: 0.238803\n",
            "[1000]\ttraining's rmse: 0.176099\tvalid_1's rmse: 0.238758\n",
            "Did not meet early stopping. Best iteration is:\n",
            "[983]\ttraining's rmse: 0.176912\tvalid_1's rmse: 0.238752\n"
          ]
        },
        {
          "output_type": "stream",
          "name": "stderr",
          "text": [
            "[I 2024-12-03 04:27:49,435] Trial 34 finished with value: 0.2387516867046345 and parameters: {'learning_rate': 0.012994806360350117, 'num_leaves': 367, 'max_depth': 18, 'lambda_l1': 0.8843755059124795, 'lambda_l2': 1.416440042258327}. Best is trial 34 with value: 0.2387516867046345.\n"
          ]
        },
        {
          "output_type": "stream",
          "name": "stdout",
          "text": [
            "Training until validation scores don't improve for 50 rounds\n",
            "[100]\ttraining's rmse: 0.235313\tvalid_1's rmse: 0.245027\n",
            "[200]\ttraining's rmse: 0.223133\tvalid_1's rmse: 0.241529\n",
            "[300]\ttraining's rmse: 0.214237\tvalid_1's rmse: 0.240282\n",
            "[400]\ttraining's rmse: 0.206976\tvalid_1's rmse: 0.239744\n",
            "[500]\ttraining's rmse: 0.200537\tvalid_1's rmse: 0.239471\n",
            "[600]\ttraining's rmse: 0.194862\tvalid_1's rmse: 0.239354\n",
            "[700]\ttraining's rmse: 0.189607\tvalid_1's rmse: 0.239265\n",
            "[800]\ttraining's rmse: 0.184558\tvalid_1's rmse: 0.239204\n",
            "[900]\ttraining's rmse: 0.179733\tvalid_1's rmse: 0.239155\n",
            "[1000]\ttraining's rmse: 0.175107\tvalid_1's rmse: 0.239108\n",
            "Did not meet early stopping. Best iteration is:\n",
            "[1000]\ttraining's rmse: 0.175107\tvalid_1's rmse: 0.239108\n"
          ]
        },
        {
          "output_type": "stream",
          "name": "stderr",
          "text": [
            "[I 2024-12-03 04:28:28,718] Trial 35 finished with value: 0.23910770445861443 and parameters: {'learning_rate': 0.012358008203617082, 'num_leaves': 371, 'max_depth': 17, 'lambda_l1': 0.28288675333984514, 'lambda_l2': 0.13407282462984138}. Best is trial 34 with value: 0.2387516867046345.\n"
          ]
        },
        {
          "output_type": "stream",
          "name": "stdout",
          "text": [
            "Training until validation scores don't improve for 50 rounds\n",
            "[100]\ttraining's rmse: 0.238076\tvalid_1's rmse: 0.246192\n",
            "[200]\ttraining's rmse: 0.226617\tvalid_1's rmse: 0.242168\n",
            "[300]\ttraining's rmse: 0.21834\tvalid_1's rmse: 0.240585\n",
            "[400]\ttraining's rmse: 0.211592\tvalid_1's rmse: 0.239815\n",
            "[500]\ttraining's rmse: 0.205787\tvalid_1's rmse: 0.239414\n",
            "[600]\ttraining's rmse: 0.200629\tvalid_1's rmse: 0.239168\n",
            "[700]\ttraining's rmse: 0.195747\tvalid_1's rmse: 0.239058\n",
            "[800]\ttraining's rmse: 0.1911\tvalid_1's rmse: 0.23897\n",
            "[900]\ttraining's rmse: 0.186753\tvalid_1's rmse: 0.238868\n",
            "[1000]\ttraining's rmse: 0.182512\tvalid_1's rmse: 0.23882\n",
            "Did not meet early stopping. Best iteration is:\n",
            "[979]\ttraining's rmse: 0.1834\tvalid_1's rmse: 0.238817\n"
          ]
        },
        {
          "output_type": "stream",
          "name": "stderr",
          "text": [
            "[I 2024-12-03 04:29:16,099] Trial 36 finished with value: 0.2388170940091346 and parameters: {'learning_rate': 0.010153164751441873, 'num_leaves': 416, 'max_depth': 16, 'lambda_l1': 0.81171808503961, 'lambda_l2': 2.0714714623710173}. Best is trial 34 with value: 0.2387516867046345.\n"
          ]
        },
        {
          "output_type": "stream",
          "name": "stdout",
          "text": [
            "Training until validation scores don't improve for 50 rounds\n",
            "[100]\ttraining's rmse: 0.237283\tvalid_1's rmse: 0.245927\n",
            "[200]\ttraining's rmse: 0.225502\tvalid_1's rmse: 0.242004\n",
            "[300]\ttraining's rmse: 0.216954\tvalid_1's rmse: 0.240584\n",
            "[400]\ttraining's rmse: 0.21002\tvalid_1's rmse: 0.239919\n",
            "[500]\ttraining's rmse: 0.203959\tvalid_1's rmse: 0.239522\n",
            "[600]\ttraining's rmse: 0.198573\tvalid_1's rmse: 0.239293\n",
            "[700]\ttraining's rmse: 0.193518\tvalid_1's rmse: 0.239163\n",
            "[800]\ttraining's rmse: 0.188756\tvalid_1's rmse: 0.239068\n",
            "[900]\ttraining's rmse: 0.184285\tvalid_1's rmse: 0.238993\n",
            "[1000]\ttraining's rmse: 0.179858\tvalid_1's rmse: 0.238932\n",
            "Did not meet early stopping. Best iteration is:\n",
            "[978]\ttraining's rmse: 0.180834\tvalid_1's rmse: 0.238927\n"
          ]
        },
        {
          "output_type": "stream",
          "name": "stderr",
          "text": [
            "[I 2024-12-03 04:30:20,920] Trial 37 finished with value: 0.23892653660357627 and parameters: {'learning_rate': 0.010573455329393707, 'num_leaves': 417, 'max_depth': 16, 'lambda_l1': 0.5925539067722786, 'lambda_l2': 2.2809510949222576}. Best is trial 34 with value: 0.2387516867046345.\n"
          ]
        },
        {
          "output_type": "stream",
          "name": "stdout",
          "text": [
            "Training until validation scores don't improve for 50 rounds\n",
            "[100]\ttraining's rmse: 0.235655\tvalid_1's rmse: 0.245067\n",
            "[200]\ttraining's rmse: 0.223551\tvalid_1's rmse: 0.241418\n",
            "[300]\ttraining's rmse: 0.214822\tvalid_1's rmse: 0.240095\n",
            "[400]\ttraining's rmse: 0.207826\tvalid_1's rmse: 0.239524\n",
            "[500]\ttraining's rmse: 0.201708\tvalid_1's rmse: 0.239248\n",
            "[600]\ttraining's rmse: 0.196075\tvalid_1's rmse: 0.23911\n",
            "[700]\ttraining's rmse: 0.190728\tvalid_1's rmse: 0.238988\n",
            "[800]\ttraining's rmse: 0.18563\tvalid_1's rmse: 0.238949\n",
            "Early stopping, best iteration is:\n",
            "[825]\ttraining's rmse: 0.184415\tvalid_1's rmse: 0.238928\n"
          ]
        },
        {
          "output_type": "stream",
          "name": "stderr",
          "text": [
            "[I 2024-12-03 04:31:15,717] Trial 38 finished with value: 0.2389279238171215 and parameters: {'learning_rate': 0.012006140623686896, 'num_leaves': 435, 'max_depth': 15, 'lambda_l1': 0.8658653999627635, 'lambda_l2': 4.482668999957687}. Best is trial 34 with value: 0.2387516867046345.\n"
          ]
        },
        {
          "output_type": "stream",
          "name": "stdout",
          "text": [
            "Training until validation scores don't improve for 50 rounds\n",
            "[100]\ttraining's rmse: 0.230943\tvalid_1's rmse: 0.244171\n",
            "[200]\ttraining's rmse: 0.216265\tvalid_1's rmse: 0.241092\n",
            "[300]\ttraining's rmse: 0.205392\tvalid_1's rmse: 0.24002\n",
            "[400]\ttraining's rmse: 0.196444\tvalid_1's rmse: 0.239595\n",
            "[500]\ttraining's rmse: 0.188619\tvalid_1's rmse: 0.239456\n",
            "[600]\ttraining's rmse: 0.181511\tvalid_1's rmse: 0.239346\n",
            "[700]\ttraining's rmse: 0.174836\tvalid_1's rmse: 0.23929\n",
            "[800]\ttraining's rmse: 0.168672\tvalid_1's rmse: 0.23926\n",
            "[900]\ttraining's rmse: 0.162801\tvalid_1's rmse: 0.239227\n",
            "Early stopping, best iteration is:\n",
            "[926]\ttraining's rmse: 0.161283\tvalid_1's rmse: 0.239202\n"
          ]
        },
        {
          "output_type": "stream",
          "name": "stderr",
          "text": [
            "[I 2024-12-03 04:32:01,515] Trial 39 finished with value: 0.23920219779379737 and parameters: {'learning_rate': 0.013674674949305125, 'num_leaves': 475, 'max_depth': 18, 'lambda_l1': 0.2913363976987857, 'lambda_l2': 0.44213182513963334}. Best is trial 34 with value: 0.2387516867046345.\n"
          ]
        },
        {
          "output_type": "stream",
          "name": "stdout",
          "text": [
            "Training until validation scores don't improve for 50 rounds\n",
            "[100]\ttraining's rmse: 0.238884\tvalid_1's rmse: 0.24564\n",
            "[200]\ttraining's rmse: 0.229032\tvalid_1's rmse: 0.241938\n",
            "[300]\ttraining's rmse: 0.222043\tvalid_1's rmse: 0.240518\n",
            "[400]\ttraining's rmse: 0.216221\tvalid_1's rmse: 0.239769\n",
            "[500]\ttraining's rmse: 0.211077\tvalid_1's rmse: 0.239422\n",
            "[600]\ttraining's rmse: 0.206379\tvalid_1's rmse: 0.239189\n",
            "[700]\ttraining's rmse: 0.201971\tvalid_1's rmse: 0.238981\n",
            "[800]\ttraining's rmse: 0.197789\tvalid_1's rmse: 0.238913\n",
            "[900]\ttraining's rmse: 0.193886\tvalid_1's rmse: 0.23881\n",
            "[1000]\ttraining's rmse: 0.190079\tvalid_1's rmse: 0.238745\n",
            "Did not meet early stopping. Best iteration is:\n",
            "[1000]\ttraining's rmse: 0.190079\tvalid_1's rmse: 0.238745\n"
          ]
        },
        {
          "output_type": "stream",
          "name": "stderr",
          "text": [
            "[I 2024-12-03 04:32:41,007] Trial 40 finished with value: 0.23874498817218376 and parameters: {'learning_rate': 0.011691573204840712, 'num_leaves': 316, 'max_depth': 21, 'lambda_l1': 1.9319869329448214, 'lambda_l2': 0.057499087367665465}. Best is trial 40 with value: 0.23874498817218376.\n"
          ]
        },
        {
          "output_type": "stream",
          "name": "stdout",
          "text": [
            "Training until validation scores don't improve for 50 rounds\n",
            "[100]\ttraining's rmse: 0.23873\tvalid_1's rmse: 0.245647\n",
            "[200]\ttraining's rmse: 0.22875\tvalid_1's rmse: 0.241904\n",
            "[300]\ttraining's rmse: 0.22165\tvalid_1's rmse: 0.240451\n",
            "[400]\ttraining's rmse: 0.215767\tvalid_1's rmse: 0.239768\n",
            "[500]\ttraining's rmse: 0.210525\tvalid_1's rmse: 0.239404\n",
            "[600]\ttraining's rmse: 0.205739\tvalid_1's rmse: 0.23915\n",
            "[700]\ttraining's rmse: 0.201296\tvalid_1's rmse: 0.238963\n",
            "[800]\ttraining's rmse: 0.197053\tvalid_1's rmse: 0.238839\n",
            "[900]\ttraining's rmse: 0.193088\tvalid_1's rmse: 0.238734\n",
            "[1000]\ttraining's rmse: 0.189234\tvalid_1's rmse: 0.238686\n",
            "Did not meet early stopping. Best iteration is:\n",
            "[994]\ttraining's rmse: 0.18947\tvalid_1's rmse: 0.238683\n"
          ]
        },
        {
          "output_type": "stream",
          "name": "stderr",
          "text": [
            "[I 2024-12-03 04:33:20,707] Trial 41 finished with value: 0.2386834834955858 and parameters: {'learning_rate': 0.011662700010892686, 'num_leaves': 322, 'max_depth': 21, 'lambda_l1': 1.871113194755861, 'lambda_l2': 0.04609068720276271}. Best is trial 41 with value: 0.2386834834955858.\n"
          ]
        },
        {
          "output_type": "stream",
          "name": "stdout",
          "text": [
            "Training until validation scores don't improve for 50 rounds\n",
            "[100]\ttraining's rmse: 0.240907\tvalid_1's rmse: 0.246193\n",
            "[200]\ttraining's rmse: 0.23258\tvalid_1's rmse: 0.242359\n",
            "[300]\ttraining's rmse: 0.226958\tvalid_1's rmse: 0.240846\n",
            "[400]\ttraining's rmse: 0.222423\tvalid_1's rmse: 0.240082\n",
            "[500]\ttraining's rmse: 0.218404\tvalid_1's rmse: 0.239617\n",
            "[600]\ttraining's rmse: 0.214693\tvalid_1's rmse: 0.239271\n",
            "[700]\ttraining's rmse: 0.211187\tvalid_1's rmse: 0.239053\n",
            "[800]\ttraining's rmse: 0.207863\tvalid_1's rmse: 0.238897\n",
            "[900]\ttraining's rmse: 0.204669\tvalid_1's rmse: 0.238801\n",
            "[1000]\ttraining's rmse: 0.20164\tvalid_1's rmse: 0.238703\n",
            "Did not meet early stopping. Best iteration is:\n",
            "[1000]\ttraining's rmse: 0.20164\tvalid_1's rmse: 0.238703\n"
          ]
        },
        {
          "output_type": "stream",
          "name": "stderr",
          "text": [
            "[I 2024-12-03 04:34:01,935] Trial 42 finished with value: 0.23870274942145334 and parameters: {'learning_rate': 0.011764859765086441, 'num_leaves': 315, 'max_depth': 21, 'lambda_l1': 5.616311386925423, 'lambda_l2': 0.04660372995930635}. Best is trial 41 with value: 0.2386834834955858.\n"
          ]
        },
        {
          "output_type": "stream",
          "name": "stdout",
          "text": [
            "Training until validation scores don't improve for 50 rounds\n",
            "[100]\ttraining's rmse: 0.238897\tvalid_1's rmse: 0.245687\n",
            "[200]\ttraining's rmse: 0.229014\tvalid_1's rmse: 0.241958\n",
            "[300]\ttraining's rmse: 0.22199\tvalid_1's rmse: 0.240541\n",
            "[400]\ttraining's rmse: 0.216166\tvalid_1's rmse: 0.239845\n",
            "[500]\ttraining's rmse: 0.211008\tvalid_1's rmse: 0.239464\n",
            "[600]\ttraining's rmse: 0.206322\tvalid_1's rmse: 0.239208\n",
            "[700]\ttraining's rmse: 0.201912\tvalid_1's rmse: 0.239044\n",
            "[800]\ttraining's rmse: 0.197715\tvalid_1's rmse: 0.23894\n",
            "[900]\ttraining's rmse: 0.19379\tvalid_1's rmse: 0.238853\n",
            "[1000]\ttraining's rmse: 0.189939\tvalid_1's rmse: 0.238771\n",
            "Did not meet early stopping. Best iteration is:\n",
            "[995]\ttraining's rmse: 0.190127\tvalid_1's rmse: 0.238767\n"
          ]
        },
        {
          "output_type": "stream",
          "name": "stderr",
          "text": [
            "[I 2024-12-03 04:34:41,610] Trial 43 finished with value: 0.23876738418552435 and parameters: {'learning_rate': 0.011571864353601552, 'num_leaves': 315, 'max_depth': 21, 'lambda_l1': 1.7826190588523576, 'lambda_l2': 0.04110331505152153}. Best is trial 41 with value: 0.2386834834955858.\n"
          ]
        },
        {
          "output_type": "stream",
          "name": "stdout",
          "text": [
            "Training until validation scores don't improve for 50 rounds\n",
            "[100]\ttraining's rmse: 0.240827\tvalid_1's rmse: 0.246095\n",
            "[200]\ttraining's rmse: 0.232524\tvalid_1's rmse: 0.242271\n",
            "[300]\ttraining's rmse: 0.226939\tvalid_1's rmse: 0.240767\n",
            "[400]\ttraining's rmse: 0.222429\tvalid_1's rmse: 0.240035\n",
            "[500]\ttraining's rmse: 0.218405\tvalid_1's rmse: 0.239586\n",
            "[600]\ttraining's rmse: 0.214682\tvalid_1's rmse: 0.239275\n",
            "[700]\ttraining's rmse: 0.211189\tvalid_1's rmse: 0.239057\n",
            "[800]\ttraining's rmse: 0.207857\tvalid_1's rmse: 0.238899\n",
            "[900]\ttraining's rmse: 0.204681\tvalid_1's rmse: 0.2388\n",
            "[1000]\ttraining's rmse: 0.201629\tvalid_1's rmse: 0.238707\n",
            "Did not meet early stopping. Best iteration is:\n",
            "[1000]\ttraining's rmse: 0.201629\tvalid_1's rmse: 0.238707\n"
          ]
        },
        {
          "output_type": "stream",
          "name": "stderr",
          "text": [
            "[I 2024-12-03 04:35:21,553] Trial 44 finished with value: 0.2387067349659105 and parameters: {'learning_rate': 0.011960213254417092, 'num_leaves': 312, 'max_depth': 21, 'lambda_l1': 5.717797881200268, 'lambda_l2': 0.04654700892750976}. Best is trial 41 with value: 0.2386834834955858.\n"
          ]
        },
        {
          "output_type": "stream",
          "name": "stdout",
          "text": [
            "Training until validation scores don't improve for 50 rounds\n",
            "[100]\ttraining's rmse: 0.24018\tvalid_1's rmse: 0.245701\n",
            "[200]\ttraining's rmse: 0.2319\tvalid_1's rmse: 0.242109\n",
            "[300]\ttraining's rmse: 0.22632\tvalid_1's rmse: 0.240691\n",
            "[400]\ttraining's rmse: 0.221772\tvalid_1's rmse: 0.239988\n",
            "[500]\ttraining's rmse: 0.217689\tvalid_1's rmse: 0.23953\n",
            "[600]\ttraining's rmse: 0.213908\tvalid_1's rmse: 0.239208\n",
            "[700]\ttraining's rmse: 0.210341\tvalid_1's rmse: 0.238996\n",
            "[800]\ttraining's rmse: 0.206949\tvalid_1's rmse: 0.23884\n",
            "[900]\ttraining's rmse: 0.203724\tvalid_1's rmse: 0.238768\n",
            "[1000]\ttraining's rmse: 0.200635\tvalid_1's rmse: 0.238685\n",
            "Did not meet early stopping. Best iteration is:\n",
            "[997]\ttraining's rmse: 0.200724\tvalid_1's rmse: 0.238685\n"
          ]
        },
        {
          "output_type": "stream",
          "name": "stderr",
          "text": [
            "[I 2024-12-03 04:36:02,526] Trial 45 finished with value: 0.23868482285000198 and parameters: {'learning_rate': 0.013008753659061062, 'num_leaves': 315, 'max_depth': 23, 'lambda_l1': 6.453779039304669, 'lambda_l2': 0.056415325582456904}. Best is trial 41 with value: 0.2386834834955858.\n"
          ]
        },
        {
          "output_type": "stream",
          "name": "stdout",
          "text": [
            "Training until validation scores don't improve for 50 rounds\n",
            "[100]\ttraining's rmse: 0.238961\tvalid_1's rmse: 0.245013\n",
            "[200]\ttraining's rmse: 0.230443\tvalid_1's rmse: 0.241593\n",
            "[300]\ttraining's rmse: 0.224637\tvalid_1's rmse: 0.240343\n",
            "[400]\ttraining's rmse: 0.219768\tvalid_1's rmse: 0.239669\n",
            "[500]\ttraining's rmse: 0.215381\tvalid_1's rmse: 0.239302\n",
            "[600]\ttraining's rmse: 0.211296\tvalid_1's rmse: 0.238989\n",
            "[700]\ttraining's rmse: 0.207433\tvalid_1's rmse: 0.238842\n",
            "[800]\ttraining's rmse: 0.203789\tvalid_1's rmse: 0.238736\n",
            "[900]\ttraining's rmse: 0.200317\tvalid_1's rmse: 0.238697\n",
            "[1000]\ttraining's rmse: 0.196998\tvalid_1's rmse: 0.238625\n",
            "Did not meet early stopping. Best iteration is:\n",
            "[993]\ttraining's rmse: 0.197225\tvalid_1's rmse: 0.23862\n"
          ]
        },
        {
          "output_type": "stream",
          "name": "stderr",
          "text": [
            "[I 2024-12-03 04:36:45,739] Trial 46 finished with value: 0.23861985030620278 and parameters: {'learning_rate': 0.014367716552957929, 'num_leaves': 313, 'max_depth': 23, 'lambda_l1': 6.184347926115614, 'lambda_l2': 0.04783216268693249}. Best is trial 46 with value: 0.23861985030620278.\n"
          ]
        },
        {
          "output_type": "stream",
          "name": "stdout",
          "text": [
            "Training until validation scores don't improve for 50 rounds\n",
            "[100]\ttraining's rmse: 0.235216\tvalid_1's rmse: 0.243488\n",
            "[200]\ttraining's rmse: 0.22548\tvalid_1's rmse: 0.24068\n",
            "[300]\ttraining's rmse: 0.218429\tvalid_1's rmse: 0.239717\n",
            "[400]\ttraining's rmse: 0.212292\tvalid_1's rmse: 0.239282\n",
            "[500]\ttraining's rmse: 0.206694\tvalid_1's rmse: 0.239022\n",
            "[600]\ttraining's rmse: 0.201502\tvalid_1's rmse: 0.238824\n",
            "[700]\ttraining's rmse: 0.196594\tvalid_1's rmse: 0.238756\n",
            "[800]\ttraining's rmse: 0.191972\tvalid_1's rmse: 0.238677\n",
            "[900]\ttraining's rmse: 0.187631\tvalid_1's rmse: 0.23865\n",
            "[1000]\ttraining's rmse: 0.183527\tvalid_1's rmse: 0.23862\n",
            "Did not meet early stopping. Best iteration is:\n",
            "[960]\ttraining's rmse: 0.185138\tvalid_1's rmse: 0.238607\n"
          ]
        },
        {
          "output_type": "stream",
          "name": "stderr",
          "text": [
            "[I 2024-12-03 04:37:27,612] Trial 47 finished with value: 0.23860695299297136 and parameters: {'learning_rate': 0.01816740125790678, 'num_leaves': 336, 'max_depth': 23, 'lambda_l1': 5.2660092915337495, 'lambda_l2': 0.010688217118214289}. Best is trial 47 with value: 0.23860695299297136.\n"
          ]
        },
        {
          "output_type": "stream",
          "name": "stdout",
          "text": [
            "Training until validation scores don't improve for 50 rounds\n",
            "[100]\ttraining's rmse: 0.23694\tvalid_1's rmse: 0.244626\n",
            "[200]\ttraining's rmse: 0.227198\tvalid_1's rmse: 0.241323\n",
            "[300]\ttraining's rmse: 0.220286\tvalid_1's rmse: 0.240149\n",
            "[400]\ttraining's rmse: 0.214385\tvalid_1's rmse: 0.239546\n",
            "[500]\ttraining's rmse: 0.209062\tvalid_1's rmse: 0.239187\n",
            "[600]\ttraining's rmse: 0.204088\tvalid_1's rmse: 0.238929\n",
            "[700]\ttraining's rmse: 0.199425\tvalid_1's rmse: 0.238772\n",
            "[800]\ttraining's rmse: 0.19506\tvalid_1's rmse: 0.238656\n",
            "[900]\ttraining's rmse: 0.19091\tvalid_1's rmse: 0.238601\n",
            "[1000]\ttraining's rmse: 0.186956\tvalid_1's rmse: 0.238561\n",
            "Did not meet early stopping. Best iteration is:\n",
            "[996]\ttraining's rmse: 0.187109\tvalid_1's rmse: 0.238552\n"
          ]
        },
        {
          "output_type": "stream",
          "name": "stderr",
          "text": [
            "[I 2024-12-03 04:38:15,617] Trial 48 finished with value: 0.23855187781410242 and parameters: {'learning_rate': 0.014850285341428824, 'num_leaves': 396, 'max_depth': 23, 'lambda_l1': 5.549345130605934, 'lambda_l2': 0.021055411264221675}. Best is trial 48 with value: 0.23855187781410242.\n"
          ]
        },
        {
          "output_type": "stream",
          "name": "stdout",
          "text": [
            "Training until validation scores don't improve for 50 rounds\n",
            "[100]\ttraining's rmse: 0.234162\tvalid_1's rmse: 0.243324\n",
            "[200]\ttraining's rmse: 0.223626\tvalid_1's rmse: 0.240543\n",
            "[300]\ttraining's rmse: 0.215895\tvalid_1's rmse: 0.239633\n",
            "[400]\ttraining's rmse: 0.20917\tvalid_1's rmse: 0.23922\n",
            "[500]\ttraining's rmse: 0.20303\tvalid_1's rmse: 0.238955\n",
            "[600]\ttraining's rmse: 0.19736\tvalid_1's rmse: 0.238764\n",
            "[700]\ttraining's rmse: 0.192081\tvalid_1's rmse: 0.238705\n",
            "[800]\ttraining's rmse: 0.187097\tvalid_1's rmse: 0.238665\n",
            "[900]\ttraining's rmse: 0.182415\tvalid_1's rmse: 0.238633\n",
            "[1000]\ttraining's rmse: 0.178026\tvalid_1's rmse: 0.238622\n",
            "Did not meet early stopping. Best iteration is:\n",
            "[959]\ttraining's rmse: 0.179783\tvalid_1's rmse: 0.238588\n"
          ]
        },
        {
          "output_type": "stream",
          "name": "stderr",
          "text": [
            "[I 2024-12-03 04:39:01,847] Trial 49 finished with value: 0.23858802672695492 and parameters: {'learning_rate': 0.018318519704118606, 'num_leaves': 402, 'max_depth': 23, 'lambda_l1': 5.548775942371967, 'lambda_l2': 0.018356135723679712}. Best is trial 48 with value: 0.23855187781410242.\n"
          ]
        },
        {
          "output_type": "stream",
          "name": "stdout",
          "text": [
            "Best parameters: {'learning_rate': 0.014850285341428824, 'num_leaves': 396, 'max_depth': 23, 'lambda_l1': 5.549345130605934, 'lambda_l2': 0.021055411264221675}\n"
          ]
        }
      ]
    },
    {
      "cell_type": "code",
      "source": [
        "text_params = {\n",
        "    'objective': 'regression',\n",
        "    'metric': 'rmse',\n",
        "    'boosting_type': 'gbdt',\n",
        "    'learning_rate': 0.015,\n",
        "    'num_leaves': 396,\n",
        "    'max_depth': 23,\n",
        "    'lambda_l1': 5.549345130605934,\n",
        "    'lambda_l2': 0.021055411264221675,\n",
        "    'verbose': -1,\n",
        "    'bagging_seed': 42,\n",
        "    'bagging_fraction': 0.8,\n",
        "    'bagging_freq': 5,\n",
        "    'feature_fraction': 0.8,\n",
        "}"
      ],
      "metadata": {
        "id": "mYMql4i-ttey"
      },
      "execution_count": null,
      "outputs": []
    },
    {
      "cell_type": "code",
      "source": [
        "model_text = fit_lgb(\n",
        "    train_text_X, train_y,\n",
        "    test_text_X, test_y,\n",
        "    categorical_features=[],\n",
        "    params=text_params,\n",
        ")"
      ],
      "metadata": {
        "colab": {
          "base_uri": "https://localhost:8080/"
        },
        "id": "ndLnOURMuT2u",
        "outputId": "9f9fee72-0132-4022-9215-484418ceab78"
      },
      "execution_count": null,
      "outputs": [
        {
          "output_type": "stream",
          "name": "stdout",
          "text": [
            "Training until validation scores don't improve for 50 rounds\n",
            "[40]\ttraining's rmse: 0.247238\tvalid_1's rmse: 0.250612\n",
            "[80]\ttraining's rmse: 0.239611\tvalid_1's rmse: 0.245883\n",
            "[120]\ttraining's rmse: 0.23443\tvalid_1's rmse: 0.243499\n",
            "[160]\ttraining's rmse: 0.230409\tvalid_1's rmse: 0.242128\n",
            "[200]\ttraining's rmse: 0.227032\tvalid_1's rmse: 0.241274\n",
            "[240]\ttraining's rmse: 0.224059\tvalid_1's rmse: 0.240686\n",
            "[280]\ttraining's rmse: 0.221365\tvalid_1's rmse: 0.240284\n",
            "[320]\ttraining's rmse: 0.218833\tvalid_1's rmse: 0.239979\n",
            "[360]\ttraining's rmse: 0.216443\tvalid_1's rmse: 0.239741\n",
            "[400]\ttraining's rmse: 0.214164\tvalid_1's rmse: 0.239556\n",
            "[440]\ttraining's rmse: 0.211958\tvalid_1's rmse: 0.239398\n",
            "[480]\ttraining's rmse: 0.209837\tvalid_1's rmse: 0.23924\n",
            "[520]\ttraining's rmse: 0.207776\tvalid_1's rmse: 0.239121\n",
            "[560]\ttraining's rmse: 0.20576\tvalid_1's rmse: 0.23899\n",
            "[600]\ttraining's rmse: 0.203823\tvalid_1's rmse: 0.238921\n",
            "[640]\ttraining's rmse: 0.20191\tvalid_1's rmse: 0.238894\n",
            "[680]\ttraining's rmse: 0.200028\tvalid_1's rmse: 0.238823\n",
            "[720]\ttraining's rmse: 0.198211\tvalid_1's rmse: 0.238796\n",
            "[760]\ttraining's rmse: 0.196445\tvalid_1's rmse: 0.238779\n",
            "[800]\ttraining's rmse: 0.194696\tvalid_1's rmse: 0.238741\n",
            "[840]\ttraining's rmse: 0.192999\tvalid_1's rmse: 0.238714\n",
            "[880]\ttraining's rmse: 0.191346\tvalid_1's rmse: 0.238716\n",
            "Early stopping, best iteration is:\n",
            "[857]\ttraining's rmse: 0.192288\tvalid_1's rmse: 0.238704\n",
            "RMSE: 0.24148780567650796\n"
          ]
        }
      ]
    },
    {
      "cell_type": "markdown",
      "source": [
        "# Tabular + text"
      ],
      "metadata": {
        "id": "GcXi2ypZx9dK"
      }
    },
    {
      "cell_type": "code",
      "source": [
        "train_merge_X = pd.concat([train_tabular_X, train_text_X], axis=1)\n",
        "test_merge_X = pd.concat([test_tabular_X, test_text_X], axis=1)"
      ],
      "metadata": {
        "id": "JkUIEXtPuW71"
      },
      "execution_count": null,
      "outputs": []
    },
    {
      "cell_type": "code",
      "source": [
        "tune_params(train_merge_X, train_y, categorical_features=categorical_features)"
      ],
      "metadata": {
        "colab": {
          "base_uri": "https://localhost:8080/"
        },
        "id": "Zjgimc3YyO-P",
        "outputId": "97b8b20e-b80f-46e0-f54e-42a1928cc047"
      },
      "execution_count": null,
      "outputs": [
        {
          "output_type": "stream",
          "name": "stderr",
          "text": [
            "[I 2024-12-03 05:57:39,096] A new study created in memory with name: no-name-ff271f54-0f61-4e77-8c00-cdf1e4c8cee9\n"
          ]
        },
        {
          "output_type": "stream",
          "name": "stdout",
          "text": [
            "Training until validation scores don't improve for 50 rounds\n",
            "[100]\ttraining's rmse: 0.202132\tvalid_1's rmse: 0.23193\n",
            "Early stopping, best iteration is:\n",
            "[66]\ttraining's rmse: 0.207337\tvalid_1's rmse: 0.231688\n"
          ]
        },
        {
          "output_type": "stream",
          "name": "stderr",
          "text": [
            "[I 2024-12-03 05:57:46,880] Trial 0 finished with value: 0.2316882733387526 and parameters: {'learning_rate': 0.05310275110180667, 'num_leaves': 448, 'max_depth': 18, 'lambda_l1': 5.51583733181019, 'lambda_l2': 0.00932741871370131}. Best is trial 0 with value: 0.2316882733387526.\n"
          ]
        },
        {
          "output_type": "stream",
          "name": "stdout",
          "text": [
            "Training until validation scores don't improve for 50 rounds\n",
            "[100]\ttraining's rmse: 0.232839\tvalid_1's rmse: 0.236998\n",
            "[200]\ttraining's rmse: 0.225528\tvalid_1's rmse: 0.233224\n",
            "[300]\ttraining's rmse: 0.222554\tvalid_1's rmse: 0.232626\n",
            "[400]\ttraining's rmse: 0.220648\tvalid_1's rmse: 0.232447\n",
            "[500]\ttraining's rmse: 0.218956\tvalid_1's rmse: 0.232321\n",
            "Early stopping, best iteration is:\n",
            "[505]\ttraining's rmse: 0.218844\tvalid_1's rmse: 0.232297\n"
          ]
        },
        {
          "output_type": "stream",
          "name": "stderr",
          "text": [
            "[I 2024-12-03 05:57:58,982] Trial 1 finished with value: 0.23229652978358856 and parameters: {'learning_rate': 0.011013300206330389, 'num_leaves': 99, 'max_depth': 7, 'lambda_l1': 0.0032528774230034985, 'lambda_l2': 0.002820449861445446}. Best is trial 0 with value: 0.2316882733387526.\n"
          ]
        },
        {
          "output_type": "stream",
          "name": "stdout",
          "text": [
            "Training until validation scores don't improve for 50 rounds\n",
            "[100]\ttraining's rmse: 0.220084\tvalid_1's rmse: 0.233042\n",
            "[200]\ttraining's rmse: 0.21188\tvalid_1's rmse: 0.231532\n",
            "[300]\ttraining's rmse: 0.208394\tvalid_1's rmse: 0.231428\n",
            "Early stopping, best iteration is:\n",
            "[322]\ttraining's rmse: 0.207607\tvalid_1's rmse: 0.231387\n"
          ]
        },
        {
          "output_type": "stream",
          "name": "stderr",
          "text": [
            "[I 2024-12-03 05:58:13,173] Trial 2 finished with value: 0.23138719163476618 and parameters: {'learning_rate': 0.017112765531468288, 'num_leaves': 489, 'max_depth': 11, 'lambda_l1': 2.924544035687974, 'lambda_l2': 0.027811854101089453}. Best is trial 2 with value: 0.23138719163476618.\n"
          ]
        },
        {
          "output_type": "stream",
          "name": "stdout",
          "text": [
            "Training until validation scores don't improve for 50 rounds\n",
            "[100]\ttraining's rmse: 0.22139\tvalid_1's rmse: 0.232375\n",
            "[200]\ttraining's rmse: 0.215809\tvalid_1's rmse: 0.232268\n",
            "Early stopping, best iteration is:\n",
            "[157]\ttraining's rmse: 0.217816\tvalid_1's rmse: 0.232192\n"
          ]
        },
        {
          "output_type": "stream",
          "name": "stderr",
          "text": [
            "[I 2024-12-03 05:58:19,176] Trial 3 finished with value: 0.23219233597726374 and parameters: {'learning_rate': 0.04739663883477358, 'num_leaves': 66, 'max_depth': 8, 'lambda_l1': 3.2367839809631773, 'lambda_l2': 4.546851204284471}. Best is trial 2 with value: 0.23138719163476618.\n"
          ]
        },
        {
          "output_type": "stream",
          "name": "stdout",
          "text": [
            "Training until validation scores don't improve for 50 rounds\n",
            "[100]\ttraining's rmse: 0.189878\tvalid_1's rmse: 0.231557\n",
            "Early stopping, best iteration is:\n",
            "[62]\ttraining's rmse: 0.198921\tvalid_1's rmse: 0.231402\n"
          ]
        },
        {
          "output_type": "stream",
          "name": "stderr",
          "text": [
            "[I 2024-12-03 05:58:25,695] Trial 4 finished with value: 0.23140246818385862 and parameters: {'learning_rate': 0.04859102981559997, 'num_leaves': 444, 'max_depth': 17, 'lambda_l1': 0.6783568130316429, 'lambda_l2': 0.001716391748792259}. Best is trial 2 with value: 0.23138719163476618.\n"
          ]
        },
        {
          "output_type": "stream",
          "name": "stdout",
          "text": [
            "Training until validation scores don't improve for 50 rounds\n",
            "[100]\ttraining's rmse: 0.221586\tvalid_1's rmse: 0.232434\n",
            "[200]\ttraining's rmse: 0.213083\tvalid_1's rmse: 0.232316\n",
            "Early stopping, best iteration is:\n",
            "[162]\ttraining's rmse: 0.215894\tvalid_1's rmse: 0.232256\n"
          ]
        },
        {
          "output_type": "stream",
          "name": "stderr",
          "text": [
            "[I 2024-12-03 05:58:34,341] Trial 5 finished with value: 0.23225617161418594 and parameters: {'learning_rate': 0.02764338864378147, 'num_leaves': 65, 'max_depth': 24, 'lambda_l1': 0.0038262643550862445, 'lambda_l2': 0.009878503949322682}. Best is trial 2 with value: 0.23138719163476618.\n"
          ]
        },
        {
          "output_type": "stream",
          "name": "stdout",
          "text": [
            "Training until validation scores don't improve for 50 rounds\n",
            "[100]\ttraining's rmse: 0.222959\tvalid_1's rmse: 0.234121\n",
            "[200]\ttraining's rmse: 0.211079\tvalid_1's rmse: 0.231335\n",
            "[300]\ttraining's rmse: 0.204736\tvalid_1's rmse: 0.23116\n",
            "[400]\ttraining's rmse: 0.199871\tvalid_1's rmse: 0.231159\n",
            "Early stopping, best iteration is:\n",
            "[423]\ttraining's rmse: 0.198828\tvalid_1's rmse: 0.231117\n"
          ]
        },
        {
          "output_type": "stream",
          "name": "stderr",
          "text": [
            "[I 2024-12-03 05:58:56,478] Trial 6 finished with value: 0.23111741641160227 and parameters: {'learning_rate': 0.013364902178976144, 'num_leaves': 249, 'max_depth': 17, 'lambda_l1': 1.5260253439795246, 'lambda_l2': 0.22856324445383094}. Best is trial 6 with value: 0.23111741641160227.\n"
          ]
        },
        {
          "output_type": "stream",
          "name": "stdout",
          "text": [
            "Training until validation scores don't improve for 50 rounds\n"
          ]
        },
        {
          "output_type": "stream",
          "name": "stderr",
          "text": [
            "[I 2024-12-03 05:59:01,722] Trial 7 finished with value: 0.23209749663750123 and parameters: {'learning_rate': 0.0640559434545126, 'num_leaves': 202, 'max_depth': 15, 'lambda_l1': 0.28103729810267863, 'lambda_l2': 0.1690997475685518}. Best is trial 6 with value: 0.23111741641160227.\n"
          ]
        },
        {
          "output_type": "stream",
          "name": "stdout",
          "text": [
            "Early stopping, best iteration is:\n",
            "[43]\ttraining's rmse: 0.212547\tvalid_1's rmse: 0.232097\n",
            "Training until validation scores don't improve for 50 rounds\n",
            "[100]\ttraining's rmse: 0.220872\tvalid_1's rmse: 0.232244\n",
            "[200]\ttraining's rmse: 0.215827\tvalid_1's rmse: 0.232002\n",
            "[300]\ttraining's rmse: 0.212585\tvalid_1's rmse: 0.231931\n",
            "Early stopping, best iteration is:\n",
            "[320]\ttraining's rmse: 0.211852\tvalid_1's rmse: 0.231861\n"
          ]
        },
        {
          "output_type": "stream",
          "name": "stderr",
          "text": [
            "[I 2024-12-03 05:59:09,587] Trial 8 finished with value: 0.23186146717457426 and parameters: {'learning_rate': 0.03068620557251756, 'num_leaves': 337, 'max_depth': 9, 'lambda_l1': 5.3088535276833895, 'lambda_l2': 0.0021294951487122885}. Best is trial 6 with value: 0.23111741641160227.\n"
          ]
        },
        {
          "output_type": "stream",
          "name": "stdout",
          "text": [
            "Training until validation scores don't improve for 50 rounds\n",
            "[100]\ttraining's rmse: 0.22953\tvalid_1's rmse: 0.236597\n",
            "[200]\ttraining's rmse: 0.218659\tvalid_1's rmse: 0.232181\n",
            "[300]\ttraining's rmse: 0.212232\tvalid_1's rmse: 0.2313\n",
            "[400]\ttraining's rmse: 0.207904\tvalid_1's rmse: 0.231221\n",
            "Early stopping, best iteration is:\n",
            "[435]\ttraining's rmse: 0.206504\tvalid_1's rmse: 0.231191\n"
          ]
        },
        {
          "output_type": "stream",
          "name": "stderr",
          "text": [
            "[I 2024-12-03 05:59:35,398] Trial 9 finished with value: 0.23119110434627538 and parameters: {'learning_rate': 0.010313581115738062, 'num_leaves': 243, 'max_depth': 22, 'lambda_l1': 5.321350801996707, 'lambda_l2': 4.36122359424677}. Best is trial 6 with value: 0.23111741641160227.\n"
          ]
        },
        {
          "output_type": "stream",
          "name": "stdout",
          "text": [
            "Training until validation scores don't improve for 50 rounds\n",
            "[100]\ttraining's rmse: 0.211768\tvalid_1's rmse: 0.231986\n",
            "[200]\ttraining's rmse: 0.196896\tvalid_1's rmse: 0.231121\n",
            "Early stopping, best iteration is:\n",
            "[190]\ttraining's rmse: 0.197929\tvalid_1's rmse: 0.231096\n"
          ]
        },
        {
          "output_type": "stream",
          "name": "stderr",
          "text": [
            "[I 2024-12-03 05:59:58,462] Trial 10 finished with value: 0.23109613932536968 and parameters: {'learning_rate': 0.01905914727483227, 'num_leaves': 325, 'max_depth': 20, 'lambda_l1': 0.06421466578517826, 'lambda_l2': 0.39828928069336955}. Best is trial 10 with value: 0.23109613932536968.\n"
          ]
        },
        {
          "output_type": "stream",
          "name": "stdout",
          "text": [
            "Training until validation scores don't improve for 50 rounds\n",
            "[100]\ttraining's rmse: 0.212772\tvalid_1's rmse: 0.232301\n",
            "[200]\ttraining's rmse: 0.197591\tvalid_1's rmse: 0.231237\n",
            "Early stopping, best iteration is:\n",
            "[171]\ttraining's rmse: 0.200906\tvalid_1's rmse: 0.23121\n"
          ]
        },
        {
          "output_type": "stream",
          "name": "stderr",
          "text": [
            "[I 2024-12-03 06:00:13,575] Trial 11 finished with value: 0.23120968038165218 and parameters: {'learning_rate': 0.017825076948479436, 'num_leaves': 335, 'max_depth': 20, 'lambda_l1': 0.027981862619084124, 'lambda_l2': 0.40688208468894077}. Best is trial 10 with value: 0.23109613932536968.\n"
          ]
        },
        {
          "output_type": "stream",
          "name": "stdout",
          "text": [
            "Training until validation scores don't improve for 50 rounds\n",
            "[100]\ttraining's rmse: 0.21543\tvalid_1's rmse: 0.232502\n",
            "[200]\ttraining's rmse: 0.203349\tvalid_1's rmse: 0.231186\n",
            "[300]\ttraining's rmse: 0.197273\tvalid_1's rmse: 0.231128\n",
            "Early stopping, best iteration is:\n",
            "[309]\ttraining's rmse: 0.19659\tvalid_1's rmse: 0.231106\n"
          ]
        },
        {
          "output_type": "stream",
          "name": "stderr",
          "text": [
            "[I 2024-12-03 06:00:39,911] Trial 12 finished with value: 0.23110572590674985 and parameters: {'learning_rate': 0.016965672886748606, 'num_leaves': 332, 'max_depth': 13, 'lambda_l1': 0.04519513659287328, 'lambda_l2': 1.030377321907348}. Best is trial 10 with value: 0.23109613932536968.\n"
          ]
        },
        {
          "output_type": "stream",
          "name": "stdout",
          "text": [
            "Training until validation scores don't improve for 50 rounds\n",
            "[100]\ttraining's rmse: 0.235671\tvalid_1's rmse: 0.237269\n",
            "[200]\ttraining's rmse: 0.232738\tvalid_1's rmse: 0.235526\n",
            "[300]\ttraining's rmse: 0.23107\tvalid_1's rmse: 0.234804\n",
            "[400]\ttraining's rmse: 0.229825\tvalid_1's rmse: 0.234428\n",
            "[500]\ttraining's rmse: 0.228798\tvalid_1's rmse: 0.234162\n",
            "[600]\ttraining's rmse: 0.228014\tvalid_1's rmse: 0.234055\n",
            "[700]\ttraining's rmse: 0.2273\tvalid_1's rmse: 0.233909\n",
            "Early stopping, best iteration is:\n",
            "[743]\ttraining's rmse: 0.227009\tvalid_1's rmse: 0.233847\n"
          ]
        },
        {
          "output_type": "stream",
          "name": "stderr",
          "text": [
            "[I 2024-12-03 06:00:47,958] Trial 13 finished with value: 0.23384655582683844 and parameters: {'learning_rate': 0.022136310532928506, 'num_leaves': 362, 'max_depth': 3, 'lambda_l1': 0.04324092726505382, 'lambda_l2': 1.0304405529653167}. Best is trial 10 with value: 0.23109613932536968.\n"
          ]
        },
        {
          "output_type": "stream",
          "name": "stdout",
          "text": [
            "Training until validation scores don't improve for 50 rounds\n"
          ]
        },
        {
          "output_type": "stream",
          "name": "stderr",
          "text": [
            "[I 2024-12-03 06:00:51,056] Trial 14 finished with value: 0.2322443661824702 and parameters: {'learning_rate': 0.09808508747093748, 'num_leaves': 174, 'max_depth': 13, 'lambda_l1': 0.014888384639104331, 'lambda_l2': 1.060926171636643}. Best is trial 10 with value: 0.23109613932536968.\n"
          ]
        },
        {
          "output_type": "stream",
          "name": "stdout",
          "text": [
            "Early stopping, best iteration is:\n",
            "[27]\ttraining's rmse: 0.215352\tvalid_1's rmse: 0.232244\n",
            "Training until validation scores don't improve for 50 rounds\n",
            "[100]\ttraining's rmse: 0.209851\tvalid_1's rmse: 0.231722\n",
            "[200]\ttraining's rmse: 0.193933\tvalid_1's rmse: 0.231261\n",
            "Early stopping, best iteration is:\n",
            "[170]\ttraining's rmse: 0.197812\tvalid_1's rmse: 0.231128\n"
          ]
        },
        {
          "output_type": "stream",
          "name": "stderr",
          "text": [
            "[I 2024-12-03 06:01:06,075] Trial 15 finished with value: 0.23112845630833298 and parameters: {'learning_rate': 0.021056397066151755, 'num_leaves': 315, 'max_depth': 25, 'lambda_l1': 0.1231709520228658, 'lambda_l2': 0.05575002938611742}. Best is trial 10 with value: 0.23109613932536968.\n"
          ]
        },
        {
          "output_type": "stream",
          "name": "stdout",
          "text": [
            "Training until validation scores don't improve for 50 rounds\n",
            "[100]\ttraining's rmse: 0.216984\tvalid_1's rmse: 0.233308\n",
            "[200]\ttraining's rmse: 0.202523\tvalid_1's rmse: 0.231196\n",
            "[300]\ttraining's rmse: 0.195961\tvalid_1's rmse: 0.231161\n",
            "Early stopping, best iteration is:\n",
            "[263]\ttraining's rmse: 0.198085\tvalid_1's rmse: 0.231126\n"
          ]
        },
        {
          "output_type": "stream",
          "name": "stderr",
          "text": [
            "[I 2024-12-03 06:01:24,056] Trial 16 finished with value: 0.23112562573185574 and parameters: {'learning_rate': 0.014259857307850976, 'num_leaves': 381, 'max_depth': 14, 'lambda_l1': 0.011415864059746225, 'lambda_l2': 0.9931754707110371}. Best is trial 10 with value: 0.23109613932536968.\n"
          ]
        },
        {
          "output_type": "stream",
          "name": "stdout",
          "text": [
            "Training until validation scores don't improve for 50 rounds\n",
            "[100]\ttraining's rmse: 0.203286\tvalid_1's rmse: 0.231121\n",
            "Early stopping, best iteration is:\n",
            "[139]\ttraining's rmse: 0.195607\tvalid_1's rmse: 0.230815\n"
          ]
        },
        {
          "output_type": "stream",
          "name": "stderr",
          "text": [
            "[I 2024-12-03 06:01:38,046] Trial 17 finished with value: 0.23081516368859414 and parameters: {'learning_rate': 0.024125663083307613, 'num_leaves': 413, 'max_depth': 21, 'lambda_l1': 0.12131534876880815, 'lambda_l2': 2.56857997933603}. Best is trial 17 with value: 0.23081516368859414.\n"
          ]
        },
        {
          "output_type": "stream",
          "name": "stdout",
          "text": [
            "Training until validation scores don't improve for 50 rounds\n",
            "[100]\ttraining's rmse: 0.195997\tvalid_1's rmse: 0.231233\n",
            "Early stopping, best iteration is:\n",
            "[98]\ttraining's rmse: 0.196397\tvalid_1's rmse: 0.231224\n"
          ]
        },
        {
          "output_type": "stream",
          "name": "stderr",
          "text": [
            "[I 2024-12-03 06:01:54,993] Trial 18 finished with value: 0.2312239381059751 and parameters: {'learning_rate': 0.035849142863720554, 'num_leaves': 412, 'max_depth': 20, 'lambda_l1': 0.19366585307252418, 'lambda_l2': 5.3525852381125105}. Best is trial 17 with value: 0.23081516368859414.\n"
          ]
        },
        {
          "output_type": "stream",
          "name": "stdout",
          "text": [
            "Training until validation scores don't improve for 50 rounds\n",
            "[100]\ttraining's rmse: 0.210547\tvalid_1's rmse: 0.231474\n",
            "[200]\ttraining's rmse: 0.197284\tvalid_1's rmse: 0.231209\n",
            "Early stopping, best iteration is:\n",
            "[158]\ttraining's rmse: 0.201983\tvalid_1's rmse: 0.23115\n"
          ]
        },
        {
          "output_type": "stream",
          "name": "stderr",
          "text": [
            "[I 2024-12-03 06:02:07,955] Trial 19 finished with value: 0.23114984574363578 and parameters: {'learning_rate': 0.024363386280951513, 'num_leaves': 285, 'max_depth': 22, 'lambda_l1': 0.42183661665202193, 'lambda_l2': 8.801691002063524}. Best is trial 17 with value: 0.23081516368859414.\n"
          ]
        },
        {
          "output_type": "stream",
          "name": "stdout",
          "text": [
            "Training until validation scores don't improve for 50 rounds\n",
            "[100]\ttraining's rmse: 0.189187\tvalid_1's rmse: 0.23124\n",
            "Early stopping, best iteration is:\n",
            "[86]\ttraining's rmse: 0.192548\tvalid_1's rmse: 0.231147\n"
          ]
        },
        {
          "output_type": "stream",
          "name": "stderr",
          "text": [
            "[I 2024-12-03 06:02:17,902] Trial 20 finished with value: 0.23114733965547454 and parameters: {'learning_rate': 0.03624795798876296, 'num_leaves': 499, 'max_depth': 22, 'lambda_l1': 0.0889636332291504, 'lambda_l2': 2.2513009739553107}. Best is trial 17 with value: 0.23081516368859414.\n"
          ]
        },
        {
          "output_type": "stream",
          "name": "stdout",
          "text": [
            "Training until validation scores don't improve for 50 rounds\n",
            "[100]\ttraining's rmse: 0.213124\tvalid_1's rmse: 0.232419\n",
            "[200]\ttraining's rmse: 0.20169\tvalid_1's rmse: 0.231323\n",
            "Early stopping, best iteration is:\n",
            "[193]\ttraining's rmse: 0.202066\tvalid_1's rmse: 0.231304\n"
          ]
        },
        {
          "output_type": "stream",
          "name": "stderr",
          "text": [
            "[I 2024-12-03 06:02:30,659] Trial 21 finished with value: 0.23130437571536575 and parameters: {'learning_rate': 0.017946138256181642, 'num_leaves': 393, 'max_depth': 12, 'lambda_l1': 0.05045000127608593, 'lambda_l2': 0.5546067690871185}. Best is trial 17 with value: 0.23081516368859414.\n"
          ]
        },
        {
          "output_type": "stream",
          "name": "stdout",
          "text": [
            "Training until validation scores don't improve for 50 rounds\n",
            "[100]\ttraining's rmse: 0.219334\tvalid_1's rmse: 0.233473\n",
            "[200]\ttraining's rmse: 0.205427\tvalid_1's rmse: 0.231145\n",
            "[300]\ttraining's rmse: 0.197283\tvalid_1's rmse: 0.231021\n",
            "Early stopping, best iteration is:\n",
            "[290]\ttraining's rmse: 0.19797\tvalid_1's rmse: 0.231008\n"
          ]
        },
        {
          "output_type": "stream",
          "name": "stderr",
          "text": [
            "[I 2024-12-03 06:02:52,522] Trial 22 finished with value: 0.231007567615098 and parameters: {'learning_rate': 0.013990054281825528, 'num_leaves': 296, 'max_depth': 19, 'lambda_l1': 0.011614991870891215, 'lambda_l2': 1.7134599890152127}. Best is trial 17 with value: 0.23081516368859414.\n"
          ]
        },
        {
          "output_type": "stream",
          "name": "stdout",
          "text": [
            "Training until validation scores don't improve for 50 rounds\n",
            "[100]\ttraining's rmse: 0.21979\tvalid_1's rmse: 0.233583\n",
            "[200]\ttraining's rmse: 0.206161\tvalid_1's rmse: 0.231168\n",
            "[300]\ttraining's rmse: 0.198159\tvalid_1's rmse: 0.23106\n",
            "Early stopping, best iteration is:\n",
            "[284]\ttraining's rmse: 0.199319\tvalid_1's rmse: 0.23103\n"
          ]
        },
        {
          "output_type": "stream",
          "name": "stderr",
          "text": [
            "[I 2024-12-03 06:03:14,617] Trial 23 finished with value: 0.23102989797436374 and parameters: {'learning_rate': 0.014044917753324162, 'num_leaves': 287, 'max_depth': 19, 'lambda_l1': 0.009445928897497525, 'lambda_l2': 2.687026304400369}. Best is trial 17 with value: 0.23081516368859414.\n"
          ]
        },
        {
          "output_type": "stream",
          "name": "stdout",
          "text": [
            "Training until validation scores don't improve for 50 rounds\n",
            "[100]\ttraining's rmse: 0.224263\tvalid_1's rmse: 0.234057\n",
            "[200]\ttraining's rmse: 0.213383\tvalid_1's rmse: 0.23153\n",
            "[300]\ttraining's rmse: 0.20696\tvalid_1's rmse: 0.231257\n",
            "Early stopping, best iteration is:\n",
            "[294]\ttraining's rmse: 0.207293\tvalid_1's rmse: 0.231245\n"
          ]
        },
        {
          "output_type": "stream",
          "name": "stderr",
          "text": [
            "[I 2024-12-03 06:03:30,920] Trial 24 finished with value: 0.23124477843313945 and parameters: {'learning_rate': 0.013569618361491136, 'num_leaves': 176, 'max_depth': 18, 'lambda_l1': 0.0015825002401455334, 'lambda_l2': 2.023640031435733}. Best is trial 17 with value: 0.23081516368859414.\n"
          ]
        },
        {
          "output_type": "stream",
          "name": "stdout",
          "text": [
            "Training until validation scores don't improve for 50 rounds\n",
            "[100]\ttraining's rmse: 0.222473\tvalid_1's rmse: 0.234549\n",
            "[200]\ttraining's rmse: 0.208785\tvalid_1's rmse: 0.231363\n",
            "[300]\ttraining's rmse: 0.200334\tvalid_1's rmse: 0.231024\n",
            "Early stopping, best iteration is:\n",
            "[288]\ttraining's rmse: 0.201241\tvalid_1's rmse: 0.230995\n"
          ]
        },
        {
          "output_type": "stream",
          "name": "stderr",
          "text": [
            "[I 2024-12-03 06:03:51,601] Trial 25 finished with value: 0.23099455049038808 and parameters: {'learning_rate': 0.012206823987022695, 'num_leaves': 282, 'max_depth': 23, 'lambda_l1': 0.009002429272116983, 'lambda_l2': 2.75468181274981}. Best is trial 17 with value: 0.23081516368859414.\n"
          ]
        },
        {
          "output_type": "stream",
          "name": "stdout",
          "text": [
            "Training until validation scores don't improve for 50 rounds\n",
            "[100]\ttraining's rmse: 0.227458\tvalid_1's rmse: 0.235845\n",
            "[200]\ttraining's rmse: 0.215748\tvalid_1's rmse: 0.231809\n",
            "[300]\ttraining's rmse: 0.208793\tvalid_1's rmse: 0.231146\n",
            "[400]\ttraining's rmse: 0.203611\tvalid_1's rmse: 0.231073\n",
            "Early stopping, best iteration is:\n",
            "[434]\ttraining's rmse: 0.202017\tvalid_1's rmse: 0.231064\n"
          ]
        },
        {
          "output_type": "stream",
          "name": "stderr",
          "text": [
            "[I 2024-12-03 06:04:31,485] Trial 26 finished with value: 0.23106381643778934 and parameters: {'learning_rate': 0.010690887437789502, 'num_leaves': 213, 'max_depth': 23, 'lambda_l1': 0.00692090770856352, 'lambda_l2': 9.502996480181514}. Best is trial 17 with value: 0.23081516368859414.\n"
          ]
        },
        {
          "output_type": "stream",
          "name": "stdout",
          "text": [
            "Training until validation scores don't improve for 50 rounds\n",
            "[100]\ttraining's rmse: 0.227262\tvalid_1's rmse: 0.234987\n",
            "[200]\ttraining's rmse: 0.217315\tvalid_1's rmse: 0.231853\n",
            "[300]\ttraining's rmse: 0.211686\tvalid_1's rmse: 0.231529\n",
            "[400]\ttraining's rmse: 0.207163\tvalid_1's rmse: 0.231507\n",
            "Early stopping, best iteration is:\n",
            "[374]\ttraining's rmse: 0.208244\tvalid_1's rmse: 0.231484\n"
          ]
        },
        {
          "output_type": "stream",
          "name": "stderr",
          "text": [
            "[I 2024-12-03 06:04:57,022] Trial 27 finished with value: 0.23148380656136866 and parameters: {'learning_rate': 0.012301079747709413, 'num_leaves': 138, 'max_depth': 16, 'lambda_l1': 0.001940269124640768, 'lambda_l2': 0.1287909214847848}. Best is trial 17 with value: 0.23081516368859414.\n"
          ]
        },
        {
          "output_type": "stream",
          "name": "stdout",
          "text": [
            "Training until validation scores don't improve for 50 rounds\n",
            "[100]\ttraining's rmse: 0.209244\tvalid_1's rmse: 0.231467\n",
            "Early stopping, best iteration is:\n",
            "[148]\ttraining's rmse: 0.201277\tvalid_1's rmse: 0.23124\n"
          ]
        },
        {
          "output_type": "stream",
          "name": "stderr",
          "text": [
            "[I 2024-12-03 06:05:10,122] Trial 28 finished with value: 0.2312398210739036 and parameters: {'learning_rate': 0.02504498075021786, 'num_leaves': 263, 'max_depth': 25, 'lambda_l1': 0.022779904695666004, 'lambda_l2': 2.03203586213563}. Best is trial 17 with value: 0.23081516368859414.\n"
          ]
        },
        {
          "output_type": "stream",
          "name": "stdout",
          "text": [
            "Training until validation scores don't improve for 50 rounds\n",
            "[100]\ttraining's rmse: 0.211665\tvalid_1's rmse: 0.232573\n",
            "[200]\ttraining's rmse: 0.19409\tvalid_1's rmse: 0.230837\n",
            "Early stopping, best iteration is:\n",
            "[203]\ttraining's rmse: 0.19372\tvalid_1's rmse: 0.230822\n"
          ]
        },
        {
          "output_type": "stream",
          "name": "stderr",
          "text": [
            "[I 2024-12-03 06:05:31,512] Trial 29 finished with value: 0.23082221994832725 and parameters: {'learning_rate': 0.015628331694095495, 'num_leaves': 445, 'max_depth': 21, 'lambda_l1': 0.004198943616893005, 'lambda_l2': 0.5053667817495116}. Best is trial 17 with value: 0.23081516368859414.\n"
          ]
        },
        {
          "output_type": "stream",
          "name": "stdout",
          "text": [
            "Training until validation scores don't improve for 50 rounds\n",
            "[100]\ttraining's rmse: 0.203119\tvalid_1's rmse: 0.231499\n",
            "[200]\ttraining's rmse: 0.18589\tvalid_1's rmse: 0.231087\n",
            "Early stopping, best iteration is:\n",
            "[172]\ttraining's rmse: 0.1895\tvalid_1's rmse: 0.231018\n"
          ]
        },
        {
          "output_type": "stream",
          "name": "stderr",
          "text": [
            "[I 2024-12-03 06:05:50,053] Trial 30 finished with value: 0.2310183479563382 and parameters: {'learning_rate': 0.021357119088854154, 'num_leaves': 461, 'max_depth': 21, 'lambda_l1': 0.0037631816829590734, 'lambda_l2': 0.04745808672946554}. Best is trial 17 with value: 0.23081516368859414.\n"
          ]
        },
        {
          "output_type": "stream",
          "name": "stdout",
          "text": [
            "Training until validation scores don't improve for 50 rounds\n",
            "[100]\ttraining's rmse: 0.213102\tvalid_1's rmse: 0.232925\n",
            "[200]\ttraining's rmse: 0.195213\tvalid_1's rmse: 0.230842\n",
            "[300]\ttraining's rmse: 0.184862\tvalid_1's rmse: 0.230783\n",
            "Early stopping, best iteration is:\n",
            "[280]\ttraining's rmse: 0.186774\tvalid_1's rmse: 0.230754\n"
          ]
        },
        {
          "output_type": "stream",
          "name": "stderr",
          "text": [
            "[I 2024-12-03 06:06:16,337] Trial 31 finished with value: 0.23075358897005477 and parameters: {'learning_rate': 0.014567806226456257, 'num_leaves': 450, 'max_depth': 23, 'lambda_l1': 0.005617035966752886, 'lambda_l2': 0.6515573256830347}. Best is trial 31 with value: 0.23075358897005477.\n"
          ]
        },
        {
          "output_type": "stream",
          "name": "stdout",
          "text": [
            "Training until validation scores don't improve for 50 rounds\n",
            "[100]\ttraining's rmse: 0.211699\tvalid_1's rmse: 0.232496\n",
            "[200]\ttraining's rmse: 0.19418\tvalid_1's rmse: 0.230902\n",
            "Early stopping, best iteration is:\n",
            "[191]\ttraining's rmse: 0.195271\tvalid_1's rmse: 0.230887\n"
          ]
        },
        {
          "output_type": "stream",
          "name": "stderr",
          "text": [
            "[I 2024-12-03 06:06:34,857] Trial 32 finished with value: 0.23088667640396027 and parameters: {'learning_rate': 0.015934792078359076, 'num_leaves': 427, 'max_depth': 23, 'lambda_l1': 0.0010788889452175731, 'lambda_l2': 0.584295504963237}. Best is trial 31 with value: 0.23075358897005477.\n"
          ]
        },
        {
          "output_type": "stream",
          "name": "stdout",
          "text": [
            "Training until validation scores don't improve for 50 rounds\n",
            "[100]\ttraining's rmse: 0.211923\tvalid_1's rmse: 0.232446\n",
            "[200]\ttraining's rmse: 0.194262\tvalid_1's rmse: 0.230726\n",
            "Early stopping, best iteration is:\n",
            "[201]\ttraining's rmse: 0.194131\tvalid_1's rmse: 0.230716\n"
          ]
        },
        {
          "output_type": "stream",
          "name": "stderr",
          "text": [
            "[I 2024-12-03 06:07:03,538] Trial 33 finished with value: 0.23071606129935326 and parameters: {'learning_rate': 0.015708448201703498, 'num_leaves': 426, 'max_depth': 24, 'lambda_l1': 0.0010747008285001893, 'lambda_l2': 0.24759514395671925}. Best is trial 33 with value: 0.23071606129935326.\n"
          ]
        },
        {
          "output_type": "stream",
          "name": "stdout",
          "text": [
            "Training until validation scores don't improve for 50 rounds\n",
            "[100]\ttraining's rmse: 0.210901\tvalid_1's rmse: 0.232546\n",
            "[200]\ttraining's rmse: 0.192173\tvalid_1's rmse: 0.230782\n",
            "[300]\ttraining's rmse: 0.180807\tvalid_1's rmse: 0.230732\n",
            "Early stopping, best iteration is:\n",
            "[289]\ttraining's rmse: 0.18194\tvalid_1's rmse: 0.230714\n"
          ]
        },
        {
          "output_type": "stream",
          "name": "stderr",
          "text": [
            "[I 2024-12-03 06:07:31,135] Trial 34 finished with value: 0.23071356458384304 and parameters: {'learning_rate': 0.01546655901409336, 'num_leaves': 470, 'max_depth': 25, 'lambda_l1': 0.0049962124603218526, 'lambda_l2': 0.2320007392444034}. Best is trial 34 with value: 0.23071356458384304.\n"
          ]
        },
        {
          "output_type": "stream",
          "name": "stdout",
          "text": [
            "Training until validation scores don't improve for 50 rounds\n",
            "[100]\ttraining's rmse: 0.203432\tvalid_1's rmse: 0.231435\n",
            "[200]\ttraining's rmse: 0.184332\tvalid_1's rmse: 0.230805\n",
            "Early stopping, best iteration is:\n",
            "[161]\ttraining's rmse: 0.190275\tvalid_1's rmse: 0.230749\n"
          ]
        },
        {
          "output_type": "stream",
          "name": "stderr",
          "text": [
            "[I 2024-12-03 06:07:48,384] Trial 35 finished with value: 0.23074937445511245 and parameters: {'learning_rate': 0.020529376659900563, 'num_leaves': 474, 'max_depth': 25, 'lambda_l1': 0.0020133906529371712, 'lambda_l2': 0.08549480302618363}. Best is trial 34 with value: 0.23071356458384304.\n"
          ]
        },
        {
          "output_type": "stream",
          "name": "stdout",
          "text": [
            "Training until validation scores don't improve for 50 rounds\n",
            "[100]\ttraining's rmse: 0.216453\tvalid_1's rmse: 0.234367\n",
            "[200]\ttraining's rmse: 0.19794\tvalid_1's rmse: 0.231079\n",
            "[300]\ttraining's rmse: 0.186298\tvalid_1's rmse: 0.230723\n",
            "Early stopping, best iteration is:\n",
            "[294]\ttraining's rmse: 0.186847\tvalid_1's rmse: 0.230715\n"
          ]
        },
        {
          "output_type": "stream",
          "name": "stderr",
          "text": [
            "[I 2024-12-03 06:08:20,422] Trial 36 finished with value: 0.23071478214802732 and parameters: {'learning_rate': 0.01170371736523626, 'num_leaves': 512, 'max_depth': 25, 'lambda_l1': 0.002146296365145734, 'lambda_l2': 0.020768739893197104}. Best is trial 34 with value: 0.23071356458384304.\n"
          ]
        },
        {
          "output_type": "stream",
          "name": "stdout",
          "text": [
            "Training until validation scores don't improve for 50 rounds\n",
            "[100]\ttraining's rmse: 0.217447\tvalid_1's rmse: 0.234746\n",
            "[200]\ttraining's rmse: 0.199082\tvalid_1's rmse: 0.231204\n",
            "[300]\ttraining's rmse: 0.187399\tvalid_1's rmse: 0.230744\n",
            "Early stopping, best iteration is:\n",
            "[318]\ttraining's rmse: 0.185714\tvalid_1's rmse: 0.230714\n"
          ]
        },
        {
          "output_type": "stream",
          "name": "stderr",
          "text": [
            "[I 2024-12-03 06:09:07,203] Trial 37 finished with value: 0.23071446944766144 and parameters: {'learning_rate': 0.011228292717107255, 'num_leaves': 512, 'max_depth': 25, 'lambda_l1': 0.002149107123720774, 'lambda_l2': 0.01485316454411541}. Best is trial 34 with value: 0.23071356458384304.\n"
          ]
        },
        {
          "output_type": "stream",
          "name": "stdout",
          "text": [
            "Training until validation scores don't improve for 50 rounds\n",
            "[100]\ttraining's rmse: 0.216312\tvalid_1's rmse: 0.234363\n",
            "[200]\ttraining's rmse: 0.197795\tvalid_1's rmse: 0.231073\n",
            "[300]\ttraining's rmse: 0.18634\tvalid_1's rmse: 0.230758\n",
            "[400]\ttraining's rmse: 0.177989\tvalid_1's rmse: 0.230802\n",
            "Early stopping, best iteration is:\n",
            "[356]\ttraining's rmse: 0.181542\tvalid_1's rmse: 0.230747\n"
          ]
        },
        {
          "output_type": "stream",
          "name": "stderr",
          "text": [
            "[I 2024-12-03 06:09:40,525] Trial 38 finished with value: 0.2307465655823648 and parameters: {'learning_rate': 0.011782203828102772, 'num_leaves': 512, 'max_depth': 24, 'lambda_l1': 0.0010479199271209035, 'lambda_l2': 0.01157063144300416}. Best is trial 34 with value: 0.23071356458384304.\n"
          ]
        },
        {
          "output_type": "stream",
          "name": "stdout",
          "text": [
            "Training until validation scores don't improve for 50 rounds\n",
            "[100]\ttraining's rmse: 0.217614\tvalid_1's rmse: 0.234494\n",
            "[200]\ttraining's rmse: 0.19972\tvalid_1's rmse: 0.231048\n",
            "[300]\ttraining's rmse: 0.188383\tvalid_1's rmse: 0.230604\n",
            "Early stopping, best iteration is:\n",
            "[300]\ttraining's rmse: 0.188383\tvalid_1's rmse: 0.230604\n"
          ]
        },
        {
          "output_type": "stream",
          "name": "stderr",
          "text": [
            "[I 2024-12-03 06:10:10,522] Trial 39 finished with value: 0.2306044397095248 and parameters: {'learning_rate': 0.011523347585691509, 'num_leaves': 481, 'max_depth': 25, 'lambda_l1': 0.002767282719496572, 'lambda_l2': 0.0049387238144752085}. Best is trial 39 with value: 0.2306044397095248.\n"
          ]
        },
        {
          "output_type": "stream",
          "name": "stdout",
          "text": [
            "Training until validation scores don't improve for 50 rounds\n",
            "[100]\ttraining's rmse: 0.220297\tvalid_1's rmse: 0.235491\n",
            "[200]\ttraining's rmse: 0.202848\tvalid_1's rmse: 0.231406\n",
            "[300]\ttraining's rmse: 0.191283\tvalid_1's rmse: 0.230743\n",
            "Early stopping, best iteration is:\n",
            "[339]\ttraining's rmse: 0.187938\tvalid_1's rmse: 0.230704\n"
          ]
        },
        {
          "output_type": "stream",
          "name": "stderr",
          "text": [
            "[I 2024-12-03 06:10:42,478] Trial 40 finished with value: 0.2307042398961982 and parameters: {'learning_rate': 0.010271609718415673, 'num_leaves': 483, 'max_depth': 25, 'lambda_l1': 0.00244427177497698, 'lambda_l2': 0.005668707961635191}. Best is trial 39 with value: 0.2306044397095248.\n"
          ]
        },
        {
          "output_type": "stream",
          "name": "stdout",
          "text": [
            "Training until validation scores don't improve for 50 rounds\n",
            "[100]\ttraining's rmse: 0.220216\tvalid_1's rmse: 0.235469\n",
            "[200]\ttraining's rmse: 0.202728\tvalid_1's rmse: 0.231337\n",
            "[300]\ttraining's rmse: 0.19124\tvalid_1's rmse: 0.230679\n",
            "Early stopping, best iteration is:\n",
            "[330]\ttraining's rmse: 0.188599\tvalid_1's rmse: 0.230619\n"
          ]
        },
        {
          "output_type": "stream",
          "name": "stderr",
          "text": [
            "[I 2024-12-03 06:11:16,539] Trial 41 finished with value: 0.23061877252614973 and parameters: {'learning_rate': 0.010281616026025887, 'num_leaves': 484, 'max_depth': 25, 'lambda_l1': 0.002560838578784991, 'lambda_l2': 0.005544620467500984}. Best is trial 39 with value: 0.2306044397095248.\n"
          ]
        },
        {
          "output_type": "stream",
          "name": "stdout",
          "text": [
            "Training until validation scores don't improve for 50 rounds\n",
            "[100]\ttraining's rmse: 0.220998\tvalid_1's rmse: 0.235655\n",
            "[200]\ttraining's rmse: 0.203782\tvalid_1's rmse: 0.231392\n",
            "[300]\ttraining's rmse: 0.192493\tvalid_1's rmse: 0.230667\n",
            "Early stopping, best iteration is:\n",
            "[343]\ttraining's rmse: 0.188854\tvalid_1's rmse: 0.230612\n"
          ]
        },
        {
          "output_type": "stream",
          "name": "stderr",
          "text": [
            "[I 2024-12-03 06:11:48,624] Trial 42 finished with value: 0.23061198835323354 and parameters: {'learning_rate': 0.010000043004126833, 'num_leaves': 478, 'max_depth': 24, 'lambda_l1': 0.0033411135105030345, 'lambda_l2': 0.004193800536021238}. Best is trial 39 with value: 0.2306044397095248.\n"
          ]
        },
        {
          "output_type": "stream",
          "name": "stdout",
          "text": [
            "Training until validation scores don't improve for 50 rounds\n",
            "[100]\ttraining's rmse: 0.220968\tvalid_1's rmse: 0.235682\n",
            "[200]\ttraining's rmse: 0.203722\tvalid_1's rmse: 0.231421\n",
            "[300]\ttraining's rmse: 0.192373\tvalid_1's rmse: 0.230675\n",
            "Early stopping, best iteration is:\n",
            "[327]\ttraining's rmse: 0.190011\tvalid_1's rmse: 0.230654\n"
          ]
        },
        {
          "output_type": "stream",
          "name": "stderr",
          "text": [
            "[I 2024-12-03 06:12:19,600] Trial 43 finished with value: 0.23065436929216768 and parameters: {'learning_rate': 0.010012023750674377, 'num_leaves': 479, 'max_depth': 24, 'lambda_l1': 0.0029255374354337773, 'lambda_l2': 0.005488002132645007}. Best is trial 39 with value: 0.2306044397095248.\n"
          ]
        },
        {
          "output_type": "stream",
          "name": "stdout",
          "text": [
            "Training until validation scores don't improve for 50 rounds\n",
            "[100]\ttraining's rmse: 0.220721\tvalid_1's rmse: 0.235657\n",
            "[200]\ttraining's rmse: 0.203389\tvalid_1's rmse: 0.231488\n",
            "[300]\ttraining's rmse: 0.192018\tvalid_1's rmse: 0.230802\n",
            "[400]\ttraining's rmse: 0.184231\tvalid_1's rmse: 0.230772\n",
            "Early stopping, best iteration is:\n",
            "[434]\ttraining's rmse: 0.181794\tvalid_1's rmse: 0.230714\n"
          ]
        },
        {
          "output_type": "stream",
          "name": "stderr",
          "text": [
            "[I 2024-12-03 06:12:59,417] Trial 44 finished with value: 0.23071419830395146 and parameters: {'learning_rate': 0.010083422398516987, 'num_leaves': 482, 'max_depth': 24, 'lambda_l1': 0.0028886570836469745, 'lambda_l2': 0.005565588074248403}. Best is trial 39 with value: 0.2306044397095248.\n"
          ]
        },
        {
          "output_type": "stream",
          "name": "stdout",
          "text": [
            "Training until validation scores don't improve for 50 rounds\n",
            "[100]\ttraining's rmse: 0.237004\tvalid_1's rmse: 0.238893\n",
            "[200]\ttraining's rmse: 0.231332\tvalid_1's rmse: 0.234858\n",
            "[300]\ttraining's rmse: 0.22904\tvalid_1's rmse: 0.233925\n",
            "[400]\ttraining's rmse: 0.227693\tvalid_1's rmse: 0.233619\n",
            "[500]\ttraining's rmse: 0.226432\tvalid_1's rmse: 0.233335\n",
            "[600]\ttraining's rmse: 0.225444\tvalid_1's rmse: 0.233207\n",
            "[700]\ttraining's rmse: 0.224484\tvalid_1's rmse: 0.233103\n",
            "[800]\ttraining's rmse: 0.223723\tvalid_1's rmse: 0.233051\n",
            "[900]\ttraining's rmse: 0.223016\tvalid_1's rmse: 0.232991\n",
            "[1000]\ttraining's rmse: 0.222291\tvalid_1's rmse: 0.232946\n",
            "Did not meet early stopping. Best iteration is:\n",
            "[990]\ttraining's rmse: 0.222378\tvalid_1's rmse: 0.232945\n"
          ]
        },
        {
          "output_type": "stream",
          "name": "stderr",
          "text": [
            "[I 2024-12-03 06:13:12,593] Trial 45 finished with value: 0.23294453289546288 and parameters: {'learning_rate': 0.01038189050659709, 'num_leaves': 35, 'max_depth': 5, 'lambda_l1': 0.0029812013234996326, 'lambda_l2': 0.0011712337035002583}. Best is trial 39 with value: 0.2306044397095248.\n"
          ]
        },
        {
          "output_type": "stream",
          "name": "stdout",
          "text": [
            "Training until validation scores don't improve for 50 rounds\n",
            "[100]\ttraining's rmse: 0.215902\tvalid_1's rmse: 0.233941\n",
            "[200]\ttraining's rmse: 0.197956\tvalid_1's rmse: 0.231025\n",
            "[300]\ttraining's rmse: 0.187406\tvalid_1's rmse: 0.23078\n",
            "Early stopping, best iteration is:\n",
            "[297]\ttraining's rmse: 0.187652\tvalid_1's rmse: 0.230773\n"
          ]
        },
        {
          "output_type": "stream",
          "name": "stderr",
          "text": [
            "[I 2024-12-03 06:13:40,763] Trial 46 finished with value: 0.23077332127688638 and parameters: {'learning_rate': 0.012463449084136385, 'num_leaves': 478, 'max_depth': 22, 'lambda_l1': 0.019186519782451384, 'lambda_l2': 0.005125669589165829}. Best is trial 39 with value: 0.2306044397095248.\n"
          ]
        },
        {
          "output_type": "stream",
          "name": "stdout",
          "text": [
            "Training until validation scores don't improve for 50 rounds\n",
            "[100]\ttraining's rmse: 0.22047\tvalid_1's rmse: 0.235518\n",
            "[200]\ttraining's rmse: 0.203008\tvalid_1's rmse: 0.231351\n",
            "[300]\ttraining's rmse: 0.191699\tvalid_1's rmse: 0.230659\n",
            "[400]\ttraining's rmse: 0.18404\tvalid_1's rmse: 0.230681\n",
            "Early stopping, best iteration is:\n",
            "[365]\ttraining's rmse: 0.186516\tvalid_1's rmse: 0.230626\n"
          ]
        },
        {
          "output_type": "stream",
          "name": "stderr",
          "text": [
            "[I 2024-12-03 06:14:17,648] Trial 47 finished with value: 0.2306263987142289 and parameters: {'learning_rate': 0.010140664739540272, 'num_leaves': 490, 'max_depth': 23, 'lambda_l1': 0.001556125383159101, 'lambda_l2': 0.0034924527406979054}. Best is trial 39 with value: 0.2306044397095248.\n"
          ]
        },
        {
          "output_type": "stream",
          "name": "stdout",
          "text": [
            "Training until validation scores don't improve for 50 rounds\n"
          ]
        },
        {
          "output_type": "stream",
          "name": "stderr",
          "text": [
            "[I 2024-12-03 06:14:23,520] Trial 48 finished with value: 0.23157512817474588 and parameters: {'learning_rate': 0.06562507321008297, 'num_leaves': 358, 'max_depth': 23, 'lambda_l1': 1.1800629258096362, 'lambda_l2': 0.003378454941973053}. Best is trial 39 with value: 0.2306044397095248.\n"
          ]
        },
        {
          "output_type": "stream",
          "name": "stdout",
          "text": [
            "Early stopping, best iteration is:\n",
            "[46]\ttraining's rmse: 0.202708\tvalid_1's rmse: 0.231575\n",
            "Training until validation scores don't improve for 50 rounds\n",
            "[100]\ttraining's rmse: 0.21626\tvalid_1's rmse: 0.233898\n",
            "[200]\ttraining's rmse: 0.198553\tvalid_1's rmse: 0.231081\n",
            "[300]\ttraining's rmse: 0.187762\tvalid_1's rmse: 0.230922\n",
            "Early stopping, best iteration is:\n",
            "[317]\ttraining's rmse: 0.186169\tvalid_1's rmse: 0.230898\n"
          ]
        },
        {
          "output_type": "stream",
          "name": "stderr",
          "text": [
            "[I 2024-12-03 06:14:55,040] Trial 49 finished with value: 0.23089783733658353 and parameters: {'learning_rate': 0.012592957264390092, 'num_leaves': 454, 'max_depth': 24, 'lambda_l1': 0.006188355905427857, 'lambda_l2': 0.0026706845968832303}. Best is trial 39 with value: 0.2306044397095248.\n"
          ]
        },
        {
          "output_type": "stream",
          "name": "stdout",
          "text": [
            "Best parameters: {'learning_rate': 0.011523347585691509, 'num_leaves': 481, 'max_depth': 25, 'lambda_l1': 0.002767282719496572, 'lambda_l2': 0.0049387238144752085}\n"
          ]
        }
      ]
    },
    {
      "cell_type": "code",
      "source": [
        "merged_params = {\n",
        "    'objective': 'regression',\n",
        "    'metric': 'rmse',\n",
        "    'boosting_type': 'gbdt',\n",
        "    'learning_rate': 0.012,\n",
        "    'num_leaves': 481,\n",
        "    'max_depth': 25,\n",
        "    'lambda_l1': 0.002767282719496572,\n",
        "    'lambda_l2': 0.0049387238144752085,\n",
        "    'verbose': -1,\n",
        "    'bagging_seed': 42,\n",
        "    'bagging_fraction': 0.8,\n",
        "    'bagging_freq': 5,\n",
        "    'feature_fraction': 0.8,\n",
        "}"
      ],
      "metadata": {
        "id": "vzb3mVOSGICk"
      },
      "execution_count": null,
      "outputs": []
    },
    {
      "cell_type": "code",
      "source": [
        "model_merged = fit_lgb(\n",
        "    train_merge_X, train_y,\n",
        "    test_merge_X, test_y,\n",
        "    categorical_features=categorical_features,\n",
        "    params=merged_params,\n",
        ")"
      ],
      "metadata": {
        "colab": {
          "base_uri": "https://localhost:8080/"
        },
        "id": "jShbrmjxKVsQ",
        "outputId": "bb73211b-fe7e-448c-a26d-41867031b86a"
      },
      "execution_count": null,
      "outputs": [
        {
          "output_type": "stream",
          "name": "stdout",
          "text": [
            "Training until validation scores don't improve for 50 rounds\n",
            "[40]\ttraining's rmse: 0.236242\tvalid_1's rmse: 0.243496\n",
            "[80]\ttraining's rmse: 0.221867\tvalid_1's rmse: 0.236109\n",
            "[120]\ttraining's rmse: 0.212155\tvalid_1's rmse: 0.232961\n",
            "[160]\ttraining's rmse: 0.204772\tvalid_1's rmse: 0.231628\n",
            "[200]\ttraining's rmse: 0.198526\tvalid_1's rmse: 0.231105\n",
            "[240]\ttraining's rmse: 0.193466\tvalid_1's rmse: 0.230943\n",
            "[280]\ttraining's rmse: 0.189173\tvalid_1's rmse: 0.230812\n",
            "[320]\ttraining's rmse: 0.185323\tvalid_1's rmse: 0.230816\n",
            "Early stopping, best iteration is:\n",
            "[286]\ttraining's rmse: 0.188563\tvalid_1's rmse: 0.2308\n",
            "RMSE: 0.2308630907772972\n"
          ]
        }
      ]
    },
    {
      "cell_type": "code",
      "source": [],
      "metadata": {
        "id": "6p9eF6tgKfwb"
      },
      "execution_count": null,
      "outputs": []
    }
  ]
}