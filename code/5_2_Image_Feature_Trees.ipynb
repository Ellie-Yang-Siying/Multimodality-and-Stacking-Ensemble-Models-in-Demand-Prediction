{
  "nbformat": 4,
  "nbformat_minor": 0,
  "metadata": {
    "colab": {
      "provenance": [],
      "collapsed_sections": [
        "zqtW-3o9b2ot",
        "OrAs-Po_UHB3",
        "k5Uct1HIVoFr"
      ],
      "machine_shape": "hm"
    },
    "kernelspec": {
      "name": "python3",
      "display_name": "Python 3"
    },
    "language_info": {
      "name": "python"
    }
  },
  "cells": [
    {
      "cell_type": "code",
      "execution_count": null,
      "metadata": {
        "id": "M_XLj4JAIZLj"
      },
      "outputs": [],
      "source": [
        "import spacy\n",
        "\n",
        "from tqdm import tqdm\n",
        "import numpy as np\n",
        "import pandas as pd\n",
        "import matplotlib.pyplot as plt\n",
        "import seaborn as sns\n",
        "\n",
        "import warnings\n",
        "warnings.filterwarnings('ignore')"
      ]
    },
    {
      "cell_type": "code",
      "source": [
        "from google.colab import drive\n",
        "drive.mount('/content/drive')"
      ],
      "metadata": {
        "colab": {
          "base_uri": "https://localhost:8080/"
        },
        "id": "oyDxsT3lIgzf",
        "outputId": "66e67f05-a82d-4de0-9e9a-cf6ca7f29f91"
      },
      "execution_count": null,
      "outputs": [
        {
          "output_type": "stream",
          "name": "stdout",
          "text": [
            "Drive already mounted at /content/drive; to attempt to forcibly remount, call drive.mount(\"/content/drive\", force_remount=True).\n"
          ]
        }
      ]
    },
    {
      "cell_type": "code",
      "source": [
        "data_dir_path = '/content/drive/MyDrive/ML Project/data/image/'\n",
        "train_tabular = pd.read_csv(data_dir_path + 'train_image_sample')\n",
        "test_tabular = pd.read_csv( data_dir_path + 'test_image_sample')\n",
        "print(train_tabular.shape)\n",
        "print(test_tabular.shape)"
      ],
      "metadata": {
        "colab": {
          "base_uri": "https://localhost:8080/"
        },
        "id": "9KRLjHlmJPVo",
        "outputId": "b44a6e9d-050a-4cf7-9c82-5e7472eede70"
      },
      "execution_count": null,
      "outputs": [
        {
          "output_type": "stream",
          "name": "stdout",
          "text": [
            "(222532, 43)\n",
            "(55635, 43)\n"
          ]
        }
      ]
    },
    {
      "cell_type": "code",
      "source": [
        "train_tabular_X = train_tabular.drop(['title','description', 'item_id', 'user_id', 'item_seq_number', 'activation_date', 'image',\n",
        "        'image_top_1', 'deal_probability'], axis=1)\n",
        "test_tabular_X = test_tabular.drop(['title','description', 'item_id', 'user_id', 'item_seq_number', 'activation_date', 'image',\n",
        "        'image_top_1', 'deal_probability'], axis=1)\n",
        "train_y = train_tabular['deal_probability']\n",
        "test_y = test_tabular['deal_probability']\n",
        "\n",
        "train_tabular_image_id = train_tabular['image']\n",
        "test_tabular_image_id = test_tabular['image']\n",
        "\n",
        "categorical_features = train_tabular_X.select_dtypes(include=['object', 'category']).columns.tolist()\n",
        "for col in categorical_features:\n",
        "    train_tabular_X[col] = train_tabular_X[col].astype('category')\n",
        "    test_tabular_X[col] = test_tabular_X[col].astype('category')\n",
        "\n",
        "print(train_tabular_X.shape)\n",
        "print(test_tabular_X.shape)"
      ],
      "metadata": {
        "colab": {
          "base_uri": "https://localhost:8080/"
        },
        "id": "7xxmele0NcTu",
        "outputId": "53ab5397-5823-4830-819d-2c0d5a607eb1"
      },
      "execution_count": null,
      "outputs": [
        {
          "output_type": "stream",
          "name": "stdout",
          "text": [
            "(222532, 34)\n",
            "(55635, 34)\n"
          ]
        }
      ]
    },
    {
      "cell_type": "code",
      "source": [
        "train_image_X = pd.read_csv(data_dir_path + 'train_image_svd.csv')\n",
        "test_image_X = pd.read_csv(data_dir_path + 'test_image_svd.csv')\n",
        "\n",
        "train_image_image_id = train_image_X['image']\n",
        "test_image_image_id = test_image_X['image']\n",
        "\n",
        "train_image_X = train_image_X.drop(['image'], axis=1)\n",
        "test_image_X = test_image_X.drop(['image'], axis=1)\n",
        "\n",
        "print(train_image_X.shape)\n",
        "print(test_image_X.shape)"
      ],
      "metadata": {
        "colab": {
          "base_uri": "https://localhost:8080/"
        },
        "id": "csBH7tGGL880",
        "outputId": "f906c0d2-b4df-4258-8b60-90f1a0aff1d5"
      },
      "execution_count": null,
      "outputs": [
        {
          "output_type": "stream",
          "name": "stdout",
          "text": [
            "(222532, 500)\n",
            "(55635, 500)\n"
          ]
        }
      ]
    },
    {
      "cell_type": "markdown",
      "source": [
        "As shown here, the image ids are aligned already, so no need to manually re-order them.\n",
        "\n",
        "**Only re-order if this cell raises an exception.**"
      ],
      "metadata": {
        "id": "UKZ28gxVPgp1"
      }
    },
    {
      "cell_type": "code",
      "source": [
        "assert (train_tabular_image_id == train_image_image_id).any()\n",
        "assert (test_tabular_image_id == test_image_image_id).any()"
      ],
      "metadata": {
        "id": "vk64GeRsPKAA"
      },
      "execution_count": null,
      "outputs": []
    },
    {
      "cell_type": "markdown",
      "source": [
        "# Helper function"
      ],
      "metadata": {
        "id": "ja9Pov1zNB_H"
      }
    },
    {
      "cell_type": "code",
      "source": [
        "from sklearn import preprocessing\n",
        "from sklearn.model_selection import train_test_split\n",
        "from sklearn.metrics import mean_squared_error, root_mean_squared_error\n",
        "from sklearn.preprocessing import StandardScaler\n",
        "import xgboost as xgb\n",
        "import lightgbm as lgb\n",
        "from sklearn.decomposition import TruncatedSVD"
      ],
      "metadata": {
        "id": "SIejPo4vNBj2"
      },
      "execution_count": null,
      "outputs": []
    },
    {
      "cell_type": "code",
      "source": [
        "params = {\n",
        "    'objective': 'regression',\n",
        "    'metric': 'rmse',\n",
        "    'boosting_type': 'gbdt',\n",
        "    'learning_rate': 0.02,\n",
        "    'num_leaves': 512,\n",
        "    'max_depth': 20,\n",
        "    'bagging_seed': 42,\n",
        "    'bagging_fraction': 0.8,\n",
        "    'bagging_freq': 5,\n",
        "    'feature_fraction': 0.8,\n",
        "    'lambda_l1': 2.25,\n",
        "    'lambda_l2': 0.015,\n",
        "    'verbose': -1\n",
        "}"
      ],
      "metadata": {
        "id": "6xIre5nxNEP_"
      },
      "execution_count": null,
      "outputs": []
    },
    {
      "cell_type": "code",
      "source": [
        "def fit_lgb(\n",
        "        train_X, train_y, test_X, test_y, categorical_features,\n",
        "        params,\n",
        "        num_boost_round=3000,\n",
        "        early_stopping_rounds=50,\n",
        "        eval_period=40,\n",
        "    ):\n",
        "\n",
        "    # validation set for early stopping\n",
        "    train_X_split, val_X_split, train_y_split, val_y_split = train_test_split(\n",
        "        train_X, train_y, test_size=0.2, random_state=42, shuffle=True\n",
        "    )\n",
        "    lgb_train = lgb.Dataset(\n",
        "        train_X_split, label=train_y_split, categorical_feature=categorical_features\n",
        "    )\n",
        "    lgb_val = lgb.Dataset(\n",
        "        val_X_split, label=val_y_split, categorical_feature=categorical_features,\n",
        "        reference=lgb_train\n",
        "    )\n",
        "\n",
        "    callbacks = [\n",
        "        lgb.early_stopping(stopping_rounds=early_stopping_rounds),\n",
        "        lgb.log_evaluation(period=eval_period)\n",
        "    ]\n",
        "\n",
        "    model = lgb.train(\n",
        "        params,\n",
        "        lgb_train,\n",
        "        num_boost_round=num_boost_round,\n",
        "        valid_sets=[lgb_train, lgb_val],\n",
        "        callbacks=callbacks\n",
        "    )\n",
        "\n",
        "    preds = model.predict(test_X, num_iteration=model.best_iteration)\n",
        "    rmse = root_mean_squared_error(test_y, preds)\n",
        "    print(f\"RMSE: {rmse}\")\n",
        "\n",
        "    return model"
      ],
      "metadata": {
        "id": "K_ceA7myNIPz"
      },
      "execution_count": null,
      "outputs": []
    },
    {
      "cell_type": "code",
      "source": [
        "def get_feature_importance(model):\n",
        "    feature_importances = pd.DataFrame({\n",
        "        'feature': model.feature_name(),\n",
        "        'importance': model.feature_importance()\n",
        "    }).sort_values(by='importance', ascending=False)\n",
        "\n",
        "    with pd.option_context('display.max_rows', None, 'display.max_columns', None):\n",
        "        print(feature_importances)\n",
        "    return feature_importances"
      ],
      "metadata": {
        "id": "0ulLBuxjNJwa"
      },
      "execution_count": null,
      "outputs": []
    },
    {
      "cell_type": "markdown",
      "source": [
        "# Tune the tabular tree using subset data"
      ],
      "metadata": {
        "id": "vhjNmZkTcGJx"
      }
    },
    {
      "cell_type": "code",
      "source": [
        "# !pip install optuna"
      ],
      "metadata": {
        "id": "Ff8UcEcUcdVR"
      },
      "execution_count": null,
      "outputs": []
    },
    {
      "cell_type": "code",
      "source": [
        "import optuna\n",
        "\n",
        "def tune_params(train_X, train_y, categorical_features):\n",
        "    train_data, val_data, train_label, val_label = train_test_split(\n",
        "        train_X, train_y, test_size=0.2, random_state=42)\n",
        "\n",
        "    def objective(trial):\n",
        "        params = {\n",
        "            'objective': 'regression',\n",
        "            'metric': 'rmse',\n",
        "            'boosting_type': 'gbdt',\n",
        "            'learning_rate': trial.suggest_loguniform('learning_rate', 0.01, 0.1),\n",
        "            'num_leaves': trial.suggest_int('num_leaves', 32, 512),\n",
        "            'max_depth': trial.suggest_int('max_depth', 3, 25),\n",
        "            'lambda_l1': trial.suggest_loguniform('lambda_l1', 1e-3, 10.0),\n",
        "            'lambda_l2': trial.suggest_loguniform('lambda_l2', 1e-3, 10.0),\n",
        "            'verbose': -1,\n",
        "            'bagging_seed': 42,\n",
        "            'bagging_fraction': 0.8,\n",
        "            'bagging_freq': 5,\n",
        "            'feature_fraction': 0.8,\n",
        "        }\n",
        "\n",
        "        dtrain = lgb.Dataset(train_data, label=train_label, categorical_feature=categorical_features)\n",
        "        dval = lgb.Dataset(val_data, label=val_label, reference=dtrain, categorical_feature=categorical_features)\n",
        "\n",
        "        callbacks = [\n",
        "            lgb.early_stopping(stopping_rounds=50),\n",
        "            lgb.log_evaluation(period=100)\n",
        "        ]\n",
        "        model = lgb.train(\n",
        "            params, dtrain, valid_sets=[dtrain, dval], callbacks=callbacks,\n",
        "            num_boost_round=1000\n",
        "        )\n",
        "        preds = model.predict(val_data)\n",
        "        return root_mean_squared_error(val_label, preds)\n",
        "\n",
        "    study = optuna.create_study(direction='minimize')\n",
        "    study.optimize(objective, n_trials=50, timeout=5400)\n",
        "\n",
        "    print(\"Best parameters:\", study.best_params)"
      ],
      "metadata": {
        "id": "jZwfeZy6cTmD"
      },
      "execution_count": null,
      "outputs": []
    },
    {
      "cell_type": "code",
      "source": [
        "tune_params(train_tabular_X, train_y, categorical_features)"
      ],
      "metadata": {
        "colab": {
          "base_uri": "https://localhost:8080/"
        },
        "collapsed": true,
        "id": "9ipg7YVAcfOZ",
        "outputId": "0da14654-f2cc-4387-a3b2-de65059f2e1c"
      },
      "execution_count": null,
      "outputs": [
        {
          "output_type": "stream",
          "name": "stderr",
          "text": [
            "[I 2024-12-03 03:00:41,765] A new study created in memory with name: no-name-f426d772-55d4-4158-942c-53ce8b90884a\n"
          ]
        },
        {
          "output_type": "stream",
          "name": "stdout",
          "text": [
            "Training until validation scores don't improve for 50 rounds\n",
            "[100]\ttraining's rmse: 0.222412\tvalid_1's rmse: 0.233096\n",
            "Early stopping, best iteration is:\n",
            "[145]\ttraining's rmse: 0.219453\tvalid_1's rmse: 0.232665\n"
          ]
        },
        {
          "output_type": "stream",
          "name": "stderr",
          "text": [
            "[I 2024-12-03 03:00:49,498] Trial 0 finished with value: 0.23266465409837425 and parameters: {'learning_rate': 0.021043176935301448, 'num_leaves': 509, 'max_depth': 9, 'lambda_l1': 0.0012477489985522044, 'lambda_l2': 3.0402529741294115}. Best is trial 0 with value: 0.23266465409837425.\n"
          ]
        },
        {
          "output_type": "stream",
          "name": "stdout",
          "text": [
            "Training until validation scores don't improve for 50 rounds\n",
            "[100]\ttraining's rmse: 0.219802\tvalid_1's rmse: 0.233331\n",
            "Early stopping, best iteration is:\n",
            "[56]\ttraining's rmse: 0.223117\tvalid_1's rmse: 0.233263\n"
          ]
        },
        {
          "output_type": "stream",
          "name": "stderr",
          "text": [
            "[I 2024-12-03 03:00:52,421] Trial 1 finished with value: 0.2332630326758449 and parameters: {'learning_rate': 0.0908069776069154, 'num_leaves': 85, 'max_depth': 7, 'lambda_l1': 0.022917989645981712, 'lambda_l2': 0.0023586829378410253}. Best is trial 0 with value: 0.23266465409837425.\n"
          ]
        },
        {
          "output_type": "stream",
          "name": "stdout",
          "text": [
            "Training until validation scores don't improve for 50 rounds\n",
            "[100]\ttraining's rmse: 0.213807\tvalid_1's rmse: 0.233028\n",
            "Early stopping, best iteration is:\n",
            "[67]\ttraining's rmse: 0.216937\tvalid_1's rmse: 0.232926\n"
          ]
        },
        {
          "output_type": "stream",
          "name": "stderr",
          "text": [
            "[I 2024-12-03 03:00:58,629] Trial 2 finished with value: 0.23292612569740673 and parameters: {'learning_rate': 0.04554655229088909, 'num_leaves': 289, 'max_depth': 23, 'lambda_l1': 5.902295129529244, 'lambda_l2': 0.3605605176903737}. Best is trial 0 with value: 0.23266465409837425.\n"
          ]
        },
        {
          "output_type": "stream",
          "name": "stdout",
          "text": [
            "Training until validation scores don't improve for 50 rounds\n",
            "[100]\ttraining's rmse: 0.236367\tvalid_1's rmse: 0.238014\n",
            "[200]\ttraining's rmse: 0.23238\tvalid_1's rmse: 0.235292\n",
            "[300]\ttraining's rmse: 0.230852\tvalid_1's rmse: 0.234669\n",
            "[400]\ttraining's rmse: 0.229767\tvalid_1's rmse: 0.234347\n",
            "[500]\ttraining's rmse: 0.228834\tvalid_1's rmse: 0.234084\n",
            "[600]\ttraining's rmse: 0.228202\tvalid_1's rmse: 0.234025\n",
            "[700]\ttraining's rmse: 0.227613\tvalid_1's rmse: 0.233958\n",
            "Early stopping, best iteration is:\n",
            "[729]\ttraining's rmse: 0.227436\tvalid_1's rmse: 0.233932\n"
          ]
        },
        {
          "output_type": "stream",
          "name": "stderr",
          "text": [
            "[I 2024-12-03 03:01:08,420] Trial 3 finished with value: 0.23393213049361414 and parameters: {'learning_rate': 0.013736282110517986, 'num_leaves': 253, 'max_depth': 4, 'lambda_l1': 0.022503517754695196, 'lambda_l2': 0.004958682827413783}. Best is trial 0 with value: 0.23266465409837425.\n"
          ]
        },
        {
          "output_type": "stream",
          "name": "stdout",
          "text": [
            "Training until validation scores don't improve for 50 rounds\n",
            "Early stopping, best iteration is:\n",
            "[31]\ttraining's rmse: 0.210159\tvalid_1's rmse: 0.233009\n"
          ]
        },
        {
          "output_type": "stream",
          "name": "stderr",
          "text": [
            "[I 2024-12-03 03:01:14,018] Trial 4 finished with value: 0.23300913704843373 and parameters: {'learning_rate': 0.0795499295151805, 'num_leaves': 417, 'max_depth': 25, 'lambda_l1': 0.011374460668514092, 'lambda_l2': 0.02478705207203242}. Best is trial 0 with value: 0.23266465409837425.\n"
          ]
        },
        {
          "output_type": "stream",
          "name": "stdout",
          "text": [
            "Training until validation scores don't improve for 50 rounds\n",
            "[100]\ttraining's rmse: 0.236425\tvalid_1's rmse: 0.238377\n",
            "[200]\ttraining's rmse: 0.231188\tvalid_1's rmse: 0.234714\n",
            "[300]\ttraining's rmse: 0.229374\tvalid_1's rmse: 0.234008\n",
            "[400]\ttraining's rmse: 0.228294\tvalid_1's rmse: 0.233789\n",
            "[500]\ttraining's rmse: 0.227388\tvalid_1's rmse: 0.233621\n",
            "[600]\ttraining's rmse: 0.226702\tvalid_1's rmse: 0.233556\n",
            "[700]\ttraining's rmse: 0.226067\tvalid_1's rmse: 0.233528\n",
            "Early stopping, best iteration is:\n",
            "[659]\ttraining's rmse: 0.226297\tvalid_1's rmse: 0.23352\n"
          ]
        },
        {
          "output_type": "stream",
          "name": "stderr",
          "text": [
            "[I 2024-12-03 03:01:25,338] Trial 5 finished with value: 0.23351991725438234 and parameters: {'learning_rate': 0.01122710136986189, 'num_leaves': 278, 'max_depth': 5, 'lambda_l1': 0.10672525491496575, 'lambda_l2': 4.5866250843161795}. Best is trial 0 with value: 0.23266465409837425.\n"
          ]
        },
        {
          "output_type": "stream",
          "name": "stdout",
          "text": [
            "Training until validation scores don't improve for 50 rounds\n",
            "Early stopping, best iteration is:\n",
            "[32]\ttraining's rmse: 0.211659\tvalid_1's rmse: 0.232978\n"
          ]
        },
        {
          "output_type": "stream",
          "name": "stderr",
          "text": [
            "[I 2024-12-03 03:01:30,439] Trial 6 finished with value: 0.23297801444909302 and parameters: {'learning_rate': 0.08756638427274126, 'num_leaves': 494, 'max_depth': 19, 'lambda_l1': 1.5295299193877088, 'lambda_l2': 3.107239882659002}. Best is trial 0 with value: 0.23266465409837425.\n"
          ]
        },
        {
          "output_type": "stream",
          "name": "stdout",
          "text": [
            "Training until validation scores don't improve for 50 rounds\n",
            "[100]\ttraining's rmse: 0.225821\tvalid_1's rmse: 0.234837\n",
            "[200]\ttraining's rmse: 0.216642\tvalid_1's rmse: 0.232543\n",
            "Early stopping, best iteration is:\n",
            "[245]\ttraining's rmse: 0.214584\tvalid_1's rmse: 0.23246\n"
          ]
        },
        {
          "output_type": "stream",
          "name": "stderr",
          "text": [
            "[I 2024-12-03 03:01:50,010] Trial 7 finished with value: 0.23245962357266212 and parameters: {'learning_rate': 0.013005898462626423, 'num_leaves': 282, 'max_depth': 18, 'lambda_l1': 2.1593203834296224, 'lambda_l2': 0.006753559673717587}. Best is trial 7 with value: 0.23245962357266212.\n"
          ]
        },
        {
          "output_type": "stream",
          "name": "stdout",
          "text": [
            "Training until validation scores don't improve for 50 rounds\n",
            "[100]\ttraining's rmse: 0.208831\tvalid_1's rmse: 0.232815\n",
            "Early stopping, best iteration is:\n",
            "[64]\ttraining's rmse: 0.213233\tvalid_1's rmse: 0.232693\n"
          ]
        },
        {
          "output_type": "stream",
          "name": "stderr",
          "text": [
            "[I 2024-12-03 03:01:58,430] Trial 8 finished with value: 0.2326927385930705 and parameters: {'learning_rate': 0.04185017729898037, 'num_leaves': 385, 'max_depth': 16, 'lambda_l1': 0.9772393785880967, 'lambda_l2': 0.010584138005823888}. Best is trial 7 with value: 0.23245962357266212.\n"
          ]
        },
        {
          "output_type": "stream",
          "name": "stdout",
          "text": [
            "Training until validation scores don't improve for 50 rounds\n",
            "[100]\ttraining's rmse: 0.226663\tvalid_1's rmse: 0.234523\n",
            "[200]\ttraining's rmse: 0.218575\tvalid_1's rmse: 0.232591\n",
            "Early stopping, best iteration is:\n",
            "[206]\ttraining's rmse: 0.218262\tvalid_1's rmse: 0.232571\n"
          ]
        },
        {
          "output_type": "stream",
          "name": "stderr",
          "text": [
            "[I 2024-12-03 03:02:10,735] Trial 9 finished with value: 0.23257064035787212 and parameters: {'learning_rate': 0.014099789011708762, 'num_leaves': 138, 'max_depth': 22, 'lambda_l1': 0.0035002648475970658, 'lambda_l2': 2.59339830689881}. Best is trial 7 with value: 0.23245962357266212.\n"
          ]
        },
        {
          "output_type": "stream",
          "name": "stdout",
          "text": [
            "Training until validation scores don't improve for 50 rounds\n",
            "[100]\ttraining's rmse: 0.21919\tvalid_1's rmse: 0.232718\n",
            "Early stopping, best iteration is:\n",
            "[123]\ttraining's rmse: 0.21716\tvalid_1's rmse: 0.232598\n"
          ]
        },
        {
          "output_type": "stream",
          "name": "stderr",
          "text": [
            "[I 2024-12-03 03:02:18,556] Trial 10 finished with value: 0.2325980515679797 and parameters: {'learning_rate': 0.024243816922649805, 'num_leaves': 201, 'max_depth': 12, 'lambda_l1': 0.2762501292470325, 'lambda_l2': 0.08325070289082324}. Best is trial 7 with value: 0.23245962357266212.\n"
          ]
        },
        {
          "output_type": "stream",
          "name": "stdout",
          "text": [
            "Training until validation scores don't improve for 50 rounds\n",
            "[100]\ttraining's rmse: 0.228213\tvalid_1's rmse: 0.234381\n",
            "[200]\ttraining's rmse: 0.22204\tvalid_1's rmse: 0.232933\n",
            "[300]\ttraining's rmse: 0.218858\tvalid_1's rmse: 0.232918\n",
            "Early stopping, best iteration is:\n",
            "[262]\ttraining's rmse: 0.219883\tvalid_1's rmse: 0.232883\n"
          ]
        },
        {
          "output_type": "stream",
          "name": "stderr",
          "text": [
            "[I 2024-12-03 03:02:30,813] Trial 11 finished with value: 0.23288291726534419 and parameters: {'learning_rate': 0.016188296188262966, 'num_leaves': 64, 'max_depth': 20, 'lambda_l1': 0.0010805775452308575, 'lambda_l2': 0.520327963850555}. Best is trial 7 with value: 0.23245962357266212.\n"
          ]
        },
        {
          "output_type": "stream",
          "name": "stdout",
          "text": [
            "Training until validation scores don't improve for 50 rounds\n",
            "[100]\ttraining's rmse: 0.230738\tvalid_1's rmse: 0.236781\n",
            "[200]\ttraining's rmse: 0.221748\tvalid_1's rmse: 0.232976\n",
            "[300]\ttraining's rmse: 0.217258\tvalid_1's rmse: 0.23243\n",
            "Early stopping, best iteration is:\n",
            "[319]\ttraining's rmse: 0.216639\tvalid_1's rmse: 0.232407\n"
          ]
        },
        {
          "output_type": "stream",
          "name": "stderr",
          "text": [
            "[I 2024-12-03 03:02:47,533] Trial 12 finished with value: 0.2324067741514729 and parameters: {'learning_rate': 0.010040418828386799, 'num_leaves': 154, 'max_depth': 17, 'lambda_l1': 0.007943022169670869, 'lambda_l2': 0.0011134636537235567}. Best is trial 12 with value: 0.2324067741514729.\n"
          ]
        },
        {
          "output_type": "stream",
          "name": "stdout",
          "text": [
            "Training until validation scores don't improve for 50 rounds\n",
            "[100]\ttraining's rmse: 0.231668\tvalid_1's rmse: 0.237103\n",
            "[200]\ttraining's rmse: 0.223359\tvalid_1's rmse: 0.233257\n",
            "[300]\ttraining's rmse: 0.219699\tvalid_1's rmse: 0.232612\n",
            "Early stopping, best iteration is:\n",
            "[324]\ttraining's rmse: 0.219181\tvalid_1's rmse: 0.232577\n"
          ]
        },
        {
          "output_type": "stream",
          "name": "stderr",
          "text": [
            "[I 2024-12-03 03:03:05,941] Trial 13 finished with value: 0.23257671241874453 and parameters: {'learning_rate': 0.01041521804708001, 'num_leaves': 173, 'max_depth': 15, 'lambda_l1': 6.100575425171201, 'lambda_l2': 0.0012601645845017936}. Best is trial 12 with value: 0.2324067741514729.\n"
          ]
        },
        {
          "output_type": "stream",
          "name": "stdout",
          "text": [
            "Training until validation scores don't improve for 50 rounds\n",
            "[100]\ttraining's rmse: 0.21662\tvalid_1's rmse: 0.232731\n",
            "Early stopping, best iteration is:\n",
            "[140]\ttraining's rmse: 0.211277\tvalid_1's rmse: 0.232268\n"
          ]
        },
        {
          "output_type": "stream",
          "name": "stderr",
          "text": [
            "[I 2024-12-03 03:03:17,367] Trial 14 finished with value: 0.23226768624107613 and parameters: {'learning_rate': 0.01898014658062918, 'num_leaves': 353, 'max_depth': 18, 'lambda_l1': 0.12232148581258503, 'lambda_l2': 0.016973598985502915}. Best is trial 14 with value: 0.23226768624107613.\n"
          ]
        },
        {
          "output_type": "stream",
          "name": "stdout",
          "text": [
            "Training until validation scores don't improve for 50 rounds\n",
            "[100]\ttraining's rmse: 0.217523\tvalid_1's rmse: 0.233011\n",
            "Early stopping, best iteration is:\n",
            "[140]\ttraining's rmse: 0.213175\tvalid_1's rmse: 0.232536\n"
          ]
        },
        {
          "output_type": "stream",
          "name": "stderr",
          "text": [
            "[I 2024-12-03 03:03:27,378] Trial 15 finished with value: 0.2325364655791814 and parameters: {'learning_rate': 0.019850585137538058, 'num_leaves': 382, 'max_depth': 12, 'lambda_l1': 0.10407487570325466, 'lambda_l2': 0.03642294330915713}. Best is trial 14 with value: 0.23226768624107613.\n"
          ]
        },
        {
          "output_type": "stream",
          "name": "stdout",
          "text": [
            "Training until validation scores don't improve for 50 rounds\n",
            "[100]\ttraining's rmse: 0.212442\tvalid_1's rmse: 0.232582\n",
            "Early stopping, best iteration is:\n",
            "[108]\ttraining's rmse: 0.211694\tvalid_1's rmse: 0.232574\n"
          ]
        },
        {
          "output_type": "stream",
          "name": "stderr",
          "text": [
            "[I 2024-12-03 03:03:36,192] Trial 16 finished with value: 0.2325744217268209 and parameters: {'learning_rate': 0.030824432184124343, 'num_leaves': 343, 'max_depth': 13, 'lambda_l1': 0.36429891456729696, 'lambda_l2': 0.001139718015776893}. Best is trial 14 with value: 0.23226768624107613.\n"
          ]
        },
        {
          "output_type": "stream",
          "name": "stdout",
          "text": [
            "Training until validation scores don't improve for 50 rounds\n",
            "[100]\ttraining's rmse: 0.219517\tvalid_1's rmse: 0.232636\n",
            "Early stopping, best iteration is:\n",
            "[113]\ttraining's rmse: 0.218345\tvalid_1's rmse: 0.232625\n"
          ]
        },
        {
          "output_type": "stream",
          "name": "stderr",
          "text": [
            "[I 2024-12-03 03:03:42,994] Trial 17 finished with value: 0.23262499113796595 and parameters: {'learning_rate': 0.027610909633734408, 'num_leaves': 129, 'max_depth': 17, 'lambda_l1': 0.006768558079651251, 'lambda_l2': 0.018526972387091806}. Best is trial 14 with value: 0.23226768624107613.\n"
          ]
        },
        {
          "output_type": "stream",
          "name": "stdout",
          "text": [
            "Training until validation scores don't improve for 50 rounds\n",
            "[100]\ttraining's rmse: 0.220428\tvalid_1's rmse: 0.233022\n",
            "Early stopping, best iteration is:\n",
            "[148]\ttraining's rmse: 0.215105\tvalid_1's rmse: 0.232408\n"
          ]
        },
        {
          "output_type": "stream",
          "name": "stderr",
          "text": [
            "[I 2024-12-03 03:03:55,343] Trial 18 finished with value: 0.23240790192629268 and parameters: {'learning_rate': 0.01861700643987898, 'num_leaves': 218, 'max_depth': 21, 'lambda_l1': 0.04178847159420183, 'lambda_l2': 0.1323732102651578}. Best is trial 14 with value: 0.23226768624107613.\n"
          ]
        },
        {
          "output_type": "stream",
          "name": "stdout",
          "text": [
            "Training until validation scores don't improve for 50 rounds\n",
            "[100]\ttraining's rmse: 0.224886\tvalid_1's rmse: 0.233077\n",
            "Early stopping, best iteration is:\n",
            "[125]\ttraining's rmse: 0.223692\tvalid_1's rmse: 0.233022\n"
          ]
        },
        {
          "output_type": "stream",
          "name": "stderr",
          "text": [
            "[I 2024-12-03 03:03:59,527] Trial 19 finished with value: 0.2330218039127801 and parameters: {'learning_rate': 0.03831292640239082, 'num_leaves': 39, 'max_depth': 9, 'lambda_l1': 0.003513553167586679, 'lambda_l2': 0.003630075116927157}. Best is trial 14 with value: 0.23226768624107613.\n"
          ]
        },
        {
          "output_type": "stream",
          "name": "stdout",
          "text": [
            "Training until validation scores don't improve for 50 rounds\n",
            "Early stopping, best iteration is:\n",
            "[49]\ttraining's rmse: 0.210711\tvalid_1's rmse: 0.232642\n"
          ]
        },
        {
          "output_type": "stream",
          "name": "stderr",
          "text": [
            "[I 2024-12-03 03:04:06,093] Trial 20 finished with value: 0.23264156705181663 and parameters: {'learning_rate': 0.0565748168932935, 'num_leaves': 443, 'max_depth': 15, 'lambda_l1': 0.3407683363141092, 'lambda_l2': 0.07440581230639713}. Best is trial 14 with value: 0.23226768624107613.\n"
          ]
        },
        {
          "output_type": "stream",
          "name": "stdout",
          "text": [
            "Training until validation scores don't improve for 50 rounds\n",
            "[100]\ttraining's rmse: 0.219708\tvalid_1's rmse: 0.232776\n",
            "Early stopping, best iteration is:\n",
            "[147]\ttraining's rmse: 0.214629\tvalid_1's rmse: 0.232291\n"
          ]
        },
        {
          "output_type": "stream",
          "name": "stderr",
          "text": [
            "[I 2024-12-03 03:04:18,634] Trial 21 finished with value: 0.23229080361480667 and parameters: {'learning_rate': 0.019499801041678002, 'num_leaves': 221, 'max_depth': 20, 'lambda_l1': 0.03844981350743999, 'lambda_l2': 0.28143216103784574}. Best is trial 14 with value: 0.23226768624107613.\n"
          ]
        },
        {
          "output_type": "stream",
          "name": "stdout",
          "text": [
            "Training until validation scores don't improve for 50 rounds\n",
            "[100]\ttraining's rmse: 0.219202\tvalid_1's rmse: 0.233242\n",
            "[200]\ttraining's rmse: 0.208971\tvalid_1's rmse: 0.232329\n",
            "Early stopping, best iteration is:\n",
            "[170]\ttraining's rmse: 0.211147\tvalid_1's rmse: 0.232267\n"
          ]
        },
        {
          "output_type": "stream",
          "name": "stderr",
          "text": [
            "[I 2024-12-03 03:04:34,079] Trial 22 finished with value: 0.23226689320547722 and parameters: {'learning_rate': 0.016500420353295332, 'num_leaves': 340, 'max_depth': 18, 'lambda_l1': 0.045804302464553824, 'lambda_l2': 0.6859668926855567}. Best is trial 22 with value: 0.23226689320547722.\n"
          ]
        },
        {
          "output_type": "stream",
          "name": "stdout",
          "text": [
            "Training until validation scores don't improve for 50 rounds\n",
            "[100]\ttraining's rmse: 0.213042\tvalid_1's rmse: 0.232328\n",
            "Early stopping, best iteration is:\n",
            "[117]\ttraining's rmse: 0.210504\tvalid_1's rmse: 0.232253\n"
          ]
        },
        {
          "output_type": "stream",
          "name": "stderr",
          "text": [
            "[I 2024-12-03 03:04:45,382] Trial 23 finished with value: 0.2322525771708078 and parameters: {'learning_rate': 0.024000123077568932, 'num_leaves': 331, 'max_depth': 25, 'lambda_l1': 0.04663091869175262, 'lambda_l2': 0.8471443820663116}. Best is trial 23 with value: 0.2322525771708078.\n"
          ]
        },
        {
          "output_type": "stream",
          "name": "stdout",
          "text": [
            "Training until validation scores don't improve for 50 rounds\n",
            "[100]\ttraining's rmse: 0.214078\tvalid_1's rmse: 0.232411\n",
            "Early stopping, best iteration is:\n",
            "[120]\ttraining's rmse: 0.211383\tvalid_1's rmse: 0.232341\n"
          ]
        },
        {
          "output_type": "stream",
          "name": "stderr",
          "text": [
            "[I 2024-12-03 03:04:58,237] Trial 24 finished with value: 0.23234067899907757 and parameters: {'learning_rate': 0.02483830998924221, 'num_leaves': 333, 'max_depth': 25, 'lambda_l1': 0.15162115929706835, 'lambda_l2': 9.697682273091687}. Best is trial 23 with value: 0.2322525771708078.\n"
          ]
        },
        {
          "output_type": "stream",
          "name": "stdout",
          "text": [
            "Training until validation scores don't improve for 50 rounds\n",
            "[100]\ttraining's rmse: 0.219197\tvalid_1's rmse: 0.233185\n",
            "[200]\ttraining's rmse: 0.208262\tvalid_1's rmse: 0.232311\n",
            "Early stopping, best iteration is:\n",
            "[169]\ttraining's rmse: 0.210809\tvalid_1's rmse: 0.232216\n"
          ]
        },
        {
          "output_type": "stream",
          "name": "stderr",
          "text": [
            "[I 2024-12-03 03:05:12,782] Trial 25 finished with value: 0.23221588390903045 and parameters: {'learning_rate': 0.016267566628468687, 'num_leaves': 338, 'max_depth': 23, 'lambda_l1': 0.04759649385650171, 'lambda_l2': 1.0017082198857419}. Best is trial 25 with value: 0.23221588390903045.\n"
          ]
        },
        {
          "output_type": "stream",
          "name": "stdout",
          "text": [
            "Training until validation scores don't improve for 50 rounds\n",
            "[100]\ttraining's rmse: 0.221089\tvalid_1's rmse: 0.233636\n",
            "[200]\ttraining's rmse: 0.210333\tvalid_1's rmse: 0.232331\n",
            "Early stopping, best iteration is:\n",
            "[170]\ttraining's rmse: 0.212761\tvalid_1's rmse: 0.23229\n"
          ]
        },
        {
          "output_type": "stream",
          "name": "stderr",
          "text": [
            "[I 2024-12-03 03:05:29,214] Trial 26 finished with value: 0.23229012945231395 and parameters: {'learning_rate': 0.014935657479551757, 'num_leaves': 316, 'max_depth': 23, 'lambda_l1': 0.043125913003879475, 'lambda_l2': 1.0039100712109457}. Best is trial 25 with value: 0.23221588390903045.\n"
          ]
        },
        {
          "output_type": "stream",
          "name": "stdout",
          "text": [
            "Training until validation scores don't improve for 50 rounds\n",
            "[100]\ttraining's rmse: 0.216645\tvalid_1's rmse: 0.233021\n",
            "[200]\ttraining's rmse: 0.20442\tvalid_1's rmse: 0.232299\n",
            "Early stopping, best iteration is:\n",
            "[167]\ttraining's rmse: 0.207447\tvalid_1's rmse: 0.232174\n"
          ]
        },
        {
          "output_type": "stream",
          "name": "stderr",
          "text": [
            "[I 2024-12-03 03:05:47,726] Trial 27 finished with value: 0.23217434228585013 and parameters: {'learning_rate': 0.01660596229318727, 'num_leaves': 438, 'max_depth': 24, 'lambda_l1': 0.020133301912813983, 'lambda_l2': 1.2678502358489692}. Best is trial 27 with value: 0.23217434228585013.\n"
          ]
        },
        {
          "output_type": "stream",
          "name": "stdout",
          "text": [
            "Training until validation scores don't improve for 50 rounds\n",
            "[100]\ttraining's rmse: 0.203742\tvalid_1's rmse: 0.232506\n",
            "Early stopping, best iteration is:\n",
            "[78]\ttraining's rmse: 0.2079\tvalid_1's rmse: 0.232481\n"
          ]
        },
        {
          "output_type": "stream",
          "name": "stderr",
          "text": [
            "[I 2024-12-03 03:05:57,192] Trial 28 finished with value: 0.23248138467181706 and parameters: {'learning_rate': 0.03401991407784155, 'num_leaves': 451, 'max_depth': 24, 'lambda_l1': 0.015855845334429727, 'lambda_l2': 1.2020188010554536}. Best is trial 27 with value: 0.23217434228585013.\n"
          ]
        },
        {
          "output_type": "stream",
          "name": "stdout",
          "text": [
            "Training until validation scores don't improve for 50 rounds\n",
            "[100]\ttraining's rmse: 0.209037\tvalid_1's rmse: 0.232264\n",
            "Early stopping, best iteration is:\n",
            "[123]\ttraining's rmse: 0.204991\tvalid_1's rmse: 0.232152\n"
          ]
        },
        {
          "output_type": "stream",
          "name": "stderr",
          "text": [
            "[I 2024-12-03 03:06:10,355] Trial 29 finished with value: 0.23215182094805564 and parameters: {'learning_rate': 0.022565186807481628, 'num_leaves': 510, 'max_depth': 22, 'lambda_l1': 0.0039011494190857115, 'lambda_l2': 0.1989112352872139}. Best is trial 29 with value: 0.23215182094805564.\n"
          ]
        },
        {
          "output_type": "stream",
          "name": "stdout",
          "text": [
            "Training until validation scores don't improve for 50 rounds\n",
            "[100]\ttraining's rmse: 0.221514\tvalid_1's rmse: 0.234709\n",
            "[200]\ttraining's rmse: 0.208533\tvalid_1's rmse: 0.232375\n",
            "Early stopping, best iteration is:\n",
            "[220]\ttraining's rmse: 0.206703\tvalid_1's rmse: 0.232309\n"
          ]
        },
        {
          "output_type": "stream",
          "name": "stderr",
          "text": [
            "[I 2024-12-03 03:06:30,231] Trial 30 finished with value: 0.23230898542201248 and parameters: {'learning_rate': 0.012153401914765324, 'num_leaves': 472, 'max_depth': 22, 'lambda_l1': 0.0025511009503743167, 'lambda_l2': 0.16871687911224548}. Best is trial 29 with value: 0.23215182094805564.\n"
          ]
        },
        {
          "output_type": "stream",
          "name": "stdout",
          "text": [
            "Training until validation scores don't improve for 50 rounds\n",
            "[100]\ttraining's rmse: 0.209027\tvalid_1's rmse: 0.232433\n",
            "Early stopping, best iteration is:\n",
            "[113]\ttraining's rmse: 0.206635\tvalid_1's rmse: 0.232343\n"
          ]
        },
        {
          "output_type": "stream",
          "name": "stderr",
          "text": [
            "[I 2024-12-03 03:06:42,850] Trial 31 finished with value: 0.23234334870689125 and parameters: {'learning_rate': 0.02301054566611761, 'num_leaves': 508, 'max_depth': 25, 'lambda_l1': 0.00206902137916072, 'lambda_l2': 1.6636594192356042}. Best is trial 29 with value: 0.23215182094805564.\n"
          ]
        },
        {
          "output_type": "stream",
          "name": "stdout",
          "text": [
            "Training until validation scores don't improve for 50 rounds\n",
            "[100]\ttraining's rmse: 0.208562\tvalid_1's rmse: 0.232335\n",
            "Early stopping, best iteration is:\n",
            "[101]\ttraining's rmse: 0.208391\tvalid_1's rmse: 0.232325\n"
          ]
        },
        {
          "output_type": "stream",
          "name": "stderr",
          "text": [
            "[I 2024-12-03 03:06:54,871] Trial 32 finished with value: 0.23232487696407095 and parameters: {'learning_rate': 0.027071441329886013, 'num_leaves': 408, 'max_depth': 23, 'lambda_l1': 0.005850447310408437, 'lambda_l2': 0.2810878791000188}. Best is trial 29 with value: 0.23215182094805564.\n"
          ]
        },
        {
          "output_type": "stream",
          "name": "stdout",
          "text": [
            "Training until validation scores don't improve for 50 rounds\n",
            "[100]\ttraining's rmse: 0.211628\tvalid_1's rmse: 0.232418\n",
            "Early stopping, best iteration is:\n",
            "[123]\ttraining's rmse: 0.207962\tvalid_1's rmse: 0.232249\n"
          ]
        },
        {
          "output_type": "stream",
          "name": "stderr",
          "text": [
            "[I 2024-12-03 03:07:06,456] Trial 33 finished with value: 0.23224884051738032 and parameters: {'learning_rate': 0.021932349652478495, 'num_leaves': 438, 'max_depth': 21, 'lambda_l1': 0.01922508434215867, 'lambda_l2': 0.6327186544976795}. Best is trial 29 with value: 0.23215182094805564.\n"
          ]
        },
        {
          "output_type": "stream",
          "name": "stdout",
          "text": [
            "Training until validation scores don't improve for 50 rounds\n",
            "[100]\ttraining's rmse: 0.215724\tvalid_1's rmse: 0.233024\n",
            "[200]\ttraining's rmse: 0.203685\tvalid_1's rmse: 0.232323\n",
            "Early stopping, best iteration is:\n",
            "[169]\ttraining's rmse: 0.206353\tvalid_1's rmse: 0.232238\n"
          ]
        },
        {
          "output_type": "stream",
          "name": "stderr",
          "text": [
            "[I 2024-12-03 03:07:25,046] Trial 34 finished with value: 0.23223848200991146 and parameters: {'learning_rate': 0.016801480268632638, 'num_leaves': 471, 'max_depth': 21, 'lambda_l1': 0.021588599300478722, 'lambda_l2': 0.4482923287036678}. Best is trial 29 with value: 0.23215182094805564.\n"
          ]
        },
        {
          "output_type": "stream",
          "name": "stdout",
          "text": [
            "Training until validation scores don't improve for 50 rounds\n",
            "[100]\ttraining's rmse: 0.214607\tvalid_1's rmse: 0.232793\n",
            "Early stopping, best iteration is:\n",
            "[141]\ttraining's rmse: 0.20817\tvalid_1's rmse: 0.232209\n"
          ]
        },
        {
          "output_type": "stream",
          "name": "stderr",
          "text": [
            "[I 2024-12-03 03:07:42,234] Trial 35 finished with value: 0.23220921494184635 and parameters: {'learning_rate': 0.017620229157807494, 'num_leaves': 471, 'max_depth': 23, 'lambda_l1': 0.012218635584612874, 'lambda_l2': 0.3577519283673365}. Best is trial 29 with value: 0.23215182094805564.\n"
          ]
        },
        {
          "output_type": "stream",
          "name": "stdout",
          "text": [
            "Training until validation scores don't improve for 50 rounds\n",
            "[100]\ttraining's rmse: 0.21433\tvalid_1's rmse: 0.232892\n",
            "Early stopping, best iteration is:\n",
            "[146]\ttraining's rmse: 0.207152\tvalid_1's rmse: 0.232219\n"
          ]
        },
        {
          "output_type": "stream",
          "name": "stderr",
          "text": [
            "[I 2024-12-03 03:07:56,786] Trial 36 finished with value: 0.23221932325761938 and parameters: {'learning_rate': 0.01739444514818789, 'num_leaves': 492, 'max_depth': 23, 'lambda_l1': 0.01083417410796213, 'lambda_l2': 0.18485807003557353}. Best is trial 29 with value: 0.23215182094805564.\n"
          ]
        },
        {
          "output_type": "stream",
          "name": "stdout",
          "text": [
            "Training until validation scores don't improve for 50 rounds\n",
            "[100]\ttraining's rmse: 0.218832\tvalid_1's rmse: 0.233513\n",
            "[200]\ttraining's rmse: 0.206661\tvalid_1's rmse: 0.23234\n",
            "Early stopping, best iteration is:\n",
            "[168]\ttraining's rmse: 0.209651\tvalid_1's rmse: 0.23228\n"
          ]
        },
        {
          "output_type": "stream",
          "name": "stderr",
          "text": [
            "[I 2024-12-03 03:08:12,467] Trial 37 finished with value: 0.23228000432750645 and parameters: {'learning_rate': 0.015006343065077952, 'num_leaves': 406, 'max_depth': 24, 'lambda_l1': 0.011566674121052356, 'lambda_l2': 0.04966431592551633}. Best is trial 29 with value: 0.23215182094805564.\n"
          ]
        },
        {
          "output_type": "stream",
          "name": "stdout",
          "text": [
            "Training until validation scores don't improve for 50 rounds\n",
            "[100]\ttraining's rmse: 0.222781\tvalid_1's rmse: 0.234955\n",
            "[200]\ttraining's rmse: 0.210248\tvalid_1's rmse: 0.232335\n",
            "[300]\ttraining's rmse: 0.203636\tvalid_1's rmse: 0.232294\n",
            "Early stopping, best iteration is:\n",
            "[253]\ttraining's rmse: 0.206246\tvalid_1's rmse: 0.232221\n"
          ]
        },
        {
          "output_type": "stream",
          "name": "stderr",
          "text": [
            "[I 2024-12-03 03:08:35,034] Trial 38 finished with value: 0.232221297163907 and parameters: {'learning_rate': 0.01175301700850689, 'num_leaves': 467, 'max_depth': 20, 'lambda_l1': 0.005363744324029384, 'lambda_l2': 1.9074288352830804}. Best is trial 29 with value: 0.23215182094805564.\n"
          ]
        },
        {
          "output_type": "stream",
          "name": "stdout",
          "text": [
            "Training until validation scores don't improve for 50 rounds\n",
            "Early stopping, best iteration is:\n",
            "[46]\ttraining's rmse: 0.213192\tvalid_1's rmse: 0.232551\n"
          ]
        },
        {
          "output_type": "stream",
          "name": "stderr",
          "text": [
            "[I 2024-12-03 03:08:41,494] Trial 39 finished with value: 0.23255057247018768 and parameters: {'learning_rate': 0.05288943244286701, 'num_leaves': 375, 'max_depth': 22, 'lambda_l1': 0.07154334826243573, 'lambda_l2': 5.032804682019677}. Best is trial 29 with value: 0.23215182094805564.\n"
          ]
        },
        {
          "output_type": "stream",
          "name": "stdout",
          "text": [
            "Training until validation scores don't improve for 50 rounds\n",
            "[100]\ttraining's rmse: 0.227555\tvalid_1's rmse: 0.235129\n",
            "[200]\ttraining's rmse: 0.220229\tvalid_1's rmse: 0.232777\n",
            "[300]\ttraining's rmse: 0.217668\tvalid_1's rmse: 0.232661\n",
            "Early stopping, best iteration is:\n",
            "[279]\ttraining's rmse: 0.218077\tvalid_1's rmse: 0.232628\n"
          ]
        },
        {
          "output_type": "stream",
          "name": "stderr",
          "text": [
            "[I 2024-12-03 03:08:54,395] Trial 40 finished with value: 0.23262842021975794 and parameters: {'learning_rate': 0.013098155737966043, 'num_leaves': 425, 'max_depth': 9, 'lambda_l1': 0.02651019765469561, 'lambda_l2': 0.305704242782887}. Best is trial 29 with value: 0.23215182094805564.\n"
          ]
        },
        {
          "output_type": "stream",
          "name": "stdout",
          "text": [
            "Training until validation scores don't improve for 50 rounds\n",
            "[100]\ttraining's rmse: 0.210436\tvalid_1's rmse: 0.232499\n",
            "Early stopping, best iteration is:\n",
            "[123]\ttraining's rmse: 0.20638\tvalid_1's rmse: 0.232282\n"
          ]
        },
        {
          "output_type": "stream",
          "name": "stderr",
          "text": [
            "[I 2024-12-03 03:09:07,316] Trial 41 finished with value: 0.2322816674842417 and parameters: {'learning_rate': 0.021087734303879817, 'num_leaves': 501, 'max_depth': 24, 'lambda_l1': 0.012485356484118401, 'lambda_l2': 0.17300537485411285}. Best is trial 29 with value: 0.23215182094805564.\n"
          ]
        },
        {
          "output_type": "stream",
          "name": "stdout",
          "text": [
            "Training until validation scores don't improve for 50 rounds\n",
            "[100]\ttraining's rmse: 0.215221\tvalid_1's rmse: 0.232953\n",
            "Early stopping, best iteration is:\n",
            "[147]\ttraining's rmse: 0.208021\tvalid_1's rmse: 0.232252\n"
          ]
        },
        {
          "output_type": "stream",
          "name": "stderr",
          "text": [
            "[I 2024-12-03 03:09:24,868] Trial 42 finished with value: 0.23225178749581574 and parameters: {'learning_rate': 0.016919051440033993, 'num_leaves': 475, 'max_depth': 23, 'lambda_l1': 0.0014923268729849324, 'lambda_l2': 0.20275789894589538}. Best is trial 29 with value: 0.23215182094805564.\n"
          ]
        },
        {
          "output_type": "stream",
          "name": "stdout",
          "text": [
            "Training until validation scores don't improve for 50 rounds\n",
            "[100]\ttraining's rmse: 0.214432\tvalid_1's rmse: 0.232774\n",
            "Early stopping, best iteration is:\n",
            "[143]\ttraining's rmse: 0.207765\tvalid_1's rmse: 0.232174\n"
          ]
        },
        {
          "output_type": "stream",
          "name": "stderr",
          "text": [
            "[I 2024-12-03 03:09:41,859] Trial 43 finished with value: 0.23217394736594177 and parameters: {'learning_rate': 0.017779047930610033, 'num_leaves': 488, 'max_depth': 22, 'lambda_l1': 0.009148361257550967, 'lambda_l2': 1.2632727865230888}. Best is trial 29 with value: 0.23215182094805564.\n"
          ]
        },
        {
          "output_type": "stream",
          "name": "stdout",
          "text": [
            "Training until validation scores don't improve for 50 rounds\n",
            "[100]\ttraining's rmse: 0.218457\tvalid_1's rmse: 0.233713\n",
            "[200]\ttraining's rmse: 0.20573\tvalid_1's rmse: 0.232164\n",
            "Early stopping, best iteration is:\n",
            "[184]\ttraining's rmse: 0.207148\tvalid_1's rmse: 0.232149\n"
          ]
        },
        {
          "output_type": "stream",
          "name": "stderr",
          "text": [
            "[I 2024-12-03 03:10:02,451] Trial 44 finished with value: 0.23214882260549774 and parameters: {'learning_rate': 0.014223644707613666, 'num_leaves': 512, 'max_depth': 19, 'lambda_l1': 0.004071154648893681, 'lambda_l2': 1.4099886344987713}. Best is trial 44 with value: 0.23214882260549774.\n"
          ]
        },
        {
          "output_type": "stream",
          "name": "stdout",
          "text": [
            "Training until validation scores don't improve for 50 rounds\n",
            "[100]\ttraining's rmse: 0.219275\tvalid_1's rmse: 0.233874\n",
            "[200]\ttraining's rmse: 0.206533\tvalid_1's rmse: 0.232182\n",
            "Early stopping, best iteration is:\n",
            "[195]\ttraining's rmse: 0.206956\tvalid_1's rmse: 0.232165\n"
          ]
        },
        {
          "output_type": "stream",
          "name": "stderr",
          "text": [
            "[I 2024-12-03 03:10:19,935] Trial 45 finished with value: 0.23216482503923075 and parameters: {'learning_rate': 0.013810903719360492, 'num_leaves': 507, 'max_depth': 20, 'lambda_l1': 0.0037286207525559167, 'lambda_l2': 2.493595326212647}. Best is trial 44 with value: 0.23214882260549774.\n"
          ]
        },
        {
          "output_type": "stream",
          "name": "stdout",
          "text": [
            "Training until validation scores don't improve for 50 rounds\n",
            "[100]\ttraining's rmse: 0.21962\tvalid_1's rmse: 0.233913\n",
            "[200]\ttraining's rmse: 0.207146\tvalid_1's rmse: 0.232253\n",
            "Early stopping, best iteration is:\n",
            "[209]\ttraining's rmse: 0.206389\tvalid_1's rmse: 0.232239\n"
          ]
        },
        {
          "output_type": "stream",
          "name": "stderr",
          "text": [
            "[I 2024-12-03 03:10:39,182] Trial 46 finished with value: 0.23223855505758348 and parameters: {'learning_rate': 0.013869576922828437, 'num_leaves': 510, 'max_depth': 19, 'lambda_l1': 0.003866297017489151, 'lambda_l2': 3.993203964643026}. Best is trial 44 with value: 0.23214882260549774.\n"
          ]
        },
        {
          "output_type": "stream",
          "name": "stdout",
          "text": [
            "Training until validation scores don't improve for 50 rounds\n",
            "[100]\ttraining's rmse: 0.222352\tvalid_1's rmse: 0.234657\n",
            "[200]\ttraining's rmse: 0.210234\tvalid_1's rmse: 0.232271\n",
            "Early stopping, best iteration is:\n",
            "[220]\ttraining's rmse: 0.208623\tvalid_1's rmse: 0.232202\n"
          ]
        },
        {
          "output_type": "stream",
          "name": "stderr",
          "text": [
            "[I 2024-12-03 03:10:58,819] Trial 47 finished with value: 0.23220207543865254 and parameters: {'learning_rate': 0.012482278983957651, 'num_leaves': 490, 'max_depth': 19, 'lambda_l1': 0.0016540953474836384, 'lambda_l2': 6.838208718765304}. Best is trial 44 with value: 0.23214882260549774.\n"
          ]
        },
        {
          "output_type": "stream",
          "name": "stdout",
          "text": [
            "Training until validation scores don't improve for 50 rounds\n",
            "[100]\ttraining's rmse: 0.240261\tvalid_1's rmse: 0.241201\n",
            "[200]\ttraining's rmse: 0.235775\tvalid_1's rmse: 0.237382\n",
            "[300]\ttraining's rmse: 0.23404\tvalid_1's rmse: 0.236284\n",
            "[400]\ttraining's rmse: 0.232954\tvalid_1's rmse: 0.235722\n",
            "[500]\ttraining's rmse: 0.232138\tvalid_1's rmse: 0.235355\n",
            "[600]\ttraining's rmse: 0.23155\tvalid_1's rmse: 0.235176\n",
            "[700]\ttraining's rmse: 0.230964\tvalid_1's rmse: 0.234986\n",
            "[800]\ttraining's rmse: 0.230494\tvalid_1's rmse: 0.234884\n",
            "[900]\ttraining's rmse: 0.230031\tvalid_1's rmse: 0.234709\n",
            "[1000]\ttraining's rmse: 0.229626\tvalid_1's rmse: 0.2346\n",
            "Did not meet early stopping. Best iteration is:\n",
            "[1000]\ttraining's rmse: 0.229626\tvalid_1's rmse: 0.2346\n"
          ]
        },
        {
          "output_type": "stream",
          "name": "stderr",
          "text": [
            "[I 2024-12-03 03:11:09,291] Trial 48 finished with value: 0.23459964342227888 and parameters: {'learning_rate': 0.011163599892692139, 'num_leaves': 511, 'max_depth': 3, 'lambda_l1': 0.002673813914922008, 'lambda_l2': 2.2471283898579726}. Best is trial 44 with value: 0.23214882260549774.\n"
          ]
        },
        {
          "output_type": "stream",
          "name": "stdout",
          "text": [
            "Training until validation scores don't improve for 50 rounds\n",
            "[100]\ttraining's rmse: 0.218606\tvalid_1's rmse: 0.233536\n",
            "[200]\ttraining's rmse: 0.206411\tvalid_1's rmse: 0.23222\n",
            "Early stopping, best iteration is:\n",
            "[169]\ttraining's rmse: 0.209212\tvalid_1's rmse: 0.23218\n"
          ]
        },
        {
          "output_type": "stream",
          "name": "stderr",
          "text": [
            "[I 2024-12-03 03:11:25,640] Trial 49 finished with value: 0.2321798129514878 and parameters: {'learning_rate': 0.014848458846482395, 'num_leaves': 453, 'max_depth': 21, 'lambda_l1': 0.004858230357391291, 'lambda_l2': 1.6892354956820483}. Best is trial 44 with value: 0.23214882260549774.\n"
          ]
        },
        {
          "output_type": "stream",
          "name": "stdout",
          "text": [
            "Best parameters: {'learning_rate': 0.014223644707613666, 'num_leaves': 512, 'max_depth': 19, 'lambda_l1': 0.004071154648893681, 'lambda_l2': 1.4099886344987713}\n"
          ]
        }
      ]
    },
    {
      "cell_type": "code",
      "source": [
        "params = {\n",
        "    'objective': 'regression',\n",
        "    'metric': 'rmse',\n",
        "    'boosting_type': 'gbdt',\n",
        "    'learning_rate': 0.015,\n",
        "    'num_leaves': 512,\n",
        "    'max_depth': 19,\n",
        "    'bagging_seed': 42,\n",
        "    'bagging_fraction': 0.8,\n",
        "    'bagging_freq': 5,\n",
        "    'feature_fraction': 0.8,\n",
        "    'lambda_l1': 0.004,\n",
        "    'lambda_l2': 1.41,\n",
        "    'verbose': -1\n",
        "}"
      ],
      "metadata": {
        "id": "Kl0fkzIyjU69"
      },
      "execution_count": null,
      "outputs": []
    },
    {
      "cell_type": "code",
      "source": [
        "model_tabular = fit_lgb(\n",
        "    train_tabular_X, train_y,\n",
        "    test_tabular_X, test_y,\n",
        "    categorical_features=categorical_features,\n",
        "    params=params,\n",
        ")"
      ],
      "metadata": {
        "colab": {
          "base_uri": "https://localhost:8080/"
        },
        "id": "P718PGpGcJxU",
        "outputId": "fb9898bb-2d9c-427b-a857-36030882f791"
      },
      "execution_count": null,
      "outputs": [
        {
          "output_type": "stream",
          "name": "stdout",
          "text": [
            "Training until validation scores don't improve for 50 rounds\n",
            "[40]\ttraining's rmse: 0.234383\tvalid_1's rmse: 0.241233\n",
            "[80]\ttraining's rmse: 0.221675\tvalid_1's rmse: 0.234866\n",
            "[120]\ttraining's rmse: 0.214027\tvalid_1's rmse: 0.232811\n",
            "[160]\ttraining's rmse: 0.208875\tvalid_1's rmse: 0.232367\n",
            "[200]\ttraining's rmse: 0.205061\tvalid_1's rmse: 0.232388\n",
            "Early stopping, best iteration is:\n",
            "[170]\ttraining's rmse: 0.207704\tvalid_1's rmse: 0.232313\n",
            "RMSE: 0.23201362973381603\n"
          ]
        }
      ]
    },
    {
      "cell_type": "markdown",
      "source": [
        "# LightGBM with image only"
      ],
      "metadata": {
        "id": "kv4K2aC2Mzcp"
      }
    },
    {
      "cell_type": "code",
      "source": [
        "model_image_only = fit_lgb(\n",
        "    train_image_X, train_y,\n",
        "    test_image_X, test_y,\n",
        "    categorical_features=[],\n",
        "    params=params,\n",
        ")"
      ],
      "metadata": {
        "colab": {
          "base_uri": "https://localhost:8080/"
        },
        "id": "m_RTAGzPM4Np",
        "outputId": "6ffdd17f-ec87-46a1-a503-7adfbc0a5971"
      },
      "execution_count": null,
      "outputs": [
        {
          "output_type": "stream",
          "name": "stdout",
          "text": [
            "Training until validation scores don't improve for 50 rounds\n",
            "[40]\ttraining's rmse: 0.240442\tvalid_1's rmse: 0.250389\n",
            "[80]\ttraining's rmse: 0.227216\tvalid_1's rmse: 0.246379\n",
            "[120]\ttraining's rmse: 0.216999\tvalid_1's rmse: 0.244656\n",
            "[160]\ttraining's rmse: 0.208308\tvalid_1's rmse: 0.243891\n",
            "[200]\ttraining's rmse: 0.200535\tvalid_1's rmse: 0.243424\n",
            "[240]\ttraining's rmse: 0.193387\tvalid_1's rmse: 0.243142\n",
            "[280]\ttraining's rmse: 0.186726\tvalid_1's rmse: 0.242976\n",
            "[320]\ttraining's rmse: 0.18046\tvalid_1's rmse: 0.242812\n",
            "[360]\ttraining's rmse: 0.174563\tvalid_1's rmse: 0.242708\n",
            "[400]\ttraining's rmse: 0.168932\tvalid_1's rmse: 0.242645\n",
            "[440]\ttraining's rmse: 0.163605\tvalid_1's rmse: 0.242575\n",
            "[480]\ttraining's rmse: 0.1585\tvalid_1's rmse: 0.242511\n",
            "[520]\ttraining's rmse: 0.153647\tvalid_1's rmse: 0.242497\n",
            "[560]\ttraining's rmse: 0.148909\tvalid_1's rmse: 0.242491\n",
            "[600]\ttraining's rmse: 0.144334\tvalid_1's rmse: 0.242462\n",
            "[640]\ttraining's rmse: 0.139979\tvalid_1's rmse: 0.242452\n",
            "[680]\ttraining's rmse: 0.13583\tvalid_1's rmse: 0.242412\n",
            "[720]\ttraining's rmse: 0.13172\tvalid_1's rmse: 0.242443\n",
            "Early stopping, best iteration is:\n",
            "[681]\ttraining's rmse: 0.135721\tvalid_1's rmse: 0.242411\n",
            "RMSE: 0.2425525867721706\n"
          ]
        }
      ]
    },
    {
      "cell_type": "markdown",
      "source": [
        "# LightGBM with tabular and image\n",
        "\n",
        "重新tune了, 但是作用不大, 大概0.0001 (0.23058407724168462 到 0.23048984669350972)"
      ],
      "metadata": {
        "id": "JlwyGpGtM4_O"
      }
    },
    {
      "cell_type": "code",
      "source": [
        "train_merged_X = pd.concat([train_tabular_X, train_image_X], axis=1)\n",
        "test_merged_X = pd.concat([test_tabular_X, test_image_X], axis=1)"
      ],
      "metadata": {
        "id": "-bK-usCGM8mY"
      },
      "execution_count": null,
      "outputs": []
    },
    {
      "cell_type": "code",
      "source": [
        "tune_params(train_merged_X, train_y, categorical_features)"
      ],
      "metadata": {
        "colab": {
          "base_uri": "https://localhost:8080/"
        },
        "collapsed": true,
        "id": "tEo86vDOn0d_",
        "outputId": "feba0246-842a-40a9-add5-1e2008d02845"
      },
      "execution_count": null,
      "outputs": [
        {
          "output_type": "stream",
          "name": "stderr",
          "text": [
            "[I 2024-12-03 03:45:42,919] A new study created in memory with name: no-name-a7c616ea-c15d-496a-81ad-a248862ad48e\n"
          ]
        },
        {
          "output_type": "stream",
          "name": "stdout",
          "text": [
            "Training until validation scores don't improve for 50 rounds\n",
            "[100]\ttraining's rmse: 0.208326\tvalid_1's rmse: 0.231579\n",
            "[200]\ttraining's rmse: 0.190566\tvalid_1's rmse: 0.231301\n",
            "Early stopping, best iteration is:\n",
            "[166]\ttraining's rmse: 0.1959\tvalid_1's rmse: 0.23121\n"
          ]
        },
        {
          "output_type": "stream",
          "name": "stderr",
          "text": [
            "[I 2024-12-03 03:47:27,891] Trial 0 finished with value: 0.23120950316652814 and parameters: {'learning_rate': 0.02429618726364619, 'num_leaves': 217, 'max_depth': 22, 'lambda_l1': 0.0020150120220779116, 'lambda_l2': 0.0019338570570551616}. Best is trial 0 with value: 0.23120950316652814.\n"
          ]
        },
        {
          "output_type": "stream",
          "name": "stdout",
          "text": [
            "Training until validation scores don't improve for 50 rounds\n",
            "[100]\ttraining's rmse: 0.193243\tvalid_1's rmse: 0.231805\n",
            "Early stopping, best iteration is:\n",
            "[63]\ttraining's rmse: 0.202784\tvalid_1's rmse: 0.23167\n"
          ]
        },
        {
          "output_type": "stream",
          "name": "stderr",
          "text": [
            "[I 2024-12-03 03:48:16,716] Trial 1 finished with value: 0.23167041366684796 and parameters: {'learning_rate': 0.05742061349442545, 'num_leaves': 226, 'max_depth': 13, 'lambda_l1': 0.5762197649425199, 'lambda_l2': 0.10693448076355995}. Best is trial 0 with value: 0.23120950316652814.\n"
          ]
        },
        {
          "output_type": "stream",
          "name": "stdout",
          "text": [
            "Training until validation scores don't improve for 50 rounds\n",
            "[100]\ttraining's rmse: 0.227394\tvalid_1's rmse: 0.23375\n",
            "[200]\ttraining's rmse: 0.223283\tvalid_1's rmse: 0.233501\n",
            "[300]\ttraining's rmse: 0.220196\tvalid_1's rmse: 0.23328\n",
            "Early stopping, best iteration is:\n",
            "[338]\ttraining's rmse: 0.219238\tvalid_1's rmse: 0.233267\n"
          ]
        },
        {
          "output_type": "stream",
          "name": "stderr",
          "text": [
            "[I 2024-12-03 03:48:54,147] Trial 2 finished with value: 0.23326724541918753 and parameters: {'learning_rate': 0.0706396640877229, 'num_leaves': 470, 'max_depth': 4, 'lambda_l1': 0.008199191303265768, 'lambda_l2': 0.07216715307254849}. Best is trial 0 with value: 0.23120950316652814.\n"
          ]
        },
        {
          "output_type": "stream",
          "name": "stdout",
          "text": [
            "Training until validation scores don't improve for 50 rounds\n",
            "[100]\ttraining's rmse: 0.226974\tvalid_1's rmse: 0.235007\n",
            "[200]\ttraining's rmse: 0.21651\tvalid_1's rmse: 0.231828\n",
            "[300]\ttraining's rmse: 0.20978\tvalid_1's rmse: 0.231432\n",
            "[400]\ttraining's rmse: 0.204013\tvalid_1's rmse: 0.231336\n",
            "[500]\ttraining's rmse: 0.198881\tvalid_1's rmse: 0.231305\n",
            "Early stopping, best iteration is:\n",
            "[485]\ttraining's rmse: 0.199633\tvalid_1's rmse: 0.231277\n"
          ]
        },
        {
          "output_type": "stream",
          "name": "stderr",
          "text": [
            "[I 2024-12-03 03:51:32,033] Trial 3 finished with value: 0.23127660797714159 and parameters: {'learning_rate': 0.012426288293022003, 'num_leaves': 120, 'max_depth': 18, 'lambda_l1': 0.02208053273804723, 'lambda_l2': 0.016718108502197536}. Best is trial 0 with value: 0.23120950316652814.\n"
          ]
        },
        {
          "output_type": "stream",
          "name": "stdout",
          "text": [
            "Training until validation scores don't improve for 50 rounds\n",
            "[100]\ttraining's rmse: 0.238579\tvalid_1's rmse: 0.23993\n",
            "[200]\ttraining's rmse: 0.233416\tvalid_1's rmse: 0.235844\n",
            "[300]\ttraining's rmse: 0.231375\tvalid_1's rmse: 0.234726\n",
            "[400]\ttraining's rmse: 0.230203\tvalid_1's rmse: 0.234363\n",
            "[500]\ttraining's rmse: 0.229152\tvalid_1's rmse: 0.234045\n",
            "[600]\ttraining's rmse: 0.228244\tvalid_1's rmse: 0.233788\n",
            "[700]\ttraining's rmse: 0.227459\tvalid_1's rmse: 0.23366\n",
            "[800]\ttraining's rmse: 0.226753\tvalid_1's rmse: 0.233541\n",
            "[900]\ttraining's rmse: 0.226148\tvalid_1's rmse: 0.233432\n",
            "[1000]\ttraining's rmse: 0.225583\tvalid_1's rmse: 0.233383\n",
            "Did not meet early stopping. Best iteration is:\n",
            "[995]\ttraining's rmse: 0.225604\tvalid_1's rmse: 0.233379\n"
          ]
        },
        {
          "output_type": "stream",
          "name": "stderr",
          "text": [
            "[I 2024-12-03 03:52:45,098] Trial 4 finished with value: 0.2333785816579804 and parameters: {'learning_rate': 0.010685473354365382, 'num_leaves': 238, 'max_depth': 4, 'lambda_l1': 2.119023320602091, 'lambda_l2': 0.013894273247599339}. Best is trial 0 with value: 0.23120950316652814.\n"
          ]
        },
        {
          "output_type": "stream",
          "name": "stdout",
          "text": [
            "Training until validation scores don't improve for 50 rounds\n",
            "[100]\ttraining's rmse: 0.24006\tvalid_1's rmse: 0.241024\n",
            "[200]\ttraining's rmse: 0.23558\tvalid_1's rmse: 0.237192\n",
            "[300]\ttraining's rmse: 0.233747\tvalid_1's rmse: 0.236049\n",
            "[400]\ttraining's rmse: 0.232651\tvalid_1's rmse: 0.235566\n",
            "[500]\ttraining's rmse: 0.231725\tvalid_1's rmse: 0.235189\n",
            "[600]\ttraining's rmse: 0.23091\tvalid_1's rmse: 0.234879\n",
            "[700]\ttraining's rmse: 0.230259\tvalid_1's rmse: 0.234709\n",
            "[800]\ttraining's rmse: 0.229635\tvalid_1's rmse: 0.234537\n",
            "[900]\ttraining's rmse: 0.229026\tvalid_1's rmse: 0.234336\n",
            "[1000]\ttraining's rmse: 0.228524\tvalid_1's rmse: 0.234228\n",
            "Did not meet early stopping. Best iteration is:\n",
            "[995]\ttraining's rmse: 0.228543\tvalid_1's rmse: 0.234226\n"
          ]
        },
        {
          "output_type": "stream",
          "name": "stderr",
          "text": [
            "[I 2024-12-03 03:53:47,977] Trial 5 finished with value: 0.234226364159049 and parameters: {'learning_rate': 0.011369624834067019, 'num_leaves': 402, 'max_depth': 3, 'lambda_l1': 0.022609317343964968, 'lambda_l2': 0.07098952843270898}. Best is trial 0 with value: 0.23120950316652814.\n"
          ]
        },
        {
          "output_type": "stream",
          "name": "stdout",
          "text": [
            "Training until validation scores don't improve for 50 rounds\n",
            "[100]\ttraining's rmse: 0.208683\tvalid_1's rmse: 0.231836\n",
            "[200]\ttraining's rmse: 0.193712\tvalid_1's rmse: 0.231471\n",
            "Early stopping, best iteration is:\n",
            "[212]\ttraining's rmse: 0.192233\tvalid_1's rmse: 0.231449\n"
          ]
        },
        {
          "output_type": "stream",
          "name": "stderr",
          "text": [
            "[I 2024-12-03 03:55:32,537] Trial 6 finished with value: 0.23144917498096487 and parameters: {'learning_rate': 0.023887290240191327, 'num_leaves': 235, 'max_depth': 14, 'lambda_l1': 0.009818124354654676, 'lambda_l2': 0.22576650798976006}. Best is trial 0 with value: 0.23120950316652814.\n"
          ]
        },
        {
          "output_type": "stream",
          "name": "stdout",
          "text": [
            "Training until validation scores don't improve for 50 rounds\n",
            "[100]\ttraining's rmse: 0.208428\tvalid_1's rmse: 0.232138\n",
            "[200]\ttraining's rmse: 0.188779\tvalid_1's rmse: 0.230967\n",
            "Early stopping, best iteration is:\n",
            "[229]\ttraining's rmse: 0.184384\tvalid_1's rmse: 0.230917\n"
          ]
        },
        {
          "output_type": "stream",
          "name": "stderr",
          "text": [
            "[I 2024-12-03 03:58:08,458] Trial 7 finished with value: 0.23091719318486012 and parameters: {'learning_rate': 0.0189784676448112, 'num_leaves': 299, 'max_depth': 24, 'lambda_l1': 0.009082440668620137, 'lambda_l2': 0.0016375437447791563}. Best is trial 7 with value: 0.23091719318486012.\n"
          ]
        },
        {
          "output_type": "stream",
          "name": "stdout",
          "text": [
            "Training until validation scores don't improve for 50 rounds\n",
            "[100]\ttraining's rmse: 0.219837\tvalid_1's rmse: 0.232848\n",
            "Early stopping, best iteration is:\n",
            "[119]\ttraining's rmse: 0.21823\tvalid_1's rmse: 0.232795\n"
          ]
        },
        {
          "output_type": "stream",
          "name": "stderr",
          "text": [
            "[I 2024-12-03 03:58:38,285] Trial 8 finished with value: 0.23279518380777212 and parameters: {'learning_rate': 0.06745711940234676, 'num_leaves': 274, 'max_depth': 6, 'lambda_l1': 0.0019025110946347648, 'lambda_l2': 0.4796533276311001}. Best is trial 7 with value: 0.23091719318486012.\n"
          ]
        },
        {
          "output_type": "stream",
          "name": "stdout",
          "text": [
            "Training until validation scores don't improve for 50 rounds\n",
            "[100]\ttraining's rmse: 0.234183\tvalid_1's rmse: 0.2372\n",
            "[200]\ttraining's rmse: 0.228072\tvalid_1's rmse: 0.233653\n",
            "[300]\ttraining's rmse: 0.225589\tvalid_1's rmse: 0.232922\n",
            "[400]\ttraining's rmse: 0.223962\tvalid_1's rmse: 0.232656\n",
            "[500]\ttraining's rmse: 0.222541\tvalid_1's rmse: 0.232449\n",
            "[600]\ttraining's rmse: 0.221288\tvalid_1's rmse: 0.232355\n",
            "[700]\ttraining's rmse: 0.220119\tvalid_1's rmse: 0.232285\n",
            "[800]\ttraining's rmse: 0.219072\tvalid_1's rmse: 0.232245\n",
            "Early stopping, best iteration is:\n",
            "[780]\ttraining's rmse: 0.219266\tvalid_1's rmse: 0.232242\n"
          ]
        },
        {
          "output_type": "stream",
          "name": "stderr",
          "text": [
            "[I 2024-12-03 03:59:58,090] Trial 9 finished with value: 0.23224174693742314 and parameters: {'learning_rate': 0.011914157805421047, 'num_leaves': 135, 'max_depth': 6, 'lambda_l1': 3.4945129812881914, 'lambda_l2': 0.0017908798859425207}. Best is trial 7 with value: 0.23091719318486012.\n"
          ]
        },
        {
          "output_type": "stream",
          "name": "stdout",
          "text": [
            "Training until validation scores don't improve for 50 rounds\n",
            "[100]\ttraining's rmse: 0.223131\tvalid_1's rmse: 0.232443\n",
            "Early stopping, best iteration is:\n",
            "[115]\ttraining's rmse: 0.221842\tvalid_1's rmse: 0.232355\n"
          ]
        },
        {
          "output_type": "stream",
          "name": "stderr",
          "text": [
            "[I 2024-12-03 04:00:34,407] Trial 10 finished with value: 0.23235487412527736 and parameters: {'learning_rate': 0.037895290398248, 'num_leaves': 32, 'max_depth': 25, 'lambda_l1': 0.20357539168261957, 'lambda_l2': 4.723394449640031}. Best is trial 7 with value: 0.23091719318486012.\n"
          ]
        },
        {
          "output_type": "stream",
          "name": "stdout",
          "text": [
            "Training until validation scores don't improve for 50 rounds\n",
            "[100]\ttraining's rmse: 0.200836\tvalid_1's rmse: 0.23166\n",
            "[200]\ttraining's rmse: 0.178376\tvalid_1's rmse: 0.231109\n",
            "Early stopping, best iteration is:\n",
            "[216]\ttraining's rmse: 0.175457\tvalid_1's rmse: 0.231076\n"
          ]
        },
        {
          "output_type": "stream",
          "name": "stderr",
          "text": [
            "[I 2024-12-03 04:03:13,073] Trial 11 finished with value: 0.23107642220978097 and parameters: {'learning_rate': 0.022253849290452196, 'num_leaves': 352, 'max_depth': 24, 'lambda_l1': 0.0022407545214352025, 'lambda_l2': 0.0011391126383219594}. Best is trial 7 with value: 0.23091719318486012.\n"
          ]
        },
        {
          "output_type": "stream",
          "name": "stdout",
          "text": [
            "Training until validation scores don't improve for 50 rounds\n",
            "[100]\ttraining's rmse: 0.203928\tvalid_1's rmse: 0.231868\n",
            "[200]\ttraining's rmse: 0.182924\tvalid_1's rmse: 0.230871\n",
            "Early stopping, best iteration is:\n",
            "[213]\ttraining's rmse: 0.180877\tvalid_1's rmse: 0.230804\n"
          ]
        },
        {
          "output_type": "stream",
          "name": "stderr",
          "text": [
            "[I 2024-12-03 04:05:51,089] Trial 12 finished with value: 0.2308040858372544 and parameters: {'learning_rate': 0.019319416291094835, 'num_leaves': 372, 'max_depth': 20, 'lambda_l1': 0.0010036190858622597, 'lambda_l2': 0.0070458956359170455}. Best is trial 12 with value: 0.2308040858372544.\n"
          ]
        },
        {
          "output_type": "stream",
          "name": "stdout",
          "text": [
            "Training until validation scores don't improve for 50 rounds\n",
            "[100]\ttraining's rmse: 0.209108\tvalid_1's rmse: 0.232574\n",
            "[200]\ttraining's rmse: 0.190352\tvalid_1's rmse: 0.231052\n",
            "[300]\ttraining's rmse: 0.17773\tvalid_1's rmse: 0.231033\n",
            "Early stopping, best iteration is:\n",
            "[255]\ttraining's rmse: 0.183026\tvalid_1's rmse: 0.231022\n"
          ]
        },
        {
          "output_type": "stream",
          "name": "stderr",
          "text": [
            "[I 2024-12-03 04:08:41,143] Trial 13 finished with value: 0.2310224426422655 and parameters: {'learning_rate': 0.01732527966855761, 'num_leaves': 334, 'max_depth': 18, 'lambda_l1': 0.044477819206126326, 'lambda_l2': 0.00785526582469286}. Best is trial 12 with value: 0.2308040858372544.\n"
          ]
        },
        {
          "output_type": "stream",
          "name": "stdout",
          "text": [
            "Training until validation scores don't improve for 50 rounds\n",
            "[100]\ttraining's rmse: 0.178179\tvalid_1's rmse: 0.231242\n",
            "Early stopping, best iteration is:\n",
            "[113]\ttraining's rmse: 0.17406\tvalid_1's rmse: 0.231201\n"
          ]
        },
        {
          "output_type": "stream",
          "name": "stderr",
          "text": [
            "[I 2024-12-03 04:10:38,749] Trial 14 finished with value: 0.23120129162969263 and parameters: {'learning_rate': 0.03612836167710554, 'num_leaves': 472, 'max_depth': 20, 'lambda_l1': 0.001296619420484964, 'lambda_l2': 0.005723952328697583}. Best is trial 12 with value: 0.2308040858372544.\n"
          ]
        },
        {
          "output_type": "stream",
          "name": "stdout",
          "text": [
            "Training until validation scores don't improve for 50 rounds\n",
            "[100]\ttraining's rmse: 0.207705\tvalid_1's rmse: 0.232961\n",
            "[200]\ttraining's rmse: 0.187553\tvalid_1's rmse: 0.231216\n",
            "[300]\ttraining's rmse: 0.175285\tvalid_1's rmse: 0.231099\n",
            "Early stopping, best iteration is:\n",
            "[294]\ttraining's rmse: 0.17603\tvalid_1's rmse: 0.231075\n"
          ]
        },
        {
          "output_type": "stream",
          "name": "stderr",
          "text": [
            "[I 2024-12-03 04:14:02,644] Trial 15 finished with value: 0.2310746408562394 and parameters: {'learning_rate': 0.015980038338664394, 'num_leaves': 409, 'max_depth': 17, 'lambda_l1': 0.006268090222030814, 'lambda_l2': 0.004484762018247855}. Best is trial 12 with value: 0.2308040858372544.\n"
          ]
        },
        {
          "output_type": "stream",
          "name": "stdout",
          "text": [
            "Training until validation scores don't improve for 50 rounds\n",
            "[100]\ttraining's rmse: 0.181889\tvalid_1's rmse: 0.231465\n",
            "Early stopping, best iteration is:\n",
            "[65]\ttraining's rmse: 0.195269\tvalid_1's rmse: 0.231357\n"
          ]
        },
        {
          "output_type": "stream",
          "name": "stderr",
          "text": [
            "[I 2024-12-03 04:15:16,277] Trial 16 finished with value: 0.23135677676616648 and parameters: {'learning_rate': 0.046465945765126485, 'num_leaves': 318, 'max_depth': 22, 'lambda_l1': 0.0929542442775956, 'lambda_l2': 0.02463526101634302}. Best is trial 12 with value: 0.2308040858372544.\n"
          ]
        },
        {
          "output_type": "stream",
          "name": "stdout",
          "text": [
            "Training until validation scores don't improve for 50 rounds\n",
            "[100]\ttraining's rmse: 0.211619\tvalid_1's rmse: 0.232982\n",
            "[200]\ttraining's rmse: 0.197881\tvalid_1's rmse: 0.231512\n",
            "[300]\ttraining's rmse: 0.191364\tvalid_1's rmse: 0.231317\n",
            "[400]\ttraining's rmse: 0.185708\tvalid_1's rmse: 0.231297\n",
            "Early stopping, best iteration is:\n",
            "[382]\ttraining's rmse: 0.186603\tvalid_1's rmse: 0.231251\n"
          ]
        },
        {
          "output_type": "stream",
          "name": "stderr",
          "text": [
            "[I 2024-12-03 04:17:46,878] Trial 17 finished with value: 0.23125061645642686 and parameters: {'learning_rate': 0.017040584253997657, 'num_leaves': 391, 'max_depth': 11, 'lambda_l1': 0.0054237674991094624, 'lambda_l2': 1.6042482864012517}. Best is trial 12 with value: 0.2308040858372544.\n"
          ]
        },
        {
          "output_type": "stream",
          "name": "stdout",
          "text": [
            "Training until validation scores don't improve for 50 rounds\n",
            "Early stopping, best iteration is:\n",
            "[32]\ttraining's rmse: 0.203489\tvalid_1's rmse: 0.232327\n"
          ]
        },
        {
          "output_type": "stream",
          "name": "stderr",
          "text": [
            "[I 2024-12-03 04:18:28,715] Trial 18 finished with value: 0.23232704845373495 and parameters: {'learning_rate': 0.09575517388210249, 'num_leaves': 510, 'max_depth': 22, 'lambda_l1': 9.799373422825864, 'lambda_l2': 0.0030729683514433706}. Best is trial 12 with value: 0.2308040858372544.\n"
          ]
        },
        {
          "output_type": "stream",
          "name": "stdout",
          "text": [
            "Training until validation scores don't improve for 50 rounds\n",
            "[100]\ttraining's rmse: 0.19898\tvalid_1's rmse: 0.231381\n",
            "Early stopping, best iteration is:\n",
            "[126]\ttraining's rmse: 0.193278\tvalid_1's rmse: 0.231265\n"
          ]
        },
        {
          "output_type": "stream",
          "name": "stderr",
          "text": [
            "[I 2024-12-03 04:20:00,736] Trial 19 finished with value: 0.2312645932660627 and parameters: {'learning_rate': 0.028638872751865493, 'num_leaves': 298, 'max_depth': 16, 'lambda_l1': 0.0011801243270418691, 'lambda_l2': 0.0010543155768446397}. Best is trial 12 with value: 0.2308040858372544.\n"
          ]
        },
        {
          "output_type": "stream",
          "name": "stdout",
          "text": [
            "Training until validation scores don't improve for 50 rounds\n",
            "[100]\ttraining's rmse: 0.217816\tvalid_1's rmse: 0.23247\n",
            "[200]\ttraining's rmse: 0.204553\tvalid_1's rmse: 0.231423\n",
            "[300]\ttraining's rmse: 0.19471\tvalid_1's rmse: 0.231261\n",
            "Early stopping, best iteration is:\n",
            "[294]\ttraining's rmse: 0.19528\tvalid_1's rmse: 0.231244\n"
          ]
        },
        {
          "output_type": "stream",
          "name": "stderr",
          "text": [
            "[I 2024-12-03 04:22:06,479] Trial 20 finished with value: 0.23124378953355412 and parameters: {'learning_rate': 0.01901074887893453, 'num_leaves': 157, 'max_depth': 20, 'lambda_l1': 0.003989005272160428, 'lambda_l2': 0.034549791704142026}. Best is trial 12 with value: 0.2308040858372544.\n"
          ]
        },
        {
          "output_type": "stream",
          "name": "stdout",
          "text": [
            "Training until validation scores don't improve for 50 rounds\n",
            "[100]\ttraining's rmse: 0.210046\tvalid_1's rmse: 0.232817\n",
            "[200]\ttraining's rmse: 0.190507\tvalid_1's rmse: 0.231023\n",
            "[300]\ttraining's rmse: 0.177571\tvalid_1's rmse: 0.230917\n",
            "Early stopping, best iteration is:\n",
            "[294]\ttraining's rmse: 0.178308\tvalid_1's rmse: 0.2309\n"
          ]
        },
        {
          "output_type": "stream",
          "name": "stderr",
          "text": [
            "[I 2024-12-03 04:25:27,951] Trial 21 finished with value: 0.23089958160006963 and parameters: {'learning_rate': 0.01589653552046769, 'num_leaves': 356, 'max_depth': 19, 'lambda_l1': 0.046398459805934864, 'lambda_l2': 0.006597274919011469}. Best is trial 12 with value: 0.2308040858372544.\n"
          ]
        },
        {
          "output_type": "stream",
          "name": "stdout",
          "text": [
            "Training until validation scores don't improve for 50 rounds\n",
            "[100]\ttraining's rmse: 0.212907\tvalid_1's rmse: 0.233422\n",
            "[200]\ttraining's rmse: 0.193778\tvalid_1's rmse: 0.230969\n",
            "[300]\ttraining's rmse: 0.181156\tvalid_1's rmse: 0.230797\n",
            "[400]\ttraining's rmse: 0.170514\tvalid_1's rmse: 0.230771\n",
            "Early stopping, best iteration is:\n",
            "[356]\ttraining's rmse: 0.174999\tvalid_1's rmse: 0.230725\n"
          ]
        },
        {
          "output_type": "stream",
          "name": "stderr",
          "text": [
            "[I 2024-12-03 04:29:20,144] Trial 22 finished with value: 0.23072485443906296 and parameters: {'learning_rate': 0.014111297602558841, 'num_leaves': 356, 'max_depth': 20, 'lambda_l1': 0.021350806294148157, 'lambda_l2': 0.008999485047985516}. Best is trial 22 with value: 0.23072485443906296.\n"
          ]
        },
        {
          "output_type": "stream",
          "name": "stdout",
          "text": [
            "Training until validation scores don't improve for 50 rounds\n",
            "[100]\ttraining's rmse: 0.213079\tvalid_1's rmse: 0.233653\n",
            "[200]\ttraining's rmse: 0.193773\tvalid_1's rmse: 0.230982\n",
            "[300]\ttraining's rmse: 0.181265\tvalid_1's rmse: 0.230705\n",
            "[400]\ttraining's rmse: 0.17079\tvalid_1's rmse: 0.230717\n",
            "Early stopping, best iteration is:\n",
            "[382]\ttraining's rmse: 0.172512\tvalid_1's rmse: 0.230672\n"
          ]
        },
        {
          "output_type": "stream",
          "name": "stderr",
          "text": [
            "[I 2024-12-03 04:33:27,443] Trial 23 finished with value: 0.23067187712415 and parameters: {'learning_rate': 0.013738483862418384, 'num_leaves': 372, 'max_depth': 20, 'lambda_l1': 0.23283326760161327, 'lambda_l2': 0.010055550084533843}. Best is trial 23 with value: 0.23067187712415.\n"
          ]
        },
        {
          "output_type": "stream",
          "name": "stdout",
          "text": [
            "Training until validation scores don't improve for 50 rounds\n",
            "[100]\ttraining's rmse: 0.21524\tvalid_1's rmse: 0.234039\n",
            "[200]\ttraining's rmse: 0.199674\tvalid_1's rmse: 0.231613\n",
            "[300]\ttraining's rmse: 0.193471\tvalid_1's rmse: 0.231284\n",
            "[400]\ttraining's rmse: 0.188665\tvalid_1's rmse: 0.231248\n",
            "Early stopping, best iteration is:\n",
            "[380]\ttraining's rmse: 0.189517\tvalid_1's rmse: 0.231209\n"
          ]
        },
        {
          "output_type": "stream",
          "name": "stderr",
          "text": [
            "[I 2024-12-03 04:36:00,048] Trial 24 finished with value: 0.231209496702064 and parameters: {'learning_rate': 0.013994753357212737, 'num_leaves': 428, 'max_depth': 11, 'lambda_l1': 0.4153306803998831, 'lambda_l2': 0.012663589079706175}. Best is trial 23 with value: 0.23067187712415.\n"
          ]
        },
        {
          "output_type": "stream",
          "name": "stdout",
          "text": [
            "Training until validation scores don't improve for 50 rounds\n",
            "[100]\ttraining's rmse: 0.213646\tvalid_1's rmse: 0.23381\n",
            "[200]\ttraining's rmse: 0.195155\tvalid_1's rmse: 0.231199\n",
            "[300]\ttraining's rmse: 0.184499\tvalid_1's rmse: 0.230922\n",
            "[400]\ttraining's rmse: 0.175767\tvalid_1's rmse: 0.230854\n",
            "Early stopping, best iteration is:\n",
            "[384]\ttraining's rmse: 0.177059\tvalid_1's rmse: 0.23083\n"
          ]
        },
        {
          "output_type": "stream",
          "name": "stderr",
          "text": [
            "[I 2024-12-03 04:39:36,101] Trial 25 finished with value: 0.23083043166323 and parameters: {'learning_rate': 0.013716656133451861, 'num_leaves': 372, 'max_depth': 16, 'lambda_l1': 0.27679297459259994, 'lambda_l2': 0.036945795597657614}. Best is trial 23 with value: 0.23067187712415.\n"
          ]
        },
        {
          "output_type": "stream",
          "name": "stdout",
          "text": [
            "Training until validation scores don't improve for 50 rounds\n",
            "[100]\ttraining's rmse: 0.187701\tvalid_1's rmse: 0.231125\n",
            "[200]\ttraining's rmse: 0.163807\tvalid_1's rmse: 0.231098\n",
            "Early stopping, best iteration is:\n",
            "[165]\ttraining's rmse: 0.171041\tvalid_1's rmse: 0.230957\n"
          ]
        },
        {
          "output_type": "stream",
          "name": "stderr",
          "text": [
            "[I 2024-12-03 04:41:55,436] Trial 26 finished with value: 0.23095702856947506 and parameters: {'learning_rate': 0.02921837570513768, 'num_leaves': 433, 'max_depth': 20, 'lambda_l1': 0.13053786497949468, 'lambda_l2': 0.0033105868420471507}. Best is trial 23 with value: 0.23067187712415.\n"
          ]
        },
        {
          "output_type": "stream",
          "name": "stdout",
          "text": [
            "Training until validation scores don't improve for 50 rounds\n",
            "[100]\ttraining's rmse: 0.201205\tvalid_1's rmse: 0.231792\n",
            "[200]\ttraining's rmse: 0.185498\tvalid_1's rmse: 0.231047\n",
            "[300]\ttraining's rmse: 0.176315\tvalid_1's rmse: 0.230965\n",
            "Early stopping, best iteration is:\n",
            "[340]\ttraining's rmse: 0.17276\tvalid_1's rmse: 0.230939\n"
          ]
        },
        {
          "output_type": "stream",
          "name": "stderr",
          "text": [
            "[I 2024-12-03 04:44:18,298] Trial 27 finished with value: 0.2309394112339134 and parameters: {'learning_rate': 0.021305708683374235, 'num_leaves': 462, 'max_depth': 14, 'lambda_l1': 1.1253465479748124, 'lambda_l2': 0.00914422747894147}. Best is trial 23 with value: 0.23067187712415.\n"
          ]
        },
        {
          "output_type": "stream",
          "name": "stdout",
          "text": [
            "Training until validation scores don't improve for 50 rounds\n",
            "[100]\ttraining's rmse: 0.211661\tvalid_1's rmse: 0.233249\n",
            "[200]\ttraining's rmse: 0.191638\tvalid_1's rmse: 0.230844\n",
            "[300]\ttraining's rmse: 0.17819\tvalid_1's rmse: 0.230618\n",
            "Early stopping, best iteration is:\n",
            "[320]\ttraining's rmse: 0.175776\tvalid_1's rmse: 0.230602\n"
          ]
        },
        {
          "output_type": "stream",
          "name": "stderr",
          "text": [
            "[I 2024-12-03 04:48:00,481] Trial 28 finished with value: 0.23060208230941118 and parameters: {'learning_rate': 0.014326000925721892, 'num_leaves': 376, 'max_depth': 22, 'lambda_l1': 0.07199077539882241, 'lambda_l2': 0.15259849329640593}. Best is trial 28 with value: 0.23060208230941118.\n"
          ]
        },
        {
          "output_type": "stream",
          "name": "stdout",
          "text": [
            "Training until validation scores don't improve for 50 rounds\n",
            "[100]\ttraining's rmse: 0.223529\tvalid_1's rmse: 0.236077\n",
            "[200]\ttraining's rmse: 0.207854\tvalid_1's rmse: 0.231714\n",
            "[300]\ttraining's rmse: 0.197305\tvalid_1's rmse: 0.23085\n",
            "[400]\ttraining's rmse: 0.188859\tvalid_1's rmse: 0.230761\n",
            "Early stopping, best iteration is:\n",
            "[380]\ttraining's rmse: 0.190455\tvalid_1's rmse: 0.230745\n"
          ]
        },
        {
          "output_type": "stream",
          "name": "stderr",
          "text": [
            "[I 2024-12-03 04:51:41,028] Trial 29 finished with value: 0.23074532767985562 and parameters: {'learning_rate': 0.01009899097899084, 'num_leaves': 283, 'max_depth': 22, 'lambda_l1': 0.06933385689231919, 'lambda_l2': 0.5055472341187703}. Best is trial 28 with value: 0.23060208230941118.\n"
          ]
        },
        {
          "output_type": "stream",
          "name": "stdout",
          "text": [
            "Training until validation scores don't improve for 50 rounds\n",
            "[100]\ttraining's rmse: 0.221221\tvalid_1's rmse: 0.233813\n",
            "[200]\ttraining's rmse: 0.207616\tvalid_1's rmse: 0.231276\n",
            "[300]\ttraining's rmse: 0.198066\tvalid_1's rmse: 0.231028\n",
            "Early stopping, best iteration is:\n",
            "[279]\ttraining's rmse: 0.199924\tvalid_1's rmse: 0.230996\n"
          ]
        },
        {
          "output_type": "stream",
          "name": "stderr",
          "text": [
            "[I 2024-12-03 04:53:56,265] Trial 30 finished with value: 0.23099591964444066 and parameters: {'learning_rate': 0.014007156547623398, 'num_leaves': 188, 'max_depth': 23, 'lambda_l1': 0.03272729197096982, 'lambda_l2': 0.17505138759551972}. Best is trial 28 with value: 0.23060208230941118.\n"
          ]
        },
        {
          "output_type": "stream",
          "name": "stdout",
          "text": [
            "Training until validation scores don't improve for 50 rounds\n",
            "[100]\ttraining's rmse: 0.223689\tvalid_1's rmse: 0.236022\n",
            "[200]\ttraining's rmse: 0.208291\tvalid_1's rmse: 0.2317\n",
            "[300]\ttraining's rmse: 0.197973\tvalid_1's rmse: 0.230844\n",
            "[400]\ttraining's rmse: 0.189719\tvalid_1's rmse: 0.230731\n",
            "[500]\ttraining's rmse: 0.182412\tvalid_1's rmse: 0.230679\n",
            "Early stopping, best iteration is:\n",
            "[532]\ttraining's rmse: 0.180172\tvalid_1's rmse: 0.230643\n"
          ]
        },
        {
          "output_type": "stream",
          "name": "stderr",
          "text": [
            "[I 2024-12-03 04:58:32,249] Trial 31 finished with value: 0.23064265459050845 and parameters: {'learning_rate': 0.010226377060353294, 'num_leaves': 272, 'max_depth': 22, 'lambda_l1': 0.06903308351202223, 'lambda_l2': 0.459765408777724}. Best is trial 28 with value: 0.23060208230941118.\n"
          ]
        },
        {
          "output_type": "stream",
          "name": "stdout",
          "text": [
            "Training until validation scores don't improve for 50 rounds\n",
            "[100]\ttraining's rmse: 0.224494\tvalid_1's rmse: 0.236142\n",
            "[200]\ttraining's rmse: 0.209531\tvalid_1's rmse: 0.231744\n",
            "[300]\ttraining's rmse: 0.199593\tvalid_1's rmse: 0.230868\n",
            "[400]\ttraining's rmse: 0.191686\tvalid_1's rmse: 0.230689\n",
            "Early stopping, best iteration is:\n",
            "[376]\ttraining's rmse: 0.193494\tvalid_1's rmse: 0.230679\n"
          ]
        },
        {
          "output_type": "stream",
          "name": "stderr",
          "text": [
            "[I 2024-12-03 05:01:58,730] Trial 32 finished with value: 0.23067891018751446 and parameters: {'learning_rate': 0.01004013752119308, 'num_leaves': 261, 'max_depth': 21, 'lambda_l1': 0.16052549711158912, 'lambda_l2': 0.4567856841925987}. Best is trial 28 with value: 0.23060208230941118.\n"
          ]
        },
        {
          "output_type": "stream",
          "name": "stdout",
          "text": [
            "Training until validation scores don't improve for 50 rounds\n",
            "[100]\ttraining's rmse: 0.220424\tvalid_1's rmse: 0.234503\n",
            "[200]\ttraining's rmse: 0.204791\tvalid_1's rmse: 0.231307\n",
            "[300]\ttraining's rmse: 0.193945\tvalid_1's rmse: 0.230912\n",
            "Early stopping, best iteration is:\n",
            "[337]\ttraining's rmse: 0.190427\tvalid_1's rmse: 0.230858\n"
          ]
        },
        {
          "output_type": "stream",
          "name": "stderr",
          "text": [
            "[I 2024-12-03 05:05:16,539] Trial 33 finished with value: 0.23085812001103437 and parameters: {'learning_rate': 0.012341567305395838, 'num_leaves': 259, 'max_depth': 25, 'lambda_l1': 0.1681444618126996, 'lambda_l2': 0.649481144320597}. Best is trial 28 with value: 0.23060208230941118.\n"
          ]
        },
        {
          "output_type": "stream",
          "name": "stdout",
          "text": [
            "Training until validation scores don't improve for 50 rounds\n",
            "[100]\ttraining's rmse: 0.226543\tvalid_1's rmse: 0.236165\n",
            "[200]\ttraining's rmse: 0.213365\tvalid_1's rmse: 0.231818\n",
            "[300]\ttraining's rmse: 0.204793\tvalid_1's rmse: 0.230941\n",
            "[400]\ttraining's rmse: 0.197853\tvalid_1's rmse: 0.230814\n",
            "Early stopping, best iteration is:\n",
            "[382]\ttraining's rmse: 0.199038\tvalid_1's rmse: 0.230799\n"
          ]
        },
        {
          "output_type": "stream",
          "name": "stderr",
          "text": [
            "[I 2024-12-03 05:08:13,954] Trial 34 finished with value: 0.23079882721680317 and parameters: {'learning_rate': 0.010251212863067606, 'num_leaves': 206, 'max_depth': 23, 'lambda_l1': 0.6637932027338629, 'lambda_l2': 1.0748492006689427}. Best is trial 28 with value: 0.23060208230941118.\n"
          ]
        },
        {
          "output_type": "stream",
          "name": "stdout",
          "text": [
            "Training until validation scores don't improve for 50 rounds\n",
            "[100]\ttraining's rmse: 0.219756\tvalid_1's rmse: 0.23511\n",
            "[200]\ttraining's rmse: 0.202673\tvalid_1's rmse: 0.231312\n",
            "[300]\ttraining's rmse: 0.191205\tvalid_1's rmse: 0.230658\n",
            "[400]\ttraining's rmse: 0.182022\tvalid_1's rmse: 0.2306\n",
            "Early stopping, best iteration is:\n",
            "[360]\ttraining's rmse: 0.18555\tvalid_1's rmse: 0.230565\n"
          ]
        },
        {
          "output_type": "stream",
          "name": "stderr",
          "text": [
            "[I 2024-12-03 05:11:54,361] Trial 35 finished with value: 0.23056504563552008 and parameters: {'learning_rate': 0.011285545573319579, 'num_leaves': 326, 'max_depth': 21, 'lambda_l1': 0.35056474452290404, 'lambda_l2': 0.26874865688152816}. Best is trial 35 with value: 0.23056504563552008.\n"
          ]
        },
        {
          "output_type": "stream",
          "name": "stdout",
          "text": [
            "Training until validation scores don't improve for 50 rounds\n",
            "[100]\ttraining's rmse: 0.218229\tvalid_1's rmse: 0.234446\n",
            "[200]\ttraining's rmse: 0.201382\tvalid_1's rmse: 0.231279\n",
            "[300]\ttraining's rmse: 0.190815\tvalid_1's rmse: 0.23083\n",
            "[400]\ttraining's rmse: 0.182172\tvalid_1's rmse: 0.230739\n",
            "[500]\ttraining's rmse: 0.174785\tvalid_1's rmse: 0.230681\n",
            "[600]\ttraining's rmse: 0.16795\tvalid_1's rmse: 0.230646\n",
            "Early stopping, best iteration is:\n",
            "[563]\ttraining's rmse: 0.170404\tvalid_1's rmse: 0.230637\n"
          ]
        },
        {
          "output_type": "stream",
          "name": "stderr",
          "text": [
            "[I 2024-12-03 05:16:15,369] Trial 36 finished with value: 0.23063737822442745 and parameters: {'learning_rate': 0.012461010729162982, 'num_leaves': 324, 'max_depth': 18, 'lambda_l1': 0.7876142008786086, 'lambda_l2': 0.15536633668631308}. Best is trial 35 with value: 0.23056504563552008.\n"
          ]
        },
        {
          "output_type": "stream",
          "name": "stdout",
          "text": [
            "Best parameters: {'learning_rate': 0.011285545573319579, 'num_leaves': 326, 'max_depth': 21, 'lambda_l1': 0.35056474452290404, 'lambda_l2': 0.26874865688152816}\n"
          ]
        }
      ]
    },
    {
      "cell_type": "code",
      "source": [
        "merged_params = {\n",
        "    'objective': 'regression',\n",
        "    'metric': 'rmse',\n",
        "    'boosting_type': 'gbdt',\n",
        "    'learning_rate': 0.011,\n",
        "    'num_leaves': 326,\n",
        "    'max_depth': 21,\n",
        "    'bagging_seed': 42,\n",
        "    'bagging_fraction': 0.8,\n",
        "    'bagging_freq': 5,\n",
        "    'feature_fraction': 0.8,\n",
        "    'lambda_l1': 0.3505,\n",
        "    'lambda_l2': 0.2687,\n",
        "    'verbose': -1\n",
        "}"
      ],
      "metadata": {
        "id": "_2DGp9xkGXbJ"
      },
      "execution_count": null,
      "outputs": []
    },
    {
      "cell_type": "code",
      "source": [
        "model_merged = fit_lgb(\n",
        "    train_merged_X, train_y,\n",
        "    test_merged_X, test_y,\n",
        "    categorical_features=categorical_features,\n",
        "    params=merged_params,\n",
        ")"
      ],
      "metadata": {
        "colab": {
          "base_uri": "https://localhost:8080/"
        },
        "id": "lou0QxqlQa8T",
        "outputId": "c9326c22-a92e-40b7-defd-c1d3e19da42e"
      },
      "execution_count": null,
      "outputs": [
        {
          "output_type": "stream",
          "name": "stdout",
          "text": [
            "Training until validation scores don't improve for 50 rounds\n",
            "[40]\ttraining's rmse: 0.238625\tvalid_1's rmse: 0.244821\n",
            "[80]\ttraining's rmse: 0.225265\tvalid_1's rmse: 0.237428\n",
            "[120]\ttraining's rmse: 0.216111\tvalid_1's rmse: 0.233972\n",
            "[160]\ttraining's rmse: 0.209147\tvalid_1's rmse: 0.232279\n",
            "[200]\ttraining's rmse: 0.20334\tvalid_1's rmse: 0.231475\n",
            "[240]\ttraining's rmse: 0.198271\tvalid_1's rmse: 0.231042\n",
            "[280]\ttraining's rmse: 0.193877\tvalid_1's rmse: 0.230792\n",
            "[320]\ttraining's rmse: 0.189968\tvalid_1's rmse: 0.230718\n",
            "[360]\ttraining's rmse: 0.186301\tvalid_1's rmse: 0.230624\n",
            "[400]\ttraining's rmse: 0.18289\tvalid_1's rmse: 0.230617\n",
            "Early stopping, best iteration is:\n",
            "[380]\ttraining's rmse: 0.184608\tvalid_1's rmse: 0.230599\n",
            "RMSE: 0.23048984669350972\n"
          ]
        }
      ]
    },
    {
      "cell_type": "markdown",
      "source": [
        "# Tabular + Text + Image Tree"
      ],
      "metadata": {
        "id": "aCbe-xWdJAjj"
      }
    },
    {
      "cell_type": "code",
      "source": [
        "# keep only the svd embedding columns, and rows that are in the image subsample\n",
        "\n",
        "# be very careful using merge: the one calling merge keeps the order!\n",
        "train_text_X = pd.read_csv(data_dir_path + '../train_embeddings_fasttext_svd.csv')\n",
        "train_text_X = train_tabular[[\"item_id\", \"user_id\"]].merge(train_text_X, on=[\"item_id\", \"user_id\"], how=\"inner\")\n",
        "train_text_X = train_text_X.drop(columns = train_tabular.columns.tolist(), errors='ignore')\n",
        "\n",
        "test_text_X = pd.read_csv(data_dir_path + '../test_embeddings_fasttext_svd.csv')\n",
        "test_text_X = test_tabular[[\"item_id\", \"user_id\"]].merge(test_text_X, on=[\"item_id\", \"user_id\"], how=\"inner\")\n",
        "test_text_X = test_text_X.drop(columns = test_tabular.columns.tolist(), errors='ignore')\n",
        "\n",
        "print(train_text_X.shape)\n",
        "print(test_text_X.shape)"
      ],
      "metadata": {
        "colab": {
          "base_uri": "https://localhost:8080/"
        },
        "id": "7wVaRsg8JE8A",
        "outputId": "4d184543-057f-41b3-ea51-a1d734407567"
      },
      "execution_count": null,
      "outputs": [
        {
          "output_type": "stream",
          "name": "stdout",
          "text": [
            "(222532, 42)\n",
            "(55635, 42)\n"
          ]
        }
      ]
    },
    {
      "cell_type": "code",
      "source": [
        "train_merged_all_X = pd.concat([train_tabular_X, train_image_X, train_text_X], axis=1)\n",
        "test_merged_all_X = pd.concat([test_tabular_X, test_image_X, test_text_X], axis=1)\n",
        "print(train_merged_all_X.shape)\n",
        "print(test_merged_all_X.shape)"
      ],
      "metadata": {
        "colab": {
          "base_uri": "https://localhost:8080/"
        },
        "id": "LO1s2cUxKDUn",
        "outputId": "d6d1fe57-2820-48d0-ecb9-f94c353fe32c"
      },
      "execution_count": null,
      "outputs": [
        {
          "output_type": "stream",
          "name": "stdout",
          "text": [
            "(222532, 576)\n",
            "(55635, 576)\n"
          ]
        }
      ]
    },
    {
      "cell_type": "code",
      "source": [
        "tune_params(train_merged_all_X, train_y, categorical_features)"
      ],
      "metadata": {
        "colab": {
          "base_uri": "https://localhost:8080/"
        },
        "id": "3tDXXgoRKsH5",
        "outputId": "4a6e1971-9d90-40e5-f3a2-9fec19c4fcf8"
      },
      "execution_count": null,
      "outputs": [
        {
          "output_type": "stream",
          "name": "stderr",
          "text": [
            "[I 2024-12-03 06:17:52,743] A new study created in memory with name: no-name-b104fea7-ca66-49fd-af7c-ba4ba32ecb44\n"
          ]
        },
        {
          "output_type": "stream",
          "name": "stdout",
          "text": [
            "Training until validation scores don't improve for 50 rounds\n",
            "Early stopping, best iteration is:\n",
            "[42]\ttraining's rmse: 0.208141\tvalid_1's rmse: 0.231413\n"
          ]
        },
        {
          "output_type": "stream",
          "name": "stderr",
          "text": [
            "[I 2024-12-03 06:18:45,037] Trial 0 finished with value: 0.23141323183241544 and parameters: {'learning_rate': 0.07677255085172037, 'num_leaves': 153, 'max_depth': 25, 'lambda_l1': 0.1974996555862863, 'lambda_l2': 0.002664849029414945}. Best is trial 0 with value: 0.23141323183241544.\n"
          ]
        },
        {
          "output_type": "stream",
          "name": "stdout",
          "text": [
            "Training until validation scores don't improve for 50 rounds\n",
            "[100]\ttraining's rmse: 0.231551\tvalid_1's rmse: 0.234627\n",
            "[200]\ttraining's rmse: 0.228062\tvalid_1's rmse: 0.233303\n",
            "[300]\ttraining's rmse: 0.225772\tvalid_1's rmse: 0.232789\n",
            "[400]\ttraining's rmse: 0.223609\tvalid_1's rmse: 0.23239\n",
            "[500]\ttraining's rmse: 0.221827\tvalid_1's rmse: 0.232235\n",
            "[600]\ttraining's rmse: 0.22024\tvalid_1's rmse: 0.232056\n",
            "[700]\ttraining's rmse: 0.218937\tvalid_1's rmse: 0.231909\n",
            "[800]\ttraining's rmse: 0.217912\tvalid_1's rmse: 0.23181\n",
            "[900]\ttraining's rmse: 0.216947\tvalid_1's rmse: 0.231771\n",
            "Early stopping, best iteration is:\n",
            "[923]\ttraining's rmse: 0.21677\tvalid_1's rmse: 0.231758\n"
          ]
        },
        {
          "output_type": "stream",
          "name": "stderr",
          "text": [
            "[I 2024-12-03 06:20:04,402] Trial 1 finished with value: 0.2317582827053883 and parameters: {'learning_rate': 0.033054421323574064, 'num_leaves': 307, 'max_depth': 4, 'lambda_l1': 9.859363287549712, 'lambda_l2': 9.520569722083962}. Best is trial 0 with value: 0.23141323183241544.\n"
          ]
        },
        {
          "output_type": "stream",
          "name": "stdout",
          "text": [
            "Training until validation scores don't improve for 50 rounds\n",
            "Early stopping, best iteration is:\n",
            "[34]\ttraining's rmse: 0.183413\tvalid_1's rmse: 0.231855\n"
          ]
        },
        {
          "output_type": "stream",
          "name": "stderr",
          "text": [
            "[I 2024-12-03 06:21:25,883] Trial 2 finished with value: 0.23185468341939128 and parameters: {'learning_rate': 0.08503068868559023, 'num_leaves': 498, 'max_depth': 23, 'lambda_l1': 0.001971791256664256, 'lambda_l2': 0.0174838180799824}. Best is trial 0 with value: 0.23141323183241544.\n"
          ]
        },
        {
          "output_type": "stream",
          "name": "stdout",
          "text": [
            "Training until validation scores don't improve for 50 rounds\n",
            "[100]\ttraining's rmse: 0.211829\tvalid_1's rmse: 0.231835\n",
            "Early stopping, best iteration is:\n",
            "[116]\ttraining's rmse: 0.209444\tvalid_1's rmse: 0.231772\n"
          ]
        },
        {
          "output_type": "stream",
          "name": "stderr",
          "text": [
            "[I 2024-12-03 06:22:16,633] Trial 3 finished with value: 0.23177245717726977 and parameters: {'learning_rate': 0.057186944102259295, 'num_leaves': 61, 'max_depth': 20, 'lambda_l1': 1.5736770920944976, 'lambda_l2': 0.017703554700326488}. Best is trial 0 with value: 0.23141323183241544.\n"
          ]
        },
        {
          "output_type": "stream",
          "name": "stdout",
          "text": [
            "Training until validation scores don't improve for 50 rounds\n",
            "[100]\ttraining's rmse: 0.201944\tvalid_1's rmse: 0.231537\n",
            "[200]\ttraining's rmse: 0.18131\tvalid_1's rmse: 0.230402\n",
            "[300]\ttraining's rmse: 0.167599\tvalid_1's rmse: 0.230265\n",
            "[400]\ttraining's rmse: 0.155875\tvalid_1's rmse: 0.230233\n",
            "[500]\ttraining's rmse: 0.145697\tvalid_1's rmse: 0.230146\n",
            "Early stopping, best iteration is:\n",
            "[525]\ttraining's rmse: 0.143414\tvalid_1's rmse: 0.230111\n"
          ]
        },
        {
          "output_type": "stream",
          "name": "stderr",
          "text": [
            "[I 2024-12-03 06:27:07,875] Trial 4 finished with value: 0.23011055163847172 and parameters: {'learning_rate': 0.020443360086320216, 'num_leaves': 427, 'max_depth': 20, 'lambda_l1': 1.5318350404345003, 'lambda_l2': 0.20195615035561737}. Best is trial 4 with value: 0.23011055163847172.\n"
          ]
        },
        {
          "output_type": "stream",
          "name": "stdout",
          "text": [
            "Training until validation scores don't improve for 50 rounds\n",
            "[100]\ttraining's rmse: 0.198929\tvalid_1's rmse: 0.231815\n",
            "Early stopping, best iteration is:\n",
            "[51]\ttraining's rmse: 0.212244\tvalid_1's rmse: 0.231635\n"
          ]
        },
        {
          "output_type": "stream",
          "name": "stderr",
          "text": [
            "[I 2024-12-03 06:27:51,053] Trial 5 finished with value: 0.23163542207577925 and parameters: {'learning_rate': 0.06805418887361966, 'num_leaves': 114, 'max_depth': 15, 'lambda_l1': 0.4797481282527982, 'lambda_l2': 0.04059280369259432}. Best is trial 4 with value: 0.23011055163847172.\n"
          ]
        },
        {
          "output_type": "stream",
          "name": "stdout",
          "text": [
            "Training until validation scores don't improve for 50 rounds\n",
            "[100]\ttraining's rmse: 0.22093\tvalid_1's rmse: 0.234919\n",
            "[200]\ttraining's rmse: 0.204502\tvalid_1's rmse: 0.230977\n",
            "[300]\ttraining's rmse: 0.19372\tvalid_1's rmse: 0.230245\n",
            "[400]\ttraining's rmse: 0.185339\tvalid_1's rmse: 0.230137\n",
            "[500]\ttraining's rmse: 0.178018\tvalid_1's rmse: 0.230061\n",
            "[600]\ttraining's rmse: 0.171224\tvalid_1's rmse: 0.230029\n",
            "[700]\ttraining's rmse: 0.165067\tvalid_1's rmse: 0.229981\n",
            "Early stopping, best iteration is:\n",
            "[686]\ttraining's rmse: 0.165886\tvalid_1's rmse: 0.229966\n"
          ]
        },
        {
          "output_type": "stream",
          "name": "stderr",
          "text": [
            "[I 2024-12-03 06:33:53,842] Trial 6 finished with value: 0.2299657756240295 and parameters: {'learning_rate': 0.011369407878529622, 'num_leaves': 313, 'max_depth': 20, 'lambda_l1': 0.5717074338205432, 'lambda_l2': 5.359535753217276}. Best is trial 6 with value: 0.2299657756240295.\n"
          ]
        },
        {
          "output_type": "stream",
          "name": "stdout",
          "text": [
            "Training until validation scores don't improve for 50 rounds\n",
            "[100]\ttraining's rmse: 0.228502\tvalid_1's rmse: 0.234177\n",
            "[200]\ttraining's rmse: 0.223381\tvalid_1's rmse: 0.232754\n",
            "[300]\ttraining's rmse: 0.220252\tvalid_1's rmse: 0.232398\n",
            "[400]\ttraining's rmse: 0.217533\tvalid_1's rmse: 0.23228\n",
            "[500]\ttraining's rmse: 0.215034\tvalid_1's rmse: 0.232183\n",
            "[600]\ttraining's rmse: 0.212904\tvalid_1's rmse: 0.232128\n",
            "[700]\ttraining's rmse: 0.211039\tvalid_1's rmse: 0.232047\n",
            "Early stopping, best iteration is:\n",
            "[728]\ttraining's rmse: 0.210504\tvalid_1's rmse: 0.232031\n"
          ]
        },
        {
          "output_type": "stream",
          "name": "stderr",
          "text": [
            "[I 2024-12-03 06:35:29,095] Trial 7 finished with value: 0.23203086757744554 and parameters: {'learning_rate': 0.019736366793508285, 'num_leaves': 105, 'max_depth': 6, 'lambda_l1': 0.0017329354085737758, 'lambda_l2': 0.002066530238187314}. Best is trial 6 with value: 0.2299657756240295.\n"
          ]
        },
        {
          "output_type": "stream",
          "name": "stdout",
          "text": [
            "Training until validation scores don't improve for 50 rounds\n",
            "[100]\ttraining's rmse: 0.222528\tvalid_1's rmse: 0.232673\n",
            "[200]\ttraining's rmse: 0.21556\tvalid_1's rmse: 0.232407\n",
            "Early stopping, best iteration is:\n",
            "[205]\ttraining's rmse: 0.215172\tvalid_1's rmse: 0.232374\n"
          ]
        },
        {
          "output_type": "stream",
          "name": "stderr",
          "text": [
            "[I 2024-12-03 06:36:11,505] Trial 8 finished with value: 0.23237369824738066 and parameters: {'learning_rate': 0.05127572397825615, 'num_leaves': 41, 'max_depth': 6, 'lambda_l1': 0.0026938899815518312, 'lambda_l2': 0.02225284842307979}. Best is trial 6 with value: 0.2299657756240295.\n"
          ]
        },
        {
          "output_type": "stream",
          "name": "stdout",
          "text": [
            "Training until validation scores don't improve for 50 rounds\n",
            "[100]\ttraining's rmse: 0.195037\tvalid_1's rmse: 0.231588\n",
            "Early stopping, best iteration is:\n",
            "[73]\ttraining's rmse: 0.199733\tvalid_1's rmse: 0.231535\n"
          ]
        },
        {
          "output_type": "stream",
          "name": "stderr",
          "text": [
            "[I 2024-12-03 06:37:04,154] Trial 9 finished with value: 0.23153517326842815 and parameters: {'learning_rate': 0.055759844203089395, 'num_leaves': 469, 'max_depth': 10, 'lambda_l1': 0.49547413702975635, 'lambda_l2': 0.031543554738748585}. Best is trial 6 with value: 0.2299657756240295.\n"
          ]
        },
        {
          "output_type": "stream",
          "name": "stdout",
          "text": [
            "Training until validation scores don't improve for 50 rounds\n",
            "[100]\ttraining's rmse: 0.222433\tvalid_1's rmse: 0.235185\n",
            "[200]\ttraining's rmse: 0.207321\tvalid_1's rmse: 0.231304\n",
            "[300]\ttraining's rmse: 0.198089\tvalid_1's rmse: 0.230589\n",
            "[400]\ttraining's rmse: 0.191417\tvalid_1's rmse: 0.230468\n",
            "[500]\ttraining's rmse: 0.185553\tvalid_1's rmse: 0.230384\n",
            "Early stopping, best iteration is:\n",
            "[547]\ttraining's rmse: 0.182772\tvalid_1's rmse: 0.230348\n"
          ]
        },
        {
          "output_type": "stream",
          "name": "stderr",
          "text": [
            "[I 2024-12-03 06:41:40,390] Trial 10 finished with value: 0.23034842425195856 and parameters: {'learning_rate': 0.011369393266817263, 'num_leaves': 282, 'max_depth': 15, 'lambda_l1': 0.022929619587524614, 'lambda_l2': 9.174146012175946}. Best is trial 6 with value: 0.2299657756240295.\n"
          ]
        },
        {
          "output_type": "stream",
          "name": "stdout",
          "text": [
            "Training until validation scores don't improve for 50 rounds\n",
            "[100]\ttraining's rmse: 0.223121\tvalid_1's rmse: 0.235781\n",
            "[200]\ttraining's rmse: 0.206909\tvalid_1's rmse: 0.231341\n",
            "[300]\ttraining's rmse: 0.196442\tvalid_1's rmse: 0.23035\n",
            "[400]\ttraining's rmse: 0.189426\tvalid_1's rmse: 0.230133\n",
            "[500]\ttraining's rmse: 0.183381\tvalid_1's rmse: 0.230055\n",
            "Early stopping, best iteration is:\n",
            "[544]\ttraining's rmse: 0.180743\tvalid_1's rmse: 0.230005\n"
          ]
        },
        {
          "output_type": "stream",
          "name": "stderr",
          "text": [
            "[I 2024-12-03 06:45:44,614] Trial 11 finished with value: 0.2300054228460193 and parameters: {'learning_rate': 0.010462131723584634, 'num_leaves': 388, 'max_depth': 19, 'lambda_l1': 3.4496646884870734, 'lambda_l2': 0.716488042874796}. Best is trial 6 with value: 0.2299657756240295.\n"
          ]
        },
        {
          "output_type": "stream",
          "name": "stdout",
          "text": [
            "Training until validation scores don't improve for 50 rounds\n",
            "[100]\ttraining's rmse: 0.226873\tvalid_1's rmse: 0.236391\n",
            "[200]\ttraining's rmse: 0.212834\tvalid_1's rmse: 0.231679\n",
            "[300]\ttraining's rmse: 0.203693\tvalid_1's rmse: 0.230526\n",
            "[400]\ttraining's rmse: 0.19747\tvalid_1's rmse: 0.230252\n",
            "[500]\ttraining's rmse: 0.19205\tvalid_1's rmse: 0.230142\n",
            "[600]\ttraining's rmse: 0.186948\tvalid_1's rmse: 0.230085\n",
            "[700]\ttraining's rmse: 0.182215\tvalid_1's rmse: 0.230057\n",
            "[800]\ttraining's rmse: 0.177707\tvalid_1's rmse: 0.229977\n",
            "Early stopping, best iteration is:\n",
            "[799]\ttraining's rmse: 0.177748\tvalid_1's rmse: 0.229976\n"
          ]
        },
        {
          "output_type": "stream",
          "name": "stderr",
          "text": [
            "[I 2024-12-03 06:50:30,373] Trial 12 finished with value: 0.2299762363616713 and parameters: {'learning_rate': 0.010338263562557598, 'num_leaves': 373, 'max_depth': 19, 'lambda_l1': 8.663143611301608, 'lambda_l2': 1.034883479543727}. Best is trial 6 with value: 0.2299657756240295.\n"
          ]
        },
        {
          "output_type": "stream",
          "name": "stdout",
          "text": [
            "Training until validation scores don't improve for 50 rounds\n",
            "[100]\ttraining's rmse: 0.217682\tvalid_1's rmse: 0.232923\n",
            "[200]\ttraining's rmse: 0.202975\tvalid_1's rmse: 0.230867\n",
            "[300]\ttraining's rmse: 0.192829\tvalid_1's rmse: 0.230624\n",
            "Early stopping, best iteration is:\n",
            "[294]\ttraining's rmse: 0.193389\tvalid_1's rmse: 0.230604\n"
          ]
        },
        {
          "output_type": "stream",
          "name": "stderr",
          "text": [
            "[I 2024-12-03 06:53:09,482] Trial 13 finished with value: 0.23060447765898606 and parameters: {'learning_rate': 0.01582166393823638, 'num_leaves': 211, 'max_depth': 17, 'lambda_l1': 0.03476443564069458, 'lambda_l2': 1.6335045033817783}. Best is trial 6 with value: 0.2299657756240295.\n"
          ]
        },
        {
          "output_type": "stream",
          "name": "stdout",
          "text": [
            "Training until validation scores don't improve for 50 rounds\n",
            "[100]\ttraining's rmse: 0.224119\tvalid_1's rmse: 0.233874\n",
            "[200]\ttraining's rmse: 0.213893\tvalid_1's rmse: 0.231214\n",
            "[300]\ttraining's rmse: 0.209335\tvalid_1's rmse: 0.230842\n",
            "[400]\ttraining's rmse: 0.205505\tvalid_1's rmse: 0.230717\n",
            "[500]\ttraining's rmse: 0.201936\tvalid_1's rmse: 0.230621\n",
            "Early stopping, best iteration is:\n",
            "[543]\ttraining's rmse: 0.200442\tvalid_1's rmse: 0.230585\n"
          ]
        },
        {
          "output_type": "stream",
          "name": "stderr",
          "text": [
            "[I 2024-12-03 06:55:14,530] Trial 14 finished with value: 0.23058451745017075 and parameters: {'learning_rate': 0.01488822796692355, 'num_leaves': 353, 'max_depth': 11, 'lambda_l1': 8.576839712580364, 'lambda_l2': 1.7049111444277885}. Best is trial 6 with value: 0.2299657756240295.\n"
          ]
        },
        {
          "output_type": "stream",
          "name": "stdout",
          "text": [
            "Training until validation scores don't improve for 50 rounds\n",
            "[100]\ttraining's rmse: 0.20046\tvalid_1's rmse: 0.230968\n",
            "[200]\ttraining's rmse: 0.179104\tvalid_1's rmse: 0.230974\n",
            "Early stopping, best iteration is:\n",
            "[166]\ttraining's rmse: 0.185535\tvalid_1's rmse: 0.230893\n"
          ]
        },
        {
          "output_type": "stream",
          "name": "stderr",
          "text": [
            "[I 2024-12-03 06:57:07,546] Trial 15 finished with value: 0.23089337084193884 and parameters: {'learning_rate': 0.03216597665662558, 'num_leaves': 222, 'max_depth': 23, 'lambda_l1': 0.040111243580967584, 'lambda_l2': 0.3911086594681657}. Best is trial 6 with value: 0.2299657756240295.\n"
          ]
        },
        {
          "output_type": "stream",
          "name": "stdout",
          "text": [
            "Training until validation scores don't improve for 50 rounds\n",
            "[100]\ttraining's rmse: 0.216914\tvalid_1's rmse: 0.233894\n",
            "[200]\ttraining's rmse: 0.200691\tvalid_1's rmse: 0.231112\n",
            "[300]\ttraining's rmse: 0.193514\tvalid_1's rmse: 0.230739\n",
            "[400]\ttraining's rmse: 0.187814\tvalid_1's rmse: 0.230707\n",
            "Early stopping, best iteration is:\n",
            "[358]\ttraining's rmse: 0.190171\tvalid_1's rmse: 0.230682\n"
          ]
        },
        {
          "output_type": "stream",
          "name": "stderr",
          "text": [
            "[I 2024-12-03 07:00:08,997] Trial 16 finished with value: 0.23068205156094232 and parameters: {'learning_rate': 0.013553401823816707, 'num_leaves': 338, 'max_depth': 12, 'lambda_l1': 0.15085628979333493, 'lambda_l2': 2.9296025209457928}. Best is trial 6 with value: 0.2299657756240295.\n"
          ]
        },
        {
          "output_type": "stream",
          "name": "stdout",
          "text": [
            "Training until validation scores don't improve for 50 rounds\n",
            "[100]\ttraining's rmse: 0.20121\tvalid_1's rmse: 0.231001\n",
            "[200]\ttraining's rmse: 0.183544\tvalid_1's rmse: 0.230373\n",
            "[300]\ttraining's rmse: 0.171163\tvalid_1's rmse: 0.230248\n",
            "Early stopping, best iteration is:\n",
            "[283]\ttraining's rmse: 0.173264\tvalid_1's rmse: 0.23024\n"
          ]
        },
        {
          "output_type": "stream",
          "name": "stderr",
          "text": [
            "[I 2024-12-03 07:02:43,746] Trial 17 finished with value: 0.23023989979140833 and parameters: {'learning_rate': 0.023671160274241612, 'num_leaves': 405, 'max_depth': 18, 'lambda_l1': 1.9714356233823087, 'lambda_l2': 3.987322697935303}. Best is trial 6 with value: 0.2299657756240295.\n"
          ]
        },
        {
          "output_type": "stream",
          "name": "stdout",
          "text": [
            "Training until validation scores don't improve for 50 rounds\n",
            "[100]\ttraining's rmse: 0.22187\tvalid_1's rmse: 0.23459\n",
            "[200]\ttraining's rmse: 0.206944\tvalid_1's rmse: 0.231025\n",
            "[300]\ttraining's rmse: 0.196687\tvalid_1's rmse: 0.230451\n",
            "[400]\ttraining's rmse: 0.188177\tvalid_1's rmse: 0.23039\n",
            "[500]\ttraining's rmse: 0.180725\tvalid_1's rmse: 0.230329\n",
            "Early stopping, best iteration is:\n",
            "[483]\ttraining's rmse: 0.181948\tvalid_1's rmse: 0.230316\n"
          ]
        },
        {
          "output_type": "stream",
          "name": "stderr",
          "text": [
            "[I 2024-12-03 07:06:53,121] Trial 18 finished with value: 0.23031606605999444 and parameters: {'learning_rate': 0.012150222586688832, 'num_leaves': 235, 'max_depth': 23, 'lambda_l1': 0.6685225903316631, 'lambda_l2': 0.6784089671177352}. Best is trial 6 with value: 0.2299657756240295.\n"
          ]
        },
        {
          "output_type": "stream",
          "name": "stdout",
          "text": [
            "Training until validation scores don't improve for 50 rounds\n",
            "[100]\ttraining's rmse: 0.220852\tvalid_1's rmse: 0.235997\n",
            "[200]\ttraining's rmse: 0.203165\tvalid_1's rmse: 0.231578\n",
            "[300]\ttraining's rmse: 0.191456\tvalid_1's rmse: 0.23063\n",
            "[400]\ttraining's rmse: 0.183041\tvalid_1's rmse: 0.230445\n",
            "[500]\ttraining's rmse: 0.175765\tvalid_1's rmse: 0.23037\n",
            "Early stopping, best iteration is:\n",
            "[534]\ttraining's rmse: 0.173395\tvalid_1's rmse: 0.230337\n"
          ]
        },
        {
          "output_type": "stream",
          "name": "stderr",
          "text": [
            "[I 2024-12-03 07:12:38,317] Trial 19 finished with value: 0.2303370569241868 and parameters: {'learning_rate': 0.01008491483583737, 'num_leaves': 354, 'max_depth': 17, 'lambda_l1': 0.008919063711298525, 'lambda_l2': 0.19156684447017602}. Best is trial 6 with value: 0.2299657756240295.\n"
          ]
        },
        {
          "output_type": "stream",
          "name": "stdout",
          "text": [
            "Training until validation scores don't improve for 50 rounds\n",
            "[100]\ttraining's rmse: 0.198713\tvalid_1's rmse: 0.230719\n",
            "Early stopping, best iteration is:\n",
            "[128]\ttraining's rmse: 0.192227\tvalid_1's rmse: 0.230592\n"
          ]
        },
        {
          "output_type": "stream",
          "name": "stderr",
          "text": [
            "[I 2024-12-03 07:13:53,887] Trial 20 finished with value: 0.23059244820664285 and parameters: {'learning_rate': 0.04085763088219815, 'num_leaves': 259, 'max_depth': 21, 'lambda_l1': 4.297307690907107, 'lambda_l2': 0.08670024881835862}. Best is trial 6 with value: 0.2299657756240295.\n"
          ]
        },
        {
          "output_type": "stream",
          "name": "stdout",
          "text": [
            "Training until validation scores don't improve for 50 rounds\n",
            "[100]\ttraining's rmse: 0.211333\tvalid_1's rmse: 0.232267\n",
            "[200]\ttraining's rmse: 0.193658\tvalid_1's rmse: 0.230384\n",
            "[300]\ttraining's rmse: 0.183268\tvalid_1's rmse: 0.230181\n",
            "Early stopping, best iteration is:\n",
            "[294]\ttraining's rmse: 0.183831\tvalid_1's rmse: 0.230171\n"
          ]
        },
        {
          "output_type": "stream",
          "name": "stderr",
          "text": [
            "[I 2024-12-03 07:16:26,052] Trial 21 finished with value: 0.2301709078109807 and parameters: {'learning_rate': 0.017174314839254145, 'num_leaves': 397, 'max_depth': 19, 'lambda_l1': 3.256230069338743, 'lambda_l2': 0.7616947256281127}. Best is trial 6 with value: 0.2299657756240295.\n"
          ]
        },
        {
          "output_type": "stream",
          "name": "stdout",
          "text": [
            "Training until validation scores don't improve for 50 rounds\n",
            "[100]\ttraining's rmse: 0.223114\tvalid_1's rmse: 0.235428\n",
            "[200]\ttraining's rmse: 0.207734\tvalid_1's rmse: 0.231349\n",
            "[300]\ttraining's rmse: 0.199679\tvalid_1's rmse: 0.230544\n",
            "[400]\ttraining's rmse: 0.194863\tvalid_1's rmse: 0.230393\n",
            "[500]\ttraining's rmse: 0.19073\tvalid_1's rmse: 0.230303\n",
            "[600]\ttraining's rmse: 0.186879\tvalid_1's rmse: 0.230249\n",
            "[700]\ttraining's rmse: 0.183369\tvalid_1's rmse: 0.230197\n",
            "Early stopping, best iteration is:\n",
            "[716]\ttraining's rmse: 0.182858\tvalid_1's rmse: 0.230184\n"
          ]
        },
        {
          "output_type": "stream",
          "name": "stderr",
          "text": [
            "[I 2024-12-03 07:20:11,016] Trial 22 finished with value: 0.23018401223438745 and parameters: {'learning_rate': 0.011048869266976416, 'num_leaves': 443, 'max_depth': 14, 'lambda_l1': 4.311156393465337, 'lambda_l2': 1.0676895096607788}. Best is trial 6 with value: 0.2299657756240295.\n"
          ]
        },
        {
          "output_type": "stream",
          "name": "stdout",
          "text": [
            "Training until validation scores don't improve for 50 rounds\n",
            "[100]\ttraining's rmse: 0.197686\tvalid_1's rmse: 0.230813\n",
            "[200]\ttraining's rmse: 0.176082\tvalid_1's rmse: 0.230413\n",
            "Early stopping, best iteration is:\n",
            "[168]\ttraining's rmse: 0.181926\tvalid_1's rmse: 0.230381\n"
          ]
        },
        {
          "output_type": "stream",
          "name": "stderr",
          "text": [
            "[I 2024-12-03 07:22:24,259] Trial 23 finished with value: 0.2303811042894055 and parameters: {'learning_rate': 0.02534736092550802, 'num_leaves': 377, 'max_depth': 22, 'lambda_l1': 0.9050747719289862, 'lambda_l2': 3.7266290117480634}. Best is trial 6 with value: 0.2299657756240295.\n"
          ]
        },
        {
          "output_type": "stream",
          "name": "stdout",
          "text": [
            "Training until validation scores don't improve for 50 rounds\n",
            "[100]\ttraining's rmse: 0.216338\tvalid_1's rmse: 0.233844\n",
            "[200]\ttraining's rmse: 0.198084\tvalid_1's rmse: 0.230657\n",
            "[300]\ttraining's rmse: 0.185255\tvalid_1's rmse: 0.230216\n",
            "[400]\ttraining's rmse: 0.174652\tvalid_1's rmse: 0.230199\n",
            "Early stopping, best iteration is:\n",
            "[355]\ttraining's rmse: 0.179211\tvalid_1's rmse: 0.230177\n"
          ]
        },
        {
          "output_type": "stream",
          "name": "stderr",
          "text": [
            "[I 2024-12-03 07:26:31,482] Trial 24 finished with value: 0.23017677240013854 and parameters: {'learning_rate': 0.013011851592985253, 'num_leaves': 319, 'max_depth': 25, 'lambda_l1': 0.3141079058711673, 'lambda_l2': 0.36515315265572623}. Best is trial 6 with value: 0.2299657756240295.\n"
          ]
        },
        {
          "output_type": "stream",
          "name": "stdout",
          "text": [
            "Training until validation scores don't improve for 50 rounds\n",
            "[100]\ttraining's rmse: 0.226867\tvalid_1's rmse: 0.236351\n",
            "[200]\ttraining's rmse: 0.213246\tvalid_1's rmse: 0.231735\n",
            "[300]\ttraining's rmse: 0.204724\tvalid_1's rmse: 0.230655\n",
            "[400]\ttraining's rmse: 0.198998\tvalid_1's rmse: 0.230371\n",
            "[500]\ttraining's rmse: 0.194186\tvalid_1's rmse: 0.230276\n",
            "[600]\ttraining's rmse: 0.18957\tvalid_1's rmse: 0.230249\n",
            "[700]\ttraining's rmse: 0.185389\tvalid_1's rmse: 0.230197\n",
            "[800]\ttraining's rmse: 0.181446\tvalid_1's rmse: 0.230173\n",
            "[900]\ttraining's rmse: 0.177784\tvalid_1's rmse: 0.230173\n",
            "Early stopping, best iteration is:\n",
            "[909]\ttraining's rmse: 0.177455\tvalid_1's rmse: 0.23016\n"
          ]
        },
        {
          "output_type": "stream",
          "name": "stderr",
          "text": [
            "[I 2024-12-03 07:31:24,200] Trial 25 finished with value: 0.23016001041276815 and parameters: {'learning_rate': 0.010172283532677887, 'num_leaves': 300, 'max_depth': 17, 'lambda_l1': 4.993010117185655, 'lambda_l2': 4.837433006560713}. Best is trial 6 with value: 0.2299657756240295.\n"
          ]
        },
        {
          "output_type": "stream",
          "name": "stdout",
          "text": [
            "Training until validation scores don't improve for 50 rounds\n",
            "[100]\ttraining's rmse: 0.209322\tvalid_1's rmse: 0.232128\n",
            "[200]\ttraining's rmse: 0.190323\tvalid_1's rmse: 0.230252\n",
            "[300]\ttraining's rmse: 0.178405\tvalid_1's rmse: 0.229994\n",
            "[400]\ttraining's rmse: 0.168018\tvalid_1's rmse: 0.229937\n",
            "[500]\ttraining's rmse: 0.159104\tvalid_1's rmse: 0.22984\n",
            "[600]\ttraining's rmse: 0.151136\tvalid_1's rmse: 0.229805\n",
            "[700]\ttraining's rmse: 0.14398\tvalid_1's rmse: 0.229767\n",
            "Early stopping, best iteration is:\n",
            "[675]\ttraining's rmse: 0.145576\tvalid_1's rmse: 0.229749\n"
          ]
        },
        {
          "output_type": "stream",
          "name": "stderr",
          "text": [
            "[I 2024-12-03 07:36:48,930] Trial 26 finished with value: 0.22974859488345928 and parameters: {'learning_rate': 0.016900255014911943, 'num_leaves': 378, 'max_depth': 19, 'lambda_l1': 1.2447563180739318, 'lambda_l2': 1.8717922345065867}. Best is trial 26 with value: 0.22974859488345928.\n"
          ]
        },
        {
          "output_type": "stream",
          "name": "stdout",
          "text": [
            "Training until validation scores don't improve for 50 rounds\n",
            "[100]\ttraining's rmse: 0.205968\tvalid_1's rmse: 0.23268\n",
            "[200]\ttraining's rmse: 0.187372\tvalid_1's rmse: 0.230764\n",
            "[300]\ttraining's rmse: 0.179298\tvalid_1's rmse: 0.230499\n",
            "Early stopping, best iteration is:\n",
            "[332]\ttraining's rmse: 0.176928\tvalid_1's rmse: 0.230468\n"
          ]
        },
        {
          "output_type": "stream",
          "name": "stderr",
          "text": [
            "[I 2024-12-03 07:40:13,260] Trial 27 finished with value: 0.23046764978715661 and parameters: {'learning_rate': 0.015877568423586286, 'num_leaves': 512, 'max_depth': 13, 'lambda_l1': 0.10942836720803277, 'lambda_l2': 1.753218308254229}. Best is trial 26 with value: 0.22974859488345928.\n"
          ]
        },
        {
          "output_type": "stream",
          "name": "stdout",
          "text": [
            "Training until validation scores don't improve for 50 rounds\n",
            "[100]\ttraining's rmse: 0.218065\tvalid_1's rmse: 0.232371\n",
            "[200]\ttraining's rmse: 0.205107\tvalid_1's rmse: 0.230789\n",
            "[300]\ttraining's rmse: 0.196327\tvalid_1's rmse: 0.230593\n",
            "[400]\ttraining's rmse: 0.188636\tvalid_1's rmse: 0.230541\n",
            "[500]\ttraining's rmse: 0.181784\tvalid_1's rmse: 0.23048\n",
            "Early stopping, best iteration is:\n",
            "[494]\ttraining's rmse: 0.182194\tvalid_1's rmse: 0.230473\n"
          ]
        },
        {
          "output_type": "stream",
          "name": "stderr",
          "text": [
            "[I 2024-12-03 07:43:12,839] Trial 28 finished with value: 0.23047316353126665 and parameters: {'learning_rate': 0.018165461150903735, 'num_leaves': 185, 'max_depth': 16, 'lambda_l1': 1.0854272774402356, 'lambda_l2': 6.8673861631395505}. Best is trial 26 with value: 0.22974859488345928.\n"
          ]
        },
        {
          "output_type": "stream",
          "name": "stdout",
          "text": [
            "Training until validation scores don't improve for 50 rounds\n",
            "[100]\ttraining's rmse: 0.191051\tvalid_1's rmse: 0.230716\n",
            "[200]\ttraining's rmse: 0.167729\tvalid_1's rmse: 0.230313\n",
            "Early stopping, best iteration is:\n",
            "[172]\ttraining's rmse: 0.17304\tvalid_1's rmse: 0.230257\n"
          ]
        },
        {
          "output_type": "stream",
          "name": "stderr",
          "text": [
            "[I 2024-12-03 07:45:54,851] Trial 29 finished with value: 0.23025740954581936 and parameters: {'learning_rate': 0.025337748984772628, 'num_leaves': 457, 'max_depth': 20, 'lambda_l1': 0.23689578974916353, 'lambda_l2': 2.467169601411372}. Best is trial 26 with value: 0.22974859488345928.\n"
          ]
        },
        {
          "output_type": "stream",
          "name": "stdout",
          "text": [
            "Training until validation scores don't improve for 50 rounds\n",
            "[100]\ttraining's rmse: 0.225098\tvalid_1's rmse: 0.234627\n",
            "[200]\ttraining's rmse: 0.215031\tvalid_1's rmse: 0.231708\n",
            "[300]\ttraining's rmse: 0.210994\tvalid_1's rmse: 0.231313\n",
            "[400]\ttraining's rmse: 0.207765\tvalid_1's rmse: 0.23116\n",
            "[500]\ttraining's rmse: 0.204838\tvalid_1's rmse: 0.231041\n",
            "[600]\ttraining's rmse: 0.202115\tvalid_1's rmse: 0.231014\n",
            "[700]\ttraining's rmse: 0.199704\tvalid_1's rmse: 0.230922\n",
            "[800]\ttraining's rmse: 0.19742\tvalid_1's rmse: 0.230867\n",
            "Early stopping, best iteration is:\n",
            "[837]\ttraining's rmse: 0.196592\tvalid_1's rmse: 0.230858\n"
          ]
        },
        {
          "output_type": "stream",
          "name": "stderr",
          "text": [
            "[I 2024-12-03 07:48:23,587] Trial 30 finished with value: 0.23085777838273136 and parameters: {'learning_rate': 0.013505909577059782, 'num_leaves': 265, 'max_depth': 9, 'lambda_l1': 2.4901407895606282, 'lambda_l2': 0.0042050996460699765}. Best is trial 26 with value: 0.22974859488345928.\n"
          ]
        },
        {
          "output_type": "stream",
          "name": "stdout",
          "text": [
            "Best parameters: {'learning_rate': 0.016900255014911943, 'num_leaves': 378, 'max_depth': 19, 'lambda_l1': 1.2447563180739318, 'lambda_l2': 1.8717922345065867}\n"
          ]
        }
      ]
    },
    {
      "cell_type": "code",
      "source": [
        "merged_all_params = {\n",
        "    'objective': 'regression',\n",
        "    'metric': 'rmse',\n",
        "    'boosting_type': 'gbdt',\n",
        "    'learning_rate': 0.017,\n",
        "    'num_leaves': 378,\n",
        "    'max_depth': 19,\n",
        "    'bagging_seed': 42,\n",
        "    'bagging_fraction': 0.8,\n",
        "    'bagging_freq': 5,\n",
        "    'feature_fraction': 0.8,\n",
        "    'lambda_l1': 1.2447563180739318,\n",
        "    'lambda_l2': 1.8717922345065867,\n",
        "    'verbose': -1\n",
        "}"
      ],
      "metadata": {
        "id": "Fa_QHuY9KwCq"
      },
      "execution_count": null,
      "outputs": []
    },
    {
      "cell_type": "code",
      "source": [
        "merged_all_model = fit_lgb(\n",
        "    train_merged_all_X, train_y,\n",
        "    test_merged_all_X, test_y,\n",
        "    categorical_features=categorical_features,\n",
        "    params=merged_all_params,\n",
        ")"
      ],
      "metadata": {
        "colab": {
          "base_uri": "https://localhost:8080/"
        },
        "id": "p50kdBmoLD9j",
        "outputId": "460f0baf-ce3f-45bc-ce52-2fe65d23a031"
      },
      "execution_count": null,
      "outputs": [
        {
          "output_type": "stream",
          "name": "stdout",
          "text": [
            "Training until validation scores don't improve for 50 rounds\n",
            "[40]\ttraining's rmse: 0.230461\tvalid_1's rmse: 0.239956\n",
            "[80]\ttraining's rmse: 0.214825\tvalid_1's rmse: 0.233482\n",
            "[120]\ttraining's rmse: 0.204295\tvalid_1's rmse: 0.231299\n",
            "[160]\ttraining's rmse: 0.196023\tvalid_1's rmse: 0.230493\n",
            "[200]\ttraining's rmse: 0.190018\tvalid_1's rmse: 0.230213\n",
            "[240]\ttraining's rmse: 0.184983\tvalid_1's rmse: 0.230137\n",
            "[280]\ttraining's rmse: 0.180301\tvalid_1's rmse: 0.230039\n",
            "[320]\ttraining's rmse: 0.175782\tvalid_1's rmse: 0.230026\n",
            "[360]\ttraining's rmse: 0.171614\tvalid_1's rmse: 0.230023\n",
            "[400]\ttraining's rmse: 0.167691\tvalid_1's rmse: 0.230024\n",
            "[440]\ttraining's rmse: 0.163956\tvalid_1's rmse: 0.229978\n",
            "[480]\ttraining's rmse: 0.16037\tvalid_1's rmse: 0.22995\n",
            "[520]\ttraining's rmse: 0.156981\tvalid_1's rmse: 0.229936\n",
            "[560]\ttraining's rmse: 0.153703\tvalid_1's rmse: 0.229906\n",
            "Early stopping, best iteration is:\n",
            "[547]\ttraining's rmse: 0.15465\tvalid_1's rmse: 0.229883\n",
            "RMSE: 0.22980301797838515\n"
          ]
        }
      ]
    },
    {
      "cell_type": "markdown",
      "source": [
        "# Stacking: poor results, attempt abandoned"
      ],
      "metadata": {
        "id": "zqtW-3o9b2ot"
      }
    },
    {
      "cell_type": "markdown",
      "source": [
        "## Stack: Image-only Pred to Tabular Tree"
      ],
      "metadata": {
        "id": "OrAs-Po_UHB3"
      }
    },
    {
      "cell_type": "code",
      "source": [
        "train_stack_X = train_tabular_X.copy()\n",
        "test_stack_X = test_tabular_X.copy()\n",
        "\n",
        "train_stack_X['image_pred'] = model_image_only.predict(train_image_X)\n",
        "test_stack_X['image_pred'] = model_image_only.predict(test_image_X)"
      ],
      "metadata": {
        "id": "QOhHRU8MQfLF"
      },
      "execution_count": null,
      "outputs": []
    },
    {
      "cell_type": "code",
      "source": [
        "model_stack = fit_lgb(\n",
        "    train_stack_X, train_y,\n",
        "    test_stack_X, test_y,\n",
        "    categorical_features=categorical_features,\n",
        "    params=params,\n",
        ")"
      ],
      "metadata": {
        "colab": {
          "base_uri": "https://localhost:8080/"
        },
        "id": "MDw4YU0iUZ60",
        "outputId": "2558289e-8987-4f0a-9f11-dede08338759"
      },
      "execution_count": null,
      "outputs": [
        {
          "output_type": "stream",
          "name": "stdout",
          "text": [
            "Training until validation scores don't improve for 50 rounds\n",
            "[40]\ttraining's rmse: 0.14065\tvalid_1's rmse: 0.245221\n",
            "[80]\ttraining's rmse: 0.0890579\tvalid_1's rmse: 0.247007\n",
            "Early stopping, best iteration is:\n",
            "[50]\ttraining's rmse: 0.125346\tvalid_1's rmse: 0.244718\n",
            "RMSE: 0.24423304728063672\n"
          ]
        }
      ]
    },
    {
      "cell_type": "markdown",
      "source": [
        "## Stack: Image Pred and Tabular Pred to Logistic reg"
      ],
      "metadata": {
        "id": "k5Uct1HIVoFr"
      }
    },
    {
      "cell_type": "code",
      "source": [
        "model_tabular = fit_lgb(\n",
        "    train_tabular_X, train_y,\n",
        "    test_tabular_X, test_y,\n",
        "    categorical_features=categorical_features,\n",
        "    params=params,\n",
        ")"
      ],
      "metadata": {
        "colab": {
          "base_uri": "https://localhost:8080/"
        },
        "id": "-A9A--d1WGuD",
        "outputId": "14c1f24b-b0b6-4789-a84b-6b98fcffe510"
      },
      "execution_count": null,
      "outputs": [
        {
          "output_type": "stream",
          "name": "stdout",
          "text": [
            "Training until validation scores don't improve for 50 rounds\n",
            "[40]\ttraining's rmse: 0.231726\tvalid_1's rmse: 0.238728\n",
            "[80]\ttraining's rmse: 0.220294\tvalid_1's rmse: 0.233625\n",
            "[120]\ttraining's rmse: 0.214177\tvalid_1's rmse: 0.232531\n",
            "[160]\ttraining's rmse: 0.210606\tvalid_1's rmse: 0.232504\n",
            "Early stopping, best iteration is:\n",
            "[142]\ttraining's rmse: 0.211826\tvalid_1's rmse: 0.232428\n",
            "RMSE: 0.2321422109231478\n"
          ]
        }
      ]
    },
    {
      "cell_type": "code",
      "source": [],
      "metadata": {
        "id": "GOXpvv_fWJdD"
      },
      "execution_count": null,
      "outputs": []
    },
    {
      "cell_type": "code",
      "source": [
        "train_stack2_x = pd.DataFrame({\n",
        "    'tabular_pred': model_tabular.predict(train_tabular_X),\n",
        "    'image_pred': model_image_only.predict(train_image_X)\n",
        "})\n",
        "test_stack2_x = pd.DataFrame({\n",
        "    'tabular_pred': model_tabular.predict(test_tabular_X),\n",
        "    'image_pred': model_image_only.predict(test_image_X)\n",
        "})"
      ],
      "metadata": {
        "id": "9JvsFEnpVxBt"
      },
      "execution_count": null,
      "outputs": []
    },
    {
      "cell_type": "code",
      "source": [
        "params"
      ],
      "metadata": {
        "colab": {
          "base_uri": "https://localhost:8080/"
        },
        "id": "Bwmz3-1ZW-Ti",
        "outputId": "eae6f35d-fb93-465e-e43b-1b0b501c01f7"
      },
      "execution_count": null,
      "outputs": [
        {
          "output_type": "execute_result",
          "data": {
            "text/plain": [
              "{'objective': 'regression',\n",
              " 'metric': 'rmse',\n",
              " 'boosting_type': 'gbdt',\n",
              " 'learning_rate': 0.02,\n",
              " 'num_leaves': 512,\n",
              " 'max_depth': 20,\n",
              " 'bagging_seed': 42,\n",
              " 'bagging_fraction': 0.8,\n",
              " 'bagging_freq': 5,\n",
              " 'feature_fraction': 0.8,\n",
              " 'lambda_l1': 2.25,\n",
              " 'lambda_l2': 0.015,\n",
              " 'verbose': -1}"
            ]
          },
          "metadata": {},
          "execution_count": 33
        }
      ]
    },
    {
      "cell_type": "code",
      "source": [
        "model_stack2 = fit_lgb(\n",
        "    train_stack2_x, train_y,\n",
        "    test_stack2_x, test_y,\n",
        "    categorical_features=[],\n",
        "    params={\n",
        "        'objective': 'regression',\n",
        "        'metric': 'rmse',\n",
        "        'boosting_type': 'gbdt',\n",
        "        'learning_rate': 0.001,\n",
        "        'num_leaves': 64,\n",
        "        'max_depth': 5,\n",
        "    },\n",
        ")"
      ],
      "metadata": {
        "colab": {
          "base_uri": "https://localhost:8080/"
        },
        "id": "QjuzsJGqWApV",
        "outputId": "87ba4abe-0737-4a54-b4ea-87a2afc156ee"
      },
      "execution_count": null,
      "outputs": [
        {
          "output_type": "stream",
          "name": "stdout",
          "text": [
            "Training until validation scores don't improve for 50 rounds\n",
            "[40]\ttraining's rmse: 0.251634\tvalid_1's rmse: 0.258936\n",
            "[80]\ttraining's rmse: 0.242954\tvalid_1's rmse: 0.257233\n",
            "[120]\ttraining's rmse: 0.234656\tvalid_1's rmse: 0.255728\n",
            "[160]\ttraining's rmse: 0.226724\tvalid_1's rmse: 0.254416\n",
            "[200]\ttraining's rmse: 0.219146\tvalid_1's rmse: 0.253282\n",
            "[240]\ttraining's rmse: 0.211909\tvalid_1's rmse: 0.252311\n",
            "[280]\ttraining's rmse: 0.205001\tvalid_1's rmse: 0.251485\n",
            "[320]\ttraining's rmse: 0.198409\tvalid_1's rmse: 0.2508\n",
            "[360]\ttraining's rmse: 0.192119\tvalid_1's rmse: 0.250236\n",
            "[400]\ttraining's rmse: 0.186122\tvalid_1's rmse: 0.249781\n",
            "[440]\ttraining's rmse: 0.180409\tvalid_1's rmse: 0.249425\n",
            "[480]\ttraining's rmse: 0.174968\tvalid_1's rmse: 0.249155\n",
            "[520]\ttraining's rmse: 0.169789\tvalid_1's rmse: 0.248962\n",
            "[560]\ttraining's rmse: 0.164863\tvalid_1's rmse: 0.248838\n",
            "[600]\ttraining's rmse: 0.160179\tvalid_1's rmse: 0.248771\n",
            "[640]\ttraining's rmse: 0.155729\tvalid_1's rmse: 0.24876\n",
            "Early stopping, best iteration is:\n",
            "[627]\ttraining's rmse: 0.15715\tvalid_1's rmse: 0.248758\n",
            "RMSE: 0.24876872062354746\n"
          ]
        }
      ]
    }
  ]
}