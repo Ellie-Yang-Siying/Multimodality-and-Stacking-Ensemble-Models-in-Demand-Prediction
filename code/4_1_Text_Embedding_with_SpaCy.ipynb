{
  "nbformat": 4,
  "nbformat_minor": 0,
  "metadata": {
    "colab": {
      "provenance": [],
      "machine_shape": "hm",
      "collapsed_sections": [
        "bvcm83FOI0wC",
        "1G7uGkP1IwuB",
        "Nii4Zslb2yY3",
        "uhxcoEnxtvSl"
      ]
    },
    "kernelspec": {
      "name": "python3",
      "display_name": "Python 3"
    },
    "language_info": {
      "name": "python"
    }
  },
  "cells": [
    {
      "cell_type": "markdown",
      "source": [
        "# load packages and data"
      ],
      "metadata": {
        "id": "bvcm83FOI0wC"
      }
    },
    {
      "cell_type": "code",
      "source": [
        "# !pip install -U pip setuptools wheel\n",
        "# !pip install -U 'spacy[cuda12x]'\n",
        "# !python -m spacy download en_core_web_sm\n",
        "# !python -m spacy download ru_core_news_sm\n",
        "# !python -m spacy download ru_core_news_md"
      ],
      "metadata": {
        "id": "1UdIXe0nPSTY"
      },
      "execution_count": null,
      "outputs": []
    },
    {
      "cell_type": "code",
      "execution_count": null,
      "metadata": {
        "id": "1oaknMMGB6YL"
      },
      "outputs": [],
      "source": [
        "import spacy\n",
        "\n",
        "from tqdm import tqdm\n",
        "import numpy as np\n",
        "import pandas as pd\n",
        "import matplotlib.pyplot as plt\n",
        "import seaborn as sns\n",
        "\n",
        "import warnings\n",
        "warnings.filterwarnings('ignore')"
      ]
    },
    {
      "cell_type": "code",
      "source": [
        "from google.colab import drive\n",
        "drive.mount('/content/drive')"
      ],
      "metadata": {
        "colab": {
          "base_uri": "https://localhost:8080/"
        },
        "id": "ShRWt5bpFNZ_",
        "outputId": "6e5d783a-0cbe-460f-91d8-d3d8a89ef05d"
      },
      "execution_count": null,
      "outputs": [
        {
          "output_type": "stream",
          "name": "stdout",
          "text": [
            "Drive already mounted at /content/drive; to attempt to forcibly remount, call drive.mount(\"/content/drive\", force_remount=True).\n"
          ]
        }
      ]
    },
    {
      "cell_type": "code",
      "source": [
        "data_dir_path = '/content/drive/MyDrive/ML Project/data/'\n",
        "train_featured = pd.read_csv(data_dir_path + 'train_X_y_features_v1.csv')\n",
        "test_featured = pd.read_csv( data_dir_path + 'test_X_y_features_v1.csv')\n",
        "print(train_featured.shape)\n",
        "print(test_featured.shape)"
      ],
      "metadata": {
        "colab": {
          "base_uri": "https://localhost:8080/"
        },
        "id": "eY_V7gzAEuQB",
        "outputId": "d2a8a5bb-399c-4363-d3a1-72343804034f"
      },
      "execution_count": null,
      "outputs": [
        {
          "output_type": "stream",
          "name": "stdout",
          "text": [
            "(1202739, 43)\n",
            "(300685, 43)\n"
          ]
        }
      ]
    },
    {
      "cell_type": "code",
      "source": [
        "# train_featured.agg(\"{0[title]}; {0[description]}\".format, axis=1)\n",
        "train_text_df = train_featured.loc[:, [\"item_id\", \"user_id\",]].copy()\n",
        "train_text_df[\"text\"] = train_featured[\"title\"].fillna(\"\") + \"; \" \\\n",
        "    + train_featured[\"description\"].fillna(\"\")\n",
        "\n",
        "test_text_df = test_featured.loc[:, [\"item_id\", \"user_id\",]].copy()\n",
        "test_text_df[\"text\"] = test_featured[\"title\"].fillna(\"\") + \"; \" \\\n",
        "    + test_featured[\"description\"].fillna(\"\")"
      ],
      "metadata": {
        "id": "t6LhxoKjGU6u"
      },
      "execution_count": null,
      "outputs": []
    },
    {
      "cell_type": "markdown",
      "source": [
        "# Text embedding - small spacy model"
      ],
      "metadata": {
        "id": "1G7uGkP1IwuB"
      }
    },
    {
      "cell_type": "code",
      "source": [
        "NLP = spacy.load('ru_core_news_sm', disable=[\"ner\", \"parser\"])"
      ],
      "metadata": {
        "id": "N2NDLpnaFTk7"
      },
      "execution_count": null,
      "outputs": []
    },
    {
      "cell_type": "code",
      "source": [
        "import os\n",
        "n_process = os.cpu_count()\n",
        "print(n_process)"
      ],
      "metadata": {
        "colab": {
          "base_uri": "https://localhost:8080/"
        },
        "id": "TmOG-PaJOOg1",
        "outputId": "1e94cd7c-4193-45d5-a464-cfb4c025ac29"
      },
      "execution_count": null,
      "outputs": [
        {
          "output_type": "stream",
          "name": "stdout",
          "text": [
            "8\n"
          ]
        }
      ]
    },
    {
      "cell_type": "code",
      "source": [
        "# tqdm.pandas(desc=\"generate embeddings\")\n",
        "# train_text_df[\"embeddings\"] = train_text_df[\"text\"].progress_apply(lambda x: NLP(x).vector)"
      ],
      "metadata": {
        "id": "HEQ3zw--H0nM"
      },
      "execution_count": null,
      "outputs": []
    },
    {
      "cell_type": "code",
      "source": [
        "train_texts = train_text_df[\"text\"].tolist()\n",
        "embeddings = []\n",
        "for doc in tqdm(NLP.pipe(train_texts, n_process=n_process, batch_size=100), total=len(train_texts)):\n",
        "    embeddings.append(doc.vector)\n",
        "# train_text_df[\"embeddings\"] = embeddings"
      ],
      "metadata": {
        "id": "gyoAn1FKxxS8"
      },
      "execution_count": null,
      "outputs": []
    },
    {
      "cell_type": "code",
      "source": [
        "train_text_df = pd.concat([\n",
        "    train_text_df.drop(columns=[\"text\"]),\n",
        "    pd.DataFrame(np.array(embeddings)).add_prefix(\"embedding_\")\n",
        "    ], axis=1,\n",
        ")"
      ],
      "metadata": {
        "id": "_rpTFERSebDz"
      },
      "execution_count": null,
      "outputs": []
    },
    {
      "cell_type": "code",
      "source": [
        "train_text_df.to_csv(data_dir_path + 'train_embeddings_spacysm.csv', index=False)"
      ],
      "metadata": {
        "id": "AZrSfDMzfAjI"
      },
      "execution_count": null,
      "outputs": []
    },
    {
      "cell_type": "code",
      "source": [
        "test_texts = test_text_df[\"text\"].tolist()\n",
        "embeddings = []\n",
        "for doc in tqdm(NLP.pipe(test_texts, n_process=n_process, batch_size=100), total=len(test_texts)):\n",
        "    embeddings.append(doc.vector)\n",
        "# test_text_df[\"embeddings\"] = embeddings\n",
        "test_text_df = pd.concat([\n",
        "    test_text_df.drop(columns=[\"text\"]),\n",
        "    pd.DataFrame(np.array(embeddings)).add_prefix(\"embedding_\")\n",
        "    ], axis=1,\n",
        ")\n",
        "test_text_df.to_csv(data_dir_path + 'test_embeddings_spacysm.csv', index=False)"
      ],
      "metadata": {
        "colab": {
          "base_uri": "https://localhost:8080/"
        },
        "id": "ErcwZRVDfGcj",
        "outputId": "1b4fab34-2db6-4ebd-8fab-a00663309202"
      },
      "execution_count": null,
      "outputs": [
        {
          "output_type": "stream",
          "name": "stderr",
          "text": [
            "100%|██████████| 300685/300685 [11:49<00:00, 423.54it/s]\n"
          ]
        }
      ]
    },
    {
      "cell_type": "markdown",
      "source": [
        "# Text embedding - medium spacy model"
      ],
      "metadata": {
        "id": "UvNrbXzmADaZ"
      }
    },
    {
      "cell_type": "code",
      "source": [
        "NLP = spacy.load('ru_core_news_md', disable=[\"ner\", \"parser\"])"
      ],
      "metadata": {
        "id": "ATgRmcC9ADaZ"
      },
      "execution_count": null,
      "outputs": []
    },
    {
      "cell_type": "code",
      "source": [
        "import os\n",
        "n_process = os.cpu_count()\n",
        "print(n_process)"
      ],
      "metadata": {
        "colab": {
          "base_uri": "https://localhost:8080/"
        },
        "outputId": "ddbf8ca5-08d1-4a4a-8383-a60905777e41",
        "id": "OLwuFhDEADaa"
      },
      "execution_count": null,
      "outputs": [
        {
          "output_type": "stream",
          "name": "stdout",
          "text": [
            "8\n"
          ]
        }
      ]
    },
    {
      "cell_type": "code",
      "source": [
        "train_texts = train_text_df[\"text\"].tolist()\n",
        "embeddings = []\n",
        "for doc in tqdm(NLP.pipe(train_texts, n_process=n_process, batch_size=100), total=len(train_texts)):\n",
        "    embeddings.append(doc.vector)\n",
        "# train_text_df[\"embeddings\"] = embeddings\n",
        "train_text_df = pd.concat([\n",
        "    train_text_df.drop(columns=[\"text\"]),\n",
        "    pd.DataFrame(np.array(embeddings)).add_prefix(\"embedding_\")\n",
        "    ], axis=1,\n",
        ")\n",
        "# train_text_df.to_csv(data_dir_path + 'train_embeddings_spacymd.csv', index=False)"
      ],
      "metadata": {
        "colab": {
          "base_uri": "https://localhost:8080/"
        },
        "id": "CYIhQi-SADaa",
        "outputId": "d7b35e9f-af2d-4783-8222-0e125d376323"
      },
      "execution_count": null,
      "outputs": [
        {
          "output_type": "stream",
          "name": "stderr",
          "text": [
            "100%|██████████| 1202739/1202739 [51:36<00:00, 388.38it/s]\n"
          ]
        }
      ]
    },
    {
      "cell_type": "code",
      "source": [
        "test_texts = test_text_df[\"text\"].tolist()\n",
        "embeddings = []\n",
        "for doc in tqdm(NLP.pipe(test_texts, n_process=n_process, batch_size=100), total=len(test_texts)):\n",
        "    embeddings.append(doc.vector)\n",
        "# test_text_df[\"embeddings\"] = embeddings\n",
        "test_text_df = pd.concat([\n",
        "    test_text_df.drop(columns=[\"text\"]),\n",
        "    pd.DataFrame(np.array(embeddings)).add_prefix(\"embedding_\")\n",
        "    ], axis=1,\n",
        ")\n",
        "# test_text_df.to_csv(data_dir_path + 'test_embeddings_spacymd.csv', index=False)"
      ],
      "metadata": {
        "colab": {
          "base_uri": "https://localhost:8080/"
        },
        "outputId": "39050ccc-eb22-4e96-d0bd-d20278a4f97f",
        "id": "SA3lgrlnADab"
      },
      "execution_count": null,
      "outputs": [
        {
          "output_type": "stream",
          "name": "stderr",
          "text": [
            "100%|██████████| 300685/300685 [13:31<00:00, 370.44it/s]\n"
          ]
        }
      ]
    },
    {
      "cell_type": "code",
      "source": [
        "# train_text_df.to_csv(data_dir_path + 'train_embeddings_spacymd.csv', index=False)\n",
        "# test_text_df.to_csv(data_dir_path + 'test_embeddings_spacymd.csv', index=False)"
      ],
      "metadata": {
        "id": "xu0KI3cePKpW"
      },
      "execution_count": null,
      "outputs": []
    },
    {
      "cell_type": "markdown",
      "source": [
        "# Helper functions and shared params for LightGBM"
      ],
      "metadata": {
        "id": "Nii4Zslb2yY3"
      }
    },
    {
      "cell_type": "code",
      "source": [
        "from sklearn import preprocessing\n",
        "from sklearn.model_selection import train_test_split\n",
        "from sklearn.metrics import mean_squared_error\n",
        "from sklearn.preprocessing import StandardScaler\n",
        "import xgboost as xgb\n",
        "import lightgbm as lgb\n",
        "from sklearn.decomposition import TruncatedSVD"
      ],
      "metadata": {
        "id": "j7q-uSiyrTEq"
      },
      "execution_count": null,
      "outputs": []
    },
    {
      "cell_type": "code",
      "source": [
        "# load data and merge with embeddings\n",
        "def get_tabulat_and_text_data(train_text_df, test_text_df):\n",
        "    train_X = train_featured.drop(['title','description', 'item_id', 'user_id', 'item_seq_number', 'activation_date', 'image',\n",
        "        'image_top_1', 'deal_probability'], axis=1)\n",
        "    test_X = test_featured.drop(['title','description', 'item_id', 'user_id', 'item_seq_number', 'activation_date', 'image',\n",
        "        'image_top_1', 'deal_probability'], axis=1)\n",
        "    train_y = train_featured['deal_probability']\n",
        "    test_y = test_featured['deal_probability']\n",
        "\n",
        "    categorical_features = train_X.select_dtypes(include=['object', 'category']).columns.tolist()\n",
        "    for col in categorical_features:\n",
        "        train_X[col] = train_X[col].astype('category')\n",
        "        test_X[col] = test_X[col].astype('category')\n",
        "\n",
        "    if \"item_id\" in train_text_df.columns:\n",
        "        train_X = pd.concat([train_X, train_text_df.drop(columns=[\"item_id\", \"user_id\"])], axis=1)\n",
        "        test_X = pd.concat([test_X, test_text_df.drop(columns=[\"item_id\", \"user_id\"])], axis=1)\n",
        "    else:\n",
        "        train_X = pd.concat([train_X, train_text_df], axis=1)\n",
        "        test_X = pd.concat([test_X, test_text_df], axis=1)\n",
        "\n",
        "    return train_X, test_X, train_y, test_y, categorical_features"
      ],
      "metadata": {
        "id": "79H8CbJyk1Fq"
      },
      "execution_count": null,
      "outputs": []
    },
    {
      "cell_type": "code",
      "source": [
        "params = {\n",
        "    'objective': 'regression',\n",
        "    'metric': 'rmse',\n",
        "    'boosting_type': 'gbdt',\n",
        "    'learning_rate': 0.02,\n",
        "    'num_leaves': 512,\n",
        "    'max_depth': 20,\n",
        "    'bagging_seed': 42,\n",
        "    'bagging_fraction': 0.8,\n",
        "    'bagging_freq': 5,\n",
        "    'feature_fraction': 0.8,\n",
        "    'lambda_l1': 2.25,\n",
        "    'lambda_l2': 0.015,\n",
        "    'verbose': -1\n",
        "}"
      ],
      "metadata": {
        "id": "fnDjYzfDrfUL"
      },
      "execution_count": null,
      "outputs": []
    },
    {
      "cell_type": "code",
      "source": [
        "def fit_lgb(\n",
        "        train_X, train_y, test_X, test_y, categorical_features,\n",
        "        params,\n",
        "        num_boost_round=3000,\n",
        "        early_stopping_rounds=50,\n",
        "        eval_period=40,\n",
        "    ):\n",
        "\n",
        "    # validation set for early stopping\n",
        "    train_X_split, val_X_split, train_y_split, val_y_split = train_test_split(\n",
        "        train_X, train_y, test_size=0.2, random_state=42, shuffle=True\n",
        "    )\n",
        "    lgb_train = lgb.Dataset(\n",
        "        train_X_split, label=train_y_split, categorical_feature=categorical_features\n",
        "    )\n",
        "    lgb_val = lgb.Dataset(\n",
        "        val_X_split, label=val_y_split, categorical_feature=categorical_features,\n",
        "        reference=lgb_train\n",
        "    )\n",
        "\n",
        "    callbacks = [\n",
        "        lgb.early_stopping(stopping_rounds=early_stopping_rounds),\n",
        "        lgb.log_evaluation(period=eval_period)\n",
        "    ]\n",
        "\n",
        "    model = lgb.train(\n",
        "        params,\n",
        "        lgb_train,\n",
        "        num_boost_round=num_boost_round,\n",
        "        valid_sets=[lgb_train, lgb_val],\n",
        "        callbacks=callbacks\n",
        "    )\n",
        "\n",
        "    preds = model.predict(test_X, num_iteration=model.best_iteration)\n",
        "    rmse = mean_squared_error(test_y, preds, squared=False)\n",
        "    print(f\"RMSE: {rmse}\")\n",
        "\n",
        "    return model"
      ],
      "metadata": {
        "id": "smLxru4MvZ5i"
      },
      "execution_count": null,
      "outputs": []
    },
    {
      "cell_type": "code",
      "source": [
        "def get_feature_importance(model):\n",
        "    feature_importances = pd.DataFrame({\n",
        "        'feature': model.feature_name(),\n",
        "        'importance': model.feature_importance()\n",
        "    }).sort_values(by='importance', ascending=False)\n",
        "\n",
        "    with pd.option_context('display.max_rows', None, 'display.max_columns', None):\n",
        "        print(feature_importances)\n",
        "    return feature_importances"
      ],
      "metadata": {
        "id": "WsFtJCtewwUc"
      },
      "execution_count": null,
      "outputs": []
    },
    {
      "cell_type": "markdown",
      "source": [
        "# LightGBM with Small Spacy embedding"
      ],
      "metadata": {
        "id": "WO1XBCEtvGo1"
      }
    },
    {
      "cell_type": "code",
      "source": [
        "train_text_df = pd.read_csv(data_dir_path + 'train_embeddings_spacysm.csv')\n",
        "test_text_df = pd.read_csv(data_dir_path + 'test_embeddings_spacysm.csv')\n",
        "\n",
        "train_X, test_X, train_y, test_y, categorical_features = get_tabulat_and_text_data(train_text_df, test_text_df)"
      ],
      "metadata": {
        "id": "ezOmVKkW_8tc"
      },
      "execution_count": null,
      "outputs": []
    },
    {
      "cell_type": "markdown",
      "source": [
        "### Embedding only tree"
      ],
      "metadata": {
        "id": "uhxcoEnxtvSl"
      }
    },
    {
      "cell_type": "code",
      "source": [
        "# convergence too slow with embedding only data\n",
        "text_only_params = params.copy()\n",
        "text_only_params['learning_rate'] = 0.1\n",
        "\n",
        "model_text_sm = fit_lgb(\n",
        "    train_text_df.drop(columns=[\"item_id\", \"user_id\"]), train_y,\n",
        "    test_text_df.drop(columns=[\"item_id\", \"user_id\"]), test_y,\n",
        "    [],\n",
        "    text_only_params,\n",
        ")"
      ],
      "metadata": {
        "colab": {
          "base_uri": "https://localhost:8080/"
        },
        "id": "SKMAJwFwv8ks",
        "outputId": "4b9c0fed-bec5-4367-a8f6-1fa61d7c4fb3"
      },
      "execution_count": null,
      "outputs": [
        {
          "output_type": "stream",
          "name": "stdout",
          "text": [
            "Training until validation scores don't improve for 50 rounds\n",
            "[40]\ttraining's rmse: 0.243146\tvalid_1's rmse: 0.252092\n",
            "[80]\ttraining's rmse: 0.234956\tvalid_1's rmse: 0.250845\n",
            "[120]\ttraining's rmse: 0.228123\tvalid_1's rmse: 0.250425\n",
            "[160]\ttraining's rmse: 0.222002\tvalid_1's rmse: 0.25029\n",
            "[200]\ttraining's rmse: 0.216531\tvalid_1's rmse: 0.250291\n",
            "Early stopping, best iteration is:\n",
            "[169]\ttraining's rmse: 0.2207\tvalid_1's rmse: 0.250277\n",
            "RMSE: 0.24878014575748553\n"
          ]
        }
      ]
    },
    {
      "cell_type": "markdown",
      "source": [
        "### Tabular with full embedding"
      ],
      "metadata": {
        "id": "fqH8Wyk5tzmL"
      }
    },
    {
      "cell_type": "code",
      "source": [
        "model_sm = fit_lgb(\n",
        "    train_X, train_y,\n",
        "    test_X, test_y,\n",
        "    categorical_features,\n",
        "    params,\n",
        ")"
      ],
      "metadata": {
        "id": "Y_1DhmjKqcKU",
        "colab": {
          "base_uri": "https://localhost:8080/"
        },
        "outputId": "e447bd57-4cc9-4736-db0d-1bce70df7270"
      },
      "execution_count": null,
      "outputs": [
        {
          "output_type": "stream",
          "name": "stdout",
          "text": [
            "Training until validation scores don't improve for 50 rounds\n",
            "[40]\ttraining's rmse: 0.232733\tvalid_1's rmse: 0.237519\n",
            "[80]\ttraining's rmse: 0.223266\tvalid_1's rmse: 0.231472\n",
            "[120]\ttraining's rmse: 0.218458\tvalid_1's rmse: 0.229795\n",
            "[160]\ttraining's rmse: 0.215113\tvalid_1's rmse: 0.22921\n",
            "[200]\ttraining's rmse: 0.212666\tvalid_1's rmse: 0.228951\n",
            "[240]\ttraining's rmse: 0.210917\tvalid_1's rmse: 0.228848\n",
            "[280]\ttraining's rmse: 0.209374\tvalid_1's rmse: 0.228738\n",
            "[320]\ttraining's rmse: 0.207998\tvalid_1's rmse: 0.228682\n",
            "[360]\ttraining's rmse: 0.206763\tvalid_1's rmse: 0.22865\n",
            "[400]\ttraining's rmse: 0.20557\tvalid_1's rmse: 0.228611\n",
            "[440]\ttraining's rmse: 0.204539\tvalid_1's rmse: 0.228581\n",
            "[480]\ttraining's rmse: 0.20339\tvalid_1's rmse: 0.228534\n",
            "[520]\ttraining's rmse: 0.202432\tvalid_1's rmse: 0.228521\n",
            "[560]\ttraining's rmse: 0.201594\tvalid_1's rmse: 0.228529\n",
            "Early stopping, best iteration is:\n",
            "[522]\ttraining's rmse: 0.20239\tvalid_1's rmse: 0.22852\n",
            "RMSE: 0.22696851561639192\n"
          ]
        }
      ]
    },
    {
      "cell_type": "markdown",
      "source": [
        "### Truncated SVD on Embeddings"
      ],
      "metadata": {
        "id": "kDjbWX380Kip"
      }
    },
    {
      "cell_type": "markdown",
      "source": [
        "#### Choosing K"
      ],
      "metadata": {
        "id": "_sgcpqO12683"
      }
    },
    {
      "cell_type": "code",
      "source": [
        "explained_variances = []\n",
        "n_components_range = range(10, 60, 5)\n",
        "for n_components in n_components_range:\n",
        "    svd = TruncatedSVD(n_components=n_components, random_state=42)\n",
        "    svd.fit(train_text_df.drop(columns=[\"item_id\", \"user_id\"]))\n",
        "    explained_variances.append(svd.explained_variance_ratio_.sum())\n",
        "\n",
        "plt.figure(figsize=(8, 6))\n",
        "plt.plot(n_components_range, explained_variances, marker='o', linestyle='-', markersize=4)\n",
        "plt.title(\"Total Explained Variance vs. Number of Components (Optimized)\")\n",
        "plt.xlabel(\"Number of Components (n_components)\")\n",
        "plt.ylabel(\"Total Explained Variance\")\n",
        "plt.grid(True)\n",
        "plt.show()"
      ],
      "metadata": {
        "colab": {
          "base_uri": "https://localhost:8080/",
          "height": 564
        },
        "id": "z0GFKLgC1LCA",
        "outputId": "df4636eb-a3db-429b-d1e4-4f9d5ad16707"
      },
      "execution_count": null,
      "outputs": [
        {
          "output_type": "display_data",
          "data": {
            "text/plain": [
              "<Figure size 800x600 with 1 Axes>"
            ],
            "image/png": "[encoded data removed]"
          },
          "metadata": {}
        }
      ]
    },
    {
      "cell_type": "code",
      "source": [
        "n_components = 40\n",
        "svd = TruncatedSVD(n_components=n_components, random_state=42)\n",
        "\n",
        "# fit using train, then transform-only on the test\n",
        "train_text_svd = svd.fit_transform(train_text_df.drop(columns=[\"item_id\", \"user_id\"]))\n",
        "test_text_svd = svd.transform(test_text_df.drop(columns=[\"item_id\", \"user_id\"]))\n",
        "\n",
        "total_explained_variance = svd.explained_variance_ratio_.sum()\n",
        "print(f\"Total explained variance by {n_components} components: {total_explained_variance:.2f}\")\n",
        "\n",
        "train_text_svd = pd.DataFrame(train_text_svd, columns=[f\"svd_{i}\" for i in range(n_components)])\n",
        "test_text_svd = pd.DataFrame(test_text_svd, columns=[f\"svd_{i}\" for i in range(n_components)])"
      ],
      "metadata": {
        "colab": {
          "base_uri": "https://localhost:8080/"
        },
        "id": "mMiL9Tdf0wtM",
        "outputId": "2468d6ef-7353-4b8e-b12c-c86d3838d053"
      },
      "execution_count": null,
      "outputs": [
        {
          "output_type": "stream",
          "name": "stdout",
          "text": [
            "Total explained variance by 40 components: 0.90\n"
          ]
        }
      ]
    },
    {
      "cell_type": "markdown",
      "source": [
        "#### Re-fit LightGBM with SVD"
      ],
      "metadata": {
        "id": "bwkNT94Y2_z9"
      }
    },
    {
      "cell_type": "code",
      "source": [
        "train_X, test_X, train_y, test_y, categorical_features = get_tabulat_and_text_data(train_text_svd, test_text_svd)"
      ],
      "metadata": {
        "id": "_bNb1rbTxmwd"
      },
      "execution_count": null,
      "outputs": []
    },
    {
      "cell_type": "code",
      "source": [
        "model_svd_sm = fit_lgb(\n",
        "    train_X, train_y,\n",
        "    test_X, test_y,\n",
        "    categorical_features,\n",
        "    params,\n",
        ")"
      ],
      "metadata": {
        "colab": {
          "base_uri": "https://localhost:8080/"
        },
        "id": "VNpT2L__2NeL",
        "outputId": "793e660a-df1f-468f-b28b-dc8fa35bac4f"
      },
      "execution_count": null,
      "outputs": [
        {
          "output_type": "stream",
          "name": "stdout",
          "text": [
            "Training until validation scores don't improve for 50 rounds\n",
            "[40]\ttraining's rmse: 0.232753\tvalid_1's rmse: 0.237398\n",
            "[80]\ttraining's rmse: 0.223638\tvalid_1's rmse: 0.231456\n",
            "[120]\ttraining's rmse: 0.219014\tvalid_1's rmse: 0.229781\n",
            "[160]\ttraining's rmse: 0.215951\tvalid_1's rmse: 0.229224\n",
            "[200]\ttraining's rmse: 0.213857\tvalid_1's rmse: 0.229031\n",
            "[240]\ttraining's rmse: 0.212259\tvalid_1's rmse: 0.228927\n",
            "[280]\ttraining's rmse: 0.210838\tvalid_1's rmse: 0.228859\n",
            "[320]\ttraining's rmse: 0.209763\tvalid_1's rmse: 0.228818\n",
            "[360]\ttraining's rmse: 0.208495\tvalid_1's rmse: 0.228756\n",
            "[400]\ttraining's rmse: 0.20739\tvalid_1's rmse: 0.22871\n",
            "[440]\ttraining's rmse: 0.206426\tvalid_1's rmse: 0.228683\n",
            "[480]\ttraining's rmse: 0.205523\tvalid_1's rmse: 0.228652\n",
            "[520]\ttraining's rmse: 0.204801\tvalid_1's rmse: 0.228643\n",
            "[560]\ttraining's rmse: 0.204193\tvalid_1's rmse: 0.228647\n",
            "Early stopping, best iteration is:\n",
            "[535]\ttraining's rmse: 0.204588\tvalid_1's rmse: 0.228637\n",
            "RMSE: 0.22711105848926472\n"
          ]
        }
      ]
    },
    {
      "cell_type": "markdown",
      "source": [
        "# LightGBM with Medium Spacy embedding"
      ],
      "metadata": {
        "id": "bI8Yr6o32Vcv"
      }
    },
    {
      "cell_type": "code",
      "source": [
        "train_text_df = pd.read_csv(data_dir_path + 'train_embeddings_spacymd.csv')\n",
        "test_text_df = pd.read_csv(data_dir_path + 'test_embeddings_spacymd.csv')\n",
        "\n",
        "train_X, test_X, train_y, test_y, categorical_features = get_tabulat_and_text_data(train_text_df, test_text_df)"
      ],
      "metadata": {
        "id": "ucjIvpXw2Vcv"
      },
      "execution_count": null,
      "outputs": []
    },
    {
      "cell_type": "markdown",
      "source": [
        "### Embedding only tree"
      ],
      "metadata": {
        "id": "Fm9hfn0u2Vcv"
      }
    },
    {
      "cell_type": "code",
      "source": [
        "# convergence too slow with embedding only data\n",
        "text_only_params = params.copy()\n",
        "text_only_params['learning_rate'] = 0.1\n",
        "\n",
        "model_text_md = fit_lgb(\n",
        "    train_text_df.drop(columns=[\"item_id\", \"user_id\"]), train_y,\n",
        "    test_text_df.drop(columns=[\"item_id\", \"user_id\"]), test_y,\n",
        "    [],\n",
        "    text_only_params,\n",
        ")"
      ],
      "metadata": {
        "colab": {
          "base_uri": "https://localhost:8080/"
        },
        "id": "FJHhOT5r2Vcv",
        "outputId": "7cff0605-012f-4593-cdd1-a5ca2fe763f0"
      },
      "execution_count": null,
      "outputs": [
        {
          "output_type": "stream",
          "name": "stdout",
          "text": [
            "Training until validation scores don't improve for 50 rounds\n",
            "[40]\ttraining's rmse: 0.238705\tvalid_1's rmse: 0.249631\n",
            "[80]\ttraining's rmse: 0.229124\tvalid_1's rmse: 0.248456\n",
            "[120]\ttraining's rmse: 0.221152\tvalid_1's rmse: 0.248077\n",
            "[160]\ttraining's rmse: 0.214078\tvalid_1's rmse: 0.248002\n",
            "[200]\ttraining's rmse: 0.207731\tvalid_1's rmse: 0.248035\n",
            "Early stopping, best iteration is:\n",
            "[164]\ttraining's rmse: 0.213415\tvalid_1's rmse: 0.247987\n",
            "RMSE: 0.24628905449067373\n"
          ]
        }
      ]
    },
    {
      "cell_type": "markdown",
      "source": [
        "### Tabular with full embedding"
      ],
      "metadata": {
        "id": "FZ1_O-df2Vcw"
      }
    },
    {
      "cell_type": "code",
      "source": [
        "model_md = fit_lgb(\n",
        "    train_X, train_y,\n",
        "    test_X, test_y,\n",
        "    categorical_features,\n",
        "    params,\n",
        ")"
      ],
      "metadata": {
        "colab": {
          "base_uri": "https://localhost:8080/"
        },
        "outputId": "20ba86b7-e898-448f-8dcf-641056d6d934",
        "id": "ssKgzMux2Vcw"
      },
      "execution_count": null,
      "outputs": [
        {
          "output_type": "stream",
          "name": "stdout",
          "text": [
            "Training until validation scores don't improve for 50 rounds\n",
            "[40]\ttraining's rmse: 0.232534\tvalid_1's rmse: 0.237417\n",
            "[80]\ttraining's rmse: 0.222868\tvalid_1's rmse: 0.231317\n",
            "[120]\ttraining's rmse: 0.217816\tvalid_1's rmse: 0.229549\n",
            "[160]\ttraining's rmse: 0.214366\tvalid_1's rmse: 0.228925\n",
            "[200]\ttraining's rmse: 0.211778\tvalid_1's rmse: 0.22865\n",
            "[240]\ttraining's rmse: 0.209909\tvalid_1's rmse: 0.22854\n",
            "[280]\ttraining's rmse: 0.2084\tvalid_1's rmse: 0.22847\n",
            "[320]\ttraining's rmse: 0.207\tvalid_1's rmse: 0.22842\n",
            "[360]\ttraining's rmse: 0.205665\tvalid_1's rmse: 0.228376\n",
            "[400]\ttraining's rmse: 0.204421\tvalid_1's rmse: 0.228345\n",
            "[440]\ttraining's rmse: 0.203123\tvalid_1's rmse: 0.22831\n",
            "[480]\ttraining's rmse: 0.201909\tvalid_1's rmse: 0.22829\n",
            "[520]\ttraining's rmse: 0.20083\tvalid_1's rmse: 0.228279\n",
            "[560]\ttraining's rmse: 0.199834\tvalid_1's rmse: 0.22826\n",
            "[600]\ttraining's rmse: 0.198853\tvalid_1's rmse: 0.22824\n",
            "[640]\ttraining's rmse: 0.197976\tvalid_1's rmse: 0.228242\n",
            "Early stopping, best iteration is:\n",
            "[614]\ttraining's rmse: 0.198526\tvalid_1's rmse: 0.228234\n",
            "RMSE: 0.22682705851978827\n"
          ]
        }
      ]
    },
    {
      "cell_type": "markdown",
      "source": [
        "### Truncated SVD on Embeddings"
      ],
      "metadata": {
        "id": "XgwKymkO2Vcw"
      }
    },
    {
      "cell_type": "markdown",
      "source": [
        "#### Choosing K"
      ],
      "metadata": {
        "id": "whx8o7Dz2Vcw"
      }
    },
    {
      "cell_type": "code",
      "source": [
        "explained_variances = []\n",
        "n_components_range = range(50, 150, 10)\n",
        "for n_components in n_components_range:\n",
        "    svd = TruncatedSVD(n_components=n_components, random_state=42)\n",
        "    svd.fit(train_text_df.drop(columns=[\"item_id\", \"user_id\"]))\n",
        "    explained_variances.append(svd.explained_variance_ratio_.sum())\n",
        "\n",
        "plt.figure(figsize=(8, 6))\n",
        "plt.plot(n_components_range, explained_variances, marker='o', linestyle='-', markersize=4)\n",
        "plt.title(\"Total Explained Variance vs. Number of Components (Optimized)\")\n",
        "plt.xlabel(\"Number of Components (n_components)\")\n",
        "plt.ylabel(\"Total Explained Variance\")\n",
        "plt.grid(True)\n",
        "plt.show()"
      ],
      "metadata": {
        "colab": {
          "base_uri": "https://localhost:8080/",
          "height": 564
        },
        "outputId": "9e3ba767-499c-434d-d9fc-82c0b561db44",
        "id": "LrhY1aNC2Vcw"
      },
      "execution_count": null,
      "outputs": [
        {
          "output_type": "display_data",
          "data": {
            "text/plain": [
              "<Figure size 800x600 with 1 Axes>"
            ],
            "image/png": "[encoded data removed]"
          },
          "metadata": {}
        }
      ]
    },
    {
      "cell_type": "code",
      "source": [
        "n_components = 100\n",
        "svd = TruncatedSVD(n_components=n_components, random_state=42)\n",
        "\n",
        "# fit using train, then transform-only on the test\n",
        "train_text_svd = svd.fit_transform(train_text_df.drop(columns=[\"item_id\", \"user_id\"]))\n",
        "test_text_svd = svd.transform(test_text_df.drop(columns=[\"item_id\", \"user_id\"]))\n",
        "\n",
        "total_explained_variance = svd.explained_variance_ratio_.sum()\n",
        "print(f\"Total explained variance by {n_components} components: {total_explained_variance:.2f}\")\n",
        "\n",
        "train_text_svd = pd.DataFrame(train_text_svd, columns=[f\"svd_{i}\" for i in range(n_components)])\n",
        "test_text_svd = pd.DataFrame(test_text_svd, columns=[f\"svd_{i}\" for i in range(n_components)])"
      ],
      "metadata": {
        "colab": {
          "base_uri": "https://localhost:8080/"
        },
        "outputId": "303526b2-d3c9-4d45-c2c9-0dee0e88e5ea",
        "id": "YkqTJ0Jy2Vcw"
      },
      "execution_count": null,
      "outputs": [
        {
          "output_type": "stream",
          "name": "stdout",
          "text": [
            "Total explained variance by 100 components: 0.88\n"
          ]
        }
      ]
    },
    {
      "cell_type": "markdown",
      "source": [
        "#### Re-fit LightGBM with SVD"
      ],
      "metadata": {
        "id": "2ds1Od9i2Vcx"
      }
    },
    {
      "cell_type": "code",
      "source": [
        "train_X, test_X, train_y, test_y, categorical_features = get_tabulat_and_text_data(train_text_svd, test_text_svd)"
      ],
      "metadata": {
        "id": "mFtfG5wE2Vcx"
      },
      "execution_count": null,
      "outputs": []
    },
    {
      "cell_type": "code",
      "source": [
        "model_svd_md = fit_lgb(\n",
        "    train_X, train_y,\n",
        "    test_X, test_y,\n",
        "    categorical_features,\n",
        "    params,\n",
        ")"
      ],
      "metadata": {
        "colab": {
          "base_uri": "https://localhost:8080/"
        },
        "outputId": "3dfc1a7a-bc2c-4b04-9683-63541f6886d5",
        "id": "Nz8aKpgW2Vcx"
      },
      "execution_count": null,
      "outputs": [
        {
          "output_type": "stream",
          "name": "stdout",
          "text": [
            "Training until validation scores don't improve for 50 rounds\n",
            "[40]\ttraining's rmse: 0.232698\tvalid_1's rmse: 0.237385\n",
            "[80]\ttraining's rmse: 0.223322\tvalid_1's rmse: 0.23139\n",
            "[120]\ttraining's rmse: 0.218523\tvalid_1's rmse: 0.229703\n",
            "[160]\ttraining's rmse: 0.215306\tvalid_1's rmse: 0.229163\n",
            "[200]\ttraining's rmse: 0.212925\tvalid_1's rmse: 0.228914\n",
            "[240]\ttraining's rmse: 0.211248\tvalid_1's rmse: 0.228828\n",
            "[280]\ttraining's rmse: 0.209573\tvalid_1's rmse: 0.228702\n",
            "[320]\ttraining's rmse: 0.208437\tvalid_1's rmse: 0.228694\n",
            "[360]\ttraining's rmse: 0.207155\tvalid_1's rmse: 0.228647\n",
            "[400]\ttraining's rmse: 0.206002\tvalid_1's rmse: 0.228627\n",
            "[440]\ttraining's rmse: 0.204865\tvalid_1's rmse: 0.228588\n",
            "[480]\ttraining's rmse: 0.203784\tvalid_1's rmse: 0.228559\n",
            "[520]\ttraining's rmse: 0.202796\tvalid_1's rmse: 0.22854\n",
            "[560]\ttraining's rmse: 0.20199\tvalid_1's rmse: 0.228548\n",
            "Early stopping, best iteration is:\n",
            "[538]\ttraining's rmse: 0.202403\tvalid_1's rmse: 0.228532\n",
            "RMSE: 0.22700914577056955\n"
          ]
        }
      ]
    }
  ]
}